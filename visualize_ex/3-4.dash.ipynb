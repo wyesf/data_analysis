{
 "cells": [
  {
   "cell_type": "code",
   "execution_count": 1,
   "id": "d6159c97-c75f-4138-8356-e45f3d4edfb5",
   "metadata": {},
   "outputs": [],
   "source": [
    "# Dash 실습\n",
    "# - https://dash.plotly.com/\n",
    "# - https://dash.gallery/dash-manufacture-spc-dashboard/\n",
    "# - 핵심 컨포넌트 : https://dash.plotly.com/dash-core-components\n",
    "# - 예제 : https://plotly.com/examples/\n",
    "# - dash 문법 참고 : https://han.gl/PnGKnp"
   ]
  },
  {
   "cell_type": "code",
   "execution_count": 2,
   "id": "927df21a-aa8f-45bb-9da0-70f8df6a02c8",
   "metadata": {},
   "outputs": [],
   "source": [
    "# 파이썬에서 엑셀파일 오픈 필요 lib\n",
    "# - 설치 : pip install openpyxl"
   ]
  },
  {
   "cell_type": "code",
   "execution_count": 8,
   "id": "9484c7e9-f925-4d02-9855-6028af62abed",
   "metadata": {},
   "outputs": [],
   "source": [
    "import dash\n",
    "from dash.dependencies import Input, Output\n",
    "from dash import dcc\n",
    "from dash import html\n",
    "import pandas as pd"
   ]
  },
  {
   "cell_type": "code",
   "execution_count": null,
   "id": "84e4d26e-5c62-4a84-82fd-aab82d34998e",
   "metadata": {},
   "outputs": [],
   "source": []
  },
  {
   "cell_type": "code",
   "execution_count": 10,
   "id": "e7d31f85-4c2f-405b-b8c5-af86afc06bf2",
   "metadata": {},
   "outputs": [
    {
     "name": "stdout",
     "output_type": "stream",
     "text": [
      "Dash is running on http://127.0.0.1:8050/\n",
      "\n",
      " * Serving Flask app 'stocks info'\n",
      " * Debug mode: on\n"
     ]
    }
   ],
   "source": [
    "# dashboard app\n",
    "# css 설정\n",
    "url =\"https://codepen.io/chriddyp/pen/bWLwgP.css\"\n",
    "app = dash.Dash(\"stocks info\", external_stylesheets=[url])\n",
    "\n",
    "# app.layout <- html 정의\n",
    "app.layout = html.Div([\n",
    "    dcc.Dropdown(\n",
    "        # dropdown 메뉴 정의\n",
    "        id = 'my-dropdown',\n",
    "        options = [\n",
    "            # dropdown 메뉴 만들기\n",
    "            {\"label\" : \"KOSPI\", \"value\" : \"datas/stocks/kospi.xlsx\"},\n",
    "            {\"label\":\"KOSPI200\", \"value\":\"datas/stocks/kpi200.xlsx\"},\n",
    "            {\"label\":\"KOSDAQ\", \"value\":\"datas/stocks/kosdaq.xlsx\"}\n",
    "        ],\n",
    "        # 기본 세팅값\n",
    "        value = \"datas/stocks/kospi.xlsx\"\n",
    "    ),\n",
    "\n",
    "    # 데이터 시각화를 렌더링\n",
    "    dcc.Graph(id = \"my-graph\")\n",
    "],\n",
    "                      \n",
    "# style 적용\n",
    "style = {\"width\" : \"600\"}\n",
    ")\n",
    "\n",
    "# callback은 Dash앱을 대화형으로 만드는 논리를 함수로 구현\n",
    "@app.callback(Output(\"my-graph\", \"figure\"), [Input(\"my-dropdown\", \"value\")])\n",
    "\n",
    "# dash가 실제로 실행하는 그래프를 update_graph함수로 정의함                                                   \n",
    "def update_graph(selected_dropdown_value) :\n",
    "    # 선택한 label의 file 이름                                      \n",
    "    df = pd.read_excel(selected_dropdown_value).sort_values(by = \"date\")\n",
    "    result = {\n",
    "        \"data\" : [\n",
    "            {\"x\" : df.date,\n",
    "             \"y\" : df.price}\n",
    "        ],\n",
    "        \"layout\" : {\"margin\" : {'1' : 40, 'r' : 0, 't' : 20, 'b' : 40}}\n",
    "    }\n",
    "    return result\n",
    "\n",
    "# dash app 실행\n",
    "app.run_server(debug = True, use_reloader = False)\n",
    "\n",
    "# app.run_server(host = \"192.168.0.21\", port = 3003)"
   ]
  },
  {
   "cell_type": "code",
   "execution_count": null,
   "id": "12436ee2-aaee-4bdf-b779-7931221bb182",
   "metadata": {},
   "outputs": [],
   "source": []
  },
  {
   "cell_type": "code",
   "execution_count": null,
   "id": "9becf03b-da48-492d-b672-fdce1a94d6ca",
   "metadata": {},
   "outputs": [],
   "source": []
  }
 ],
 "metadata": {
  "kernelspec": {
   "display_name": "da_venv",
   "language": "python",
   "name": "da_venv"
  },
  "language_info": {
   "codemirror_mode": {
    "name": "ipython",
    "version": 3
   },
   "file_extension": ".py",
   "mimetype": "text/x-python",
   "name": "python",
   "nbconvert_exporter": "python",
   "pygments_lexer": "ipython3",
   "version": "3.9.13"
  }
 },
 "nbformat": 4,
 "nbformat_minor": 5
}
