{
 "cells": [
  {
   "cell_type": "code",
   "execution_count": 1,
   "id": "5dea6737-3517-4423-9033-8e823846659f",
   "metadata": {
    "tags": []
   },
   "outputs": [],
   "source": [
    "# seaborn 데이터 시각화 1\n",
    "# matplotlib을 더 쉽게 사용할 수 있도록 만든 라이브러리\n",
    "# pip install seaborn"
   ]
  },
  {
   "cell_type": "code",
   "execution_count": null,
   "id": "0081c793-a52b-4e0d-acb8-c04a950e6e31",
   "metadata": {},
   "outputs": [],
   "source": []
  },
  {
   "cell_type": "code",
   "execution_count": 2,
   "id": "6eb53bcc-8b1a-484c-973d-c66f573ad14d",
   "metadata": {
    "tags": []
   },
   "outputs": [],
   "source": [
    "# [관련 문서들 참고]\n",
    "# matplot pyplot 공식 도큐먼트 살펴보기 : https://matplotlib.org/stable/gallery/index.html\n",
    "# seaborn 공식 도큐먼트 살펴보기 : https://seaborn.pydata.org/examples/index.html\n",
    "# seaborn 내장 데이터셋 : https://seaborn.pydata.org/generated/seaborn.load_dataset.html#\n",
    "# seaborn 디지털 도서 : https://wikidocs.net/86290"
   ]
  },
  {
   "cell_type": "code",
   "execution_count": null,
   "id": "94b7fdca-275f-4d6f-9339-fd7293c99966",
   "metadata": {},
   "outputs": [],
   "source": []
  },
  {
   "cell_type": "code",
   "execution_count": 3,
   "id": "99632cf1-5d0e-4041-a329-de4db56688a4",
   "metadata": {
    "tags": []
   },
   "outputs": [],
   "source": [
    "# ready set\n",
    "import matplotlib.pyplot as plt\n",
    "import pandas as pd\n",
    "import numpy as np\n",
    "from IPython.display import Image\n",
    "\n",
    "# seaborn\n",
    "import seaborn as sns"
   ]
  },
  {
   "cell_type": "code",
   "execution_count": 4,
   "id": "c50b24d5-44aa-4d9a-8818-5287752eefc4",
   "metadata": {
    "tags": []
   },
   "outputs": [],
   "source": [
    "# warning 무시\n",
    "import warnings\n",
    "warnings.filterwarnings('ignore')"
   ]
  },
  {
   "cell_type": "code",
   "execution_count": 5,
   "id": "a60090e5-f195-4133-90d3-ef657e353c4a",
   "metadata": {
    "tags": []
   },
   "outputs": [
    {
     "name": "stdout",
     "output_type": "stream",
     "text": [
      "['Malgun Gothic']\n"
     ]
    }
   ],
   "source": [
    "import matplotlib.pylab as plt\n",
    "# '-' 깨짐 해결 모듈\n",
    "import matplotlib as mpl\n",
    "\n",
    "plt.rcParams[\"font.family\"] = \"Malgun Gothic\"  # For Windows\n",
    "plt.rcParams[\"font.size\"] = 12\n",
    "plt.rcParams[\"figure.figsize\"] = (8,4)\n",
    "print(plt.rcParams[\"font.family\"])\n",
    "\n",
    "# 마이너스 깨짐 해결\n",
    "mpl.rcParams[\"axes.unicode_minus\"] = False"
   ]
  },
  {
   "cell_type": "code",
   "execution_count": null,
   "id": "4399591a-73da-4014-a5f1-aaa5bf520a59",
   "metadata": {},
   "outputs": [],
   "source": []
  },
  {
   "cell_type": "code",
   "execution_count": null,
   "id": "7020d5aa-4fd5-4217-85d9-fe0542eb5530",
   "metadata": {},
   "outputs": [],
   "source": []
  },
  {
   "cell_type": "code",
   "execution_count": 6,
   "id": "698e2a14-9446-465e-ba7d-28e198e1b204",
   "metadata": {
    "tags": []
   },
   "outputs": [],
   "source": [
    "# 0. Seaborn의 장점\n",
    "# matplotlib으로 대부분의 시각화가 가능하나, seaborn을 사람들이 선호하는 이유"
   ]
  },
  {
   "cell_type": "code",
   "execution_count": 7,
   "id": "1bfc13e6-1ed3-487a-88e8-2a0ba469d9a2",
   "metadata": {
    "tags": []
   },
   "outputs": [
    {
     "data": {
      "text/html": [
       "<div>\n",
       "<style scoped>\n",
       "    .dataframe tbody tr th:only-of-type {\n",
       "        vertical-align: middle;\n",
       "    }\n",
       "\n",
       "    .dataframe tbody tr th {\n",
       "        vertical-align: top;\n",
       "    }\n",
       "\n",
       "    .dataframe thead th {\n",
       "        text-align: right;\n",
       "    }\n",
       "</style>\n",
       "<table border=\"1\" class=\"dataframe\">\n",
       "  <thead>\n",
       "    <tr style=\"text-align: right;\">\n",
       "      <th></th>\n",
       "      <th>total_bill</th>\n",
       "      <th>tip</th>\n",
       "      <th>sex</th>\n",
       "      <th>smoker</th>\n",
       "      <th>day</th>\n",
       "      <th>time</th>\n",
       "      <th>size</th>\n",
       "    </tr>\n",
       "  </thead>\n",
       "  <tbody>\n",
       "    <tr>\n",
       "      <th>0</th>\n",
       "      <td>16.99</td>\n",
       "      <td>1.01</td>\n",
       "      <td>Female</td>\n",
       "      <td>No</td>\n",
       "      <td>Sun</td>\n",
       "      <td>Dinner</td>\n",
       "      <td>2</td>\n",
       "    </tr>\n",
       "    <tr>\n",
       "      <th>1</th>\n",
       "      <td>10.34</td>\n",
       "      <td>1.66</td>\n",
       "      <td>Male</td>\n",
       "      <td>No</td>\n",
       "      <td>Sun</td>\n",
       "      <td>Dinner</td>\n",
       "      <td>3</td>\n",
       "    </tr>\n",
       "    <tr>\n",
       "      <th>2</th>\n",
       "      <td>21.01</td>\n",
       "      <td>3.50</td>\n",
       "      <td>Male</td>\n",
       "      <td>No</td>\n",
       "      <td>Sun</td>\n",
       "      <td>Dinner</td>\n",
       "      <td>3</td>\n",
       "    </tr>\n",
       "    <tr>\n",
       "      <th>3</th>\n",
       "      <td>23.68</td>\n",
       "      <td>3.31</td>\n",
       "      <td>Male</td>\n",
       "      <td>No</td>\n",
       "      <td>Sun</td>\n",
       "      <td>Dinner</td>\n",
       "      <td>2</td>\n",
       "    </tr>\n",
       "    <tr>\n",
       "      <th>4</th>\n",
       "      <td>24.59</td>\n",
       "      <td>3.61</td>\n",
       "      <td>Female</td>\n",
       "      <td>No</td>\n",
       "      <td>Sun</td>\n",
       "      <td>Dinner</td>\n",
       "      <td>4</td>\n",
       "    </tr>\n",
       "    <tr>\n",
       "      <th>...</th>\n",
       "      <td>...</td>\n",
       "      <td>...</td>\n",
       "      <td>...</td>\n",
       "      <td>...</td>\n",
       "      <td>...</td>\n",
       "      <td>...</td>\n",
       "      <td>...</td>\n",
       "    </tr>\n",
       "    <tr>\n",
       "      <th>239</th>\n",
       "      <td>29.03</td>\n",
       "      <td>5.92</td>\n",
       "      <td>Male</td>\n",
       "      <td>No</td>\n",
       "      <td>Sat</td>\n",
       "      <td>Dinner</td>\n",
       "      <td>3</td>\n",
       "    </tr>\n",
       "    <tr>\n",
       "      <th>240</th>\n",
       "      <td>27.18</td>\n",
       "      <td>2.00</td>\n",
       "      <td>Female</td>\n",
       "      <td>Yes</td>\n",
       "      <td>Sat</td>\n",
       "      <td>Dinner</td>\n",
       "      <td>2</td>\n",
       "    </tr>\n",
       "    <tr>\n",
       "      <th>241</th>\n",
       "      <td>22.67</td>\n",
       "      <td>2.00</td>\n",
       "      <td>Male</td>\n",
       "      <td>Yes</td>\n",
       "      <td>Sat</td>\n",
       "      <td>Dinner</td>\n",
       "      <td>2</td>\n",
       "    </tr>\n",
       "    <tr>\n",
       "      <th>242</th>\n",
       "      <td>17.82</td>\n",
       "      <td>1.75</td>\n",
       "      <td>Male</td>\n",
       "      <td>No</td>\n",
       "      <td>Sat</td>\n",
       "      <td>Dinner</td>\n",
       "      <td>2</td>\n",
       "    </tr>\n",
       "    <tr>\n",
       "      <th>243</th>\n",
       "      <td>18.78</td>\n",
       "      <td>3.00</td>\n",
       "      <td>Female</td>\n",
       "      <td>No</td>\n",
       "      <td>Thur</td>\n",
       "      <td>Dinner</td>\n",
       "      <td>2</td>\n",
       "    </tr>\n",
       "  </tbody>\n",
       "</table>\n",
       "<p>244 rows × 7 columns</p>\n",
       "</div>"
      ],
      "text/plain": [
       "     total_bill   tip     sex smoker   day    time  size\n",
       "0         16.99  1.01  Female     No   Sun  Dinner     2\n",
       "1         10.34  1.66    Male     No   Sun  Dinner     3\n",
       "2         21.01  3.50    Male     No   Sun  Dinner     3\n",
       "3         23.68  3.31    Male     No   Sun  Dinner     2\n",
       "4         24.59  3.61  Female     No   Sun  Dinner     4\n",
       "..          ...   ...     ...    ...   ...     ...   ...\n",
       "239       29.03  5.92    Male     No   Sat  Dinner     3\n",
       "240       27.18  2.00  Female    Yes   Sat  Dinner     2\n",
       "241       22.67  2.00    Male    Yes   Sat  Dinner     2\n",
       "242       17.82  1.75    Male     No   Sat  Dinner     2\n",
       "243       18.78  3.00  Female     No  Thur  Dinner     2\n",
       "\n",
       "[244 rows x 7 columns]"
      ]
     },
     "execution_count": 7,
     "metadata": {},
     "output_type": "execute_result"
    }
   ],
   "source": [
    "# 0-1. seaborn에서만 제공되는 통계 기반 plot\n",
    "# https://github.com/mwaskom/seaborn-data/blob/master/tips.csv\n",
    "tips = sns.load_dataset(\"tips\")\n",
    "tips"
   ]
  },
  {
   "cell_type": "code",
   "execution_count": null,
   "id": "b6b4ea09-b058-4042-852b-663ae59cf752",
   "metadata": {},
   "outputs": [],
   "source": []
  },
  {
   "cell_type": "code",
   "execution_count": 8,
   "id": "5269a37f-57eb-46ec-a6d1-d6c92419bd78",
   "metadata": {
    "tags": []
   },
   "outputs": [],
   "source": [
    "# tips 데이터 정보\n",
    "# total_bill: 총 합계 요금표\n",
    "# tip: 팁\n",
    "# sex: 성별\n",
    "# smoker: 흡연자 여부\n",
    "# day: 요일\n",
    "# time: 식사 시간\n",
    "# size: 식사 인원"
   ]
  },
  {
   "cell_type": "code",
   "execution_count": 9,
   "id": "c117958b-78a1-4795-8d3c-2c05eef4455a",
   "metadata": {
    "tags": []
   },
   "outputs": [],
   "source": [
    "# 컬럼 이름 변경하고 파일로 저장하기\n",
    "tips = tips.rename(columns={\"sex\": \"gender\"})\n",
    "import os\n",
    "path = \"datas\"\n",
    "if not os.path.exists(path):\n",
    "    os.mkdir(path)\n",
    "tips.to_csv(f\"{path}/sns_tips.csv\", index=False)"
   ]
  },
  {
   "cell_type": "code",
   "execution_count": 10,
   "id": "bbc99dd6-1ee9-4bc5-ac17-4876cb80f1c6",
   "metadata": {
    "tags": []
   },
   "outputs": [
    {
     "data": {
      "text/html": [
       "<div>\n",
       "<style scoped>\n",
       "    .dataframe tbody tr th:only-of-type {\n",
       "        vertical-align: middle;\n",
       "    }\n",
       "\n",
       "    .dataframe tbody tr th {\n",
       "        vertical-align: top;\n",
       "    }\n",
       "\n",
       "    .dataframe thead th {\n",
       "        text-align: right;\n",
       "    }\n",
       "</style>\n",
       "<table border=\"1\" class=\"dataframe\">\n",
       "  <thead>\n",
       "    <tr style=\"text-align: right;\">\n",
       "      <th></th>\n",
       "      <th>total_bill</th>\n",
       "      <th>tip</th>\n",
       "      <th>gender</th>\n",
       "      <th>smoker</th>\n",
       "      <th>day</th>\n",
       "      <th>time</th>\n",
       "      <th>size</th>\n",
       "    </tr>\n",
       "  </thead>\n",
       "  <tbody>\n",
       "    <tr>\n",
       "      <th>0</th>\n",
       "      <td>16.99</td>\n",
       "      <td>1.01</td>\n",
       "      <td>Female</td>\n",
       "      <td>No</td>\n",
       "      <td>Sun</td>\n",
       "      <td>Dinner</td>\n",
       "      <td>2</td>\n",
       "    </tr>\n",
       "    <tr>\n",
       "      <th>1</th>\n",
       "      <td>10.34</td>\n",
       "      <td>1.66</td>\n",
       "      <td>Male</td>\n",
       "      <td>No</td>\n",
       "      <td>Sun</td>\n",
       "      <td>Dinner</td>\n",
       "      <td>3</td>\n",
       "    </tr>\n",
       "    <tr>\n",
       "      <th>2</th>\n",
       "      <td>21.01</td>\n",
       "      <td>3.50</td>\n",
       "      <td>Male</td>\n",
       "      <td>No</td>\n",
       "      <td>Sun</td>\n",
       "      <td>Dinner</td>\n",
       "      <td>3</td>\n",
       "    </tr>\n",
       "    <tr>\n",
       "      <th>3</th>\n",
       "      <td>23.68</td>\n",
       "      <td>3.31</td>\n",
       "      <td>Male</td>\n",
       "      <td>No</td>\n",
       "      <td>Sun</td>\n",
       "      <td>Dinner</td>\n",
       "      <td>2</td>\n",
       "    </tr>\n",
       "    <tr>\n",
       "      <th>4</th>\n",
       "      <td>24.59</td>\n",
       "      <td>3.61</td>\n",
       "      <td>Female</td>\n",
       "      <td>No</td>\n",
       "      <td>Sun</td>\n",
       "      <td>Dinner</td>\n",
       "      <td>4</td>\n",
       "    </tr>\n",
       "    <tr>\n",
       "      <th>...</th>\n",
       "      <td>...</td>\n",
       "      <td>...</td>\n",
       "      <td>...</td>\n",
       "      <td>...</td>\n",
       "      <td>...</td>\n",
       "      <td>...</td>\n",
       "      <td>...</td>\n",
       "    </tr>\n",
       "    <tr>\n",
       "      <th>239</th>\n",
       "      <td>29.03</td>\n",
       "      <td>5.92</td>\n",
       "      <td>Male</td>\n",
       "      <td>No</td>\n",
       "      <td>Sat</td>\n",
       "      <td>Dinner</td>\n",
       "      <td>3</td>\n",
       "    </tr>\n",
       "    <tr>\n",
       "      <th>240</th>\n",
       "      <td>27.18</td>\n",
       "      <td>2.00</td>\n",
       "      <td>Female</td>\n",
       "      <td>Yes</td>\n",
       "      <td>Sat</td>\n",
       "      <td>Dinner</td>\n",
       "      <td>2</td>\n",
       "    </tr>\n",
       "    <tr>\n",
       "      <th>241</th>\n",
       "      <td>22.67</td>\n",
       "      <td>2.00</td>\n",
       "      <td>Male</td>\n",
       "      <td>Yes</td>\n",
       "      <td>Sat</td>\n",
       "      <td>Dinner</td>\n",
       "      <td>2</td>\n",
       "    </tr>\n",
       "    <tr>\n",
       "      <th>242</th>\n",
       "      <td>17.82</td>\n",
       "      <td>1.75</td>\n",
       "      <td>Male</td>\n",
       "      <td>No</td>\n",
       "      <td>Sat</td>\n",
       "      <td>Dinner</td>\n",
       "      <td>2</td>\n",
       "    </tr>\n",
       "    <tr>\n",
       "      <th>243</th>\n",
       "      <td>18.78</td>\n",
       "      <td>3.00</td>\n",
       "      <td>Female</td>\n",
       "      <td>No</td>\n",
       "      <td>Thur</td>\n",
       "      <td>Dinner</td>\n",
       "      <td>2</td>\n",
       "    </tr>\n",
       "  </tbody>\n",
       "</table>\n",
       "<p>244 rows × 7 columns</p>\n",
       "</div>"
      ],
      "text/plain": [
       "     total_bill   tip  gender smoker   day    time  size\n",
       "0         16.99  1.01  Female     No   Sun  Dinner     2\n",
       "1         10.34  1.66    Male     No   Sun  Dinner     3\n",
       "2         21.01  3.50    Male     No   Sun  Dinner     3\n",
       "3         23.68  3.31    Male     No   Sun  Dinner     2\n",
       "4         24.59  3.61  Female     No   Sun  Dinner     4\n",
       "..          ...   ...     ...    ...   ...     ...   ...\n",
       "239       29.03  5.92    Male     No   Sat  Dinner     3\n",
       "240       27.18  2.00  Female    Yes   Sat  Dinner     2\n",
       "241       22.67  2.00    Male    Yes   Sat  Dinner     2\n",
       "242       17.82  1.75    Male     No   Sat  Dinner     2\n",
       "243       18.78  3.00  Female     No  Thur  Dinner     2\n",
       "\n",
       "[244 rows x 7 columns]"
      ]
     },
     "execution_count": 10,
     "metadata": {},
     "output_type": "execute_result"
    }
   ],
   "source": [
    "tips"
   ]
  },
  {
   "cell_type": "code",
   "execution_count": 11,
   "id": "176296aa-42c9-4017-a609-99a38294e134",
   "metadata": {
    "tags": []
   },
   "outputs": [
    {
     "data": {
      "image/png": "[encoded data removed]",
      "text/plain": [
       "<Figure size 800x400 with 1 Axes>"
      ]
     },
     "metadata": {},
     "output_type": "display_data"
    }
   ],
   "source": [
    "sns.violinplot(data=tips, x='day', y='total_bill')\n",
    "plt.title('바이올린 violin plot')\n",
    "plt.show()"
   ]
  },
  {
   "cell_type": "code",
   "execution_count": 12,
   "id": "9d893774-1d83-4004-b94d-617d432be8ed",
   "metadata": {
    "tags": []
   },
   "outputs": [
    {
     "data": {
      "text/plain": [
       "day\n",
       "Sat     87\n",
       "Sun     76\n",
       "Thur    62\n",
       "Fri     19\n",
       "Name: count, dtype: int64"
      ]
     },
     "execution_count": 12,
     "metadata": {},
     "output_type": "execute_result"
    }
   ],
   "source": [
    "tips['day'].value_counts()"
   ]
  },
  {
   "cell_type": "code",
   "execution_count": 13,
   "id": "b0ad703c-031b-4fda-8670-f337b08dbd14",
   "metadata": {
    "tags": []
   },
   "outputs": [
    {
     "data": {
      "image/png": "[encoded data removed]",
      "text/plain": [
       "<Figure size 800x400 with 1 Axes>"
      ]
     },
     "metadata": {},
     "output_type": "display_data"
    }
   ],
   "source": [
    "sns.countplot(x=tips['day'])\n",
    "plt.title('countplot')\n",
    "plt.show()"
   ]
  },
  {
   "cell_type": "code",
   "execution_count": 14,
   "id": "f08d401f-1461-4170-b8a3-d65cec20653e",
   "metadata": {
    "tags": []
   },
   "outputs": [
    {
     "data": {
      "image/png": "[encoded data removed]",
      "text/plain": [
       "<Figure size 500x500 with 1 Axes>"
      ]
     },
     "metadata": {},
     "output_type": "display_data"
    }
   ],
   "source": [
    "sns.relplot(data=tips, x='tip', y='total_bill')\n",
    "plt.title('replot')\n",
    "plt.show()"
   ]
  },
  {
   "cell_type": "code",
   "execution_count": 15,
   "id": "e2906647-c8ee-4de0-bb95-66d536a92867",
   "metadata": {
    "tags": []
   },
   "outputs": [
    {
     "data": {
      "image/png": "[encoded data removed]",
      "text/plain": [
       "<Figure size 500x500 with 1 Axes>"
      ]
     },
     "metadata": {},
     "output_type": "display_data"
    }
   ],
   "source": [
    "sns.lmplot(data=tips, x='tip', y='total_bill')\n",
    "plt.title('lmplot')\n",
    "plt.show()"
   ]
  },
  {
   "cell_type": "code",
   "execution_count": null,
   "id": "eeeceda3-b958-44d8-ac98-2909745dd0da",
   "metadata": {},
   "outputs": [],
   "source": []
  },
  {
   "cell_type": "code",
   "execution_count": 16,
   "id": "a4e0317e-ce2b-4407-8efd-82e2629c00a0",
   "metadata": {
    "tags": []
   },
   "outputs": [
    {
     "data": {
      "text/html": [
       "<div>\n",
       "<style scoped>\n",
       "    .dataframe tbody tr th:only-of-type {\n",
       "        vertical-align: middle;\n",
       "    }\n",
       "\n",
       "    .dataframe tbody tr th {\n",
       "        vertical-align: top;\n",
       "    }\n",
       "\n",
       "    .dataframe thead th {\n",
       "        text-align: right;\n",
       "    }\n",
       "</style>\n",
       "<table border=\"1\" class=\"dataframe\">\n",
       "  <thead>\n",
       "    <tr style=\"text-align: right;\">\n",
       "      <th></th>\n",
       "      <th>total_bill</th>\n",
       "      <th>tip</th>\n",
       "      <th>gender</th>\n",
       "      <th>smoker</th>\n",
       "      <th>day</th>\n",
       "      <th>time</th>\n",
       "      <th>size</th>\n",
       "    </tr>\n",
       "  </thead>\n",
       "  <tbody>\n",
       "    <tr>\n",
       "      <th>0</th>\n",
       "      <td>16.99</td>\n",
       "      <td>1.01</td>\n",
       "      <td>Female</td>\n",
       "      <td>No</td>\n",
       "      <td>Sun</td>\n",
       "      <td>Dinner</td>\n",
       "      <td>2</td>\n",
       "    </tr>\n",
       "    <tr>\n",
       "      <th>1</th>\n",
       "      <td>10.34</td>\n",
       "      <td>1.66</td>\n",
       "      <td>Male</td>\n",
       "      <td>No</td>\n",
       "      <td>Sun</td>\n",
       "      <td>Dinner</td>\n",
       "      <td>3</td>\n",
       "    </tr>\n",
       "    <tr>\n",
       "      <th>2</th>\n",
       "      <td>21.01</td>\n",
       "      <td>3.50</td>\n",
       "      <td>Male</td>\n",
       "      <td>No</td>\n",
       "      <td>Sun</td>\n",
       "      <td>Dinner</td>\n",
       "      <td>3</td>\n",
       "    </tr>\n",
       "    <tr>\n",
       "      <th>3</th>\n",
       "      <td>23.68</td>\n",
       "      <td>3.31</td>\n",
       "      <td>Male</td>\n",
       "      <td>No</td>\n",
       "      <td>Sun</td>\n",
       "      <td>Dinner</td>\n",
       "      <td>2</td>\n",
       "    </tr>\n",
       "    <tr>\n",
       "      <th>4</th>\n",
       "      <td>24.59</td>\n",
       "      <td>3.61</td>\n",
       "      <td>Female</td>\n",
       "      <td>No</td>\n",
       "      <td>Sun</td>\n",
       "      <td>Dinner</td>\n",
       "      <td>4</td>\n",
       "    </tr>\n",
       "    <tr>\n",
       "      <th>...</th>\n",
       "      <td>...</td>\n",
       "      <td>...</td>\n",
       "      <td>...</td>\n",
       "      <td>...</td>\n",
       "      <td>...</td>\n",
       "      <td>...</td>\n",
       "      <td>...</td>\n",
       "    </tr>\n",
       "    <tr>\n",
       "      <th>239</th>\n",
       "      <td>29.03</td>\n",
       "      <td>5.92</td>\n",
       "      <td>Male</td>\n",
       "      <td>No</td>\n",
       "      <td>Sat</td>\n",
       "      <td>Dinner</td>\n",
       "      <td>3</td>\n",
       "    </tr>\n",
       "    <tr>\n",
       "      <th>240</th>\n",
       "      <td>27.18</td>\n",
       "      <td>2.00</td>\n",
       "      <td>Female</td>\n",
       "      <td>Yes</td>\n",
       "      <td>Sat</td>\n",
       "      <td>Dinner</td>\n",
       "      <td>2</td>\n",
       "    </tr>\n",
       "    <tr>\n",
       "      <th>241</th>\n",
       "      <td>22.67</td>\n",
       "      <td>2.00</td>\n",
       "      <td>Male</td>\n",
       "      <td>Yes</td>\n",
       "      <td>Sat</td>\n",
       "      <td>Dinner</td>\n",
       "      <td>2</td>\n",
       "    </tr>\n",
       "    <tr>\n",
       "      <th>242</th>\n",
       "      <td>17.82</td>\n",
       "      <td>1.75</td>\n",
       "      <td>Male</td>\n",
       "      <td>No</td>\n",
       "      <td>Sat</td>\n",
       "      <td>Dinner</td>\n",
       "      <td>2</td>\n",
       "    </tr>\n",
       "    <tr>\n",
       "      <th>243</th>\n",
       "      <td>18.78</td>\n",
       "      <td>3.00</td>\n",
       "      <td>Female</td>\n",
       "      <td>No</td>\n",
       "      <td>Thur</td>\n",
       "      <td>Dinner</td>\n",
       "      <td>2</td>\n",
       "    </tr>\n",
       "  </tbody>\n",
       "</table>\n",
       "<p>244 rows × 7 columns</p>\n",
       "</div>"
      ],
      "text/plain": [
       "     total_bill   tip  gender smoker   day    time  size\n",
       "0         16.99  1.01  Female     No   Sun  Dinner     2\n",
       "1         10.34  1.66    Male     No   Sun  Dinner     3\n",
       "2         21.01  3.50    Male     No   Sun  Dinner     3\n",
       "3         23.68  3.31    Male     No   Sun  Dinner     2\n",
       "4         24.59  3.61  Female     No   Sun  Dinner     4\n",
       "..          ...   ...     ...    ...   ...     ...   ...\n",
       "239       29.03  5.92    Male     No   Sat  Dinner     3\n",
       "240       27.18  2.00  Female    Yes   Sat  Dinner     2\n",
       "241       22.67  2.00    Male    Yes   Sat  Dinner     2\n",
       "242       17.82  1.75    Male     No   Sat  Dinner     2\n",
       "243       18.78  3.00  Female     No  Thur  Dinner     2\n",
       "\n",
       "[244 rows x 7 columns]"
      ]
     },
     "execution_count": 16,
     "metadata": {},
     "output_type": "execute_result"
    }
   ],
   "source": [
    "file_path = \"datas/sns_tips.csv\"\n",
    "tips = pd.read_csv(file_path)\n",
    "tips"
   ]
  },
  {
   "cell_type": "code",
   "execution_count": 17,
   "id": "c29ea7fa-1c6e-4269-bd69-e055521a1608",
   "metadata": {
    "tags": []
   },
   "outputs": [
    {
     "name": "stdout",
     "output_type": "stream",
     "text": [
      "<class 'pandas.core.frame.DataFrame'>\n",
      "RangeIndex: 244 entries, 0 to 243\n",
      "Data columns (total 7 columns):\n",
      " #   Column      Non-Null Count  Dtype  \n",
      "---  ------      --------------  -----  \n",
      " 0   total_bill  244 non-null    float64\n",
      " 1   tip         244 non-null    float64\n",
      " 2   gender      244 non-null    object \n",
      " 3   smoker      244 non-null    object \n",
      " 4   day         244 non-null    object \n",
      " 5   time        244 non-null    object \n",
      " 6   size        244 non-null    int64  \n",
      "dtypes: float64(2), int64(1), object(4)\n",
      "memory usage: 13.5+ KB\n"
     ]
    }
   ],
   "source": [
    "tips.info()"
   ]
  },
  {
   "cell_type": "code",
   "execution_count": null,
   "id": "40f34b90-0d12-4800-8e4c-89f1e2812520",
   "metadata": {},
   "outputs": [],
   "source": []
  },
  {
   "cell_type": "code",
   "execution_count": 18,
   "id": "70ee55ad-9bca-48dd-b0e2-e2eed6f54f0d",
   "metadata": {
    "tags": []
   },
   "outputs": [],
   "source": [
    "# 0-2. 아름다운 스타일링\n",
    "# seaborn의 최대 장점 중 하나인, 아름다운 컬러팔레트\n",
    "# matplotlib의 기본 컬러 색상보다 seaborn은 스타일링에 크게 신경을 쓰지 않아도 default 컬러가 예쁘게 조합 됨"
   ]
  },
  {
   "cell_type": "code",
   "execution_count": 19,
   "id": "5f0240c2-f645-4724-86e0-2227e9635a32",
   "metadata": {
    "tags": []
   },
   "outputs": [
    {
     "data": {
      "image/png": "[encoded data removed]",
      "text/plain": [
       "<Figure size 800x400 with 1 Axes>"
      ]
     },
     "metadata": {},
     "output_type": "display_data"
    }
   ],
   "source": [
    "plt.bar(tips['day'], tips['total_bill'])\n",
    "plt.show()"
   ]
  },
  {
   "cell_type": "code",
   "execution_count": 20,
   "id": "9ba98b02-302b-4644-9833-2887eb5a2e4c",
   "metadata": {
    "tags": []
   },
   "outputs": [
    {
     "data": {
      "image/png": "[encoded data removed]",
      "text/plain": [
       "<Figure size 800x400 with 1 Axes>"
      ]
     },
     "metadata": {},
     "output_type": "display_data"
    }
   ],
   "source": [
    "sns.barplot(data=tips, x='day', y='total_bill', palette='colorblind')\n",
    "plt.show()"
   ]
  },
  {
   "cell_type": "code",
   "execution_count": 21,
   "id": "26527ebe-38e1-4372-b30d-469d9750b4ee",
   "metadata": {
    "tags": []
   },
   "outputs": [],
   "source": [
    "# 0-3. 컬러 팔레트\n",
    "# 자세한 컬러팔레트는 공식 도큐먼트 참고 : https://seaborn.pydata.org/tutorial/color_palettes.html"
   ]
  },
  {
   "cell_type": "code",
   "execution_count": 22,
   "id": "5110b483-8198-4250-a12d-eed8c1a77089",
   "metadata": {
    "tags": []
   },
   "outputs": [
    {
     "data": {
      "image/png": "[encoded data removed]",
      "text/plain": [
       "<Figure size 600x100 with 1 Axes>"
      ]
     },
     "metadata": {},
     "output_type": "display_data"
    },
    {
     "data": {
      "image/png": "[encoded data removed]",
      "text/plain": [
       "<Figure size 600x100 with 1 Axes>"
      ]
     },
     "metadata": {},
     "output_type": "display_data"
    },
    {
     "data": {
      "image/png": "[encoded data removed]",
      "text/plain": [
       "<Figure size 1000x100 with 1 Axes>"
      ]
     },
     "metadata": {},
     "output_type": "display_data"
    },
    {
     "data": {
      "image/png": "[encoded data removed]",
      "text/plain": [
       "<Figure size 1000x100 with 1 Axes>"
      ]
     },
     "metadata": {},
     "output_type": "display_data"
    },
    {
     "data": {
      "image/png": "[encoded data removed]",
      "text/plain": [
       "<Figure size 1000x100 with 1 Axes>"
      ]
     },
     "metadata": {},
     "output_type": "display_data"
    },
    {
     "data": {
      "image/png": "[encoded data removed]",
      "text/plain": [
       "<Figure size 1000x100 with 1 Axes>"
      ]
     },
     "metadata": {},
     "output_type": "display_data"
    }
   ],
   "source": [
    "sns.palplot(sns.light_palette((210, 90, 60), input=\"husl\"))\n",
    "sns.palplot(sns.dark_palette(\"muted purple\", input=\"xkcd\"))\n",
    "sns.palplot(sns.color_palette(\"BrBG\", 10))\n",
    "sns.palplot(sns.color_palette(\"BrBG_r\", 10))\n",
    "sns.palplot(sns.color_palette(\"coolwarm\", 10))\n",
    "sns.palplot(sns.diverging_palette(255, 133, l=60, n=10, center=\"dark\"))"
   ]
  },
  {
   "cell_type": "code",
   "execution_count": 23,
   "id": "cbf7fe65-55ec-465e-8533-3387a9d85786",
   "metadata": {
    "tags": []
   },
   "outputs": [
    {
     "data": {
      "text/plain": [
       "<Axes: xlabel='tip', ylabel='total_bill'>"
      ]
     },
     "execution_count": 23,
     "metadata": {},
     "output_type": "execute_result"
    },
    {
     "data": {
      "image/png": "[encoded data removed]",
      "text/plain": [
       "<Figure size 800x400 with 1 Axes>"
      ]
     },
     "metadata": {},
     "output_type": "display_data"
    }
   ],
   "source": [
    "sns.barplot(data=tips, x='tip', y='total_bill', palette='coolwarm')"
   ]
  },
  {
   "cell_type": "code",
   "execution_count": 24,
   "id": "30721acf-9447-4822-aee9-5a788a31a5ce",
   "metadata": {
    "tags": []
   },
   "outputs": [
    {
     "data": {
      "image/png": "[encoded data removed]",
      "text/plain": [
       "<Figure size 1200x600 with 1 Axes>"
      ]
     },
     "metadata": {},
     "output_type": "display_data"
    }
   ],
   "source": [
    "plt.figure(figsize=(12,6))\n",
    "\n",
    "sns.barplot(data=tips, x='tip', y='total_bill', palette='BrBG_r')\n",
    "\n",
    "# x축 tick 레이블 각도 변경\n",
    "plt.xticks(rotation=90, fontsize=8)\n",
    "plt.show()"
   ]
  },
  {
   "cell_type": "code",
   "execution_count": null,
   "id": "3483cf8d-ed0a-46cb-b733-34ea5932678e",
   "metadata": {},
   "outputs": [],
   "source": []
  },
  {
   "cell_type": "code",
   "execution_count": null,
   "id": "4d3bcee0-3337-4ea1-b531-1bd2411dfd66",
   "metadata": {},
   "outputs": [],
   "source": []
  },
  {
   "cell_type": "code",
   "execution_count": 25,
   "id": "45a86796-cc7e-4f5b-b628-ecea0a5be61a",
   "metadata": {
    "tags": []
   },
   "outputs": [],
   "source": [
    "# 0-4. pandas 데이터프레임과 높은 호환성"
   ]
  },
  {
   "cell_type": "code",
   "execution_count": 26,
   "id": "a2ab343e-2e05-45f8-8b81-7f21fb9b2113",
   "metadata": {
    "tags": []
   },
   "outputs": [
    {
     "data": {
      "text/html": [
       "<div>\n",
       "<style scoped>\n",
       "    .dataframe tbody tr th:only-of-type {\n",
       "        vertical-align: middle;\n",
       "    }\n",
       "\n",
       "    .dataframe tbody tr th {\n",
       "        vertical-align: top;\n",
       "    }\n",
       "\n",
       "    .dataframe thead th {\n",
       "        text-align: right;\n",
       "    }\n",
       "</style>\n",
       "<table border=\"1\" class=\"dataframe\">\n",
       "  <thead>\n",
       "    <tr style=\"text-align: right;\">\n",
       "      <th></th>\n",
       "      <th>total_bill</th>\n",
       "      <th>tip</th>\n",
       "      <th>gender</th>\n",
       "      <th>smoker</th>\n",
       "      <th>day</th>\n",
       "      <th>time</th>\n",
       "      <th>size</th>\n",
       "    </tr>\n",
       "  </thead>\n",
       "  <tbody>\n",
       "    <tr>\n",
       "      <th>0</th>\n",
       "      <td>16.99</td>\n",
       "      <td>1.01</td>\n",
       "      <td>Female</td>\n",
       "      <td>No</td>\n",
       "      <td>Sun</td>\n",
       "      <td>Dinner</td>\n",
       "      <td>2</td>\n",
       "    </tr>\n",
       "    <tr>\n",
       "      <th>1</th>\n",
       "      <td>10.34</td>\n",
       "      <td>1.66</td>\n",
       "      <td>Male</td>\n",
       "      <td>No</td>\n",
       "      <td>Sun</td>\n",
       "      <td>Dinner</td>\n",
       "      <td>3</td>\n",
       "    </tr>\n",
       "    <tr>\n",
       "      <th>2</th>\n",
       "      <td>21.01</td>\n",
       "      <td>3.50</td>\n",
       "      <td>Male</td>\n",
       "      <td>No</td>\n",
       "      <td>Sun</td>\n",
       "      <td>Dinner</td>\n",
       "      <td>3</td>\n",
       "    </tr>\n",
       "    <tr>\n",
       "      <th>3</th>\n",
       "      <td>23.68</td>\n",
       "      <td>3.31</td>\n",
       "      <td>Male</td>\n",
       "      <td>No</td>\n",
       "      <td>Sun</td>\n",
       "      <td>Dinner</td>\n",
       "      <td>2</td>\n",
       "    </tr>\n",
       "    <tr>\n",
       "      <th>4</th>\n",
       "      <td>24.59</td>\n",
       "      <td>3.61</td>\n",
       "      <td>Female</td>\n",
       "      <td>No</td>\n",
       "      <td>Sun</td>\n",
       "      <td>Dinner</td>\n",
       "      <td>4</td>\n",
       "    </tr>\n",
       "    <tr>\n",
       "      <th>...</th>\n",
       "      <td>...</td>\n",
       "      <td>...</td>\n",
       "      <td>...</td>\n",
       "      <td>...</td>\n",
       "      <td>...</td>\n",
       "      <td>...</td>\n",
       "      <td>...</td>\n",
       "    </tr>\n",
       "    <tr>\n",
       "      <th>239</th>\n",
       "      <td>29.03</td>\n",
       "      <td>5.92</td>\n",
       "      <td>Male</td>\n",
       "      <td>No</td>\n",
       "      <td>Sat</td>\n",
       "      <td>Dinner</td>\n",
       "      <td>3</td>\n",
       "    </tr>\n",
       "    <tr>\n",
       "      <th>240</th>\n",
       "      <td>27.18</td>\n",
       "      <td>2.00</td>\n",
       "      <td>Female</td>\n",
       "      <td>Yes</td>\n",
       "      <td>Sat</td>\n",
       "      <td>Dinner</td>\n",
       "      <td>2</td>\n",
       "    </tr>\n",
       "    <tr>\n",
       "      <th>241</th>\n",
       "      <td>22.67</td>\n",
       "      <td>2.00</td>\n",
       "      <td>Male</td>\n",
       "      <td>Yes</td>\n",
       "      <td>Sat</td>\n",
       "      <td>Dinner</td>\n",
       "      <td>2</td>\n",
       "    </tr>\n",
       "    <tr>\n",
       "      <th>242</th>\n",
       "      <td>17.82</td>\n",
       "      <td>1.75</td>\n",
       "      <td>Male</td>\n",
       "      <td>No</td>\n",
       "      <td>Sat</td>\n",
       "      <td>Dinner</td>\n",
       "      <td>2</td>\n",
       "    </tr>\n",
       "    <tr>\n",
       "      <th>243</th>\n",
       "      <td>18.78</td>\n",
       "      <td>3.00</td>\n",
       "      <td>Female</td>\n",
       "      <td>No</td>\n",
       "      <td>Thur</td>\n",
       "      <td>Dinner</td>\n",
       "      <td>2</td>\n",
       "    </tr>\n",
       "  </tbody>\n",
       "</table>\n",
       "<p>244 rows × 7 columns</p>\n",
       "</div>"
      ],
      "text/plain": [
       "     total_bill   tip  gender smoker   day    time  size\n",
       "0         16.99  1.01  Female     No   Sun  Dinner     2\n",
       "1         10.34  1.66    Male     No   Sun  Dinner     3\n",
       "2         21.01  3.50    Male     No   Sun  Dinner     3\n",
       "3         23.68  3.31    Male     No   Sun  Dinner     2\n",
       "4         24.59  3.61  Female     No   Sun  Dinner     4\n",
       "..          ...   ...     ...    ...   ...     ...   ...\n",
       "239       29.03  5.92    Male     No   Sat  Dinner     3\n",
       "240       27.18  2.00  Female    Yes   Sat  Dinner     2\n",
       "241       22.67  2.00    Male    Yes   Sat  Dinner     2\n",
       "242       17.82  1.75    Male     No   Sat  Dinner     2\n",
       "243       18.78  3.00  Female     No  Thur  Dinner     2\n",
       "\n",
       "[244 rows x 7 columns]"
      ]
     },
     "execution_count": 26,
     "metadata": {},
     "output_type": "execute_result"
    }
   ],
   "source": [
    "tips"
   ]
  },
  {
   "cell_type": "code",
   "execution_count": 27,
   "id": "6faf9164-f547-44db-bf45-4992f184dd80",
   "metadata": {
    "tags": []
   },
   "outputs": [
    {
     "data": {
      "image/png": "[encoded data removed]",
      "text/plain": [
       "<Figure size 500x500 with 1 Axes>"
      ]
     },
     "metadata": {},
     "output_type": "display_data"
    }
   ],
   "source": [
    "# 데이터 프레임 시각화\n",
    "sns.catplot(data=tips, \n",
    "            x=\"gender\", y=\"total_bill\",\n",
    "            kind=\"bar\",\n",
    "            ci=None)\n",
    "plt.show()"
   ]
  },
  {
   "cell_type": "code",
   "execution_count": 28,
   "id": "803f10a6-65af-4e1e-b0c2-693cdfcc9223",
   "metadata": {
    "tags": []
   },
   "outputs": [
    {
     "data": {
      "image/png": "[encoded data removed]",
      "text/plain": [
       "<Figure size 583.875x500 with 1 Axes>"
      ]
     },
     "metadata": {},
     "output_type": "display_data"
    }
   ],
   "source": [
    "# hue 옵션으로 bar를 구분\n",
    "# - xtick, ytick, xlabel, ylabel을 알아서 생성해 줌\n",
    "# - legend 까지 자동으로 생성함\n",
    "# - 신뢰 구간도 알아서 계산하여 생성\n",
    "sns.catplot(data=tips,\n",
    "            x=\"gender\", y=\"total_bill\",\n",
    "            hue='smoker',\n",
    "            kind='bar')\n",
    "plt.show()"
   ]
  },
  {
   "cell_type": "code",
   "execution_count": 29,
   "id": "39989876-b86b-4019-8dd1-ff8e805a15ed",
   "metadata": {
    "tags": []
   },
   "outputs": [
    {
     "data": {
      "image/png": "[encoded data removed]",
      "text/plain": [
       "<Figure size 1083.88x500 with 2 Axes>"
      ]
     },
     "metadata": {},
     "output_type": "display_data"
    }
   ],
   "source": [
    "# col옵션 하나로 그래프 자체를 분할해 줌\n",
    "sns.catplot(data=tips, \n",
    "            x=\"gender\", y=\"total_bill\",\n",
    "            hue=\"smoker\", \n",
    "            col=\"time\",\n",
    "            kind=\"bar\")\n",
    "plt.show()"
   ]
  },
  {
   "cell_type": "code",
   "execution_count": null,
   "id": "3b6c6426-f484-419b-b87c-ddc57ba0d37a",
   "metadata": {},
   "outputs": [],
   "source": []
  },
  {
   "cell_type": "code",
   "execution_count": 30,
   "id": "843c3b30-a48e-42c5-8bc5-f6212872b05c",
   "metadata": {
    "tags": []
   },
   "outputs": [],
   "source": [
    "# 상관관계 계수 heatmap 시각화\n",
    "# heatmap으로 시각화할 대상 컬럼은 모두 숫자로 되어있어야함.\n",
    "# 상관관계 계수를 적용하기 범주형 데이터를 숫자로 변경하기"
   ]
  },
  {
   "cell_type": "code",
   "execution_count": 31,
   "id": "ef9dd170-1a69-489c-9023-381dd733366c",
   "metadata": {
    "tags": []
   },
   "outputs": [
    {
     "data": {
      "text/html": [
       "<div>\n",
       "<style scoped>\n",
       "    .dataframe tbody tr th:only-of-type {\n",
       "        vertical-align: middle;\n",
       "    }\n",
       "\n",
       "    .dataframe tbody tr th {\n",
       "        vertical-align: top;\n",
       "    }\n",
       "\n",
       "    .dataframe thead th {\n",
       "        text-align: right;\n",
       "    }\n",
       "</style>\n",
       "<table border=\"1\" class=\"dataframe\">\n",
       "  <thead>\n",
       "    <tr style=\"text-align: right;\">\n",
       "      <th></th>\n",
       "      <th>total_bill</th>\n",
       "      <th>tip</th>\n",
       "      <th>gender</th>\n",
       "      <th>smoker</th>\n",
       "      <th>day</th>\n",
       "      <th>time</th>\n",
       "      <th>size</th>\n",
       "    </tr>\n",
       "  </thead>\n",
       "  <tbody>\n",
       "    <tr>\n",
       "      <th>0</th>\n",
       "      <td>16.99</td>\n",
       "      <td>1.01</td>\n",
       "      <td>Female</td>\n",
       "      <td>No</td>\n",
       "      <td>Sun</td>\n",
       "      <td>Dinner</td>\n",
       "      <td>2</td>\n",
       "    </tr>\n",
       "    <tr>\n",
       "      <th>1</th>\n",
       "      <td>10.34</td>\n",
       "      <td>1.66</td>\n",
       "      <td>Male</td>\n",
       "      <td>No</td>\n",
       "      <td>Sun</td>\n",
       "      <td>Dinner</td>\n",
       "      <td>3</td>\n",
       "    </tr>\n",
       "    <tr>\n",
       "      <th>2</th>\n",
       "      <td>21.01</td>\n",
       "      <td>3.50</td>\n",
       "      <td>Male</td>\n",
       "      <td>No</td>\n",
       "      <td>Sun</td>\n",
       "      <td>Dinner</td>\n",
       "      <td>3</td>\n",
       "    </tr>\n",
       "    <tr>\n",
       "      <th>3</th>\n",
       "      <td>23.68</td>\n",
       "      <td>3.31</td>\n",
       "      <td>Male</td>\n",
       "      <td>No</td>\n",
       "      <td>Sun</td>\n",
       "      <td>Dinner</td>\n",
       "      <td>2</td>\n",
       "    </tr>\n",
       "    <tr>\n",
       "      <th>4</th>\n",
       "      <td>24.59</td>\n",
       "      <td>3.61</td>\n",
       "      <td>Female</td>\n",
       "      <td>No</td>\n",
       "      <td>Sun</td>\n",
       "      <td>Dinner</td>\n",
       "      <td>4</td>\n",
       "    </tr>\n",
       "  </tbody>\n",
       "</table>\n",
       "</div>"
      ],
      "text/plain": [
       "   total_bill   tip  gender smoker  day    time  size\n",
       "0       16.99  1.01  Female     No  Sun  Dinner     2\n",
       "1       10.34  1.66    Male     No  Sun  Dinner     3\n",
       "2       21.01  3.50    Male     No  Sun  Dinner     3\n",
       "3       23.68  3.31    Male     No  Sun  Dinner     2\n",
       "4       24.59  3.61  Female     No  Sun  Dinner     4"
      ]
     },
     "execution_count": 31,
     "metadata": {},
     "output_type": "execute_result"
    }
   ],
   "source": [
    "# [문제] 범주형 데이터를 label로 인코딩하기\n",
    "# 범주형 데이터 컬럼을 찾기\n",
    "# 범주형 컬럽의 values 확인\n",
    "# 범주형 values -> 숫자로 변환\n",
    "\n",
    "# 데이터 준비\n",
    "file_path = \"datas/sns_tips.csv\"\n",
    "tips = pd.read_csv(file_path)\n",
    "tips.head()"
   ]
  },
  {
   "cell_type": "code",
   "execution_count": 32,
   "id": "d28a02d3-5d5f-4185-b658-74349a025d19",
   "metadata": {
    "tags": []
   },
   "outputs": [],
   "source": [
    "# 범주형 데이터인 'gender', 'smoker', 'day', 'time' 열에 레이블 인코딩 적용\n",
    "# 범주형 데이터를 숫자로 바꾼다?\n",
    "# 1. lable encoding\n",
    "# # - ex)          의류, 가전,  식품, 장난감\n",
    "# # - ex) label     0,     1,    2,    3\n",
    "# # - ex) one-hot  0001, 0010, 0100, 1000\n",
    "# 2. one-hot encoding\n",
    "# # - "
   ]
  },
  {
   "cell_type": "code",
   "execution_count": 33,
   "id": "294ea57b-74da-4716-8508-420b80eb9d6c",
   "metadata": {},
   "outputs": [
    {
     "ename": "SyntaxError",
     "evalue": "invalid syntax (742495304.py, line 8)",
     "output_type": "error",
     "traceback": [
      "\u001b[1;36m  Cell \u001b[1;32mIn[33], line 8\u001b[1;36m\u001b[0m\n\u001b[1;33m    Male      157\u001b[0m\n\u001b[1;37m              ^\u001b[0m\n\u001b[1;31mSyntaxError\u001b[0m\u001b[1;31m:\u001b[0m invalid syntax\n"
     ]
    }
   ],
   "source": [
    "# 먼저 각 값을 알아야 함\n",
    "# tips['gender'].value_counts()\n",
    "# tips['smoker'].value_counts()\n",
    "# tips['day'].value_counts()\n",
    "# tips['time'].value_counts()\n",
    "\n",
    "gender\n",
    "Male      157\n",
    "Female     87\n",
    "\n",
    "smoker\n",
    "No     151\n",
    "Yes     93\n",
    "\n",
    "day\n",
    "Sat     87\n",
    "Sun     76\n",
    "Thur    62\n",
    "Fri     19\n",
    "\n",
    "time\n",
    "Dinner    176\n",
    "Lunch      68"
   ]
  },
  {
   "cell_type": "code",
   "execution_count": null,
   "id": "8b48bccb-73df-47ec-82bb-815841c0dbb8",
   "metadata": {
    "tags": []
   },
   "outputs": [],
   "source": [
    "# tips = pd.get_dummies(tips, columns=['gender', 'smoker', 'day', 'time'], dtype=int)\n",
    "# tips\n",
    "gender_map = {\n",
    "    'Female': 0, \n",
    "    'Male' : 1\n",
    "}\n",
    "tips['gender'] = tips['gender'].map(gender_map)\n",
    "tips"
   ]
  },
  {
   "cell_type": "code",
   "execution_count": null,
   "id": "ab4ecfe2-db55-44ee-a1ad-10f0a20d657d",
   "metadata": {
    "tags": []
   },
   "outputs": [],
   "source": [
    "smoker_map = {\n",
    "    'No': 0, \n",
    "    'Yes' : 1\n",
    "}\n",
    "tips['smoker'] = tips['smoker'].map(smoker_map)\n",
    "tips"
   ]
  },
  {
   "cell_type": "code",
   "execution_count": null,
   "id": "7d294d5b-f4a3-46c3-8196-33e17602ca96",
   "metadata": {
    "tags": []
   },
   "outputs": [],
   "source": [
    "day_map = {\n",
    "    'Sat': 0, \n",
    "    'Sun' : 1,\n",
    "    'Thur' : 2,\n",
    "    'Fri' : 3\n",
    "}\n",
    "tips['day'] = tips['day'].map(day_map)\n",
    "tips"
   ]
  },
  {
   "cell_type": "code",
   "execution_count": null,
   "id": "333eaf9f-a05c-48f8-be46-d2cc4cfc8d50",
   "metadata": {
    "tags": []
   },
   "outputs": [],
   "source": [
    "time_map = {\n",
    "    'Dinner': 0, \n",
    "    'Lunch' : 1\n",
    "}\n",
    "tips['time'] = tips['time'].map(time_map)\n",
    "tips"
   ]
  },
  {
   "cell_type": "code",
   "execution_count": null,
   "id": "cc057417-3d67-4e13-9f34-57d104b7a963",
   "metadata": {
    "tags": []
   },
   "outputs": [],
   "source": [
    "plt.title('heatmap')\n",
    "sns.heatmap(tips.corr(), annot=True, linewidths=1)\n",
    "plt.show()"
   ]
  },
  {
   "cell_type": "code",
   "execution_count": null,
   "id": "ad4dc47b-23f0-47e3-bfae-94c04849022b",
   "metadata": {},
   "outputs": [],
   "source": []
  },
  {
   "cell_type": "code",
   "execution_count": null,
   "id": "1d057869-7b77-4bfb-b55f-17d0892dddaa",
   "metadata": {},
   "outputs": [],
   "source": [
    "# 강사님 방식\n",
    "\n",
    "# 원본 훼손 방지를 위해 copy\n",
    "tips_cp = tips.copy()\n",
    "\n",
    "# 우선 데이터 정보 확인\n",
    "tips_cp.info()\n",
    "\n",
    "# 범주형 데이터 확인\n",
    "tips_cp.select_dtypes(include='object').columns\n",
    "\n",
    "# 범주형 데이터 컬럼의 값 확인 : value_counts()\n",
    "# 컬럼의 값 확인\n",
    "tips_cp['gender'].value_counts().sort_index()\n",
    "\n",
    "# mapping 값 정의\n",
    "gen_map = ['Female' : 0,\n",
    "           'Male' : 1]\n",
    "tips_cp['gender'] = tips_cp['gender'].map(gen_map)\n",
    "tips_cp['gender']\n",
    "\n",
    "# 각 컬럼에 mapping 반복\n",
    "# 패턴이므로 numpy함수 활용해 변수로 만들어서 for문 돌릴 수 있음\n",
    "# scinum 쓸 수도 있음\n",
    "\n",
    "# coloumns 확인\n",
    "tips_cp.columns\n",
    "\n",
    "# heatmap 실행"
   ]
  },
  {
   "cell_type": "code",
   "execution_count": null,
   "id": "28abb842-a811-481f-839c-86483d5f1c89",
   "metadata": {},
   "outputs": [],
   "source": []
  },
  {
   "cell_type": "code",
   "execution_count": null,
   "id": "1744e69f-ae56-4549-a2a9-5f8faf91a99b",
   "metadata": {
    "tags": []
   },
   "outputs": [],
   "source": [
    "# data: 히트맵을 그릴 데이터셋, 2차원 배열 형태의 데이터를 입력받음\n",
    "# annot: 히트맵 셀에 숫자 값을 표시할지 여부를 나타내는 부울값 또는 데이터 배열, 기본값은 False로 숫자 값이 표시되지 않음\n",
    "# fmt: annot이 True로 설정된 경우 숫자 형식을 지정함, 예를 들어 \".2f\"는 소수점 이하 2자리까지 표시하도록 지정함\n",
    "# cmap: 히트맵의 색상 맵 지정, 예를 들어 \"coolwarm\", \"viridis\", \"RdYlBu\" 등 다양한 색상 맵을 사용할 수 있음\n",
    "# # viridis: 영역별로 색상이 연속적으로 변화하는 색상 맵\n",
    "# # plasma: 연속적인 분홍색과 청록색을 갖는 색상 맵\n",
    "# # inferno: 연속적인 주황색과 검은색을 갖는 색상 맵\n",
    "# # magma: 연속적인 검은색과 청록색을 갖는 색상 맵입\n",
    "# # coolwarm: 차가운 색상과 따뜻한 색상이 교대로 나타나는 색상 맵\n",
    "# # RdBu: 붉은색과 청록색이 교대로 나타나는 색상 맵\n",
    "# # YlGnBu: 노란색, 녹색, 청록색, 파란색이 연속적으로 변화하는 색상 맵\n",
    "# linewidths: 히트맵 셀 사이의 경계선 두께 지정\n",
    "# linecolor: 히트맵 셀 사이의 경계선 색상을 지정\n",
    "# cbar: 컬러바를 표시할지 여부를 나타내는 부울값임. 기본값은 True로 컬러바가 표시됨\n",
    "# vmin, vmax : 컬러바의 범위 지정"
   ]
  },
  {
   "cell_type": "code",
   "execution_count": null,
   "id": "9d4b84f6-91b0-4852-bdbb-98a77b0d3f1f",
   "metadata": {
    "tags": []
   },
   "outputs": [],
   "source": [
    "plt.title('heatmap')\n",
    "sns.heatmap(tips.corr(), \n",
    "            annot=True, \n",
    "            fmt=\".2f\", \n",
    "            cmap=\"coolwarm\", \n",
    "            linewidths=0.5, \n",
    "            linecolor=\"gray\", \n",
    "            cbar=True,\n",
    "            vmin=-1,\n",
    "            vmax=1\n",
    "           )\n",
    "plt.show()"
   ]
  },
  {
   "cell_type": "code",
   "execution_count": null,
   "id": "c2b661cf-f099-4624-9cf5-f77a30856155",
   "metadata": {},
   "outputs": [],
   "source": []
  },
  {
   "cell_type": "code",
   "execution_count": null,
   "id": "d285499e-1f2e-4e5c-93b9-68999430f0e4",
   "metadata": {},
   "outputs": [],
   "source": []
  },
  {
   "cell_type": "code",
   "execution_count": null,
   "id": "c136d967-7d39-4540-9898-9331d5c1bbd9",
   "metadata": {},
   "outputs": [],
   "source": []
  },
  {
   "cell_type": "code",
   "execution_count": null,
   "id": "1729865f-f7de-43ee-a27a-4fde5c42eed9",
   "metadata": {
    "tags": []
   },
   "outputs": [],
   "source": [
    "# import"
   ]
  },
  {
   "cell_type": "code",
   "execution_count": null,
   "id": "dc685430-e8f3-4bd8-abc2-1aed1e6bf69f",
   "metadata": {
    "tags": []
   },
   "outputs": [],
   "source": [
    "# 1. Scatterplot\n",
    "\n",
    "# 데이터 준비\n",
    "# 0 ~ 1 사이의 임의의 랜덤한 값을 생성함\n",
    "np.random.rand(50)"
   ]
  },
  {
   "cell_type": "code",
   "execution_count": null,
   "id": "abe6f571-93fb-46f0-8794-2388f1882cfb",
   "metadata": {
    "tags": []
   },
   "outputs": [],
   "source": [
    "np.arange(50)"
   ]
  },
  {
   "cell_type": "code",
   "execution_count": null,
   "id": "b5d78653-b437-4710-a42d-821b090082cf",
   "metadata": {},
   "outputs": [],
   "source": []
  },
  {
   "cell_type": "code",
   "execution_count": null,
   "id": "58ac8c75-3838-4124-8791-6c037feb6a9e",
   "metadata": {
    "tags": []
   },
   "outputs": [],
   "source": [
    "# 1-1. x, y, colors, area 설정하기\n",
    "# colors 는 임의 값을 color 값으로 변환합니다.\n",
    "# area는 점의 넓이를 나타냅니다. 값이 커지면 당연히 넓이도 커집니다.\n",
    "\n",
    "x = np.random.rand(50)\n",
    "y = np.random.rand(50)\n",
    "colors = np.arange(50)\n",
    "area = x * y * 1000"
   ]
  },
  {
   "cell_type": "code",
   "execution_count": null,
   "id": "29ea7b75-1b8e-49e3-89d1-0ce182ae5ba7",
   "metadata": {
    "tags": []
   },
   "outputs": [],
   "source": [
    "# matplotlib의 산점도 그래프\n",
    "plt.scatter(x, y, s=area, c=colors)\n",
    "plt.show()"
   ]
  },
  {
   "cell_type": "code",
   "execution_count": null,
   "id": "a3287cd6-d6e5-4e14-9bad-662c72b288bd",
   "metadata": {
    "tags": []
   },
   "outputs": [],
   "source": [
    "# seaborn 에서는 size와 sizes를 동시에 지정할 수 있음\n",
    "# sizes 옵션에서는 사이즈의 min, max를 명시함\n",
    "# hue는 컬러 옵션임\n",
    "# palette를 통해 seaborn이 제공하는 아름다운 palette 사용 가능\n",
    "# # - Set1, Set2, deep, muted, bright, pastel, dark, colorblind, rocket, viridis, plasma, inferno, cividis, coolwarm, RdBu, husl, gist_gray"
   ]
  },
  {
   "cell_type": "code",
   "execution_count": null,
   "id": "5dc2217d-6fe0-4c38-b5ea-9946dc3fedca",
   "metadata": {
    "tags": []
   },
   "outputs": [],
   "source": [
    "# option 적용\n",
    "x = np.random.rand(50)\n",
    "y = np.random.rand(50)\n",
    "colors = np.arange(50)\n",
    "area = x * y * 1000\n",
    "\n",
    "sns.scatterplot(x=x, y=y, size=area, sizes=(area.min(), area.max()), hue=area, palette='husl', legend=False)\n",
    "plt.show()"
   ]
  },
  {
   "cell_type": "code",
   "execution_count": null,
   "id": "442765f6-0044-4310-9627-20bdf0c0bb40",
   "metadata": {},
   "outputs": [],
   "source": []
  },
  {
   "cell_type": "code",
   "execution_count": null,
   "id": "2ff8823d-edfe-4678-98d2-797cb634132a",
   "metadata": {},
   "outputs": [],
   "source": []
  },
  {
   "cell_type": "code",
   "execution_count": null,
   "id": "5a20e118-a1e8-42c6-805e-1cb08a3efa09",
   "metadata": {
    "tags": []
   },
   "outputs": [],
   "source": [
    "# tips 데이터를 활용한 산점도 시각화\n",
    "\n",
    "# Sample dataset\n",
    "file_path = \"datas/sns_tips.csv\"\n",
    "tips = pd.read_csv(file_path)"
   ]
  },
  {
   "cell_type": "code",
   "execution_count": null,
   "id": "71b4f51d-85c8-4f64-84c6-16e1d23cd3a7",
   "metadata": {},
   "outputs": [],
   "source": []
  },
  {
   "cell_type": "code",
   "execution_count": null,
   "id": "0371db53-469a-4b54-96d3-a4b8150bf4ed",
   "metadata": {
    "tags": []
   },
   "outputs": [],
   "source": [
    "# \"total_bill\"과 \"tip\" 간의 관계를 시각화\n",
    "\n",
    "# 식당에서 총 지불한 금액과 팁 금액간의 관계와 금액 분포 시각화\n",
    "sns.scatterplot(data=tips, x='total_bill', y='tip')\n",
    "\n",
    "# 그래프 출력\n",
    "plt.show()"
   ]
  },
  {
   "cell_type": "code",
   "execution_count": null,
   "id": "2846102d-af35-4a9c-afac-eab04fd7104c",
   "metadata": {
    "tags": []
   },
   "outputs": [],
   "source": [
    "# [설명]\n",
    "# 지불 금액이 높을수록 팁도 증가하는 경향을 보임\n",
    "# 식당의 total_bill이 10 ~ 30사이에 많이 분포하고, 팀은 1~5사이에 많이 분포한다는 것을 알 수 있음"
   ]
  },
  {
   "cell_type": "code",
   "execution_count": null,
   "id": "07d58eb2-f9e1-4341-830a-95875e425ee7",
   "metadata": {},
   "outputs": [],
   "source": []
  },
  {
   "cell_type": "code",
   "execution_count": null,
   "id": "83e8d406-43d8-4b16-b84d-163dc095518e",
   "metadata": {
    "tags": []
   },
   "outputs": [],
   "source": [
    "tips.head()"
   ]
  },
  {
   "cell_type": "code",
   "execution_count": null,
   "id": "489dd4c3-b4e5-4755-9cc4-a3d01cb3aa81",
   "metadata": {
    "tags": []
   },
   "outputs": [],
   "source": [
    "# 지불 금액과 팁 사이의 관계를 시간, 성별, 그리고 식사 인원 수와 같은 추가적인 요인에 따라 시각화\n",
    "# 각 요소 간의 관계 파악하기"
   ]
  },
  {
   "cell_type": "code",
   "execution_count": null,
   "id": "fb8a2b59-036d-4415-a307-11a2bfb682f5",
   "metadata": {
    "tags": []
   },
   "outputs": [],
   "source": [
    "# scatter plot :\n",
    "sns.scatterplot(data=tips, x=\"total_bill\", y=\"tip\", hue=\"time\", style=\"gender\", size=\"size\", palette=\"Set2\")\n",
    "\n",
    "# legend 사이즈\n",
    "plt.legend(prop={'size':8})\n",
    "\n",
    "# display the plot\n",
    "plt.show()"
   ]
  },
  {
   "cell_type": "code",
   "execution_count": null,
   "id": "731331e6-6a3b-42aa-9eb7-e5cd658ff7ba",
   "metadata": {
    "tags": []
   },
   "outputs": [],
   "source": [
    "# [설명]\n",
    "# \"total_bill\"과 \"tip\" 간의 관계: 일반적으로 지불 금액이 높을수록 팁도 커지는 경향이 있음\n",
    "\n",
    "# \"time\"(점심, 저녁)에 따른 분류:\n",
    "# 식사 시간 Dinner와 Lunch 시간에 따라 \"total_bill\"과 \"tip\"의 관계가 다른 것을 알 수 있음\n",
    "# 점심과 저녁 시간대에서의 팁의 분포가 다름\n",
    "# 저녁 시간일 수록 지불금액과 팁이 높아지는 경향성이 있음\n",
    "# \"gender\"(남,여)에 따른 분류\n",
    "\n",
    "# 토탈 지불금액이 커질 수록 남자들이 좀더 많은 팁을 지불함\n",
    "# 남자들이 좀더 높을 금액의 total_bill을 지불하고, 그에 따른 높은 팁을 주는 경향이 있음\n",
    "\n",
    "# \"size\"(식사인원수)에 따른 분류:\n",
    "# 포인트의 크기는 식사 인원 수\n",
    "# \"size\"에 따라\"total_bill\"과 \"tip\"의 관계가 다른 것을 확인할 수 있음\n",
    "# 인원 수가 많을수록 지불 금액과 팁의 크기가 증가함."
   ]
  },
  {
   "cell_type": "code",
   "execution_count": null,
   "id": "5aee5969-7cf9-4ece-9dd6-e4e88fa9e436",
   "metadata": {},
   "outputs": [],
   "source": []
  },
  {
   "cell_type": "code",
   "execution_count": null,
   "id": "7fa97be7-e1db-4f90-a8bc-8705a9f52c45",
   "metadata": {},
   "outputs": [],
   "source": [
    "# 1-2. 다중 그래프 그리기\n",
    "# 1개의 canvas 안 여러개 그래프 그리기\n",
    "\n",
    "# alpha\n",
    "# alpha값은 투명도를 나타냄\n",
    "# 0 ~ 1 사이의 값 지정\n",
    "# 0에 가까울 수록 투명한 값을 가짐"
   ]
  },
  {
   "cell_type": "code",
   "execution_count": null,
   "id": "04e753d7-99e9-49e1-b0d9-c68bd3216f53",
   "metadata": {
    "tags": []
   },
   "outputs": [],
   "source": [
    "x = np.random.rand(50)\n",
    "y = np.random.rand(50)\n",
    "colors = np.arange(50)\n",
    "area = x * y * 1000"
   ]
  },
  {
   "cell_type": "code",
   "execution_count": null,
   "id": "16af47cf-4c7d-4ea7-8f3d-d4e0c2517de4",
   "metadata": {
    "tags": []
   },
   "outputs": [],
   "source": [
    "#  matplotlib subplot 산점도 \n",
    "plt.figure(figsize=(12, 6))\n",
    "\n",
    "plt.subplot(131)\n",
    "plt.scatter(x, y, s=area, c='blue', alpha=0.1)\n",
    "plt.title('alpha=0.1')\n",
    "plt.subplot(132)\n",
    "plt.title('alpha=0.5')\n",
    "plt.scatter(x, y, s=area, c='red', alpha=0.5)\n",
    "plt.subplot(133)\n",
    "plt.title('alpha=1.0')\n",
    "plt.scatter(x, y, s=area, c='green', alpha=1.0)\n",
    "\n",
    "plt.show()"
   ]
  },
  {
   "cell_type": "code",
   "execution_count": null,
   "id": "71c2abc1-0fac-4dfc-a707-e54551472528",
   "metadata": {
    "tags": []
   },
   "outputs": [],
   "source": [
    "# seaborn으로 subplot 산점도 그래프\n",
    "plt.figure(figsize=(12,6))\n",
    "\n",
    "plt.subplot(131)\n",
    "# plt.subplot(1,3,1)\n",
    "sns.scatterplot(x=x, y=y, size=area, sizes=(area.min(), area.max()), color='blue', alpha=0.1, legend=False)\n",
    "plt.title('alpha=0.1')\n",
    "\n",
    "plt.subplot(132)\n",
    "plt.title('alpha=0.5')\n",
    "sns.scatterplot(x=x, y=y, size=area, sizes=(area.min(), area.max()), color='red', alpha=0.5, legend=False)\n",
    "\n",
    "plt.subplot(133)\n",
    "plt.title('alpha=1.0')\n",
    "sns.scatterplot(x=x, y=y, size=area, sizes=(area.min(), area.max()), color='green', alpha=0.9, legend=False)\n",
    "\n",
    "plt.show()"
   ]
  },
  {
   "cell_type": "code",
   "execution_count": null,
   "id": "6d340265-8800-4d32-9a31-3a52b88c0fe0",
   "metadata": {},
   "outputs": [],
   "source": []
  },
  {
   "cell_type": "code",
   "execution_count": null,
   "id": "3def8314-721d-4278-99b8-ff49a97db698",
   "metadata": {},
   "outputs": [],
   "source": []
  },
  {
   "cell_type": "code",
   "execution_count": null,
   "id": "dac3ddb7-14fe-40c7-8ebf-1e62c3a5d4c1",
   "metadata": {
    "tags": []
   },
   "outputs": [],
   "source": [
    "# 2. Barplot, Barhplot\n",
    "\n",
    "# 2-1. 기본 Barplot 그리기\n",
    "# matplotlib bar 차트 그리기\n",
    "subject = ['Math', 'Programming', 'Data Science', 'Art', 'English', 'Physics']\n",
    "score = [66, 80, 60, 50, 80, 10]\n",
    "\n",
    "plt.bar(subject, score, align='center', alpha=0.6, color='red')\n",
    "\n",
    "plt.xticks(rotation=20)\n",
    "plt.ylabel('Scores')\n",
    "plt.title('Scores by Subject')\n",
    "\n",
    "plt.show()"
   ]
  },
  {
   "cell_type": "code",
   "execution_count": null,
   "id": "a7637fff-c720-4c37-9772-0a31bb924388",
   "metadata": {
    "tags": []
   },
   "outputs": [],
   "source": [
    "# seaborn으로 bar 차트 그리기\n",
    "subject = ['Math', 'Programming', 'Data Science', 'Art', 'English', 'Physics']\n",
    "score = [66, 80, 60, 50, 80, 10]\n",
    "\n",
    "sns.barplot(x=subject, y=score, alpha=0.8, palette='YlGnBu')\n",
    "\n",
    "plt.xticks(rotation=20)\n",
    "plt.ylabel('Scores')\n",
    "plt.title('Scores by Subject')\n",
    "\n",
    "plt.show()"
   ]
  },
  {
   "cell_type": "code",
   "execution_count": null,
   "id": "9b63dbf7-ad7c-4e0f-9ea0-934c1f0f28aa",
   "metadata": {},
   "outputs": [],
   "source": []
  },
  {
   "cell_type": "code",
   "execution_count": null,
   "id": "35676a1a-e667-4a12-9b72-fbbba6eb2e3c",
   "metadata": {
    "tags": []
   },
   "outputs": [],
   "source": [
    "# 2-2. 기본 Barhplot 그리기\n",
    "# barh 함수에서는 xticks로 설정했던 부분을 yticks로 변경합니다.\n",
    "\n",
    "# matplotlib으로 barh 차트 그리기\n",
    "subject = ['Math', 'Programming', 'Data Science', 'Art', 'English', 'Physics']\n",
    "score = [66, 80, 60, 50, 80, 10]\n",
    "\n",
    "plt.barh(subject, score, align='center', alpha=0.7, color='green')\n",
    "plt.xlabel('Scores')\n",
    "plt.title('Scores by Subject')\n",
    "\n",
    "plt.show()"
   ]
  },
  {
   "cell_type": "code",
   "execution_count": null,
   "id": "be76a877-2ca9-4932-b610-5affeb976261",
   "metadata": {
    "tags": []
   },
   "outputs": [],
   "source": [
    "# seaborn으로 barh 차트 그리기\n",
    "subject = ['Math', 'Programming', 'Data Science', 'Art', 'English', 'Physics']\n",
    "score = [66, 80, 60, 50, 80, 10]\n",
    "\n",
    "# x, y 축 대입값을 바꿔서 표현\n",
    "sns.barplot(x=score, y=subject, alpha=0.9, palette='YlOrRd')\n",
    "\n",
    "plt.xlabel('Scores')\n",
    "plt.title('Scores by Subject')\n",
    "\n",
    "plt.show()"
   ]
  },
  {
   "cell_type": "code",
   "execution_count": null,
   "id": "43d6b5fe-70dd-46c4-968a-6a16c7aaa8e9",
   "metadata": {},
   "outputs": [],
   "source": []
  },
  {
   "cell_type": "code",
   "execution_count": null,
   "id": "70b9e815-bf64-4974-abcd-ce398fb06873",
   "metadata": {
    "tags": []
   },
   "outputs": [],
   "source": [
    "# 차트 결과 높은 값 순으로 표시하기\n",
    "\n",
    "# 방법1. 리스트를 소팅하여 차트 적용\n",
    "subject = ['Math', 'Programming', 'Data Science', 'Art', 'English', 'Physics']\n",
    "score = [66, 80, 60, 50, 80, 10]\n",
    "\n",
    "# 방법1 데이터를 내림차순으로 정렬, key=정렬 기준\n",
    "data = sorted(zip(subject, score), key=lambda x: x[1], reverse=True)\n",
    "data"
   ]
  },
  {
   "cell_type": "code",
   "execution_count": null,
   "id": "430cf686-96e0-4d68-ad00-fd90f83c7ed4",
   "metadata": {
    "tags": []
   },
   "outputs": [],
   "source": [
    "subject_s = [item[0] for item in data]\n",
    "score_s = [item[1] for item in data]\n",
    "\n",
    "# # x, y 축 대입값을 바꿔서 표현\n",
    "sns.barplot(x=score_s, y=subject_s, alpha=0.9, palette='YlOrRd')\n",
    "\n",
    "plt.xlabel('Scores')\n",
    "plt.title('Scores by Subject')\n",
    "\n",
    "plt.show()"
   ]
  },
  {
   "cell_type": "code",
   "execution_count": null,
   "id": "7a820660-72c2-4c3d-86a3-2fbdfcdb83ed",
   "metadata": {},
   "outputs": [],
   "source": []
  },
  {
   "cell_type": "code",
   "execution_count": null,
   "id": "e5094c20-b48d-4bd7-9ae7-deafa5d99b59",
   "metadata": {
    "tags": []
   },
   "outputs": [],
   "source": [
    "# [문제] 데이터 프레임 만들고 정렬하기\n",
    "# 방법2. dataframe로 만들어 소팅하여 적용\n",
    "subject = ['Math', 'Programming', 'Data Science', 'Art', 'English', 'Physics']\n",
    "score = [66, 80, 60, 50, 80, 10]\n",
    "\n",
    "df = pd.DataFrame({'subject' : ['Math', 'Programming', 'Data Science', 'Art', 'English', 'Physics'],\n",
    "                    'score' : [66, 80, 60, 50, 80, 10]})\n",
    "df\n",
    "\n",
    "# zip(subject, score), columns=['subject','score']"
   ]
  },
  {
   "cell_type": "code",
   "execution_count": null,
   "id": "6d9cb120-95a6-4564-a368-30cc70df17ee",
   "metadata": {
    "tags": []
   },
   "outputs": [],
   "source": [
    "df = df.sort_values('score', ascending=False)\n",
    "df"
   ]
  },
  {
   "cell_type": "code",
   "execution_count": null,
   "id": "e244172b-e8c9-4310-ad6b-3bf737b7018f",
   "metadata": {
    "tags": []
   },
   "outputs": [],
   "source": [
    "# x, y 축 대입값을 바꿔서 표현\n",
    "sns.barplot(x=df['score'], y=df['subject'], alpha=0.9, palette='YlOrRd')\n",
    "\n",
    "plt.xlabel('Scores')\n",
    "plt.title('Scores by Subject')\n",
    "\n",
    "plt.show()"
   ]
  },
  {
   "cell_type": "code",
   "execution_count": null,
   "id": "bc62f847-52b2-4aaa-a1f7-67497ebf13c4",
   "metadata": {},
   "outputs": [],
   "source": []
  },
  {
   "cell_type": "code",
   "execution_count": null,
   "id": "d04c57cf-b3c4-4865-96fd-e84f1bde2761",
   "metadata": {},
   "outputs": [],
   "source": []
  },
  {
   "cell_type": "code",
   "execution_count": null,
   "id": "91506009-d2d7-4c6d-b047-1c12cfcee087",
   "metadata": {},
   "outputs": [],
   "source": [
    "# 2-3 Barplot 비교 그래프 그리기\n",
    "# **axes.bar(x, height, width=0.8, bottom=None, align='center', **kwargs)**\n",
    "\n",
    "# x: 막대 그래프의 x 좌표. 보통은 범주 혹은 카테고리의 값들을 의미함\n",
    "# height: 막대의 높이를 지정하는 값, 보통은 해당 범주에 대한 데이터 값이 사용\n",
    "# width (선택적): 막대의 너비를 지정하는 값. 기본값은 0.8임\n",
    "# bottom (선택적): 막대의 시작 위치를 지정하는 값. 기본적으로 막대는 0부터 시작\n",
    "# align (선택적): 막대의 정렬 방식을 지정하는 값.\n",
    "# # - 'center', 'edge' 또는 'align' 중 하나를 선택\n",
    "# # - 기본값은 'center'\n",
    "# **kwargs: 기타 추가적인 옵션들을 지정할 수 있는 매개변수\n",
    "# # - 예를 들어, 색상, 투명도, 라벨 등을 설정할 수 있음"
   ]
  },
  {
   "cell_type": "code",
   "execution_count": null,
   "id": "855b8688-d02b-4185-9858-8028d895d46d",
   "metadata": {
    "tags": []
   },
   "outputs": [],
   "source": [
    "# 두 학생의 과목별 성적 비교하기\n",
    "\n",
    "subject = ['Math', 'Programming', 'Data Science', 'Art', 'English', 'Physics']\n",
    "score1 = [66, 80, 60, 50, 80, 10]\n",
    "score2 = [55, 90, 40, 60, 70, 20]\n",
    "\n",
    "# subject 갯수 만큼 숫자리스트 생성(0~5)\n",
    "sj_num = np.arange(len(subject))\n",
    "sj_num"
   ]
  },
  {
   "cell_type": "code",
   "execution_count": null,
   "id": "d9a22001-36df-4f27-a5ae-0ceceeedafa4",
   "metadata": {
    "tags": []
   },
   "outputs": [],
   "source": [
    "sj_num - 0.4 / 2"
   ]
  },
  {
   "cell_type": "code",
   "execution_count": null,
   "id": "c82a430d-39e8-4b79-a2dd-19e328e92b1d",
   "metadata": {
    "tags": []
   },
   "outputs": [],
   "source": [
    "# 넓이 지정, default = 0.8\n",
    "width = 0.4\n",
    "sj_num + width / 2"
   ]
  },
  {
   "cell_type": "code",
   "execution_count": null,
   "id": "5420d9d7-5d12-4adb-9f33-77b80f51da2e",
   "metadata": {
    "tags": []
   },
   "outputs": [],
   "source": [
    "# 넓이 지정, default=0.8\n",
    "width = 0.4\n",
    "\n",
    "# subplots 생성\n",
    "fig, axes = plt.subplots()\n",
    "\n",
    "# 막대그래프를 생성하는 역할\n",
    "# axes.bar(x좌표, height, width=0.8, bottom=None, align='center', **kwargs)\n",
    "axes.bar(sj_num - width / 2, score1, width, align='center', alpha=0.5)\n",
    "axes.bar(sj_num + width / 2, score2, width, align='center', alpha=0.8)\n",
    "\n",
    "# xtick 설정\n",
    "axes.set_xticks(sj_num)\n",
    "axes.set_xticklabels(subject)\n",
    "\n",
    "plt.ylabel('score')\n",
    "plt.title('Scores by Subject')\n",
    "\n",
    "plt.xticks(rotation=20)\n",
    "plt.legend(['john','peter'])\n",
    "\n",
    "plt.show()"
   ]
  },
  {
   "cell_type": "code",
   "execution_count": null,
   "id": "fbb6dbdc-cd6a-4d34-bec3-e3665ca9404b",
   "metadata": {},
   "outputs": [],
   "source": []
  },
  {
   "cell_type": "code",
   "execution_count": null,
   "id": "58591dc6-06a3-47cf-a5f6-f2ae96b1d424",
   "metadata": {
    "tags": []
   },
   "outputs": [],
   "source": [
    "# matplotlib 다중 barh 차트\n",
    "subject = ['Math', 'Programming', 'Data Science', 'Art', 'English', 'Physics']\n",
    "score1 = [66, 80, 60, 50, 80, 10]\n",
    "score2 = [55, 90, 40, 60, 70, 20]\n",
    "\n",
    "# subject 갯수 만큼 숫자리스트 생성(0~5)\n",
    "sj_num = np.arange(len(subject))\n",
    "\n",
    "# 넓이 지정\n",
    "width = 0.35\n",
    "\n",
    "# subplots 생성\n",
    "fig, axes = plt.subplots()\n",
    "\n",
    "# 넓이 설정\n",
    "axes.barh(sj_num - width/2, score1, width, align='center', alpha=0.5, color='green')\n",
    "axes.barh(sj_num + width/2, score2, width, align='center', alpha=0.8, color='red')\n",
    "\n",
    "# ytick 설정\n",
    "axes.set_yticks(sj_num)\n",
    "axes.set_yticklabels(subject)\n",
    "\n",
    "plt.title('Scores by Subject')\n",
    "plt.legend(['john', 'peter'])\n",
    "\n",
    "plt.show()"
   ]
  },
  {
   "cell_type": "code",
   "execution_count": null,
   "id": "12135ec2-aa5b-4a2e-9648-d2f4bd7ac8b1",
   "metadata": {
    "tags": []
   },
   "outputs": [],
   "source": [
    "# Seaborn에서 barplot 비교 차트 그리기\n",
    "\n",
    "# 카테고리 값에 따른 실수 값의 평균과 편차를 표시함\n",
    "# 편차 표시 : error bar로 표시\n",
    "\n",
    "# 실전 tip.\n",
    "# 그래프를 임의로 그려야 하는 경우 -> matplotlib\n",
    "# DataFrame을 가지고 그리는 경우 -> seaborn\n",
    "\n",
    "# seaborn 에서는 hue 옵션으로 매우 쉽게 비교 barplot을 그릴 수 있음"
   ]
  },
  {
   "cell_type": "code",
   "execution_count": null,
   "id": "7b573422-0acf-46ce-ab3c-c343e7ffb326",
   "metadata": {
    "tags": []
   },
   "outputs": [],
   "source": [
    "# tips 데이터 활용\n",
    "file_path = \"datas/sns_tips.csv\"\n",
    "tips = pd.read_csv(file_path)"
   ]
  },
  {
   "cell_type": "code",
   "execution_count": null,
   "id": "00bfe16d-2b2a-4853-96c3-494803cb09b6",
   "metadata": {
    "tags": []
   },
   "outputs": [],
   "source": [
    "tips.head()"
   ]
  },
  {
   "cell_type": "code",
   "execution_count": null,
   "id": "b86c2179-d240-47b9-b958-5ed88aa9c51e",
   "metadata": {
    "tags": []
   },
   "outputs": [],
   "source": [
    "# [tip] : error line 또는 error bar\n",
    "# - 막대의 편차를 표시한 것\n",
    "# - 설정 : default 3\n",
    "# # sns.barplot(data=tips, x='gender', y='tip', hue='smoker', palette=\"muted\", errwidth=2)\n",
    "# - 없애고 싶으면\n",
    "# # sns.barplot(data=tips, x='gender', y='tip', hue='smoker', palette=\"muted\", errwidth=0)"
   ]
  },
  {
   "cell_type": "code",
   "execution_count": null,
   "id": "90824314-5a18-4ab6-bc8a-539e64ee2f00",
   "metadata": {
    "tags": []
   },
   "outputs": [],
   "source": [
    "# 성별로 담배를 피는 사람과 안피는 사람별로 tip의 평균 비교\n",
    "\n",
    "sns.barplot(data=tips, x='gender', y='tip', hue='smoker', palette=\"muted\")\n",
    "# sns.barplot(data=tips, x='gender', y='tip', hue='smoker', palette=\"muted\", errwidth=3)\n",
    "# sns.barplot(data=tips, x='gender', y='tip', hue='smoker', palette=\"muted\", errwidth=1)\n",
    "# sns.barplot(data=tips, x='gender', y='tip', hue='smoker', palette=\"muted\", errwidth=0)\n",
    "plt.legend(loc=\"best\")\n",
    "plt.show()"
   ]
  },
  {
   "cell_type": "code",
   "execution_count": null,
   "id": "f1329500-8828-4dfc-bfc4-8f1d0bd071f1",
   "metadata": {
    "tags": []
   },
   "outputs": [],
   "source": [
    "sns.barplot(data=tips, x='gender', y='tip', hue='smoker', palette=\"muted\")\n",
    "plt.legend(loc=\"best\")\n",
    "plt.show()"
   ]
  },
  {
   "cell_type": "code",
   "execution_count": null,
   "id": "d77b13ca-e964-46ba-bedf-91d97b69385e",
   "metadata": {
    "tags": []
   },
   "outputs": [],
   "source": [
    "sns.barplot(data=tips, x='day', y='total_bill', hue='time', palette='muted')\n",
    "plt.legend(loc='best')\n",
    "plt.show()"
   ]
  },
  {
   "cell_type": "code",
   "execution_count": null,
   "id": "8ce94fc5-7a66-440a-8903-d66b987d6c9f",
   "metadata": {},
   "outputs": [],
   "source": [
    "  "
   ]
  },
  {
   "cell_type": "code",
   "execution_count": null,
   "id": "78859e72-9300-4b78-8a37-031ad46ff3a5",
   "metadata": {
    "tags": []
   },
   "outputs": [],
   "source": [
    "# titanic 데이터 활용\n",
    "titanic = sns.load_dataset('titanic')\n",
    "titanic.head()"
   ]
  },
  {
   "cell_type": "code",
   "execution_count": null,
   "id": "a67e766a-95a8-43ea-a1c4-af9c4b0c0194",
   "metadata": {
    "tags": []
   },
   "outputs": [],
   "source": [
    "sns.barplot(x='who', y='survived', hue='pclass', data=titanic, palette=\"muted\")\n",
    "plt.show()"
   ]
  },
  {
   "cell_type": "code",
   "execution_count": null,
   "id": "4da7e401-61ce-473d-a8f8-5ff1e9eaea66",
   "metadata": {},
   "outputs": [],
   "source": []
  },
  {
   "cell_type": "code",
   "execution_count": null,
   "id": "ee5ba8c2-d72e-4f30-b4bb-27f343f744c9",
   "metadata": {},
   "outputs": [],
   "source": []
  },
  {
   "cell_type": "code",
   "execution_count": null,
   "id": "8bc6a3c1-d4c6-4317-aa6f-8fad952ec9d4",
   "metadata": {
    "tags": []
   },
   "outputs": [],
   "source": [
    "# b3. Line Plot\n",
    "# 3-1. 기본 lineplot 그리기\n",
    "\n",
    "# tips 데이터 활용"
   ]
  },
  {
   "cell_type": "code",
   "execution_count": null,
   "id": "53f32528-2a6f-419e-a9b9-7bb32d720494",
   "metadata": {
    "tags": []
   },
   "outputs": [],
   "source": [
    "# matplotlib (실제값을 선으로 이어버림)\n",
    "\n",
    "# 라인 플롯 그리기\n",
    "plt.plot(tips['day'], tips['tip'])\n",
    "plt.xlabel('Day of the week')\n",
    "plt.ylabel('Tip')\n",
    "plt.title('Tip Amount vs Total Bill')\n",
    "plt.show()"
   ]
  },
  {
   "cell_type": "code",
   "execution_count": null,
   "id": "5f92820b-a42f-491c-854a-d662803fdb16",
   "metadata": {
    "tags": []
   },
   "outputs": [],
   "source": [
    "# seaborn (평균값을 선으로 이어줌)\n",
    "\n",
    "# 라인 플롯 그리기\n",
    "sns.lineplot(data=tips, x='day', y='tip')\n",
    "plt.xlabel('Total Bill')\n",
    "plt.ylabel('Tip')\n",
    "plt.title('Tip Amount vs Total Bill')\n",
    "plt.show()"
   ]
  },
  {
   "cell_type": "code",
   "execution_count": null,
   "id": "927ea39d-1023-41f7-9025-d12217b27ce0",
   "metadata": {
    "tags": []
   },
   "outputs": [],
   "source": [
    "# 진한 실선 : 평균\n",
    "# 음영 표시 부분(ci) : 신뢰 구간(confidence interval)의 표시 여부를 조절하는 역할\n",
    "# # ci를 명시하지 않으면 : 95% 신뢰구간을 표시함\n",
    "# # ci= None : 신뢰 구간을 표시하지 않음\n",
    "# # ci= \"sd\": 표준 편차를 기반으로 한 신뢰 구간 표시\n",
    "# # ci= int: 신뢰구간을 숫자로 표시"
   ]
  },
  {
   "cell_type": "code",
   "execution_count": null,
   "id": "f7ef74a5-1539-4529-8be3-52355001ae45",
   "metadata": {
    "tags": []
   },
   "outputs": [],
   "source": [
    "# [해설]\n",
    "# 주말인 토요일과 일요일에 팁이 상대적으로 높은 것을 확인할 수 있음\n",
    "# : 이는 주말에 식사를 즐기는 사람들이 더 많은 팁을 주는 경향이 있음을 시사함"
   ]
  },
  {
   "cell_type": "code",
   "execution_count": null,
   "id": "1a9dc4c7-65fb-4637-ae1b-340637def848",
   "metadata": {},
   "outputs": [],
   "source": []
  },
  {
   "cell_type": "code",
   "execution_count": null,
   "id": "2b724e97-d52a-463d-aa96-c5eff83795f9",
   "metadata": {
    "tags": []
   },
   "outputs": [],
   "source": [
    "# 3-2. 2개 이상의 그래프 그리기\n",
    "file_path = \"datas/sns_tips.csv\"\n",
    "tips = pd.read_csv(file_path)"
   ]
  },
  {
   "cell_type": "code",
   "execution_count": null,
   "id": "1ff27e92-852e-440c-a502-c4485de6e57b",
   "metadata": {
    "tags": []
   },
   "outputs": [],
   "source": [
    "# 다중 라인 플롯 그리기\n",
    "# sns.lineplot(data=tips, x='day', y='tip', hue='gender', ci=None)\n",
    "sns.lineplot(data=tips, x='day', y='tip', hue='gender')\n",
    "# sns.lineplot(data=tips, x='day', y='tip', hue='gender')\n",
    "plt.xlabel('Day')\n",
    "plt.ylabel('Tip')\n",
    "plt.title('Tip Amount by Day and Gender')\n",
    "plt.show()"
   ]
  },
  {
   "cell_type": "code",
   "execution_count": null,
   "id": "c33a469e-4505-467c-bfb0-77b75dc291e3",
   "metadata": {},
   "outputs": [],
   "source": []
  },
  {
   "cell_type": "code",
   "execution_count": null,
   "id": "673ec38a-eb23-4ece-99cc-7053064a0061",
   "metadata": {
    "tags": []
   },
   "outputs": [],
   "source": [
    "# flights 데이터 활용\n",
    "flights = sns.load_dataset(\"flights\")\n",
    "flights.head()"
   ]
  },
  {
   "cell_type": "code",
   "execution_count": null,
   "id": "c5e5bd52-a912-4f3b-b2a5-336fd89a3eab",
   "metadata": {
    "tags": []
   },
   "outputs": [],
   "source": [
    "may_flights = flights.query(\"month == 'May'\")\n",
    "\n",
    "sns.lineplot(data=may_flights, x=\"year\", y=\"passengers\")"
   ]
  },
  {
   "cell_type": "code",
   "execution_count": null,
   "id": "7f211d33-eac8-4eda-b05f-a546b0e5bb02",
   "metadata": {
    "tags": []
   },
   "outputs": [],
   "source": [
    "sns.lineplot(data=flights, x=\"year\", y=\"passengers\")\n",
    "\n",
    "plt.show()"
   ]
  },
  {
   "cell_type": "code",
   "execution_count": null,
   "id": "8d332fa0-5bb5-4ec1-803d-87dee2bce3dc",
   "metadata": {
    "tags": []
   },
   "outputs": [],
   "source": [
    "# 피벗테이블 활용\n",
    "flights_wide = flights.pivot(index=\"year\", columns=\"month\", values=\"passengers\")\n",
    "flights_wide.head()"
   ]
  },
  {
   "cell_type": "code",
   "execution_count": null,
   "id": "113c2846-709a-45ec-8323-1fd07487c1f0",
   "metadata": {
    "tags": []
   },
   "outputs": [],
   "source": [
    "sns.lineplot(data=flights_wide[\"May\"])\n",
    "\n",
    "plt.xticks(flights_wide.index)\n",
    "plt.show()"
   ]
  },
  {
   "cell_type": "code",
   "execution_count": null,
   "id": "d642ff06-57a3-438d-9efa-cfbbb3a95c76",
   "metadata": {
    "tags": []
   },
   "outputs": [],
   "source": [
    "flights_wide.index"
   ]
  },
  {
   "cell_type": "code",
   "execution_count": null,
   "id": "aeefe7eb-c636-4a86-baab-8cd8354f2f11",
   "metadata": {
    "tags": []
   },
   "outputs": [],
   "source": [
    "# 년도별 월별 비행 횟수 확인\n",
    "sns.lineplot(data=flights_wide)\n",
    "# plt.legend(loc=\"best\")\n",
    "plt.legend(loc=\"best\", prop={'size': 8})\n",
    "plt.xticks(flights_wide.index)\n",
    "plt.show()"
   ]
  },
  {
   "cell_type": "code",
   "execution_count": null,
   "id": "2ca44b1c-3a36-414e-be0d-5a4a70024da6",
   "metadata": {},
   "outputs": [],
   "source": []
  },
  {
   "cell_type": "code",
   "execution_count": null,
   "id": "2ce7186a-089d-4f7b-9379-a20b7fdf99e2",
   "metadata": {
    "tags": []
   },
   "outputs": [],
   "source": [
    "fmri = sns.load_dataset(\"fmri\")\n",
    "fmri.head()"
   ]
  },
  {
   "cell_type": "code",
   "execution_count": null,
   "id": "106893b0-c396-4aa6-8d7d-6faabbe4cf80",
   "metadata": {
    "tags": []
   },
   "outputs": [],
   "source": [
    "sns.lineplot(data=fmri, x=\"timepoint\", y=\"signal\", hue=\"region\", style=\"event\")"
   ]
  },
  {
   "cell_type": "code",
   "execution_count": null,
   "id": "27387693-c049-4e1a-a488-81f2ec41006e",
   "metadata": {
    "tags": []
   },
   "outputs": [],
   "source": [
    "sns.lineplot(\n",
    "    data=fmri,\n",
    "    x=\"timepoint\", y=\"signal\", hue=\"event\", style=\"event\",\n",
    "    markers=True, dashes=False\n",
    ")"
   ]
  },
  {
   "cell_type": "code",
   "execution_count": null,
   "id": "3d93b6f2-5557-448f-938d-071394aa91a4",
   "metadata": {
    "tags": []
   },
   "outputs": [],
   "source": [
    "# err_style=\"bars\" : # 오차 막대 그래프 표시\n",
    "# errorbar=(\"se\", 2) :막대 그래프 계산할 때 표준오차로 계산하고, 크기는 2로 표시\n",
    "\n",
    "sns.lineplot(\n",
    "    data=fmri, x=\"timepoint\", y=\"signal\", hue=\"event\", err_style=\"bars\", errorbar=(\"se\", 2),\n",
    ")"
   ]
  },
  {
   "cell_type": "code",
   "execution_count": null,
   "id": "0ba571e0-73a4-49bc-8a21-bb9d8bb4962c",
   "metadata": {},
   "outputs": [],
   "source": []
  },
  {
   "cell_type": "code",
   "execution_count": null,
   "id": "07c3e989-c447-4c07-933d-d5a33e08922d",
   "metadata": {},
   "outputs": [],
   "source": []
  },
  {
   "cell_type": "code",
   "execution_count": null,
   "id": "063e8625-7f96-4220-b84f-5515f87d58a5",
   "metadata": {
    "tags": []
   },
   "outputs": [],
   "source": [
    "# 5. Histogram\n",
    "# 5-1. 기본 Histogram 그리기\n",
    "N = 100000\n",
    "bins = 30\n",
    "\n",
    "x = np.random.randn(N)\n",
    "\n",
    "plt.hist(x, bins=bins)\n",
    "\n",
    "plt.show()"
   ]
  },
  {
   "cell_type": "code",
   "execution_count": null,
   "id": "198c9ad3-855d-439c-b986-6324e10af6fc",
   "metadata": {
    "tags": []
   },
   "outputs": [],
   "source": [
    "sns.distplot(x, bins=bins, kde=False, hist=True, color='g')\n",
    "# kde을 True로 설정해주면, Density가 Y축에 표기 됩니다."
   ]
  },
  {
   "cell_type": "code",
   "execution_count": null,
   "id": "d492583e-4ee2-4bf1-a251-153f8720a80e",
   "metadata": {
    "tags": []
   },
   "outputs": [],
   "source": [
    "sns.distplot(x, bins=bins, kde=True, hist=False, color='g')"
   ]
  },
  {
   "cell_type": "code",
   "execution_count": null,
   "id": "32d49d1f-4492-4d96-b784-cd0bfa157d86",
   "metadata": {
    "tags": []
   },
   "outputs": [],
   "source": [
    "sns.distplot(x, bins=bins, kde=True, hist=True, vertical=True, color='r')\n",
    "# sharey: y축을 다중 그래프가 share\n",
    "# tight_layout: graph의 패딩을 자동으로 조절해주어 fit한 graph를 생성"
   ]
  },
  {
   "cell_type": "code",
   "execution_count": null,
   "id": "0be37e65-b688-4407-b3c0-0c28fb81bf95",
   "metadata": {},
   "outputs": [],
   "source": []
  },
  {
   "cell_type": "code",
   "execution_count": null,
   "id": "be6dbc6a-1bae-4ece-935b-924365c5ada2",
   "metadata": {},
   "outputs": [],
   "source": []
  },
  {
   "cell_type": "code",
   "execution_count": null,
   "id": "42460be4-7d60-4207-aeec-7b1853ede6a1",
   "metadata": {
    "tags": []
   },
   "outputs": [],
   "source": [
    "# 6. Pie Chart\n",
    "# pie chart 옵션\n",
    "# - explode: 파이에서 툭 튀어져 나온 비율\n",
    "# - autopct: 퍼센트 자동으로 표기\n",
    "# - shadow: 그림자 표시\n",
    "# - startangle: 파이를 그리기 시작할 각도\n",
    "\n",
    "# texts, autotexts 인자를 리턴 받습니다.\n",
    "# texts는 label에 대한 텍스트 효과를\n",
    "# autotexts는 파이 위에 그려지는 텍스트 효과를 다룰 때 활용합니다."
   ]
  },
  {
   "cell_type": "code",
   "execution_count": null,
   "id": "1feaa3c5-6754-4705-a374-3e23ee3c5190",
   "metadata": {
    "tags": []
   },
   "outputs": [],
   "source": [
    "labels = ['Samsung', 'Huawei', 'Apple', 'Xiaomi', 'Oppo', 'Etc']\n",
    "sizes = [20.4, 15.8, 10.5, 9, 7.6, 36.7]\n",
    "explode = (0.3, 0, 0, 0, 0, 0)\n",
    "\n",
    "# texts, autotexts 인자를 활용하여 텍스트 스타일링을 적용합니다\n",
    "patches, texts, autotexts = plt.pie(sizes, \n",
    "                                    explode=explode, \n",
    "                                    labels=labels,  \n",
    "                                    autopct='%1.1f%%',\n",
    "                                    shadow=True, \n",
    "                                    startangle=90)\n",
    "\n",
    "plt.title('Smartphone pie', fontsize=15)\n",
    "\n",
    "# label 텍스트에 대한 스타일 적용\n",
    "for t in texts:\n",
    "    t.set_fontsize(12)\n",
    "    t.set_color('gray')\n",
    "    \n",
    "# pie 위의 텍스트에 대한 스타일 적용\n",
    "for t in autotexts:\n",
    "    t.set_color(\"white\")\n",
    "    t.set_fontsize(18)\n",
    "\n",
    "plt.show()"
   ]
  },
  {
   "cell_type": "code",
   "execution_count": null,
   "id": "75815770-b3a2-44be-8879-5118bd9d869c",
   "metadata": {
    "tags": []
   },
   "outputs": [],
   "source": [
    "# Seaborn에서는 pie plot을 지원하지 않습니다."
   ]
  },
  {
   "cell_type": "code",
   "execution_count": null,
   "id": "6a32e054-7790-4199-a19f-e854a34ba4e6",
   "metadata": {},
   "outputs": [],
   "source": []
  },
  {
   "cell_type": "code",
   "execution_count": null,
   "id": "e6eea74b-3be7-4164-8a1e-21dce5b14238",
   "metadata": {},
   "outputs": [],
   "source": []
  },
  {
   "cell_type": "code",
   "execution_count": null,
   "id": "34b5a33e-314a-42f5-aad8-059e7ac42420",
   "metadata": {
    "tags": []
   },
   "outputs": [],
   "source": [
    "# 7. Box Plot\n",
    "\n",
    "# 샘플 데이터 생성\n",
    "spread = np.random.rand(50) * 100\n",
    "center = np.ones(25) * 50\n",
    "flier_high = np.random.rand(10) * 100 + 100\n",
    "flier_low = np.random.rand(10) * -100\n",
    "data = np.concatenate((spread, center, flier_high, flier_low))"
   ]
  },
  {
   "cell_type": "code",
   "execution_count": null,
   "id": "14c9bfba-d766-4ecb-850b-2a7ca4448119",
   "metadata": {
    "tags": []
   },
   "outputs": [],
   "source": [
    "data"
   ]
  },
  {
   "cell_type": "code",
   "execution_count": null,
   "id": "c5b33b63-96e4-4716-94a9-4632035bc8b6",
   "metadata": {},
   "outputs": [],
   "source": []
  },
  {
   "cell_type": "code",
   "execution_count": null,
   "id": "766df914-2288-40f3-ae67-8f2cc2270045",
   "metadata": {
    "tags": []
   },
   "outputs": [],
   "source": [
    "# 7-1 기본 박스플롯 생성\n",
    "\n",
    "# matplotlib로 boxplot 표현\n",
    "plt.boxplot(data, showfliers=False)\n",
    "plt.tight_layout()\n",
    "plt.show()"
   ]
  },
  {
   "cell_type": "code",
   "execution_count": null,
   "id": "06987ab6-f91f-463d-9401-7c81ea20de73",
   "metadata": {
    "tags": []
   },
   "outputs": [],
   "source": [
    "# showfliers는 이상치 표현\n",
    "# default는 showfliers=True\n",
    "plt.boxplot(data)\n",
    "plt.tight_layout()\n",
    "plt.show()"
   ]
  },
  {
   "cell_type": "code",
   "execution_count": null,
   "id": "c244afca-241a-49b2-82c9-c03da4107eca",
   "metadata": {
    "tags": []
   },
   "outputs": [],
   "source": [
    "# seaborn으로 boxplot 표현\n",
    "\n",
    "# 수직방향\n",
    "# sns.boxplot(data, orient='v', width=0.2)\n",
    "# 수평방향\n",
    "sns.boxplot(data, orient='h', width=0.2)\n",
    "plt.show()"
   ]
  },
  {
   "cell_type": "code",
   "execution_count": null,
   "id": "11f3834c-192a-49d0-a636-d7b7db6c1f71",
   "metadata": {},
   "outputs": [],
   "source": []
  },
  {
   "cell_type": "code",
   "execution_count": null,
   "id": "ab7fa6ce-7473-45da-aec3-2aa4fb7e177e",
   "metadata": {},
   "outputs": [],
   "source": []
  },
  {
   "cell_type": "code",
   "execution_count": null,
   "id": "9ac3e722-f5d1-4362-9fc1-847ddedf7563",
   "metadata": {
    "tags": []
   },
   "outputs": [],
   "source": [
    "# 7-2. 다중 박스플롯 생성\n",
    "# seaborn에서 boxplot을 그릴 때는DataFrame을 가지고 그릴 때 주로 활용함\n",
    "# barplot과 마찬가지로, 용도에 따라 적절한 라이브러리를 사용\n",
    "\n",
    "# 실전 tip.\n",
    "# 그래프를 임의로 그려야 하는 경우 -> matplotlib\n",
    "# DataFrame을 가지고 그리는 경우 -> seaborn\n",
    "\n",
    "# seaborn 에서는 hue 옵션으로 매우 쉽게 비교 boxplot을 그릴 수 있음"
   ]
  },
  {
   "cell_type": "code",
   "execution_count": null,
   "id": "770a2a96-f3d8-4e80-a332-2d9fdb12f19d",
   "metadata": {
    "tags": []
   },
   "outputs": [],
   "source": [
    "# tips 데이터 활용\n",
    "file_path = \"datas/sns_tips.csv\"\n",
    "tips = pd.read_csv(file_path)\n",
    "tips.head()"
   ]
  },
  {
   "cell_type": "code",
   "execution_count": null,
   "id": "7aec27c5-5554-48ac-8633-6f40320fef03",
   "metadata": {
    "tags": []
   },
   "outputs": [],
   "source": [
    "plt.title(\"Boxplot로 표현한, 요일 별 팁 범위확인\")\n",
    "sns.boxplot(data=tips, x=\"tip\", y=\"day\")\n",
    "plt.show()"
   ]
  },
  {
   "cell_type": "code",
   "execution_count": null,
   "id": "b0880de0-fc78-419f-9a93-506e7a7727de",
   "metadata": {
    "tags": []
   },
   "outputs": [],
   "source": [
    "# x, y축 방향 바꾸기\n",
    "plt.title(\"Boxplot로 표현한, 요일 별 팁 범위확인\")\n",
    "sns.boxplot(data=tips, x=\"day\", y=\"tip\")\n",
    "plt.show()"
   ]
  },
  {
   "cell_type": "code",
   "execution_count": null,
   "id": "c46d31b4-7079-4920-862b-5fa9487186f5",
   "metadata": {
    "tags": []
   },
   "outputs": [],
   "source": [
    "# 이상치 표현 무사히기 whis=np.inf\n",
    "plt.title(\"Boxplot로 표현한, 요일 별 팁 범위확인\")\n",
    "sns.boxplot(data=tips, x=\"tip\", y=\"day\", whis=np.inf)\n",
    "plt.show()"
   ]
  },
  {
   "cell_type": "code",
   "execution_count": null,
   "id": "fd642b03-026b-4181-b390-3fb3f705e376",
   "metadata": {
    "tags": []
   },
   "outputs": [],
   "source": [
    "# 값까지 확인\n",
    "plt.title(\"Boxplot과 Strip Plot로 표현한, 요일 별 팁 범위\")\n",
    "# sns.boxplot(data=tips, x=\"tip\", y=\"day\", whis=np.inf)\n",
    "sns.boxplot(data=tips, x=\"tip\", y=\"day\")\n",
    "sns.stripplot(data=tips, x=\"tip\", y=\"day\", jitter=True, color=\"0.4\")\n",
    "plt.show()"
   ]
  },
  {
   "cell_type": "code",
   "execution_count": null,
   "id": "f044d022-32f9-4ac7-88b2-439d33bd6077",
   "metadata": {},
   "outputs": [],
   "source": []
  },
  {
   "cell_type": "code",
   "execution_count": null,
   "id": "3838e8e4-8daf-48ef-99f0-a34aaca06e4a",
   "metadata": {},
   "outputs": [],
   "source": [
    "# titanic 데이터 활용\n",
    "titanic = sns.load_dataset('titanic')\n",
    "titanic.head()"
   ]
  },
  {
   "cell_type": "code",
   "execution_count": null,
   "id": "7f0c9e75-581b-482e-a6a9-3cba8b216a6d",
   "metadata": {
    "tags": []
   },
   "outputs": [],
   "source": [
    "sns.boxplot(data=titanic, x='pclass', y='age', hue='survived')\n",
    "plt.show()"
   ]
  },
  {
   "cell_type": "code",
   "execution_count": null,
   "id": "b0561de8-7466-4d5a-8b2d-b4fe2d5ce249",
   "metadata": {},
   "outputs": [],
   "source": []
  },
  {
   "cell_type": "code",
   "execution_count": null,
   "id": "d5502551-ea0a-4a57-ae4d-53aff30b0727",
   "metadata": {},
   "outputs": [],
   "source": []
  },
  {
   "cell_type": "code",
   "execution_count": null,
   "id": "8a139fac-f8b1-4a5d-a83f-dde9e2879ae6",
   "metadata": {
    "tags": []
   },
   "outputs": [],
   "source": [
    "# 7-3. Box Plot 축 바꾸기\n",
    "# vert=False 옵션을 통해 표시하고자 하는 축을 바꿀 수 있습니다.\n",
    "plt.title('Horizontal Box Plot', fontsize=15)\n",
    "sns.boxplot(data=titanic, x='pclass', y='age', hue='survived', whis=np.inf)\n",
    "plt.show()"
   ]
  },
  {
   "cell_type": "code",
   "execution_count": null,
   "id": "98d5b27f-2f8a-4bcc-8109-c0c46468214a",
   "metadata": {},
   "outputs": [],
   "source": []
  },
  {
   "cell_type": "code",
   "execution_count": null,
   "id": "14582796-5fb4-4831-8a9a-3292fd396ab0",
   "metadata": {
    "tags": []
   },
   "outputs": [],
   "source": [
    "# violinplot과 swarmplot으로 표현하기\n",
    "plt.title(\"Violin plot과 Swarm Plot로 표현한, 요일 별 팁\")\n",
    "sns.violinplot(x='day', y='total_bill', data=tips, inner=None)\n",
    "sns.swarmplot(x='day', y='total_bill', data=tips, color='0.9')\n",
    "plt.show()"
   ]
  },
  {
   "cell_type": "code",
   "execution_count": null,
   "id": "12986927-b94c-4445-b52d-5c99b970adbf",
   "metadata": {},
   "outputs": [],
   "source": []
  },
  {
   "cell_type": "code",
   "execution_count": null,
   "id": "311e82a3-2609-4248-8c42-08c82fd91401",
   "metadata": {},
   "outputs": [],
   "source": []
  },
  {
   "cell_type": "code",
   "execution_count": 35,
   "id": "38b77a3e-d004-4e6f-bc18-13e1cb45e107",
   "metadata": {
    "tags": []
   },
   "outputs": [
    {
     "name": "stdout",
     "output_type": "stream",
     "text": [
      "Collecting scikit-learn\n",
      "  Downloading scikit_learn-1.2.2-cp39-cp39-win_amd64.whl (8.4 MB)\n",
      "                                              0.0/8.4 MB ? eta -:--:--\n",
      "     -                                        0.3/8.4 MB 6.3 MB/s eta 0:00:02\n",
      "     --                                       0.6/8.4 MB 7.7 MB/s eta 0:00:02\n",
      "     ------                                   1.3/8.4 MB 10.0 MB/s eta 0:00:01\n",
      "     -------                                  1.5/8.4 MB 8.8 MB/s eta 0:00:01\n",
      "     ---------                                2.1/8.4 MB 9.5 MB/s eta 0:00:01\n",
      "     ------------                             2.6/8.4 MB 9.7 MB/s eta 0:00:01\n",
      "     --------------                           3.1/8.4 MB 10.0 MB/s eta 0:00:01\n",
      "     -----------------                        3.7/8.4 MB 10.2 MB/s eta 0:00:01\n",
      "     -------------------                      4.2/8.4 MB 10.3 MB/s eta 0:00:01\n",
      "     ----------------------                   4.7/8.4 MB 10.4 MB/s eta 0:00:01\n",
      "     -------------------------                5.3/8.4 MB 10.5 MB/s eta 0:00:01\n",
      "     ---------------------------              5.7/8.4 MB 10.5 MB/s eta 0:00:01\n",
      "     -----------------------------            6.2/8.4 MB 10.8 MB/s eta 0:00:01\n",
      "     --------------------------------         6.8/8.4 MB 10.8 MB/s eta 0:00:01\n",
      "     ----------------------------------       7.3/8.4 MB 10.8 MB/s eta 0:00:01\n",
      "     -------------------------------------    7.8/8.4 MB 10.9 MB/s eta 0:00:01\n",
      "     ---------------------------------------  8.3/8.4 MB 10.9 MB/s eta 0:00:01\n",
      "     ---------------------------------------  8.4/8.4 MB 10.9 MB/s eta 0:00:01\n",
      "     ---------------------------------------- 8.4/8.4 MB 10.3 MB/s eta 0:00:00\n",
      "Requirement already satisfied: numpy>=1.17.3 in c:\\playdata_lab\\data_analysis\\da_venv\\lib\\site-packages (from scikit-learn) (1.24.3)\n",
      "Requirement already satisfied: scipy>=1.3.2 in c:\\playdata_lab\\data_analysis\\da_venv\\lib\\site-packages (from scikit-learn) (1.10.1)\n",
      "Collecting joblib>=1.1.1 (from scikit-learn)\n",
      "  Downloading joblib-1.2.0-py3-none-any.whl (297 kB)\n",
      "                                              0.0/298.0 kB ? eta -:--:--\n",
      "     ---------------------------------------- 298.0/298.0 kB 9.0 MB/s eta 0:00:00\n",
      "Collecting threadpoolctl>=2.0.0 (from scikit-learn)\n",
      "  Downloading threadpoolctl-3.1.0-py3-none-any.whl (14 kB)\n",
      "Installing collected packages: threadpoolctl, joblib, scikit-learn\n",
      "Successfully installed joblib-1.2.0 scikit-learn-1.2.2 threadpoolctl-3.1.0\n"
     ]
    }
   ],
   "source": [
    "!pip install -U scikit-learn"
   ]
  },
  {
   "cell_type": "code",
   "execution_count": 44,
   "id": "c0d64512-bae2-4bde-8f80-4f79dbaa527a",
   "metadata": {
    "tags": []
   },
   "outputs": [
    {
     "data": {
      "text/plain": [
       "array([[ 0.,  0.,  5., 13.,  9.,  1.,  0.,  0.],\n",
       "       [ 0.,  0., 13., 15., 10., 15.,  5.,  0.],\n",
       "       [ 0.,  3., 15.,  2.,  0., 11.,  8.,  0.],\n",
       "       [ 0.,  4., 12.,  0.,  0.,  8.,  8.,  0.],\n",
       "       [ 0.,  5.,  8.,  0.,  0.,  9.,  8.,  0.],\n",
       "       [ 0.,  4., 11.,  0.,  1., 12.,  7.,  0.],\n",
       "       [ 0.,  2., 14.,  5., 10., 12.,  0.,  0.],\n",
       "       [ 0.,  0.,  6., 13., 10.,  0.,  0.,  0.]])"
      ]
     },
     "execution_count": 44,
     "metadata": {},
     "output_type": "execute_result"
    }
   ],
   "source": [
    "# 8. imshow\n",
    "# 이미지(image) 데이터와 유사하게 행과 열을 가진 2차원의 데이터를 시각화 할 때는 imshow를 활용합니다.\n",
    "\n",
    "from sklearn.datasets import load_digits\n",
    "\n",
    "digits = load_digits()\n",
    "X = digits.images[:10]\n",
    "x[0]"
   ]
  },
  {
   "cell_type": "code",
   "execution_count": 45,
   "id": "767a1c72-a018-475c-807a-de2f74b60b1f",
   "metadata": {
    "tags": []
   },
   "outputs": [
    {
     "data": {
      "text/plain": [
       "{'data': array([[ 0.,  0.,  5., ...,  0.,  0.,  0.],\n",
       "        [ 0.,  0.,  0., ..., 10.,  0.,  0.],\n",
       "        [ 0.,  0.,  0., ..., 16.,  9.,  0.],\n",
       "        ...,\n",
       "        [ 0.,  0.,  1., ...,  6.,  0.,  0.],\n",
       "        [ 0.,  0.,  2., ..., 12.,  0.,  0.],\n",
       "        [ 0.,  0., 10., ..., 12.,  1.,  0.]]),\n",
       " 'target': array([0, 1, 2, ..., 8, 9, 8]),\n",
       " 'frame': None,\n",
       " 'feature_names': ['pixel_0_0',\n",
       "  'pixel_0_1',\n",
       "  'pixel_0_2',\n",
       "  'pixel_0_3',\n",
       "  'pixel_0_4',\n",
       "  'pixel_0_5',\n",
       "  'pixel_0_6',\n",
       "  'pixel_0_7',\n",
       "  'pixel_1_0',\n",
       "  'pixel_1_1',\n",
       "  'pixel_1_2',\n",
       "  'pixel_1_3',\n",
       "  'pixel_1_4',\n",
       "  'pixel_1_5',\n",
       "  'pixel_1_6',\n",
       "  'pixel_1_7',\n",
       "  'pixel_2_0',\n",
       "  'pixel_2_1',\n",
       "  'pixel_2_2',\n",
       "  'pixel_2_3',\n",
       "  'pixel_2_4',\n",
       "  'pixel_2_5',\n",
       "  'pixel_2_6',\n",
       "  'pixel_2_7',\n",
       "  'pixel_3_0',\n",
       "  'pixel_3_1',\n",
       "  'pixel_3_2',\n",
       "  'pixel_3_3',\n",
       "  'pixel_3_4',\n",
       "  'pixel_3_5',\n",
       "  'pixel_3_6',\n",
       "  'pixel_3_7',\n",
       "  'pixel_4_0',\n",
       "  'pixel_4_1',\n",
       "  'pixel_4_2',\n",
       "  'pixel_4_3',\n",
       "  'pixel_4_4',\n",
       "  'pixel_4_5',\n",
       "  'pixel_4_6',\n",
       "  'pixel_4_7',\n",
       "  'pixel_5_0',\n",
       "  'pixel_5_1',\n",
       "  'pixel_5_2',\n",
       "  'pixel_5_3',\n",
       "  'pixel_5_4',\n",
       "  'pixel_5_5',\n",
       "  'pixel_5_6',\n",
       "  'pixel_5_7',\n",
       "  'pixel_6_0',\n",
       "  'pixel_6_1',\n",
       "  'pixel_6_2',\n",
       "  'pixel_6_3',\n",
       "  'pixel_6_4',\n",
       "  'pixel_6_5',\n",
       "  'pixel_6_6',\n",
       "  'pixel_6_7',\n",
       "  'pixel_7_0',\n",
       "  'pixel_7_1',\n",
       "  'pixel_7_2',\n",
       "  'pixel_7_3',\n",
       "  'pixel_7_4',\n",
       "  'pixel_7_5',\n",
       "  'pixel_7_6',\n",
       "  'pixel_7_7'],\n",
       " 'target_names': array([0, 1, 2, 3, 4, 5, 6, 7, 8, 9]),\n",
       " 'images': array([[[ 0.,  0.,  5., ...,  1.,  0.,  0.],\n",
       "         [ 0.,  0., 13., ..., 15.,  5.,  0.],\n",
       "         [ 0.,  3., 15., ..., 11.,  8.,  0.],\n",
       "         ...,\n",
       "         [ 0.,  4., 11., ..., 12.,  7.,  0.],\n",
       "         [ 0.,  2., 14., ..., 12.,  0.,  0.],\n",
       "         [ 0.,  0.,  6., ...,  0.,  0.,  0.]],\n",
       " \n",
       "        [[ 0.,  0.,  0., ...,  5.,  0.,  0.],\n",
       "         [ 0.,  0.,  0., ...,  9.,  0.,  0.],\n",
       "         [ 0.,  0.,  3., ...,  6.,  0.,  0.],\n",
       "         ...,\n",
       "         [ 0.,  0.,  1., ...,  6.,  0.,  0.],\n",
       "         [ 0.,  0.,  1., ...,  6.,  0.,  0.],\n",
       "         [ 0.,  0.,  0., ..., 10.,  0.,  0.]],\n",
       " \n",
       "        [[ 0.,  0.,  0., ..., 12.,  0.,  0.],\n",
       "         [ 0.,  0.,  3., ..., 14.,  0.,  0.],\n",
       "         [ 0.,  0.,  8., ..., 16.,  0.,  0.],\n",
       "         ...,\n",
       "         [ 0.,  9., 16., ...,  0.,  0.,  0.],\n",
       "         [ 0.,  3., 13., ..., 11.,  5.,  0.],\n",
       "         [ 0.,  0.,  0., ..., 16.,  9.,  0.]],\n",
       " \n",
       "        ...,\n",
       " \n",
       "        [[ 0.,  0.,  1., ...,  1.,  0.,  0.],\n",
       "         [ 0.,  0., 13., ...,  2.,  1.,  0.],\n",
       "         [ 0.,  0., 16., ..., 16.,  5.,  0.],\n",
       "         ...,\n",
       "         [ 0.,  0., 16., ..., 15.,  0.,  0.],\n",
       "         [ 0.,  0., 15., ..., 16.,  0.,  0.],\n",
       "         [ 0.,  0.,  2., ...,  6.,  0.,  0.]],\n",
       " \n",
       "        [[ 0.,  0.,  2., ...,  0.,  0.,  0.],\n",
       "         [ 0.,  0., 14., ..., 15.,  1.,  0.],\n",
       "         [ 0.,  4., 16., ..., 16.,  7.,  0.],\n",
       "         ...,\n",
       "         [ 0.,  0.,  0., ..., 16.,  2.,  0.],\n",
       "         [ 0.,  0.,  4., ..., 16.,  2.,  0.],\n",
       "         [ 0.,  0.,  5., ..., 12.,  0.,  0.]],\n",
       " \n",
       "        [[ 0.,  0., 10., ...,  1.,  0.,  0.],\n",
       "         [ 0.,  2., 16., ...,  1.,  0.,  0.],\n",
       "         [ 0.,  0., 15., ..., 15.,  0.,  0.],\n",
       "         ...,\n",
       "         [ 0.,  4., 16., ..., 16.,  6.,  0.],\n",
       "         [ 0.,  8., 16., ..., 16.,  8.,  0.],\n",
       "         [ 0.,  1.,  8., ..., 12.,  1.,  0.]]]),\n",
       " 'DESCR': \".. _digits_dataset:\\n\\nOptical recognition of handwritten digits dataset\\n--------------------------------------------------\\n\\n**Data Set Characteristics:**\\n\\n    :Number of Instances: 1797\\n    :Number of Attributes: 64\\n    :Attribute Information: 8x8 image of integer pixels in the range 0..16.\\n    :Missing Attribute Values: None\\n    :Creator: E. Alpaydin (alpaydin '@' boun.edu.tr)\\n    :Date: July; 1998\\n\\nThis is a copy of the test set of the UCI ML hand-written digits datasets\\nhttps://archive.ics.uci.edu/ml/datasets/Optical+Recognition+of+Handwritten+Digits\\n\\nThe data set contains images of hand-written digits: 10 classes where\\neach class refers to a digit.\\n\\nPreprocessing programs made available by NIST were used to extract\\nnormalized bitmaps of handwritten digits from a preprinted form. From a\\ntotal of 43 people, 30 contributed to the training set and different 13\\nto the test set. 32x32 bitmaps are divided into nonoverlapping blocks of\\n4x4 and the number of on pixels are counted in each block. This generates\\nan input matrix of 8x8 where each element is an integer in the range\\n0..16. This reduces dimensionality and gives invariance to small\\ndistortions.\\n\\nFor info on NIST preprocessing routines, see M. D. Garris, J. L. Blue, G.\\nT. Candela, D. L. Dimmick, J. Geist, P. J. Grother, S. A. Janet, and C.\\nL. Wilson, NIST Form-Based Handprint Recognition System, NISTIR 5469,\\n1994.\\n\\n.. topic:: References\\n\\n  - C. Kaynak (1995) Methods of Combining Multiple Classifiers and Their\\n    Applications to Handwritten Digit Recognition, MSc Thesis, Institute of\\n    Graduate Studies in Science and Engineering, Bogazici University.\\n  - E. Alpaydin, C. Kaynak (1998) Cascading Classifiers, Kybernetika.\\n  - Ken Tang and Ponnuthurai N. Suganthan and Xi Yao and A. Kai Qin.\\n    Linear dimensionalityreduction using relevance weighted LDA. School of\\n    Electrical and Electronic Engineering Nanyang Technological University.\\n    2005.\\n  - Claudio Gentile. A New Approximate Maximal Margin Classification\\n    Algorithm. NIPS. 2000.\\n\"}"
      ]
     },
     "execution_count": 45,
     "metadata": {},
     "output_type": "execute_result"
    }
   ],
   "source": [
    "# load_digits는 0~16 값을 가지는 array로 이루어져 있습니다.\n",
    "# 1개의 array는 8 X 8 배열 안에 표현되어 있습니다.\n",
    "# 숫자는 0~9까지 이루어져있습니다.\n",
    "digits"
   ]
  },
  {
   "cell_type": "code",
   "execution_count": 46,
   "id": "498c3813-0eb1-47c5-9349-9a86570c08e2",
   "metadata": {
    "tags": []
   },
   "outputs": [
    {
     "data": {
      "image/png": "[encoded data removed]",
      "text/plain": [
       "<Figure size 1200x600 with 10 Axes>"
      ]
     },
     "metadata": {},
     "output_type": "display_data"
    }
   ],
   "source": [
    "fig, axes = plt.subplots(nrows=2, ncols=5, sharex=True, figsize=(12, 6), sharey=True)\n",
    "\n",
    "for i in range(10):\n",
    "    axes[i//5][i%5].imshow(X[i], cmap='Blues')\n",
    "    axes[i//5][i%5].set_title(str(i), fontsize=20)\n",
    "    \n",
    "plt.tight_layout()\n",
    "plt.show()"
   ]
  },
  {
   "cell_type": "code",
   "execution_count": null,
   "id": "2cd80bfe-f96d-4cd3-b8ed-a51e022ec113",
   "metadata": {},
   "outputs": [],
   "source": []
  },
  {
   "cell_type": "code",
   "execution_count": null,
   "id": "5600c076-4742-4745-afb5-01c72aeccbda",
   "metadata": {},
   "outputs": [],
   "source": []
  },
  {
   "cell_type": "code",
   "execution_count": null,
   "id": "e2a978d1-8461-4d71-999a-bae5b75de742",
   "metadata": {},
   "outputs": [],
   "source": []
  },
  {
   "cell_type": "code",
   "execution_count": null,
   "id": "b41f3090-9dfc-4d33-a21d-c59b65ec906e",
   "metadata": {},
   "outputs": [],
   "source": []
  },
  {
   "cell_type": "code",
   "execution_count": null,
   "id": "53b7d977-5711-4470-8a96-206e3ac7a575",
   "metadata": {},
   "outputs": [],
   "source": []
  },
  {
   "cell_type": "code",
   "execution_count": null,
   "id": "1b6afd01-6eb2-432f-8d0f-30f510ea94f4",
   "metadata": {},
   "outputs": [],
   "source": []
  }
 ],
 "metadata": {
  "kernelspec": {
   "display_name": "da_venv",
   "language": "python",
   "name": "da_venv"
  },
  "language_info": {
   "codemirror_mode": {
    "name": "ipython",
    "version": 3
   },
   "file_extension": ".py",
   "mimetype": "text/x-python",
   "name": "python",
   "nbconvert_exporter": "python",
   "pygments_lexer": "ipython3",
   "version": "3.9.13"
  }
 },
 "nbformat": 4,
 "nbformat_minor": 5
}
