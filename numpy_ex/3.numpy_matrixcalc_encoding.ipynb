{
 "cells": [
  {
   "cell_type": "markdown",
   "id": "ea91f579-d058-45a9-a566-bb86b4303684",
   "metadata": {},
   "source": [
    "### numpy 객체 연산자 \n",
    "- (+, -, *)\n",
    "- ndarray의 shape이 같아야 함"
   ]
  },
  {
   "cell_type": "code",
   "execution_count": 6,
   "id": "f4fd4ee0-6f80-4e54-9390-767244c034a1",
   "metadata": {
    "tags": []
   },
   "outputs": [],
   "source": [
    "import numpy as np"
   ]
  },
  {
   "cell_type": "code",
   "execution_count": 10,
   "id": "4e833c55-e346-4a6d-9dd4-ae2e5b5e206e",
   "metadata": {
    "tags": []
   },
   "outputs": [
    {
     "data": {
      "text/plain": [
       "array([1, 2, 3, 4, 5, 6])"
      ]
     },
     "execution_count": 10,
     "metadata": {},
     "output_type": "execute_result"
    }
   ],
   "source": [
    "nums = np.arange(1,7)\n",
    "nums"
   ]
  },
  {
   "cell_type": "code",
   "execution_count": 14,
   "id": "9d58644f-ef08-4ef5-8913-a956248f5b83",
   "metadata": {
    "tags": []
   },
   "outputs": [
    {
     "data": {
      "text/plain": [
       "array([[1, 2, 3],\n",
       "       [4, 5, 6]])"
      ]
     },
     "execution_count": 14,
     "metadata": {},
     "output_type": "execute_result"
    }
   ],
   "source": [
    "a = nums.reshape(-1,3)\n",
    "a"
   ]
  },
  {
   "cell_type": "code",
   "execution_count": 16,
   "id": "773b6bae-f4f6-40ae-a1e6-c9d515726d04",
   "metadata": {
    "tags": []
   },
   "outputs": [
    {
     "data": {
      "text/plain": [
       "array([3, 4, 5, 6, 7, 8])"
      ]
     },
     "execution_count": 16,
     "metadata": {},
     "output_type": "execute_result"
    }
   ],
   "source": [
    "b = np.arange(3,9)\n",
    "b"
   ]
  },
  {
   "cell_type": "code",
   "execution_count": 27,
   "id": "f9f30d7c-3086-4ff5-952a-0f8938ad635f",
   "metadata": {
    "tags": []
   },
   "outputs": [
    {
     "data": {
      "text/plain": [
       "array([[3, 4, 5],\n",
       "       [6, 7, 8]])"
      ]
     },
     "execution_count": 27,
     "metadata": {},
     "output_type": "execute_result"
    }
   ],
   "source": [
    "b = b.reshape(-1,3)\n",
    "b"
   ]
  },
  {
   "cell_type": "code",
   "execution_count": 19,
   "id": "4aef190a-5157-488f-a49f-5485e105d6f8",
   "metadata": {
    "tags": []
   },
   "outputs": [
    {
     "data": {
      "text/plain": [
       "array([[ 4,  6,  8],\n",
       "       [10, 12, 14]])"
      ]
     },
     "execution_count": 19,
     "metadata": {},
     "output_type": "execute_result"
    }
   ],
   "source": [
    "a + b"
   ]
  },
  {
   "cell_type": "code",
   "execution_count": null,
   "id": "df1fcc61-d5ba-4f1a-82d8-905a9981f797",
   "metadata": {},
   "outputs": [],
   "source": []
  },
  {
   "cell_type": "code",
   "execution_count": 21,
   "id": "6e5d699b-724b-4458-a9e3-882ffab82c4d",
   "metadata": {
    "tags": []
   },
   "outputs": [
    {
     "data": {
      "text/plain": [
       "array([[3, 4],\n",
       "       [5, 6],\n",
       "       [7, 8]])"
      ]
     },
     "execution_count": 21,
     "metadata": {},
     "output_type": "execute_result"
    }
   ],
   "source": [
    "b = b.reshape(-1,2)\n",
    "b"
   ]
  },
  {
   "cell_type": "code",
   "execution_count": 23,
   "id": "9b6e8975-aeca-462f-8211-7e36089344b5",
   "metadata": {
    "tags": []
   },
   "outputs": [
    {
     "ename": "ValueError",
     "evalue": "operands could not be broadcast together with shapes (2,3) (3,2) ",
     "output_type": "error",
     "traceback": [
      "\u001b[1;31m---------------------------------------------------------------------------\u001b[0m",
      "\u001b[1;31mValueError\u001b[0m                                Traceback (most recent call last)",
      "Cell \u001b[1;32mIn[23], line 1\u001b[0m\n\u001b[1;32m----> 1\u001b[0m \u001b[43ma\u001b[49m\u001b[43m \u001b[49m\u001b[38;5;241;43m+\u001b[39;49m\u001b[43m \u001b[49m\u001b[43mb\u001b[49m\n",
      "\u001b[1;31mValueError\u001b[0m: operands could not be broadcast together with shapes (2,3) (3,2) "
     ]
    }
   ],
   "source": [
    "a + b"
   ]
  },
  {
   "cell_type": "code",
   "execution_count": 25,
   "id": "84e8f7a0-16c8-4c58-b3d8-24ff67d204df",
   "metadata": {
    "tags": []
   },
   "outputs": [
    {
     "name": "stdout",
     "output_type": "stream",
     "text": [
      "(2, 3)\n",
      "(3, 2)\n"
     ]
    }
   ],
   "source": [
    "print(a.shape)\n",
    "print(b.shape)"
   ]
  },
  {
   "cell_type": "code",
   "execution_count": 38,
   "id": "cb8f51fd-711e-4b77-8dc4-59a016acb526",
   "metadata": {
    "tags": []
   },
   "outputs": [
    {
     "data": {
      "text/plain": [
       "array([[-2, -2, -2],\n",
       "       [-2, -2, -2]])"
      ]
     },
     "execution_count": 38,
     "metadata": {},
     "output_type": "execute_result"
    }
   ],
   "source": [
    "a - b"
   ]
  },
  {
   "cell_type": "code",
   "execution_count": 40,
   "id": "4e174cae-20aa-431f-8a2c-7f94cf4e334d",
   "metadata": {
    "tags": []
   },
   "outputs": [
    {
     "data": {
      "text/plain": [
       "array([[ 3,  8, 15],\n",
       "       [24, 35, 48]])"
      ]
     },
     "execution_count": 40,
     "metadata": {},
     "output_type": "execute_result"
    }
   ],
   "source": [
    "a * b"
   ]
  },
  {
   "cell_type": "code",
   "execution_count": 42,
   "id": "1dba0cb7-558d-44af-be7e-8edf320f34cf",
   "metadata": {
    "tags": []
   },
   "outputs": [
    {
     "data": {
      "text/plain": [
       "array([[0.33333333, 0.5       , 0.6       ],\n",
       "       [0.66666667, 0.71428571, 0.75      ]])"
      ]
     },
     "execution_count": 42,
     "metadata": {},
     "output_type": "execute_result"
    }
   ],
   "source": [
    "a / b"
   ]
  },
  {
   "cell_type": "code",
   "execution_count": null,
   "id": "1edc2a4e-4215-4e9b-a311-34967856c9b5",
   "metadata": {},
   "outputs": [],
   "source": []
  },
  {
   "cell_type": "code",
   "execution_count": 31,
   "id": "6791a6ef-570d-4776-a1b7-01056897795c",
   "metadata": {
    "tags": []
   },
   "outputs": [],
   "source": [
    "# sum - matrix 안에서 sum"
   ]
  },
  {
   "cell_type": "code",
   "execution_count": 33,
   "id": "5850799c-1a47-41b5-8ae1-f8e9fad8fd57",
   "metadata": {
    "tags": []
   },
   "outputs": [
    {
     "data": {
      "text/plain": [
       "array([[1, 2, 3],\n",
       "       [4, 5, 6]])"
      ]
     },
     "execution_count": 33,
     "metadata": {},
     "output_type": "execute_result"
    }
   ],
   "source": [
    "a"
   ]
  },
  {
   "cell_type": "code",
   "execution_count": 35,
   "id": "ffc59c44-a3c7-421d-9c6c-b2a257c794af",
   "metadata": {
    "tags": []
   },
   "outputs": [
    {
     "data": {
      "text/plain": [
       "array([5, 7, 9])"
      ]
     },
     "execution_count": 35,
     "metadata": {},
     "output_type": "execute_result"
    }
   ],
   "source": [
    "np.sum(a, axis=0)"
   ]
  },
  {
   "cell_type": "code",
   "execution_count": 37,
   "id": "7a0877dd-43e3-4f40-9933-560668809eb4",
   "metadata": {
    "tags": []
   },
   "outputs": [
    {
     "data": {
      "text/plain": [
       "array([ 6, 15])"
      ]
     },
     "execution_count": 37,
     "metadata": {},
     "output_type": "execute_result"
    }
   ],
   "source": [
    "np.sum(a, axis=1)"
   ]
  },
  {
   "cell_type": "code",
   "execution_count": null,
   "id": "a9f8dacb-6d16-4dce-bf74-db50dae363ff",
   "metadata": {},
   "outputs": [],
   "source": []
  },
  {
   "cell_type": "markdown",
   "id": "5043f8f6-5c18-485c-97f9-c6c9b6ab4ac0",
   "metadata": {
    "tags": []
   },
   "source": [
    "# 행렬 곱셈 연산은 dot product 사용 !!!\n",
    "- 내적 : 두 서열의 상응하는 값들의 곱을 더한 것\n",
    "- shape의 행과 열이 맞는 식의 대응하는 값이 존재해야 계산 가능 / 혹은 행이 1인 경우 (값이 2차원이 아닌 요소로 존재하므로 가능) / 열이 기준이 되어 계산"
   ]
  },
  {
   "cell_type": "code",
   "execution_count": 46,
   "id": "2dd7688f-1ddf-4851-bace-4bb3bd3408d0",
   "metadata": {
    "tags": []
   },
   "outputs": [
    {
     "data": {
      "text/plain": [
       "array([[1, 2, 3],\n",
       "       [1, 2, 3],\n",
       "       [2, 3, 4]])"
      ]
     },
     "execution_count": 46,
     "metadata": {},
     "output_type": "execute_result"
    }
   ],
   "source": [
    "a = np.array([[1, 2, 3],\n",
    "              [1, 2, 3], \n",
    "              [2, 3, 4]])\n",
    "a"
   ]
  },
  {
   "cell_type": "code",
   "execution_count": 48,
   "id": "3fad121c-2609-475a-92bc-582782f2bf54",
   "metadata": {
    "tags": []
   },
   "outputs": [
    {
     "data": {
      "text/plain": [
       "array([[1, 2],\n",
       "       [3, 4],\n",
       "       [5, 6]])"
      ]
     },
     "execution_count": 48,
     "metadata": {},
     "output_type": "execute_result"
    }
   ],
   "source": [
    "b = np.array([[1, 2],\n",
    "              [3, 4],  \n",
    "              [5, 6]])\n",
    "b"
   ]
  },
  {
   "cell_type": "code",
   "execution_count": 50,
   "id": "06941461-bf17-489e-a4d8-35cf512f6e15",
   "metadata": {
    "tags": []
   },
   "outputs": [
    {
     "data": {
      "text/plain": [
       "((3, 3), (3, 2))"
      ]
     },
     "execution_count": 50,
     "metadata": {},
     "output_type": "execute_result"
    }
   ],
   "source": [
    "a.shape, b.shape"
   ]
  },
  {
   "cell_type": "code",
   "execution_count": 52,
   "id": "a86782fe-27b5-4e93-bfbd-a8819a375b6f",
   "metadata": {
    "tags": []
   },
   "outputs": [
    {
     "data": {
      "text/plain": [
       "array([[22, 28],\n",
       "       [22, 28],\n",
       "       [31, 40]])"
      ]
     },
     "execution_count": 52,
     "metadata": {},
     "output_type": "execute_result"
    }
   ],
   "source": [
    "np.dot(a,b)"
   ]
  },
  {
   "cell_type": "code",
   "execution_count": 54,
   "id": "6cd79f6c-b956-4a40-b222-22ebc8070c70",
   "metadata": {
    "tags": []
   },
   "outputs": [
    {
     "data": {
      "text/plain": [
       "array([[22, 28],\n",
       "       [22, 28],\n",
       "       [31, 40]])"
      ]
     },
     "execution_count": 54,
     "metadata": {},
     "output_type": "execute_result"
    }
   ],
   "source": [
    "a.dot(b)"
   ]
  },
  {
   "cell_type": "code",
   "execution_count": null,
   "id": "d7476d67-cdb1-492f-bf1d-902bbbd4609e",
   "metadata": {},
   "outputs": [],
   "source": []
  },
  {
   "cell_type": "code",
   "execution_count": 57,
   "id": "7d1d743b-1c7f-414e-85c5-c89f4f83a667",
   "metadata": {
    "tags": []
   },
   "outputs": [],
   "source": [
    "# transpose(전치행렬)"
   ]
  },
  {
   "cell_type": "code",
   "execution_count": 60,
   "id": "01e7b82c-c0ef-42cc-a244-f83decda26ce",
   "metadata": {
    "tags": []
   },
   "outputs": [
    {
     "data": {
      "text/plain": [
       "array([[1, 2],\n",
       "       [3, 4],\n",
       "       [5, 6]])"
      ]
     },
     "execution_count": 60,
     "metadata": {},
     "output_type": "execute_result"
    }
   ],
   "source": [
    "b"
   ]
  },
  {
   "cell_type": "code",
   "execution_count": 62,
   "id": "7a0f4497-5d79-42f6-ad87-3af0d7b37c3b",
   "metadata": {
    "tags": []
   },
   "outputs": [
    {
     "data": {
      "text/plain": [
       "array([[1, 2, 3],\n",
       "       [1, 2, 3],\n",
       "       [2, 3, 4]])"
      ]
     },
     "execution_count": 62,
     "metadata": {},
     "output_type": "execute_result"
    }
   ],
   "source": [
    "a"
   ]
  },
  {
   "cell_type": "code",
   "execution_count": 65,
   "id": "44a5da82-7d8b-4567-a215-25846cce6293",
   "metadata": {
    "tags": []
   },
   "outputs": [
    {
     "data": {
      "text/plain": [
       "array([[1, 3, 5],\n",
       "       [2, 4, 6]])"
      ]
     },
     "execution_count": 65,
     "metadata": {},
     "output_type": "execute_result"
    }
   ],
   "source": [
    "a = np.transpose(b)\n",
    "a"
   ]
  },
  {
   "cell_type": "code",
   "execution_count": 67,
   "id": "5df54c1a-c7cd-48fb-bb77-eb0fb0cc0c2f",
   "metadata": {
    "tags": []
   },
   "outputs": [
    {
     "data": {
      "text/plain": [
       "array([[1, 2],\n",
       "       [3, 4],\n",
       "       [5, 6]])"
      ]
     },
     "execution_count": 67,
     "metadata": {},
     "output_type": "execute_result"
    }
   ],
   "source": [
    "np.transpose(a)"
   ]
  },
  {
   "cell_type": "code",
   "execution_count": null,
   "id": "c933f8b5-4af6-4ad3-93a8-11637ee06461",
   "metadata": {},
   "outputs": [],
   "source": []
  },
  {
   "cell_type": "code",
   "execution_count": 70,
   "id": "edf70c84-6e4e-4009-a5ae-d24da158faa3",
   "metadata": {
    "tags": []
   },
   "outputs": [],
   "source": [
    "# broadcasting\n",
    "# 숫자의 연산 (단일)\n"
   ]
  },
  {
   "cell_type": "code",
   "execution_count": 83,
   "id": "21c41311-f5b7-4d13-939d-5c4a54cb8554",
   "metadata": {
    "tags": []
   },
   "outputs": [
    {
     "name": "stdout",
     "output_type": "stream",
     "text": [
      "[[1 3 5]\n",
      " [2 4 6]]\n",
      "(2, 3)\n"
     ]
    }
   ],
   "source": [
    "print(a)\n",
    "print(a.shape)"
   ]
  },
  {
   "cell_type": "code",
   "execution_count": 75,
   "id": "19058101-cefd-450c-b9f5-4a9bf645027d",
   "metadata": {
    "tags": []
   },
   "outputs": [
    {
     "data": {
      "text/plain": [
       "array([[ 4, 12, 20],\n",
       "       [ 8, 16, 24]])"
      ]
     },
     "execution_count": 75,
     "metadata": {},
     "output_type": "execute_result"
    }
   ],
   "source": [
    "a * 4"
   ]
  },
  {
   "cell_type": "code",
   "execution_count": 84,
   "id": "987c5199-2794-4d3a-920a-1aa095400c1d",
   "metadata": {
    "tags": []
   },
   "outputs": [
    {
     "name": "stdout",
     "output_type": "stream",
     "text": [
      "[[1 2 3]]\n",
      "(1, 3)\n"
     ]
    }
   ],
   "source": [
    "d = np.array([[1, 2, 3]])\n",
    "print(d)\n",
    "print(d.shape)"
   ]
  },
  {
   "cell_type": "code",
   "execution_count": 85,
   "id": "6218f9ea-ff74-400a-9507-02dcd932dc20",
   "metadata": {
    "tags": []
   },
   "outputs": [
    {
     "data": {
      "text/plain": [
       "array([[ 1,  6, 15],\n",
       "       [ 2,  8, 18]])"
      ]
     },
     "execution_count": 85,
     "metadata": {},
     "output_type": "execute_result"
    }
   ],
   "source": [
    "a * d"
   ]
  },
  {
   "cell_type": "code",
   "execution_count": 100,
   "id": "259cb82e-330e-4af8-9a3b-4ae7399ec12d",
   "metadata": {
    "tags": []
   },
   "outputs": [
    {
     "name": "stdout",
     "output_type": "stream",
     "text": [
      "[[1]\n",
      " [2]\n",
      " [3]]\n",
      "(3, 1)\n"
     ]
    }
   ],
   "source": [
    "e = np.array([[1],[2],[3]])\n",
    "print(e)\n",
    "print(e.shape)"
   ]
  },
  {
   "cell_type": "code",
   "execution_count": 101,
   "id": "6442ce0c-eb41-424e-a8bf-6c2ee5bf5f69",
   "metadata": {
    "tags": []
   },
   "outputs": [
    {
     "name": "stdout",
     "output_type": "stream",
     "text": [
      "[[1 2 3]]\n",
      "(1, 3)\n"
     ]
    }
   ],
   "source": [
    "print(d)\n",
    "print(d.shape)"
   ]
  },
  {
   "cell_type": "code",
   "execution_count": 103,
   "id": "50a9a411-3e42-4943-83d8-cd1ee82cb099",
   "metadata": {
    "tags": []
   },
   "outputs": [
    {
     "name": "stdout",
     "output_type": "stream",
     "text": [
      "[[1 2 3]\n",
      " [2 4 6]\n",
      " [3 6 9]]\n",
      "(3, 3)\n"
     ]
    }
   ],
   "source": [
    "rslt = d * e\n",
    "print(rslt)\n",
    "print(rslt.shape)"
   ]
  },
  {
   "cell_type": "code",
   "execution_count": 106,
   "id": "0a9c327a-6460-4e22-b470-dc0571e0ec7b",
   "metadata": {
    "tags": []
   },
   "outputs": [
    {
     "name": "stdout",
     "output_type": "stream",
     "text": [
      "[1 2 3]\n",
      "(3,)\n"
     ]
    }
   ],
   "source": [
    "# d와 e2는 계산 안됨 / 차원의 짝이 맞지 않으므로 (e2는 행과 열의 의미가 아닌 요소가 3개라는 뜻)\n",
    "e2 = np.array([1, 2, 3])\n",
    "print(e2)\n",
    "print(e2.shape)"
   ]
  },
  {
   "cell_type": "code",
   "execution_count": 113,
   "id": "1e75717d-2f1c-41ef-b07c-7f965469dd74",
   "metadata": {
    "tags": []
   },
   "outputs": [
    {
     "data": {
      "text/plain": [
       "array([[2, 3, 4],\n",
       "       [3, 4, 5],\n",
       "       [4, 5, 6]])"
      ]
     },
     "execution_count": 113,
     "metadata": {},
     "output_type": "execute_result"
    }
   ],
   "source": [
    "e + e2"
   ]
  },
  {
   "cell_type": "code",
   "execution_count": 132,
   "id": "b9cb8a9b-a7a9-49da-a3cc-3e9f34ae0920",
   "metadata": {
    "tags": []
   },
   "outputs": [
    {
     "name": "stdout",
     "output_type": "stream",
     "text": [
      "[[ 1  2  3  4]\n",
      " [ 2  5  6  7]\n",
      " [ 8  9 10 11]\n",
      " [12 13 14 15]]\n",
      "[1]\n",
      "[3 3 3 3]\n",
      "[[4]\n",
      " [5]\n",
      " [6]\n",
      " [7]]\n",
      "[[1 2 3 4]\n",
      " [5 6 7 8]]\n"
     ]
    }
   ],
   "source": [
    "# 브로드 캐스팅 실습\n",
    "Value = np.array([[1,2,3,4],[2,5,6,7],[8,9,10,11],[12,13,14,15]])\n",
    "print(Value)\n",
    "Value1 = np.array([1])\n",
    "print(Value1)\n",
    "Value2 = np.array([3,3,3,3])\n",
    "print(Value2)\n",
    "Value3 = np.array([4,5,6,7]).reshape(4,1)\n",
    "print(Value3)\n",
    "Value4 = np.array([[1,2,3,4],[5,6,7,8]])\n",
    "print(Value4)"
   ]
  },
  {
   "cell_type": "code",
   "execution_count": 128,
   "id": "f97c3a17-9dce-40a4-977f-ff627bad9389",
   "metadata": {
    "tags": []
   },
   "outputs": [
    {
     "data": {
      "text/plain": [
       "array([[ 2,  3,  4,  5],\n",
       "       [ 3,  6,  7,  8],\n",
       "       [ 9, 10, 11, 12],\n",
       "       [13, 14, 15, 16]])"
      ]
     },
     "execution_count": 128,
     "metadata": {},
     "output_type": "execute_result"
    }
   ],
   "source": [
    "# 4x4 + 1\n",
    "Value + Value1"
   ]
  },
  {
   "cell_type": "code",
   "execution_count": 127,
   "id": "691797de-3a5b-46cf-bb0a-ff68dab390b7",
   "metadata": {
    "tags": []
   },
   "outputs": [
    {
     "data": {
      "text/plain": [
       "array([[ 4,  5,  6,  7],\n",
       "       [ 5,  8,  9, 10],\n",
       "       [11, 12, 13, 14],\n",
       "       [15, 16, 17, 18]])"
      ]
     },
     "execution_count": 127,
     "metadata": {},
     "output_type": "execute_result"
    }
   ],
   "source": [
    "# 4x4 + 1x4\n",
    "Value + Value2"
   ]
  },
  {
   "cell_type": "code",
   "execution_count": 126,
   "id": "66a84677-e17c-4adf-8b6a-a3780a6e6271",
   "metadata": {
    "tags": []
   },
   "outputs": [
    {
     "data": {
      "text/plain": [
       "array([[ 7,  7,  7,  7],\n",
       "       [ 8,  8,  8,  8],\n",
       "       [ 9,  9,  9,  9],\n",
       "       [10, 10, 10, 10]])"
      ]
     },
     "execution_count": 126,
     "metadata": {},
     "output_type": "execute_result"
    }
   ],
   "source": [
    "# 1x4 + 4x1\n",
    "Value2 + Value3"
   ]
  },
  {
   "cell_type": "code",
   "execution_count": 129,
   "id": "2bd0c4a7-d1a2-4966-8af0-f37569db4880",
   "metadata": {
    "tags": []
   },
   "outputs": [
    {
     "data": {
      "text/plain": [
       "array([[ 7,  7,  7,  7],\n",
       "       [ 8,  8,  8,  8],\n",
       "       [ 9,  9,  9,  9],\n",
       "       [10, 10, 10, 10]])"
      ]
     },
     "execution_count": 129,
     "metadata": {},
     "output_type": "execute_result"
    }
   ],
   "source": [
    "# 4x1 + 1x4\n",
    "Value3 + Value2"
   ]
  },
  {
   "cell_type": "code",
   "execution_count": 140,
   "id": "9ebdb32d-960c-4293-aa70-1ec0e5c4b306",
   "metadata": {
    "tags": []
   },
   "outputs": [
    {
     "name": "stdout",
     "output_type": "stream",
     "text": [
      "[[1 2 3 4]\n",
      " [5 6 7 8]]\n",
      "[[4]\n",
      " [5]\n",
      " [6]\n",
      " [7]]\n"
     ]
    },
    {
     "ename": "ValueError",
     "evalue": "operands could not be broadcast together with shapes (2,4) (4,1) ",
     "output_type": "error",
     "traceback": [
      "\u001b[1;31m---------------------------------------------------------------------------\u001b[0m",
      "\u001b[1;31mValueError\u001b[0m                                Traceback (most recent call last)",
      "Cell \u001b[1;32mIn[140], line 4\u001b[0m\n\u001b[0;32m      2\u001b[0m \u001b[38;5;28mprint\u001b[39m(Value4)\n\u001b[0;32m      3\u001b[0m \u001b[38;5;28mprint\u001b[39m(Value3)\n\u001b[1;32m----> 4\u001b[0m \u001b[38;5;28mprint\u001b[39m(\u001b[43mValue4\u001b[49m\u001b[43m \u001b[49m\u001b[38;5;241;43m+\u001b[39;49m\u001b[43m \u001b[49m\u001b[43mValue3\u001b[49m)\n\u001b[0;32m      5\u001b[0m \u001b[38;5;28mprint\u001b[39m(Value3 \u001b[38;5;241m+\u001b[39m Value4)\n",
      "\u001b[1;31mValueError\u001b[0m: operands could not be broadcast together with shapes (2,4) (4,1) "
     ]
    }
   ],
   "source": [
    "# 차원의 짝이 맞지 않음 (차원 맞춰서 해보기)\n",
    "print(Value4)\n",
    "print(Value3)\n",
    "print(Value4 + Value3)\n",
    "print(Value3 + Value4)"
   ]
  },
  {
   "cell_type": "code",
   "execution_count": null,
   "id": "4ef1ad86-ce30-4b83-8e85-d92234b88a36",
   "metadata": {},
   "outputs": [],
   "source": []
  },
  {
   "cell_type": "markdown",
   "id": "95645438-3ce8-4063-871d-1a070347ff22",
   "metadata": {},
   "source": [
    "### 대각 행렬\n",
    "- 보통 정방형에서 사용\n",
    "- N : Row 수 (필수적 요소) \n",
    "- M : Column 수(따로 설정하지 않으면 NxN의 정사각 행렬이 만들어짐)\n",
    "- k : 대각행렬이 값을 가지기 시작하는 위치 \n",
    "- k의 쓰임 : default는 0, index 0을 기준으로 +는 열 방향 대각, -는 행 방향 대각"
   ]
  },
  {
   "cell_type": "code",
   "execution_count": 142,
   "id": "005c4b75-0ec5-411d-b487-10ff482e14f8",
   "metadata": {
    "tags": []
   },
   "outputs": [
    {
     "data": {
      "text/plain": [
       "array([[1., 0.],\n",
       "       [0., 1.]])"
      ]
     },
     "execution_count": 142,
     "metadata": {},
     "output_type": "execute_result"
    }
   ],
   "source": [
    "# 2 X 2 행렬, 시작위치 0\n",
    "np.eye(N=2)"
   ]
  },
  {
   "cell_type": "code",
   "execution_count": 144,
   "id": "508ebdcb-9f87-4134-9a01-6fac8f565135",
   "metadata": {
    "tags": []
   },
   "outputs": [
    {
     "data": {
      "text/plain": [
       "array([[1., 0., 0., 0.],\n",
       "       [0., 1., 0., 0.],\n",
       "       [0., 0., 1., 0.],\n",
       "       [0., 0., 0., 1.]])"
      ]
     },
     "execution_count": 144,
     "metadata": {},
     "output_type": "execute_result"
    }
   ],
   "source": [
    "# 4X4 행렬, 시작 위치 0\n",
    "np.eye(N=4)"
   ]
  },
  {
   "cell_type": "code",
   "execution_count": 146,
   "id": "227687b4-5062-4108-83ff-e3ab752a3bf4",
   "metadata": {
    "tags": []
   },
   "outputs": [
    {
     "data": {
      "text/plain": [
       "array([[1., 0., 0.],\n",
       "       [0., 1., 0.]])"
      ]
     },
     "execution_count": 146,
     "metadata": {},
     "output_type": "execute_result"
    }
   ],
   "source": [
    "# 2X3 행렬, 시작위치 0\n",
    "np.eye(N=2, M=3)"
   ]
  },
  {
   "cell_type": "code",
   "execution_count": 148,
   "id": "1059b0a2-dbe7-4ed3-8a17-f3b1f24b88b9",
   "metadata": {
    "tags": []
   },
   "outputs": [
    {
     "data": {
      "text/plain": [
       "array([[0., 0., 1., 0., 0., 0., 0.],\n",
       "       [0., 0., 0., 1., 0., 0., 0.],\n",
       "       [0., 0., 0., 0., 1., 0., 0.],\n",
       "       [0., 0., 0., 0., 0., 1., 0.],\n",
       "       [0., 0., 0., 0., 0., 0., 1.],\n",
       "       [0., 0., 0., 0., 0., 0., 0.],\n",
       "       [0., 0., 0., 0., 0., 0., 0.]])"
      ]
     },
     "execution_count": 148,
     "metadata": {},
     "output_type": "execute_result"
    }
   ],
   "source": [
    "# 7X7 행렬, 시작위치 +2\n",
    "np.eye(7, k=2)"
   ]
  },
  {
   "cell_type": "code",
   "execution_count": 152,
   "id": "b3fb518e-3b7b-48da-87a9-002faefa8054",
   "metadata": {
    "tags": []
   },
   "outputs": [
    {
     "data": {
      "text/plain": [
       "array([[0., 0., 0., 0., 0., 0., 0.],\n",
       "       [0., 0., 0., 0., 0., 0., 0.],\n",
       "       [1., 0., 0., 0., 0., 0., 0.],\n",
       "       [0., 1., 0., 0., 0., 0., 0.],\n",
       "       [0., 0., 1., 0., 0., 0., 0.],\n",
       "       [0., 0., 0., 1., 0., 0., 0.],\n",
       "       [0., 0., 0., 0., 1., 0., 0.]])"
      ]
     },
     "execution_count": 152,
     "metadata": {},
     "output_type": "execute_result"
    }
   ],
   "source": [
    "# 7X7 행렬, 시작위치 -2\n",
    "np.eye(7, k=-2)"
   ]
  },
  {
   "cell_type": "code",
   "execution_count": 153,
   "id": "97a2535b-4d9b-43b0-989e-510230397451",
   "metadata": {
    "tags": []
   },
   "outputs": [
    {
     "data": {
      "text/plain": [
       "array([[0., 0., 0., 0.],\n",
       "       [0., 0., 0., 0.],\n",
       "       [1., 0., 0., 0.],\n",
       "       [0., 1., 0., 0.],\n",
       "       [0., 0., 1., 0.],\n",
       "       [0., 0., 0., 1.],\n",
       "       [0., 0., 0., 0.]])"
      ]
     },
     "execution_count": 153,
     "metadata": {},
     "output_type": "execute_result"
    }
   ],
   "source": [
    "# 7X4 행렬, 시작위치 -2\n",
    "np.eye(N=7, M=4, k=-2)"
   ]
  },
  {
   "cell_type": "code",
   "execution_count": 161,
   "id": "72b0386c-49c6-4fd7-8592-878253c81898",
   "metadata": {
    "tags": []
   },
   "outputs": [
    {
     "data": {
      "text/plain": [
       "array([[0., 0., 0., 0., 0., 0., 0., 0.],\n",
       "       [0., 0., 0., 0., 0., 0., 0., 0.],\n",
       "       [0., 0., 0., 0., 0., 0., 0., 0.]])"
      ]
     },
     "execution_count": 161,
     "metadata": {},
     "output_type": "execute_result"
    }
   ],
   "source": [
    "# 3X8 행렬 , 시작위치 -5\n",
    "np.eye(N=3, M=8, k=-5)"
   ]
  },
  {
   "cell_type": "code",
   "execution_count": 164,
   "id": "64d89a07-50fb-46fc-b46e-5702baba8ce8",
   "metadata": {
    "tags": []
   },
   "outputs": [
    {
     "data": {
      "text/plain": [
       "array([[0., 0., 0., 0., 0., 1., 0., 0.],\n",
       "       [0., 0., 0., 0., 0., 0., 1., 0.],\n",
       "       [0., 0., 0., 0., 0., 0., 0., 1.]])"
      ]
     },
     "execution_count": 164,
     "metadata": {},
     "output_type": "execute_result"
    }
   ],
   "source": [
    "# 3X8 행렬, 시작위치 +5\n",
    "np.eye(N=3, M=8, k=5)"
   ]
  },
  {
   "cell_type": "code",
   "execution_count": 163,
   "id": "c38d2258-404c-45cc-a003-368a3f9f88cc",
   "metadata": {
    "tags": []
   },
   "outputs": [
    {
     "data": {
      "text/plain": [
       "array([[0., 0., 0.],\n",
       "       [0., 0., 0.],\n",
       "       [0., 0., 0.],\n",
       "       [0., 0., 0.],\n",
       "       [0., 0., 0.],\n",
       "       [1., 0., 0.],\n",
       "       [0., 1., 0.],\n",
       "       [0., 0., 1.]])"
      ]
     },
     "execution_count": 163,
     "metadata": {},
     "output_type": "execute_result"
    }
   ],
   "source": [
    "# 8X3 행렬, 시작위치 -5\n",
    "np.eye(N=8, M=3, k=-5)"
   ]
  },
  {
   "cell_type": "code",
   "execution_count": 168,
   "id": "eb7d817a-29ec-4bc1-b910-e7bbab164210",
   "metadata": {
    "tags": []
   },
   "outputs": [
    {
     "data": {
      "text/plain": [
       "array([[0., 0., 0.],\n",
       "       [0., 0., 0.],\n",
       "       [0., 0., 0.],\n",
       "       [0., 0., 0.],\n",
       "       [0., 0., 0.],\n",
       "       [0., 0., 0.],\n",
       "       [0., 0., 0.],\n",
       "       [0., 0., 0.]])"
      ]
     },
     "execution_count": 168,
     "metadata": {},
     "output_type": "execute_result"
    }
   ],
   "source": [
    "# 8X3 행렬, 시작위치 +5\n",
    "np.eye(N=8, M=3, k=5)"
   ]
  },
  {
   "cell_type": "code",
   "execution_count": null,
   "id": "bbef2674-cb53-4c68-a057-8b2939a6ba60",
   "metadata": {},
   "outputs": [],
   "source": []
  },
  {
   "cell_type": "code",
   "execution_count": null,
   "id": "349c5a0d-df10-4608-a697-a3d71448b1ca",
   "metadata": {},
   "outputs": [],
   "source": []
  },
  {
   "cell_type": "code",
   "execution_count": null,
   "id": "6eb7e570-d176-489e-bd5f-523ee56951d8",
   "metadata": {},
   "outputs": [],
   "source": []
  },
  {
   "cell_type": "markdown",
   "id": "36c4916a-0d75-4173-8969-8d3cb6830be7",
   "metadata": {},
   "source": [
    "### [문제] 범주형 데이터 숫자로 encoding"
   ]
  },
  {
   "cell_type": "code",
   "execution_count": 173,
   "id": "b8cb9196-d0ad-4bf9-ad48-06c1687b0589",
   "metadata": {
    "tags": []
   },
   "outputs": [],
   "source": [
    "import numpy as np"
   ]
  },
  {
   "cell_type": "code",
   "execution_count": 176,
   "id": "380fcc8f-bb2a-45c1-97aa-aaac1e32acf9",
   "metadata": {
    "tags": []
   },
   "outputs": [],
   "source": [
    "# 1. 범주형 문자열 객체를 만들고 소팅\n",
    "e_lists=np.array(['주방','폰','욕실','거실'])"
   ]
  },
  {
   "cell_type": "code",
   "execution_count": 177,
   "id": "ddc7273b-1d0a-43c4-8811-c924cdb86a27",
   "metadata": {
    "tags": []
   },
   "outputs": [
    {
     "data": {
      "text/plain": [
       "array(['거실', '욕실', '주방', '폰'], dtype='<U2')"
      ]
     },
     "execution_count": 177,
     "metadata": {},
     "output_type": "execute_result"
    }
   ],
   "source": [
    "np.sort(e_lists)"
   ]
  },
  {
   "cell_type": "code",
   "execution_count": null,
   "id": "bedb78e2-f608-4bee-baa7-7e2b60bb9a52",
   "metadata": {},
   "outputs": [],
   "source": []
  },
  {
   "cell_type": "code",
   "execution_count": 179,
   "id": "61161907-8559-4eb8-82c9-8dae10b91884",
   "metadata": {
    "tags": []
   },
   "outputs": [],
   "source": [
    "# 2. 문자열을 숫자로 인코딩하는 함수 만들기"
   ]
  },
  {
   "cell_type": "code",
   "execution_count": 209,
   "id": "2def88ef-f66b-4e19-b8a8-af12b5fd8fde",
   "metadata": {
    "tags": []
   },
   "outputs": [],
   "source": [
    "# e_lists의 요소를 0~3까지 숫자로 변환하는 함수 \n",
    "# ['주방','폰','욕실','거실']\n",
    "# => [2, 3, 1, 0] 로 리턴되도록\n",
    "def label_encoding(e_lists):\n",
    "    change_lists=[]\n",
    "        \n",
    "    for el in e_lists :\n",
    "        # 각 문자열을 판단해서 숫자로 대응\n",
    "        if el == \"거실\" :\n",
    "            change_lists.append(0)\n",
    "        elif el == \"욕실\" :\n",
    "            change_lists.append(1)\n",
    "        elif el == \"주방\" :\n",
    "            change_lists.append(2)\n",
    "        elif el == \"폰\" :\n",
    "            change_lists.append(3)\n",
    "            \n",
    "    return change_lists"
   ]
  },
  {
   "cell_type": "code",
   "execution_count": 208,
   "id": "098d4c18-bf06-426f-a6fc-714c70b3050f",
   "metadata": {
    "tags": []
   },
   "outputs": [
    {
     "data": {
      "text/plain": [
       "array(None, dtype=object)"
      ]
     },
     "execution_count": 208,
     "metadata": {},
     "output_type": "execute_result"
    }
   ],
   "source": [
    "# 범주형 문자열을 정수형 숫자로 바꾸기\n",
    "np.array(label_encoding(e_lists))"
   ]
  },
  {
   "cell_type": "code",
   "execution_count": 211,
   "id": "f45221a1-302c-469f-b749-96d9d8102352",
   "metadata": {
    "tags": []
   },
   "outputs": [
    {
     "data": {
      "text/plain": [
       "array([2, 3, 1, 0])"
      ]
     },
     "execution_count": 211,
     "metadata": {},
     "output_type": "execute_result"
    }
   ],
   "source": [
    "# 범주형 문자열을 정수형 숫자로 바꾸기\n",
    "np.array(label_encoding(e_lists))"
   ]
  },
  {
   "cell_type": "code",
   "execution_count": null,
   "id": "cddbb8db-4251-4f18-9887-e9b4762d072c",
   "metadata": {},
   "outputs": [],
   "source": []
  },
  {
   "cell_type": "code",
   "execution_count": 213,
   "id": "962cd1a1-6aff-4b06-a6e7-1515ac7e66bd",
   "metadata": {
    "tags": []
   },
   "outputs": [],
   "source": [
    "# one-hot 인코딩 형태로 바꾸기"
   ]
  },
  {
   "cell_type": "code",
   "execution_count": 215,
   "id": "252a3e7d-04f6-43a7-9cbc-11ae1677b7e4",
   "metadata": {
    "tags": []
   },
   "outputs": [],
   "source": [
    "# [해결방법1] np.eye()를 활용해 적용"
   ]
  },
  {
   "cell_type": "code",
   "execution_count": 217,
   "id": "84c8a85e-9213-43aa-a380-eccad2c6892e",
   "metadata": {
    "tags": []
   },
   "outputs": [
    {
     "data": {
      "text/plain": [
       "[2, 3, 1, 0]"
      ]
     },
     "execution_count": 217,
     "metadata": {},
     "output_type": "execute_result"
    }
   ],
   "source": [
    "values = label_encoding(e_lists)\n",
    "values"
   ]
  },
  {
   "cell_type": "code",
   "execution_count": 219,
   "id": "82a59b39-43ca-4415-b684-76fefcc14c61",
   "metadata": {
    "tags": []
   },
   "outputs": [
    {
     "data": {
      "text/plain": [
       "3"
      ]
     },
     "execution_count": 219,
     "metadata": {},
     "output_type": "execute_result"
    }
   ],
   "source": [
    "# 최대값\n",
    "np.max(values)"
   ]
  },
  {
   "cell_type": "code",
   "execution_count": 231,
   "id": "d247cec6-5c8c-4e75-9f26-c89211780809",
   "metadata": {
    "tags": []
   },
   "outputs": [
    {
     "data": {
      "text/plain": [
       "4"
      ]
     },
     "execution_count": 231,
     "metadata": {},
     "output_type": "execute_result"
    }
   ],
   "source": [
    "# 만들 개수 (0부터 시작하므로 최대값에 +1)\n",
    "n_vals = np.max(values)+1\n",
    "n_vals"
   ]
  },
  {
   "cell_type": "code",
   "execution_count": 232,
   "id": "705463a3-a1b9-4440-9989-acaa1398bbee",
   "metadata": {
    "tags": []
   },
   "outputs": [
    {
     "data": {
      "text/plain": [
       "array([[1., 0., 0., 0.],\n",
       "       [0., 1., 0., 0.],\n",
       "       [0., 0., 1., 0.],\n",
       "       [0., 0., 0., 1.]])"
      ]
     },
     "execution_count": 232,
     "metadata": {},
     "output_type": "execute_result"
    }
   ],
   "source": [
    "# 리스트 넣어서 확인\n",
    "np.eye(4)"
   ]
  },
  {
   "cell_type": "code",
   "execution_count": 233,
   "id": "d54156fa-af39-4bd6-9850-ea0c838d90d3",
   "metadata": {
    "tags": []
   },
   "outputs": [
    {
     "data": {
      "text/plain": [
       "array([[0., 0., 1., 0.],\n",
       "       [0., 0., 0., 1.],\n",
       "       [0., 1., 0., 0.],\n",
       "       [1., 0., 0., 0.]])"
      ]
     },
     "execution_count": 233,
     "metadata": {},
     "output_type": "execute_result"
    }
   ],
   "source": [
    "np.eye(4)[[2,3,1,0]]"
   ]
  },
  {
   "cell_type": "code",
   "execution_count": 235,
   "id": "7efbea7f-3ddf-499e-9df0-c57b0863bb27",
   "metadata": {
    "tags": []
   },
   "outputs": [
    {
     "data": {
      "text/plain": [
       "array([[0, 0, 1, 0],\n",
       "       [0, 0, 0, 1],\n",
       "       [0, 1, 0, 0],\n",
       "       [1, 0, 0, 0]])"
      ]
     },
     "execution_count": 235,
     "metadata": {},
     "output_type": "execute_result"
    }
   ],
   "source": [
    "np.eye(4)[[2,3,1,0]].astype(int)"
   ]
  },
  {
   "cell_type": "code",
   "execution_count": 242,
   "id": "6ad79782-6f84-4c02-9e26-957af41672a2",
   "metadata": {
    "tags": []
   },
   "outputs": [
    {
     "data": {
      "text/plain": [
       "array([[0, 0, 1, 0],\n",
       "       [0, 0, 0, 1],\n",
       "       [0, 1, 0, 0],\n",
       "       [1, 0, 0, 0]])"
      ]
     },
     "execution_count": 242,
     "metadata": {},
     "output_type": "execute_result"
    }
   ],
   "source": [
    "# 변수로 값 적용해보기\n",
    "# np.eye(n_vals)[values].astype(int)\n",
    "np.eye(np.size(values))[values].astype(int)"
   ]
  },
  {
   "cell_type": "code",
   "execution_count": null,
   "id": "5463f9bd-7edc-4227-8825-4b29daf5aee9",
   "metadata": {},
   "outputs": [],
   "source": []
  },
  {
   "cell_type": "code",
   "execution_count": 243,
   "id": "88f5efd2-e3ca-4883-a162-ba8b5e714949",
   "metadata": {
    "tags": []
   },
   "outputs": [],
   "source": [
    "# [해결방법2] np.zeros()로 2차원 배열을 만들고 적용"
   ]
  },
  {
   "cell_type": "code",
   "execution_count": 280,
   "id": "f6668e59-781a-4007-ab1d-0662a55d6280",
   "metadata": {
    "tags": []
   },
   "outputs": [
    {
     "data": {
      "text/plain": [
       "array([2, 3, 1, 0])"
      ]
     },
     "execution_count": 280,
     "metadata": {},
     "output_type": "execute_result"
    }
   ],
   "source": [
    "encoding_nums = np.array(label_encoding(e_lists))\n",
    "encoding_nums"
   ]
  },
  {
   "cell_type": "code",
   "execution_count": 281,
   "id": "d4786a41-d209-433a-8a0b-ada7429c448e",
   "metadata": {
    "tags": []
   },
   "outputs": [
    {
     "data": {
      "text/plain": [
       "4"
      ]
     },
     "execution_count": 281,
     "metadata": {},
     "output_type": "execute_result"
    }
   ],
   "source": [
    "encoding_nums.size"
   ]
  },
  {
   "cell_type": "code",
   "execution_count": 282,
   "id": "2a438df7-4c10-4c84-aa40-be9a55284893",
   "metadata": {
    "tags": []
   },
   "outputs": [
    {
     "data": {
      "text/plain": [
       "array([[0., 0., 0., 0.],\n",
       "       [0., 0., 0., 0.],\n",
       "       [0., 0., 0., 0.],\n",
       "       [0., 0., 0., 0.]])"
      ]
     },
     "execution_count": 282,
     "metadata": {},
     "output_type": "execute_result"
    }
   ],
   "source": [
    "# 4 x 4 zero 행렬 생성\n",
    "one_hot = np.zeros((4,4))\n",
    "one_hot"
   ]
  },
  {
   "cell_type": "code",
   "execution_count": 283,
   "id": "267bb92d-1e64-4f02-80f1-c84004743ce4",
   "metadata": {
    "tags": []
   },
   "outputs": [
    {
     "data": {
      "text/plain": [
       "array([[1., 0., 0., 0.],\n",
       "       [0., 1., 0., 0.],\n",
       "       [0., 0., 1., 0.],\n",
       "       [0., 0., 0., 1.]])"
      ]
     },
     "execution_count": 283,
     "metadata": {},
     "output_type": "execute_result"
    }
   ],
   "source": [
    "# fancy index\n",
    "# one_hot[[]]\n",
    "one_hot[[0,1,2,3],[0,1,2,3]] = 1\n",
    "one_hot"
   ]
  },
  {
   "cell_type": "code",
   "execution_count": 284,
   "id": "9c07e284-71dc-4f53-9759-dc5b99409266",
   "metadata": {
    "tags": []
   },
   "outputs": [
    {
     "data": {
      "text/plain": [
       "array([0, 1, 2, 3])"
      ]
     },
     "execution_count": 284,
     "metadata": {},
     "output_type": "execute_result"
    }
   ],
   "source": [
    "# 4개 요소로 구성된 ndarray 생성\n",
    "enc_val = np.arange(encoding_nums.size)\n",
    "enc_val"
   ]
  },
  {
   "cell_type": "code",
   "execution_count": 293,
   "id": "4ecfabc4-36fe-4af0-8615-a4a1880d5736",
   "metadata": {
    "tags": []
   },
   "outputs": [
    {
     "data": {
      "text/plain": [
       "array([2, 3, 1, 0])"
      ]
     },
     "execution_count": 293,
     "metadata": {},
     "output_type": "execute_result"
    }
   ],
   "source": [
    "# label -> 숫자로 변형한것\n",
    "encoding_nums"
   ]
  },
  {
   "cell_type": "code",
   "execution_count": 294,
   "id": "64c12e49-3bc0-4133-bd7f-42081c695867",
   "metadata": {
    "tags": []
   },
   "outputs": [
    {
     "data": {
      "text/plain": [
       "array([2, 3, 1, 0])"
      ]
     },
     "execution_count": 294,
     "metadata": {},
     "output_type": "execute_result"
    }
   ],
   "source": [
    "enc_val = np.array(label_encoding(e_lists))\n",
    "enc_val"
   ]
  },
  {
   "cell_type": "code",
   "execution_count": 295,
   "id": "c1cf044b-bf87-49e9-bf81-0bc1e57a7795",
   "metadata": {
    "tags": []
   },
   "outputs": [
    {
     "data": {
      "text/plain": [
       "array([[0., 0., 0., 0.],\n",
       "       [0., 0., 0., 0.],\n",
       "       [0., 0., 0., 0.],\n",
       "       [0., 0., 0., 0.]])"
      ]
     },
     "execution_count": 295,
     "metadata": {},
     "output_type": "execute_result"
    }
   ],
   "source": [
    "one_hot = np.zeros((enc_val.size, enc_val.size))\n",
    "one_hot"
   ]
  },
  {
   "cell_type": "code",
   "execution_count": 296,
   "id": "a1a89f19-ae5c-43ce-a237-faa5e0d761b3",
   "metadata": {
    "tags": []
   },
   "outputs": [],
   "source": [
    "one_hot[[np.arange(enc_val.size)], [enc_val]] = 1"
   ]
  },
  {
   "cell_type": "code",
   "execution_count": 297,
   "id": "e6f47ad1-b4f4-4c35-bfd8-be893fe646f8",
   "metadata": {
    "tags": []
   },
   "outputs": [
    {
     "data": {
      "text/plain": [
       "array([[0, 0, 1, 0],\n",
       "       [0, 0, 0, 1],\n",
       "       [0, 1, 0, 0],\n",
       "       [1, 0, 0, 0]], dtype=int8)"
      ]
     },
     "execution_count": 297,
     "metadata": {},
     "output_type": "execute_result"
    }
   ],
   "source": [
    "one_hot.astype(\"int8\")"
   ]
  },
  {
   "cell_type": "code",
   "execution_count": null,
   "id": "bdcb1b46-6c7b-45df-8555-df29e0aa632c",
   "metadata": {},
   "outputs": [],
   "source": []
  },
  {
   "cell_type": "code",
   "execution_count": null,
   "id": "58611929-497f-40e3-b3ec-944511780aa6",
   "metadata": {},
   "outputs": [],
   "source": []
  }
 ],
 "metadata": {
  "kernelspec": {
   "display_name": "da_venv",
   "language": "python",
   "name": "da_venv"
  },
  "language_info": {
   "codemirror_mode": {
    "name": "ipython",
    "version": 3
   },
   "file_extension": ".py",
   "mimetype": "text/x-python",
   "name": "python",
   "nbconvert_exporter": "python",
   "pygments_lexer": "ipython3",
   "version": "3.9.13"
  }
 },
 "nbformat": 4,
 "nbformat_minor": 5
}
