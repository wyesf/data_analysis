{
 "cells": [
  {
   "cell_type": "markdown",
   "id": "d07340f1-c6e6-41c4-a631-c47bc5226264",
   "metadata": {},
   "source": [
    "# numpy 기본 실습"
   ]
  },
  {
   "cell_type": "code",
   "execution_count": 2,
   "id": "efd97d8b-84f1-4a63-9395-0d9a07647a72",
   "metadata": {
    "tags": []
   },
   "outputs": [],
   "source": [
    "import numpy"
   ]
  },
  {
   "cell_type": "code",
   "execution_count": 4,
   "id": "f07ca96c-c5fa-4261-bac7-4b9ebf8e604b",
   "metadata": {
    "tags": []
   },
   "outputs": [],
   "source": [
    "import numpy as np"
   ]
  },
  {
   "cell_type": "code",
   "execution_count": 6,
   "id": "003d383f-e3b7-4307-8ea4-943dca86ec4b",
   "metadata": {
    "tags": []
   },
   "outputs": [
    {
     "data": {
      "text/plain": [
       "<module 'numpy' from 'C:\\\\playdata_lab\\\\data_analysis\\\\da_venv\\\\lib\\\\site-packages\\\\numpy\\\\__init__.py'>"
      ]
     },
     "execution_count": 6,
     "metadata": {},
     "output_type": "execute_result"
    }
   ],
   "source": [
    "np"
   ]
  },
  {
   "cell_type": "code",
   "execution_count": null,
   "id": "898eb508-71ce-41d8-8106-b50a53589483",
   "metadata": {},
   "outputs": [],
   "source": []
  },
  {
   "cell_type": "markdown",
   "id": "9a9f18ef-aa64-4ebb-a093-e73c05bd0606",
   "metadata": {},
   "source": [
    "## ndarray 생성 및 데이터 타입 확인"
   ]
  },
  {
   "cell_type": "code",
   "execution_count": 9,
   "id": "3d63f3e4-23ec-48f3-aa4e-e2c38717b8f1",
   "metadata": {
    "tags": []
   },
   "outputs": [
    {
     "data": {
      "text/plain": [
       "list"
      ]
     },
     "execution_count": 9,
     "metadata": {},
     "output_type": "execute_result"
    }
   ],
   "source": [
    "a = [1, 2, 3, 4, 5]\n",
    "type(a)"
   ]
  },
  {
   "cell_type": "code",
   "execution_count": 11,
   "id": "6ab45d98-f19a-494b-87a0-fdc4ab74bc0c",
   "metadata": {
    "tags": []
   },
   "outputs": [
    {
     "data": {
      "text/plain": [
       "[1, 2, 3, 4, 5]"
      ]
     },
     "execution_count": 11,
     "metadata": {},
     "output_type": "execute_result"
    }
   ],
   "source": [
    "a"
   ]
  },
  {
   "cell_type": "code",
   "execution_count": 14,
   "id": "58b8a622-5b65-460a-a0bd-6f9a95179718",
   "metadata": {
    "tags": []
   },
   "outputs": [
    {
     "data": {
      "text/plain": [
       "array([1, 2, 3, 4, 5])"
      ]
     },
     "execution_count": 14,
     "metadata": {},
     "output_type": "execute_result"
    }
   ],
   "source": [
    "arr = np.array(a)\n",
    "arr"
   ]
  },
  {
   "cell_type": "code",
   "execution_count": 20,
   "id": "7d690d1b-3118-453f-9c2c-61d9c94b6a87",
   "metadata": {
    "tags": []
   },
   "outputs": [
    {
     "data": {
      "text/plain": [
       "numpy.ndarray"
      ]
     },
     "execution_count": 20,
     "metadata": {},
     "output_type": "execute_result"
    }
   ],
   "source": [
    "type(arr)"
   ]
  },
  {
   "cell_type": "code",
   "execution_count": 23,
   "id": "6a49b377-e95e-4bd6-8d9e-050d1a0aefec",
   "metadata": {
    "tags": []
   },
   "outputs": [
    {
     "data": {
      "text/plain": [
       "dtype('int32')"
      ]
     },
     "execution_count": 23,
     "metadata": {},
     "output_type": "execute_result"
    }
   ],
   "source": [
    "arr.dtype\n",
    "# 2진수 32비트로 표현한다는 뜻\n",
    "# 객체 안에 값을 넣어 각각 요소의 타입이 뭔지 확인"
   ]
  },
  {
   "cell_type": "code",
   "execution_count": 18,
   "id": "dd6fc7af-145c-407d-b3a1-2d25314f684d",
   "metadata": {
    "tags": []
   },
   "outputs": [
    {
     "data": {
      "text/plain": [
       "array([1., 2., 3., 4., 5.])"
      ]
     },
     "execution_count": 18,
     "metadata": {},
     "output_type": "execute_result"
    }
   ],
   "source": [
    "arr2 = np.array(a, dtype=float)\n",
    "arr2"
   ]
  },
  {
   "cell_type": "code",
   "execution_count": 25,
   "id": "6042f8e9-8921-4850-88e6-b7cea3a11337",
   "metadata": {
    "tags": []
   },
   "outputs": [
    {
     "data": {
      "text/plain": [
       "dtype('float64')"
      ]
     },
     "execution_count": 25,
     "metadata": {},
     "output_type": "execute_result"
    }
   ],
   "source": [
    "arr2.dtype\n",
    "# numpy array의 요소의 데이터 type 확인\n",
    "# float는 2진수 64비트로 표현"
   ]
  },
  {
   "cell_type": "code",
   "execution_count": null,
   "id": "9909a878-a480-43fa-b263-2928d6525dc4",
   "metadata": {},
   "outputs": [],
   "source": []
  },
  {
   "cell_type": "code",
   "execution_count": 27,
   "id": "782a4603-98fb-47e2-8667-a40173557ec4",
   "metadata": {
    "tags": []
   },
   "outputs": [
    {
     "data": {
      "text/plain": [
       "[[1, 2, 3, 4], [5, 6, 7, 8]]"
      ]
     },
     "execution_count": 27,
     "metadata": {},
     "output_type": "execute_result"
    }
   ],
   "source": [
    "# 2차원 리스트\n",
    "mylist2 = [[1, 2, 3, 4], [5, 6, 7, 8]]\n",
    "mylist2"
   ]
  },
  {
   "cell_type": "code",
   "execution_count": 31,
   "id": "c5a9a60b-b60a-48fd-a12b-76f532fd2bc0",
   "metadata": {
    "tags": []
   },
   "outputs": [
    {
     "data": {
      "text/plain": [
       "array([[1, 2, 3, 4],\n",
       "       [5, 6, 7, 8]])"
      ]
     },
     "execution_count": 31,
     "metadata": {},
     "output_type": "execute_result"
    }
   ],
   "source": [
    "arr3 = np.array(mylist2)\n",
    "arr3"
   ]
  },
  {
   "cell_type": "markdown",
   "id": "c3b20bff-8c87-442e-aa24-324a671f167d",
   "metadata": {
    "tags": []
   },
   "source": [
    "## ndarray의 shape(형태) 확인"
   ]
  },
  {
   "cell_type": "code",
   "execution_count": 59,
   "id": "f2434704-7187-4c2a-8723-1a65d97947ba",
   "metadata": {
    "tags": []
   },
   "outputs": [
    {
     "data": {
      "text/plain": [
       "(2, 4)"
      ]
     },
     "execution_count": 59,
     "metadata": {},
     "output_type": "execute_result"
    }
   ],
   "source": [
    "arr3.shape\n",
    "# 2행 4열"
   ]
  },
  {
   "cell_type": "code",
   "execution_count": null,
   "id": "b7695285-ad74-4e4e-914b-76c040217764",
   "metadata": {},
   "outputs": [],
   "source": []
  },
  {
   "cell_type": "markdown",
   "id": "dbe9b745-bbad-4e84-95ac-1f8c508f02c4",
   "metadata": {},
   "source": [
    "## numpy array의 data 타입 확인"
   ]
  },
  {
   "cell_type": "code",
   "execution_count": 36,
   "id": "d616bd2a-5ed3-4768-96c0-12114d706b30",
   "metadata": {
    "tags": []
   },
   "outputs": [
    {
     "data": {
      "text/plain": [
       "[1, 3.14, 'joy', '1234']"
      ]
     },
     "execution_count": 36,
     "metadata": {},
     "output_type": "execute_result"
    }
   ],
   "source": [
    "mylist = [1, 3.14, 'joy', '1234']\n",
    "mylist"
   ]
  },
  {
   "cell_type": "code",
   "execution_count": 38,
   "id": "2d2a0fc9-7192-4f23-b30c-d7dae42fbf3d",
   "metadata": {
    "tags": []
   },
   "outputs": [
    {
     "data": {
      "text/plain": [
       "3.14"
      ]
     },
     "execution_count": 38,
     "metadata": {},
     "output_type": "execute_result"
    }
   ],
   "source": [
    "mylist[1]"
   ]
  },
  {
   "cell_type": "code",
   "execution_count": 40,
   "id": "c2130fb0-5545-45af-a2f7-6fb0eb6bd000",
   "metadata": {
    "tags": []
   },
   "outputs": [
    {
     "data": {
      "text/plain": [
       "array(['1', '3.14', 'joy', '1234'], dtype='<U32')"
      ]
     },
     "execution_count": 40,
     "metadata": {},
     "output_type": "execute_result"
    }
   ],
   "source": [
    "arr = np.array(mylist)\n",
    "arr"
   ]
  },
  {
   "cell_type": "code",
   "execution_count": 42,
   "id": "10a777a4-cb61-4980-ab76-29d655da3105",
   "metadata": {
    "tags": []
   },
   "outputs": [
    {
     "data": {
      "text/plain": [
       "dtype('<U32')"
      ]
     },
     "execution_count": 42,
     "metadata": {},
     "output_type": "execute_result"
    }
   ],
   "source": [
    "arr.dtype"
   ]
  },
  {
   "cell_type": "code",
   "execution_count": 45,
   "id": "557540fe-8f7e-4352-99f8-0843675e15ba",
   "metadata": {
    "tags": []
   },
   "outputs": [
    {
     "data": {
      "text/plain": [
       "array([1. , 1.2, 2. , 2.3])"
      ]
     },
     "execution_count": 45,
     "metadata": {},
     "output_type": "execute_result"
    }
   ],
   "source": [
    "mylist1 = [1, 1.2, 2, 2.3]\n",
    "arr1 = np.array(mylist1)\n",
    "arr1"
   ]
  },
  {
   "cell_type": "code",
   "execution_count": 47,
   "id": "9de69dae-13cf-47ff-b7f0-ad5cba183b9c",
   "metadata": {
    "tags": []
   },
   "outputs": [
    {
     "data": {
      "text/plain": [
       "dtype('float64')"
      ]
     },
     "execution_count": 47,
     "metadata": {},
     "output_type": "execute_result"
    }
   ],
   "source": [
    "arr1.dtype"
   ]
  },
  {
   "cell_type": "code",
   "execution_count": 49,
   "id": "a2a41ddc-9cb6-4c74-9631-c2ac4cbd3039",
   "metadata": {
    "tags": []
   },
   "outputs": [],
   "source": [
    "arr2 = np.array(mylist1, dtype=\"float32\")"
   ]
  },
  {
   "cell_type": "code",
   "execution_count": 51,
   "id": "db37979e-ca78-4d2e-b6c9-8f5ea35b169c",
   "metadata": {
    "tags": []
   },
   "outputs": [
    {
     "data": {
      "text/plain": [
       "dtype('float32')"
      ]
     },
     "execution_count": 51,
     "metadata": {},
     "output_type": "execute_result"
    }
   ],
   "source": [
    "arr2.dtype"
   ]
  },
  {
   "cell_type": "code",
   "execution_count": null,
   "id": "742e2ce8-381f-4ff1-b9e0-b4dfce5948ef",
   "metadata": {},
   "outputs": [],
   "source": []
  },
  {
   "cell_type": "code",
   "execution_count": 55,
   "id": "88bcaf36-6d65-40c6-840d-4ca117b7c2f6",
   "metadata": {
    "tags": []
   },
   "outputs": [
    {
     "data": {
      "text/plain": [
       "array([   1,    3, 1234])"
      ]
     },
     "execution_count": 55,
     "metadata": {},
     "output_type": "execute_result"
    }
   ],
   "source": [
    "arr = np.array([1, 3.14, '1234'], dtype=int)\n",
    "arr"
   ]
  },
  {
   "cell_type": "code",
   "execution_count": 60,
   "id": "010d0ecf-82ce-448d-9f5c-676219487671",
   "metadata": {
    "tags": []
   },
   "outputs": [
    {
     "ename": "ValueError",
     "evalue": "invalid literal for int() with base 10: 'smile'",
     "output_type": "error",
     "traceback": [
      "\u001b[1;31m---------------------------------------------------------------------------\u001b[0m",
      "\u001b[1;31mValueError\u001b[0m                                Traceback (most recent call last)",
      "Cell \u001b[1;32mIn[60], line 2\u001b[0m\n\u001b[0;32m      1\u001b[0m \u001b[38;5;66;03m# dtype 지정시 mylist list에 문자 자료형이 아닌 진짜 문자가 포함되어 있으면 오류 발생\u001b[39;00m\n\u001b[1;32m----> 2\u001b[0m arr \u001b[38;5;241m=\u001b[39m \u001b[43mnp\u001b[49m\u001b[38;5;241;43m.\u001b[39;49m\u001b[43marray\u001b[49m\u001b[43m(\u001b[49m\u001b[43m[\u001b[49m\u001b[38;5;241;43m1\u001b[39;49m\u001b[43m,\u001b[49m\u001b[43m \u001b[49m\u001b[38;5;241;43m3.14\u001b[39;49m\u001b[43m,\u001b[49m\u001b[43m \u001b[49m\u001b[38;5;124;43m'\u001b[39;49m\u001b[38;5;124;43m1234\u001b[39;49m\u001b[38;5;124;43m'\u001b[39;49m\u001b[43m,\u001b[49m\u001b[43m \u001b[49m\u001b[38;5;124;43m'\u001b[39;49m\u001b[38;5;124;43msmile\u001b[39;49m\u001b[38;5;124;43m'\u001b[39;49m\u001b[43m]\u001b[49m\u001b[43m,\u001b[49m\u001b[43m \u001b[49m\u001b[43mdtype\u001b[49m\u001b[38;5;241;43m=\u001b[39;49m\u001b[38;5;28;43mint\u001b[39;49m\u001b[43m)\u001b[49m\n",
      "\u001b[1;31mValueError\u001b[0m: invalid literal for int() with base 10: 'smile'"
     ]
    }
   ],
   "source": [
    "# dtype 지정시 mylist list에 문자 자료형이 아닌 진짜 문자가 포함되어 있으면 오류 발생\n",
    "arr = np.array([1, 3.14, '1234', 'smile'], dtype=int)"
   ]
  },
  {
   "cell_type": "code",
   "execution_count": null,
   "id": "8aa872a4-675e-43a3-a1a3-a2a72ebe3fdc",
   "metadata": {},
   "outputs": [],
   "source": []
  },
  {
   "cell_type": "markdown",
   "id": "8fa7365a-c612-47c3-91dc-1325f5f87d58",
   "metadata": {},
   "source": [
    "#### 4. 슬라이싱\n",
    "배열의 부분을 추출하는 기능"
   ]
  },
  {
   "cell_type": "code",
   "execution_count": 62,
   "id": "831f905d-372d-4d8b-abba-211d34f1ae0d",
   "metadata": {
    "tags": []
   },
   "outputs": [
    {
     "data": {
      "text/plain": [
       "array([10, 11, 12, 13, 14, 15, 16, 17, 18, 19])"
      ]
     },
     "execution_count": 62,
     "metadata": {},
     "output_type": "execute_result"
    }
   ],
   "source": [
    "arr = np.array([10, 11, 12, 13, 14, 15, 16, 17, 18, 19])\n",
    "arr"
   ]
  },
  {
   "cell_type": "code",
   "execution_count": 64,
   "id": "d31e3ccf-8487-4a9b-a840-f11b7fdef8b9",
   "metadata": {
    "tags": []
   },
   "outputs": [
    {
     "data": {
      "text/plain": [
       "(10,)"
      ]
     },
     "execution_count": 64,
     "metadata": {},
     "output_type": "execute_result"
    }
   ],
   "source": [
    "arr.shape"
   ]
  },
  {
   "cell_type": "code",
   "execution_count": null,
   "id": "bd45dd9a-6f5c-4a93-8100-473d7d60e57c",
   "metadata": {},
   "outputs": [],
   "source": []
  },
  {
   "cell_type": "markdown",
   "id": "76673ff6-c660-4820-8517-6448e1224d66",
   "metadata": {
    "tags": []
   },
   "source": [
    "indexing"
   ]
  },
  {
   "cell_type": "code",
   "execution_count": 67,
   "id": "465c35dd-9fcd-41e6-a060-01844f8cb338",
   "metadata": {
    "tags": []
   },
   "outputs": [],
   "source": [
    "# 1차원 array"
   ]
  },
  {
   "cell_type": "code",
   "execution_count": 69,
   "id": "d18024ce-7741-42b3-8ad8-95272d8c605c",
   "metadata": {
    "tags": []
   },
   "outputs": [
    {
     "data": {
      "text/plain": [
       "10"
      ]
     },
     "execution_count": 69,
     "metadata": {},
     "output_type": "execute_result"
    }
   ],
   "source": [
    "arr[0]"
   ]
  },
  {
   "cell_type": "code",
   "execution_count": 71,
   "id": "47bbce45-3e93-4bae-b9af-edc8924a592d",
   "metadata": {
    "tags": []
   },
   "outputs": [
    {
     "data": {
      "text/plain": [
       "14"
      ]
     },
     "execution_count": 71,
     "metadata": {},
     "output_type": "execute_result"
    }
   ],
   "source": [
    "arr[4]"
   ]
  },
  {
   "cell_type": "code",
   "execution_count": 73,
   "id": "4c084804-96a8-44dd-a56d-2f1cc2820151",
   "metadata": {
    "tags": []
   },
   "outputs": [
    {
     "ename": "IndexError",
     "evalue": "index 10 is out of bounds for axis 0 with size 10",
     "output_type": "error",
     "traceback": [
      "\u001b[1;31m---------------------------------------------------------------------------\u001b[0m",
      "\u001b[1;31mIndexError\u001b[0m                                Traceback (most recent call last)",
      "Cell \u001b[1;32mIn[73], line 1\u001b[0m\n\u001b[1;32m----> 1\u001b[0m \u001b[43marr\u001b[49m\u001b[43m[\u001b[49m\u001b[38;5;241;43m10\u001b[39;49m\u001b[43m]\u001b[49m\n",
      "\u001b[1;31mIndexError\u001b[0m: index 10 is out of bounds for axis 0 with size 10"
     ]
    }
   ],
   "source": [
    "arr[10]"
   ]
  },
  {
   "cell_type": "code",
   "execution_count": 75,
   "id": "e711ad96-a5fc-4359-974c-96eafd850ceb",
   "metadata": {
    "tags": []
   },
   "outputs": [
    {
     "data": {
      "text/plain": [
       "(10, 15)"
      ]
     },
     "execution_count": 75,
     "metadata": {},
     "output_type": "execute_result"
    }
   ],
   "source": [
    "arr[0], arr[5]"
   ]
  },
  {
   "cell_type": "code",
   "execution_count": 77,
   "id": "b661a212-045e-49a9-857d-efd1c09abd62",
   "metadata": {
    "tags": []
   },
   "outputs": [
    {
     "data": {
      "text/plain": [
       "(19, 16)"
      ]
     },
     "execution_count": 77,
     "metadata": {},
     "output_type": "execute_result"
    }
   ],
   "source": [
    "arr[-1], arr[6]"
   ]
  },
  {
   "cell_type": "code",
   "execution_count": 79,
   "id": "5801e57e-3188-4a40-b995-1d1a5aa08a0d",
   "metadata": {
    "tags": []
   },
   "outputs": [
    {
     "data": {
      "text/plain": [
       "(10, 14)"
      ]
     },
     "execution_count": 79,
     "metadata": {},
     "output_type": "execute_result"
    }
   ],
   "source": [
    "arr[-10], arr[-6]"
   ]
  },
  {
   "cell_type": "code",
   "execution_count": 81,
   "id": "94c25e63-f79c-4e26-abb0-23f64a531cf4",
   "metadata": {
    "tags": []
   },
   "outputs": [
    {
     "ename": "IndexError",
     "evalue": "index -11 is out of bounds for axis 0 with size 10",
     "output_type": "error",
     "traceback": [
      "\u001b[1;31m---------------------------------------------------------------------------\u001b[0m",
      "\u001b[1;31mIndexError\u001b[0m                                Traceback (most recent call last)",
      "Cell \u001b[1;32mIn[81], line 1\u001b[0m\n\u001b[1;32m----> 1\u001b[0m \u001b[43marr\u001b[49m\u001b[43m[\u001b[49m\u001b[38;5;241;43m-\u001b[39;49m\u001b[38;5;241;43m11\u001b[39;49m\u001b[43m]\u001b[49m\n",
      "\u001b[1;31mIndexError\u001b[0m: index -11 is out of bounds for axis 0 with size 10"
     ]
    }
   ],
   "source": [
    "arr[-11]"
   ]
  },
  {
   "cell_type": "raw",
   "id": "57f4004f-75cf-41c4-88f8-257afa378001",
   "metadata": {},
   "source": []
  },
  {
   "cell_type": "code",
   "execution_count": 82,
   "id": "44e36a59-19b6-4e36-b9bc-44e2f2e0584b",
   "metadata": {
    "tags": []
   },
   "outputs": [],
   "source": [
    "# 2차원 array"
   ]
  },
  {
   "cell_type": "code",
   "execution_count": 98,
   "id": "efaf11b3-fc99-4a57-832b-c3bdf24c3b45",
   "metadata": {
    "tags": []
   },
   "outputs": [
    {
     "data": {
      "text/plain": [
       "array([[ 1,  2,  3,  4],\n",
       "       [ 5,  6,  7,  8],\n",
       "       [ 9, 10, 11, 12]])"
      ]
     },
     "execution_count": 98,
     "metadata": {},
     "output_type": "execute_result"
    }
   ],
   "source": [
    "arr2d = np.array([ [1,2,3,4],\n",
    "                   [5,6,7,8],\n",
    "                   [9,10,11,12]\n",
    "                ])\n",
    "arr2d"
   ]
  },
  {
   "cell_type": "code",
   "execution_count": 99,
   "id": "e5d9662e-4181-473d-9574-8671248fa4e7",
   "metadata": {
    "tags": []
   },
   "outputs": [
    {
     "data": {
      "text/plain": [
       "(3, 4)"
      ]
     },
     "execution_count": 99,
     "metadata": {},
     "output_type": "execute_result"
    }
   ],
   "source": [
    "arr2d.shape"
   ]
  },
  {
   "cell_type": "code",
   "execution_count": 95,
   "id": "7dd687fc-d079-4cb3-a9d4-fec198e64070",
   "metadata": {
    "tags": []
   },
   "outputs": [],
   "source": [
    "# 2차원 ndarray 요소 확인\n",
    "# arr2d[행 인덱스, 열 인덱스]"
   ]
  },
  {
   "cell_type": "code",
   "execution_count": 101,
   "id": "7b177254-c021-4d12-a3ed-43f85ca63750",
   "metadata": {
    "tags": []
   },
   "outputs": [
    {
     "data": {
      "text/plain": [
       "array([ 9, 10, 11, 12])"
      ]
     },
     "execution_count": 101,
     "metadata": {},
     "output_type": "execute_result"
    }
   ],
   "source": [
    "# 3행 전체\n",
    "arr2d[2]"
   ]
  },
  {
   "cell_type": "code",
   "execution_count": 103,
   "id": "c2ade1bd-e762-44c9-b60a-7e9c5becef13",
   "metadata": {
    "tags": []
   },
   "outputs": [
    {
     "data": {
      "text/plain": [
       "3"
      ]
     },
     "execution_count": 103,
     "metadata": {},
     "output_type": "execute_result"
    }
   ],
   "source": [
    "arr2d[0,2]"
   ]
  },
  {
   "cell_type": "code",
   "execution_count": 105,
   "id": "b69cb58c-6083-49f3-a3ab-c045466e7f25",
   "metadata": {
    "tags": []
   },
   "outputs": [
    {
     "data": {
      "text/plain": [
       "(12, 3)"
      ]
     },
     "execution_count": 105,
     "metadata": {},
     "output_type": "execute_result"
    }
   ],
   "source": [
    "arr2d[2,3], arr2d[0,2]"
   ]
  },
  {
   "cell_type": "code",
   "execution_count": 107,
   "id": "d6953308-39ca-4702-9726-7776661c7647",
   "metadata": {
    "tags": []
   },
   "outputs": [
    {
     "data": {
      "text/plain": [
       "array([[ 1,  2,  3,  4],\n",
       "       [ 5,  6,  7,  8],\n",
       "       [ 9, 10, 11, 13]])"
      ]
     },
     "execution_count": 107,
     "metadata": {},
     "output_type": "execute_result"
    }
   ],
   "source": [
    "# 특정 위치의 값 변경\n",
    "arr2d[2,3] = 13\n",
    "arr2d"
   ]
  },
  {
   "cell_type": "code",
   "execution_count": 110,
   "id": "ac9b3f22-e917-4b8a-88d8-5c7685ef695c",
   "metadata": {
    "tags": []
   },
   "outputs": [
    {
     "data": {
      "text/plain": [
       "array([[[ 1,  2],\n",
       "        [ 3,  4]],\n",
       "\n",
       "       [[ 5,  6],\n",
       "        [ 7,  8]],\n",
       "\n",
       "       [[ 9, 10],\n",
       "        [11, 12]]])"
      ]
     },
     "execution_count": 110,
     "metadata": {},
     "output_type": "execute_result"
    }
   ],
   "source": [
    "# 3차원 array\n",
    "arr3d = np.array([ [[1,2],[3,4]],\n",
    "                   [[5,6],[7,8]],\n",
    "                   [[9,10],[11,12]]\n",
    "                ])\n",
    "arr3d"
   ]
  },
  {
   "cell_type": "code",
   "execution_count": 111,
   "id": "7e5b93bf-15c6-497d-83b1-f9ed48904d5f",
   "metadata": {
    "tags": []
   },
   "outputs": [
    {
     "data": {
      "text/plain": [
       "(3, 2, 2)"
      ]
     },
     "execution_count": 111,
     "metadata": {},
     "output_type": "execute_result"
    }
   ],
   "source": [
    "arr3d.shape"
   ]
  },
  {
   "cell_type": "code",
   "execution_count": null,
   "id": "c678201c-ea5c-4e10-8290-c8b1557092d0",
   "metadata": {},
   "outputs": [],
   "source": []
  },
  {
   "cell_type": "markdown",
   "id": "5ac6f8fd-3399-43fa-a76f-7e932aa1f573",
   "metadata": {},
   "source": [
    "### 범위 색인\n",
    "1차원\n",
    "- arr[start:stop:step]\n",
    "- arr[::-1] # step이 음수인 경우 거꾸로 출력"
   ]
  },
  {
   "cell_type": "code",
   "execution_count": 114,
   "id": "883a068b-ec03-493b-8452-780a4c8438fe",
   "metadata": {
    "tags": []
   },
   "outputs": [
    {
     "data": {
      "text/plain": [
       "array([10, 11, 12, 13, 14, 15, 16, 17, 18, 19])"
      ]
     },
     "execution_count": 114,
     "metadata": {},
     "output_type": "execute_result"
    }
   ],
   "source": [
    "arr = np.arange(10,20)\n",
    "arr"
   ]
  },
  {
   "cell_type": "code",
   "execution_count": 116,
   "id": "6aa9c1fb-4d9c-4a3c-ba25-396b8a0e5e44",
   "metadata": {
    "tags": []
   },
   "outputs": [
    {
     "data": {
      "text/plain": [
       "array([19, 18, 17, 16, 15, 14, 13, 12, 11, 10])"
      ]
     },
     "execution_count": 116,
     "metadata": {},
     "output_type": "execute_result"
    }
   ],
   "source": [
    "# 정렬이 아닌 순서를 거꾸로 하는 것\n",
    "arr[::-1]"
   ]
  },
  {
   "cell_type": "code",
   "execution_count": 118,
   "id": "c2aae705-1b54-4b85-ace0-2e6932926679",
   "metadata": {
    "tags": []
   },
   "outputs": [
    {
     "data": {
      "text/plain": [
       "array([11, 12, 13, 14, 15, 16, 17, 18, 19])"
      ]
     },
     "execution_count": 118,
     "metadata": {},
     "output_type": "execute_result"
    }
   ],
   "source": [
    "# index 1 이상 끝까지\n",
    "arr[1:]"
   ]
  },
  {
   "cell_type": "code",
   "execution_count": 120,
   "id": "bdaea653-7c44-4a10-8821-4d3537258b18",
   "metadata": {
    "tags": []
   },
   "outputs": [
    {
     "data": {
      "text/plain": [
       "array([10, 11, 12, 13, 14])"
      ]
     },
     "execution_count": 120,
     "metadata": {},
     "output_type": "execute_result"
    }
   ],
   "source": [
    "# 처음~ (5-1)까지 (5에서 stop)\n",
    "arr[:5]"
   ]
  },
  {
   "cell_type": "code",
   "execution_count": 122,
   "id": "93578477-858c-4108-8ef7-6a8cf9a7fdcc",
   "metadata": {
    "tags": []
   },
   "outputs": [
    {
     "data": {
      "text/plain": [
       "array([11, 12, 13, 14, 15])"
      ]
     },
     "execution_count": 122,
     "metadata": {},
     "output_type": "execute_result"
    }
   ],
   "source": [
    "# index 1~ (5-1)까지 (5에서 stop)\n",
    "arr[1:6]"
   ]
  },
  {
   "cell_type": "code",
   "execution_count": 124,
   "id": "61aef83f-1c95-4911-9542-3f9be866a5fa",
   "metadata": {
    "tags": []
   },
   "outputs": [
    {
     "data": {
      "text/plain": [
       "array([10, 11, 12, 13, 14, 15, 16, 17, 18])"
      ]
     },
     "execution_count": 124,
     "metadata": {},
     "output_type": "execute_result"
    }
   ],
   "source": [
    "# 처음~ (마지막-1)까지 (마지막에서 stop)\n",
    "arr[:-1]"
   ]
  },
  {
   "cell_type": "code",
   "execution_count": 127,
   "id": "73e6b3eb-062b-42d4-a7a5-550f17f480c9",
   "metadata": {
    "tags": []
   },
   "outputs": [
    {
     "data": {
      "text/plain": [
       "array([10, 11, 12, 13, 14])"
      ]
     },
     "execution_count": 127,
     "metadata": {},
     "output_type": "execute_result"
    }
   ],
   "source": [
    "# arr[start:stop:step]\n",
    "arr[0:5:2]\n",
    "arr[0:5:1]"
   ]
  },
  {
   "cell_type": "code",
   "execution_count": 135,
   "id": "7cdd6d7e-59f3-46b8-8c5d-477f6b3e0193",
   "metadata": {
    "tags": []
   },
   "outputs": [
    {
     "data": {
      "text/plain": [
       "(array([10, 12, 14]), array([10, 11]))"
      ]
     },
     "execution_count": 135,
     "metadata": {},
     "output_type": "execute_result"
    }
   ],
   "source": [
    "arr[:6:2], arr[:2:1]\n",
    "# arr[:-1:2], arr[:2:1]"
   ]
  },
  {
   "cell_type": "markdown",
   "id": "8aebc51f-74be-4169-96ac-7f02428b2923",
   "metadata": {},
   "source": [
    "#### 2차원\n",
    "arr2d[행start:행stop, 열start:열stop]"
   ]
  },
  {
   "cell_type": "code",
   "execution_count": 138,
   "id": "f9b1bfa5-c511-428c-87fa-15ba5403e242",
   "metadata": {
    "tags": []
   },
   "outputs": [
    {
     "data": {
      "text/plain": [
       "array([[ 1,  2,  3,  4],\n",
       "       [ 5,  6,  7,  8],\n",
       "       [ 9, 10, 11, 12]])"
      ]
     },
     "execution_count": 138,
     "metadata": {},
     "output_type": "execute_result"
    }
   ],
   "source": [
    "arr2d = np.array([ [1, 2, 3, 4],\n",
    "                   [5, 6, 7, 8],\n",
    "                   [9, 10, 11, 12] \n",
    "                ])\n",
    "arr2d"
   ]
  },
  {
   "cell_type": "code",
   "execution_count": 140,
   "id": "52ebfaec-f0b6-4449-8799-1ee9e5b18c66",
   "metadata": {
    "tags": []
   },
   "outputs": [
    {
     "data": {
      "text/plain": [
       "array([1, 2, 3, 4])"
      ]
     },
     "execution_count": 140,
     "metadata": {},
     "output_type": "execute_result"
    }
   ],
   "source": [
    "# 0 row(행)의 값을 모두 슬라이싱하기\n",
    "arr2d[0, :]"
   ]
  },
  {
   "cell_type": "code",
   "execution_count": 142,
   "id": "f9f2071a-6d37-40cc-bcef-97189d1ef59f",
   "metadata": {
    "tags": []
   },
   "outputs": [
    {
     "data": {
      "text/plain": [
       "array([ 3,  7, 11])"
      ]
     },
     "execution_count": 142,
     "metadata": {},
     "output_type": "execute_result"
    }
   ],
   "source": [
    "# 3 column(열)을 모두 슬라이싱\n",
    "arr2d[:, 2]"
   ]
  },
  {
   "cell_type": "code",
   "execution_count": 145,
   "id": "6c900e3c-493f-4ddb-999c-5a376ddbc1d1",
   "metadata": {
    "tags": []
   },
   "outputs": [
    {
     "data": {
      "text/plain": [
       "array([[1, 2, 3, 4],\n",
       "       [5, 6, 7, 8]])"
      ]
     },
     "execution_count": 145,
     "metadata": {},
     "output_type": "execute_result"
    }
   ],
   "source": [
    "# 부분적으로 슬라이싱\n",
    "# 3행 전까지의 모든 열\n",
    "arr2d[:2, :]"
   ]
  },
  {
   "cell_type": "code",
   "execution_count": 147,
   "id": "61dd9730-d557-4caf-a403-f07f97a8a426",
   "metadata": {
    "tags": []
   },
   "outputs": [
    {
     "data": {
      "text/plain": [
       "array([[3, 4],\n",
       "       [7, 8]])"
      ]
     },
     "execution_count": 147,
     "metadata": {},
     "output_type": "execute_result"
    }
   ],
   "source": [
    "# 부분적으로 슬라이싱\n",
    "arr2d[:2, 2:]"
   ]
  },
  {
   "cell_type": "code",
   "execution_count": 150,
   "id": "62a3739f-2bc5-46f7-a466-b4ea73c6c479",
   "metadata": {
    "tags": []
   },
   "outputs": [
    {
     "data": {
      "text/plain": [
       "array([[ 6,  7,  8],\n",
       "       [10, 11, 12]])"
      ]
     },
     "execution_count": 150,
     "metadata": {},
     "output_type": "execute_result"
    }
   ],
   "source": [
    "# 문제 : 다음과 같이 슬라이싱\n",
    "# - 행 : 1~3행까지\n",
    "# - 열 : 1부터 모두\n",
    "# ?? arr2d[:2, :]\n",
    "arr2d[1:3, 1:]"
   ]
  },
  {
   "cell_type": "code",
   "execution_count": 154,
   "id": "4e4ed183-af66-4973-a30c-7698b4d205c1",
   "metadata": {
    "tags": []
   },
   "outputs": [
    {
     "data": {
      "text/plain": [
       "array([[2, 3],\n",
       "       [6, 7]])"
      ]
     },
     "execution_count": 154,
     "metadata": {},
     "output_type": "execute_result"
    }
   ],
   "source": [
    "# 문제 : \n",
    "arr2d[:2, 1:3]"
   ]
  },
  {
   "cell_type": "code",
   "execution_count": null,
   "id": "777922d6-a496-481c-9a81-f2765a26785a",
   "metadata": {},
   "outputs": [],
   "source": []
  },
  {
   "cell_type": "markdown",
   "id": "49749046-bc02-4682-b0e0-5f172022a575",
   "metadata": {},
   "source": [
    "### 4. fancy 인덱싱\n",
    "<pre>\n",
    "fancy 인덱싱은 범위가 아닌 특정 index의 값들을 추출하고 싶을 때 사용\n",
    "index list 업하여 적용하면 값을 추출할 수 있음\n",
    "arr[[index list]]\n",
    "</pre>"
   ]
  },
  {
   "cell_type": "code",
   "execution_count": 156,
   "id": "fc8c47c8-7268-4d5f-9638-ec75f81b910f",
   "metadata": {
    "tags": []
   },
   "outputs": [],
   "source": [
    "# 1차원 fancy 인덱싱"
   ]
  },
  {
   "cell_type": "code",
   "execution_count": 162,
   "id": "fe2eae6b-767e-49a5-a6bd-5c078d3c83ff",
   "metadata": {
    "tags": []
   },
   "outputs": [
    {
     "data": {
      "text/plain": [
       "array([10, 23,  2,  7, 90, 65, 32, 66, 70])"
      ]
     },
     "execution_count": 162,
     "metadata": {},
     "output_type": "execute_result"
    }
   ],
   "source": [
    "arr = np.array([10, 23, 2, 7, 90, 65, 32, 66, 70])\n",
    "arr"
   ]
  },
  {
   "cell_type": "code",
   "execution_count": 165,
   "id": "1c9ddcd0-54e8-45a1-b9e1-79ba083f9e22",
   "metadata": {
    "tags": []
   },
   "outputs": [
    {
     "data": {
      "text/plain": [
       "array([23,  2, 65])"
      ]
     },
     "execution_count": 165,
     "metadata": {},
     "output_type": "execute_result"
    }
   ],
   "source": [
    "# index를 list로 정의해서 값을 추출\n",
    "idx = [1, 2, 5]\n",
    "arr[idx]"
   ]
  },
  {
   "cell_type": "code",
   "execution_count": 168,
   "id": "d4cdb396-5228-4513-b0b3-663603e008e7",
   "metadata": {
    "tags": []
   },
   "outputs": [],
   "source": [
    "# 2차원 fancy\n",
    "# arr2d[[요소1의 행, 요소2의 행], [요소1의 열, 요소2의 열]]"
   ]
  },
  {
   "cell_type": "code",
   "execution_count": 170,
   "id": "8d1e3b86-c176-4472-9cf7-d9848aebf4ba",
   "metadata": {
    "tags": []
   },
   "outputs": [
    {
     "data": {
      "text/plain": [
       "array([[1, 2, 3, 4],\n",
       "       [5, 6, 7, 8]])"
      ]
     },
     "execution_count": 170,
     "metadata": {},
     "output_type": "execute_result"
    }
   ],
   "source": [
    "# arr2d[[행index목록],[열index목록]]\n",
    "arr2d[[0, 1], :]"
   ]
  },
  {
   "cell_type": "code",
   "execution_count": 172,
   "id": "e41bde4b-782b-403c-b1fd-fb371f3c4669",
   "metadata": {
    "tags": []
   },
   "outputs": [
    {
     "data": {
      "text/plain": [
       "array([[ 2,  4],\n",
       "       [ 6,  8],\n",
       "       [10, 12]])"
      ]
     },
     "execution_count": 172,
     "metadata": {},
     "output_type": "execute_result"
    }
   ],
   "source": [
    "arr2d[:, [1, 3]]"
   ]
  },
  {
   "cell_type": "code",
   "execution_count": 174,
   "id": "15275876-e8f4-45d7-8dff-c4239db3cca1",
   "metadata": {
    "tags": []
   },
   "outputs": [
    {
     "data": {
      "text/plain": [
       "array([[ 1,  2,  3,  4],\n",
       "       [ 5,  6,  7,  8],\n",
       "       [ 9, 10, 11, 12]])"
      ]
     },
     "execution_count": 174,
     "metadata": {},
     "output_type": "execute_result"
    }
   ],
   "source": [
    "arr2d = np.array([ [1, 2, 3, 4], \n",
    "                   [5, 6, 7, 8], \n",
    "                   [9, 10, 11, 12]\n",
    "                ])\n",
    "arr2d"
   ]
  },
  {
   "cell_type": "code",
   "execution_count": 176,
   "id": "31852ddf-ff28-486b-b053-5902bf9332b4",
   "metadata": {
    "tags": []
   },
   "outputs": [
    {
     "data": {
      "text/plain": [
       "array([ 6, 11,  2])"
      ]
     },
     "execution_count": 176,
     "metadata": {},
     "output_type": "execute_result"
    }
   ],
   "source": [
    "arr2d[[1, 2, 0], [1, 2, 1]]"
   ]
  },
  {
   "cell_type": "code",
   "execution_count": 178,
   "id": "f19e3926-f2bc-4a3a-b868-50565fa8d05c",
   "metadata": {
    "tags": []
   },
   "outputs": [
    {
     "data": {
      "text/plain": [
       "array([ 9, 12])"
      ]
     },
     "execution_count": 178,
     "metadata": {},
     "output_type": "execute_result"
    }
   ],
   "source": [
    "arr2d[[2],[0,3]]"
   ]
  },
  {
   "cell_type": "code",
   "execution_count": null,
   "id": "abad18f7-079a-47f2-b535-5bfa3b396520",
   "metadata": {},
   "outputs": [],
   "source": []
  },
  {
   "cell_type": "markdown",
   "id": "41b4c097-2a23-4c16-909f-b3dbcc8133e0",
   "metadata": {},
   "source": [
    "## Bool index(Masking)"
   ]
  },
  {
   "cell_type": "code",
   "execution_count": 191,
   "id": "e54afc2a-6003-4d92-9ce1-515e9b044a4c",
   "metadata": {
    "tags": []
   },
   "outputs": [
    {
     "data": {
      "text/plain": [
       "array([10, 20, 30, 40, 50, 60])"
      ]
     },
     "execution_count": 191,
     "metadata": {},
     "output_type": "execute_result"
    }
   ],
   "source": [
    "# np.arange(start, stop, step)\n",
    "arr = np.arange(10, 61, 10)\n",
    "arr"
   ]
  },
  {
   "cell_type": "code",
   "execution_count": 192,
   "id": "11fc0a54-dd40-48b9-a010-1a2c5b273e54",
   "metadata": {
    "tags": []
   },
   "outputs": [],
   "source": [
    "TFset = [True, False, True]"
   ]
  },
  {
   "cell_type": "code",
   "execution_count": 193,
   "id": "4dad3b2d-95e6-4f1b-92cb-e14c9af38a2d",
   "metadata": {
    "tags": []
   },
   "outputs": [
    {
     "ename": "IndexError",
     "evalue": "boolean index did not match indexed array along dimension 0; dimension is 6 but corresponding boolean dimension is 3",
     "output_type": "error",
     "traceback": [
      "\u001b[1;31m---------------------------------------------------------------------------\u001b[0m",
      "\u001b[1;31mIndexError\u001b[0m                                Traceback (most recent call last)",
      "Cell \u001b[1;32mIn[193], line 2\u001b[0m\n\u001b[0;32m      1\u001b[0m \u001b[38;5;66;03m# does it work?\u001b[39;00m\n\u001b[1;32m----> 2\u001b[0m \u001b[43marr\u001b[49m\u001b[43m[\u001b[49m\u001b[43mTFset\u001b[49m\u001b[43m]\u001b[49m\n\u001b[0;32m      3\u001b[0m \u001b[38;5;66;03m# 1차원 masking 리스트의 개수와 bool 나열 수가 동일하지 않으면 오류\u001b[39;00m\n",
      "\u001b[1;31mIndexError\u001b[0m: boolean index did not match indexed array along dimension 0; dimension is 6 but corresponding boolean dimension is 3"
     ]
    }
   ],
   "source": [
    "# does it work?\n",
    "arr[TFset]\n",
    "# 1차원 masking 리스트의 개수와 bool 나열 수가 동일하지 않으면 오류"
   ]
  },
  {
   "cell_type": "code",
   "execution_count": 194,
   "id": "09f37a3e-f494-4180-af0b-19d1d671eb98",
   "metadata": {
    "tags": []
   },
   "outputs": [
    {
     "data": {
      "text/plain": [
       "array([10, 30, 40, 60])"
      ]
     },
     "execution_count": 194,
     "metadata": {},
     "output_type": "execute_result"
    }
   ],
   "source": [
    "# boolean 값을 list로 작성하여 색인\n",
    "TFset = [True, False, True, True, False, True]\n",
    "arr[TFset]"
   ]
  },
  {
   "cell_type": "code",
   "execution_count": 196,
   "id": "178ab35b-70fb-42f9-8c2f-70cb33505de7",
   "metadata": {
    "tags": []
   },
   "outputs": [],
   "source": [
    "# 2차원 boolean index"
   ]
  },
  {
   "cell_type": "code",
   "execution_count": 198,
   "id": "4be4f05d-9878-4fb2-aad9-18149beba532",
   "metadata": {
    "tags": []
   },
   "outputs": [
    {
     "data": {
      "text/plain": [
       "array([[ 1,  2,  3,  4],\n",
       "       [ 5,  6,  7,  8],\n",
       "       [ 9, 10, 11, 12]])"
      ]
     },
     "execution_count": 198,
     "metadata": {},
     "output_type": "execute_result"
    }
   ],
   "source": [
    "arr2d = np.array([[1, 2, 3, 4], \n",
    "                  [5, 6, 7, 8], \n",
    "                  [9, 10, 11, 12]])\n",
    "arr2d"
   ]
  },
  {
   "cell_type": "code",
   "execution_count": 200,
   "id": "795ef0be-8ee2-4a44-b53d-aade4b12792e",
   "metadata": {
    "tags": []
   },
   "outputs": [
    {
     "ename": "IndexError",
     "evalue": "boolean index did not match indexed array along dimension 0; dimension is 3 but corresponding boolean dimension is 2",
     "output_type": "error",
     "traceback": [
      "\u001b[1;31m---------------------------------------------------------------------------\u001b[0m",
      "\u001b[1;31mIndexError\u001b[0m                                Traceback (most recent call last)",
      "Cell \u001b[1;32mIn[200], line 3\u001b[0m\n\u001b[0;32m      1\u001b[0m \u001b[38;5;66;03m# boolean list로 정의, 행단위로 정의\u001b[39;00m\n\u001b[0;32m      2\u001b[0m TFset \u001b[38;5;241m=\u001b[39m [\u001b[38;5;28;01mTrue\u001b[39;00m, \u001b[38;5;28;01mFalse\u001b[39;00m]\n\u001b[1;32m----> 3\u001b[0m \u001b[43marr2d\u001b[49m\u001b[43m[\u001b[49m\u001b[43mTFset\u001b[49m\u001b[43m]\u001b[49m\n",
      "\u001b[1;31mIndexError\u001b[0m: boolean index did not match indexed array along dimension 0; dimension is 3 but corresponding boolean dimension is 2"
     ]
    }
   ],
   "source": [
    "# boolean list로 정의, 행단위로 정의\n",
    "TFset = [True, False]\n",
    "arr2d[TFset]"
   ]
  },
  {
   "cell_type": "code",
   "execution_count": 202,
   "id": "4be515d8-069e-4fce-ae7f-65d6f49659f0",
   "metadata": {
    "tags": []
   },
   "outputs": [
    {
     "data": {
      "text/plain": [
       "array([[1, 2, 3, 4]])"
      ]
     },
     "execution_count": 202,
     "metadata": {},
     "output_type": "execute_result"
    }
   ],
   "source": [
    "# boolean list로 정의, 행단위로 정의\n",
    "TFset = [True, False, False]\n",
    "arr2d[TFset]"
   ]
  },
  {
   "cell_type": "markdown",
   "id": "f3d77826-77ac-40cc-934f-4ac504360c4a",
   "metadata": {},
   "source": [
    "### 조건 필터\n",
    "비교 연산자를 활용하여 필터를 생성함\n",
    "- arr2d[조건필터]"
   ]
  },
  {
   "cell_type": "code",
   "execution_count": 205,
   "id": "2b9a4ad1-8f14-402f-8182-6b237d5a062b",
   "metadata": {
    "tags": []
   },
   "outputs": [
    {
     "data": {
      "text/plain": [
       "array([[ 1,  2,  3,  4],\n",
       "       [ 5,  6,  7,  8],\n",
       "       [ 9, 10, 11, 12]])"
      ]
     },
     "execution_count": 205,
     "metadata": {},
     "output_type": "execute_result"
    }
   ],
   "source": [
    "arr2d = np.array([[1, 2, 3, 4], \n",
    "                  [5, 6, 7, 8], \n",
    "                  [9, 10, 11, 12]])\n",
    "arr2d"
   ]
  },
  {
   "cell_type": "code",
   "execution_count": 208,
   "id": "c6553d0b-5423-4a9e-9d3a-a687b3d36524",
   "metadata": {
    "tags": []
   },
   "outputs": [
    {
     "data": {
      "text/plain": [
       "array([[False, False,  True,  True],\n",
       "       [ True,  True,  True,  True],\n",
       "       [ True,  True,  True,  True]])"
      ]
     },
     "execution_count": 208,
     "metadata": {},
     "output_type": "execute_result"
    }
   ],
   "source": [
    "# ndarray 조건식\n",
    "# ndarray에 조건식을 주면 boolean 값 반환\n",
    "arr2d > 2"
   ]
  },
  {
   "cell_type": "code",
   "execution_count": 213,
   "id": "e7731a61-a697-4036-b5d6-cbb03a618961",
   "metadata": {
    "tags": []
   },
   "outputs": [
    {
     "ename": "ValueError",
     "evalue": "The truth value of an array with more than one element is ambiguous. Use a.any() or a.all()",
     "output_type": "error",
     "traceback": [
      "\u001b[1;31m---------------------------------------------------------------------------\u001b[0m",
      "\u001b[1;31mValueError\u001b[0m                                Traceback (most recent call last)",
      "Cell \u001b[1;32mIn[213], line 1\u001b[0m\n\u001b[1;32m----> 1\u001b[0m \u001b[38;5;241m3\u001b[39m \u001b[38;5;241m<\u001b[39m arr2d \u001b[38;5;241m<\u001b[39m \u001b[38;5;241m8\u001b[39m\n",
      "\u001b[1;31mValueError\u001b[0m: The truth value of an array with more than one element is ambiguous. Use a.any() or a.all()"
     ]
    }
   ],
   "source": [
    "3 < arr2d < 8"
   ]
  },
  {
   "cell_type": "code",
   "execution_count": null,
   "id": "3b65038c-db09-4364-8132-e80c6a3caa59",
   "metadata": {},
   "outputs": [],
   "source": []
  },
  {
   "cell_type": "code",
   "execution_count": 215,
   "id": "eb686ccf-94cf-4333-ace5-5b1422f7dd6d",
   "metadata": {
    "tags": []
   },
   "outputs": [
    {
     "data": {
      "text/plain": [
       "array([1, 2, 3, 4])"
      ]
     },
     "execution_count": 215,
     "metadata": {},
     "output_type": "execute_result"
    }
   ],
   "source": [
    "# arr2d[조건필터]\n",
    "arr2d[arr2d < 5]"
   ]
  },
  {
   "cell_type": "code",
   "execution_count": null,
   "id": "dbafb97c-4d99-4d46-a502-a4f922f0d653",
   "metadata": {},
   "outputs": [],
   "source": [
    "# 문제 shape(3,2,4) ndarray 중 조건 필터 11보다 큰 값 출력\n",
    "arr3d = [\n",
    "        ]"
   ]
  },
  {
   "cell_type": "code",
   "execution_count": 216,
   "id": "4fbb1324-5645-41e1-975a-561bdc768114",
   "metadata": {
    "tags": []
   },
   "outputs": [
    {
     "data": {
      "text/plain": [
       "array([ 1,  2,  3,  4,  5,  6,  7,  8,  9, 10, 11, 12, 13, 14, 15, 16, 17,\n",
       "       18, 19, 20, 21, 22, 23, 24])"
      ]
     },
     "execution_count": 216,
     "metadata": {},
     "output_type": "execute_result"
    }
   ],
   "source": [
    "arr = np.arange(1,25)\n",
    "arr"
   ]
  },
  {
   "cell_type": "code",
   "execution_count": 222,
   "id": "5d77ae34-7e28-4c85-b2c2-d677aa19610d",
   "metadata": {
    "tags": []
   },
   "outputs": [
    {
     "data": {
      "text/plain": [
       "array([[[ 1,  2,  3,  4],\n",
       "        [ 5,  6,  7,  8]],\n",
       "\n",
       "       [[ 9, 10, 11, 12],\n",
       "        [13, 14, 15, 16]],\n",
       "\n",
       "       [[17, 18, 19, 20],\n",
       "        [21, 22, 23, 24]]])"
      ]
     },
     "execution_count": 222,
     "metadata": {},
     "output_type": "execute_result"
    }
   ],
   "source": [
    "# arr.shape\n",
    "arr3d = arr.reshape(3,2,4)\n",
    "arr3d"
   ]
  },
  {
   "cell_type": "code",
   "execution_count": 223,
   "id": "5d208a2f-14f2-48d5-b1fe-21bfd02d62b5",
   "metadata": {
    "tags": []
   },
   "outputs": [
    {
     "data": {
      "text/plain": [
       "array([15, 16, 17, 18, 19, 20, 21, 22, 23, 24])"
      ]
     },
     "execution_count": 223,
     "metadata": {},
     "output_type": "execute_result"
    }
   ],
   "source": [
    "arr3d[arr3d > 14]"
   ]
  },
  {
   "cell_type": "code",
   "execution_count": null,
   "id": "c6eae0c8-3f0f-440a-ab7d-bec80c4dce29",
   "metadata": {},
   "outputs": [],
   "source": []
  },
  {
   "cell_type": "code",
   "execution_count": 237,
   "id": "83505796-db79-497d-b952-2603bf351fb8",
   "metadata": {
    "tags": []
   },
   "outputs": [
    {
     "data": {
      "text/plain": [
       "(array(['aaa', 'bbb', 'ccc', 'ddd', 'eee', 'fff', 'ggg'], dtype='<U3'),\n",
       " array([[0.90558016, 0.65001841, 0.8006867 , 0.93219709],\n",
       "        [0.22899102, 0.58503953, 0.57530522, 0.87068272],\n",
       "        [0.19239393, 0.78468962, 0.07773068, 0.46392851],\n",
       "        [0.89713114, 0.14192497, 0.04306988, 0.50404984],\n",
       "        [0.40397491, 0.95556538, 0.22455225, 0.59548282],\n",
       "        [0.44457697, 0.05415633, 0.16501803, 0.27516703],\n",
       "        [0.47848773, 0.85688266, 0.93178184, 0.04209265]]))"
      ]
     },
     "execution_count": 237,
     "metadata": {},
     "output_type": "execute_result"
    }
   ],
   "source": [
    "# 2차원 boolindex 부연설명\n",
    "names = np.array([\"aaa\", \"bbb\",\"ccc\", \"ddd\", \"eee\", \"fff\", \"ggg\"])\n",
    "data = np.random.rand(7,4)  # random.rand = 0에서 1사이의 값을 랜덤으로 만들어줌\n",
    "names, data"
   ]
  },
  {
   "cell_type": "code",
   "execution_count": 238,
   "id": "3b1acb07-df87-4083-944b-983a3e2f46db",
   "metadata": {
    "tags": []
   },
   "outputs": [
    {
     "data": {
      "text/plain": [
       "array([ True, False, False, False, False, False, False])"
      ]
     },
     "execution_count": 238,
     "metadata": {},
     "output_type": "execute_result"
    }
   ],
   "source": [
    "names == \"aaa\""
   ]
  },
  {
   "cell_type": "code",
   "execution_count": 239,
   "id": "dd15d411-bead-4258-9486-32969e5df9f1",
   "metadata": {
    "tags": []
   },
   "outputs": [
    {
     "data": {
      "text/plain": [
       "array([[0.90558016, 0.65001841, 0.8006867 , 0.93219709]])"
      ]
     },
     "execution_count": 239,
     "metadata": {},
     "output_type": "execute_result"
    }
   ],
   "source": [
    "# data[names == \"aaa\"]\n",
    "data[names == \"aaa\", :]"
   ]
  },
  {
   "cell_type": "code",
   "execution_count": 240,
   "id": "dc63e6c5-deec-4d96-aa5e-c3e75d08aae8",
   "metadata": {
    "tags": []
   },
   "outputs": [
    {
     "data": {
      "text/plain": [
       "array([False, False,  True, False, False, False, False])"
      ]
     },
     "execution_count": 240,
     "metadata": {},
     "output_type": "execute_result"
    }
   ],
   "source": [
    "names == \"ccc\""
   ]
  },
  {
   "cell_type": "code",
   "execution_count": 242,
   "id": "7dba60ea-efd7-41fc-a27c-18a4ffd6c211",
   "metadata": {
    "tags": []
   },
   "outputs": [
    {
     "data": {
      "text/plain": [
       "array([[0.19239393, 0.78468962, 0.07773068, 0.46392851]])"
      ]
     },
     "execution_count": 242,
     "metadata": {},
     "output_type": "execute_result"
    }
   ],
   "source": [
    "data[names == \"ccc\", :]"
   ]
  },
  {
   "cell_type": "code",
   "execution_count": 245,
   "id": "7643e0e8-d51c-4bf9-8b40-7ea58b444d85",
   "metadata": {
    "tags": []
   },
   "outputs": [
    {
     "data": {
      "text/plain": [
       "array([[0.47848773, 0.85688266, 0.93178184, 0.04209265]])"
      ]
     },
     "execution_count": 245,
     "metadata": {},
     "output_type": "execute_result"
    }
   ],
   "source": [
    "# 문제 : 'ggg'에 대응되는 값 추출\n",
    "# data[names == \"ggg\"]\n",
    "data[names == \"ggg\", :]"
   ]
  },
  {
   "cell_type": "code",
   "execution_count": null,
   "id": "3119ed26-37a8-4b07-9ec0-9aaee7c1b32e",
   "metadata": {},
   "outputs": [],
   "source": []
  },
  {
   "cell_type": "code",
   "execution_count": 246,
   "id": "e1a5738f-d7bb-476a-989e-73ba4764972f",
   "metadata": {
    "tags": []
   },
   "outputs": [],
   "source": [
    "# 심화"
   ]
  },
  {
   "cell_type": "code",
   "execution_count": null,
   "id": "7fa71a5b-3fdb-483f-bda2-7b751a60329c",
   "metadata": {},
   "outputs": [],
   "source": [
    "names == \""
   ]
  },
  {
   "cell_type": "code",
   "execution_count": null,
   "id": "acb1c476-23ad-4ff4-8980-650f76ca3067",
   "metadata": {},
   "outputs": [],
   "source": []
  },
  {
   "cell_type": "code",
   "execution_count": null,
   "id": "ffd796ef-7be2-444b-9fef-63024023a2ab",
   "metadata": {},
   "outputs": [],
   "source": []
  }
 ],
 "metadata": {
  "kernelspec": {
   "display_name": "da_venv",
   "language": "python",
   "name": "da_venv"
  },
  "language_info": {
   "codemirror_mode": {
    "name": "ipython",
    "version": 3
   },
   "file_extension": ".py",
   "mimetype": "text/x-python",
   "name": "python",
   "nbconvert_exporter": "python",
   "pygments_lexer": "ipython3",
   "version": "3.9.13"
  }
 },
 "nbformat": 4,
 "nbformat_minor": 5
}
