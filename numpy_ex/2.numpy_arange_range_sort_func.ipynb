{
 "cells": [
  {
   "cell_type": "markdown",
   "id": "20405d15-6b8f-4de1-8e45-3720eae895fd",
   "metadata": {},
   "source": [
    "## numpy의 ndarray"
   ]
  },
  {
   "cell_type": "code",
   "execution_count": 2,
   "id": "b4fdfbe4-be85-480d-bb3f-f7859bf3e834",
   "metadata": {
    "tags": []
   },
   "outputs": [],
   "source": [
    "import numpy as np"
   ]
  },
  {
   "cell_type": "code",
   "execution_count": null,
   "id": "2d4289c9-2a7f-4a8f-886b-4507c203254a",
   "metadata": {},
   "outputs": [],
   "source": []
  },
  {
   "cell_type": "code",
   "execution_count": null,
   "id": "51737b58-c424-423a-b4d7-4f1e2b16c9ea",
   "metadata": {},
   "outputs": [],
   "source": []
  },
  {
   "cell_type": "code",
   "execution_count": null,
   "id": "fa449eb9-df18-4d39-92d3-23713bc723da",
   "metadata": {},
   "outputs": [],
   "source": []
  },
  {
   "cell_type": "markdown",
   "id": "40dc20e9-b00a-42dc-b7c6-a1903409e762",
   "metadata": {},
   "source": [
    "### ndarray sorting"
   ]
  },
  {
   "cell_type": "markdown",
   "id": "b739fa39-ce87-404b-84fc-e37168d9c7a6",
   "metadata": {},
   "source": [
    "#### 1차원 정렬"
   ]
  },
  {
   "cell_type": "code",
   "execution_count": 4,
   "id": "b93fec4b-b4b3-4cfa-89ef-5cb92de338a6",
   "metadata": {
    "tags": []
   },
   "outputs": [
    {
     "data": {
      "text/plain": [
       "array([ 1, 10,  5,  8,  2,  4,  3,  6,  8,  7,  9])"
      ]
     },
     "execution_count": 4,
     "metadata": {},
     "output_type": "execute_result"
    }
   ],
   "source": [
    "arr = np.array([1, 10, 5, 8, 2, 4, 3, 6, 8, 7, 9])\n",
    "arr"
   ]
  },
  {
   "cell_type": "code",
   "execution_count": 18,
   "id": "60b84b00-b222-4e9e-a155-826628ced295",
   "metadata": {
    "tags": []
   },
   "outputs": [
    {
     "data": {
      "text/plain": [
       "array([ 1,  2,  3,  4,  5,  6,  7,  8,  8,  9, 10])"
      ]
     },
     "execution_count": 18,
     "metadata": {},
     "output_type": "execute_result"
    }
   ],
   "source": [
    "# numpy 라이브러리의 sort() 함수에 arr를 전달인자로 줌 원본 훼손 X\n",
    "np.sort(arr)"
   ]
  },
  {
   "cell_type": "code",
   "execution_count": 19,
   "id": "f6db72c6-19c7-441e-8ab6-3392c19d0943",
   "metadata": {
    "tags": []
   },
   "outputs": [
    {
     "data": {
      "text/plain": [
       "array([ 1,  2,  3,  4,  5,  6,  7,  8,  8,  9, 10])"
      ]
     },
     "execution_count": 19,
     "metadata": {},
     "output_type": "execute_result"
    }
   ],
   "source": [
    "arr"
   ]
  },
  {
   "cell_type": "code",
   "execution_count": 20,
   "id": "8e6afa82-f0a9-42b5-893d-50827b209ac1",
   "metadata": {
    "tags": []
   },
   "outputs": [
    {
     "data": {
      "text/plain": [
       "array([ 1,  2,  3,  4,  5,  6,  7,  8,  8,  9, 10])"
      ]
     },
     "execution_count": 20,
     "metadata": {},
     "output_type": "execute_result"
    }
   ],
   "source": [
    "arr2 = np.sort(arr)\n",
    "arr2"
   ]
  },
  {
   "cell_type": "code",
   "execution_count": 22,
   "id": "b7d68c69-52cb-49fc-ad5e-715e395a4186",
   "metadata": {
    "tags": []
   },
   "outputs": [
    {
     "data": {
      "text/plain": [
       "array([ 1,  2,  3,  4,  5,  6,  7,  8,  8,  9, 10])"
      ]
     },
     "execution_count": 22,
     "metadata": {},
     "output_type": "execute_result"
    }
   ],
   "source": [
    "# ndarray의 sort() 실행 -> 원본값 소팅\n",
    "arr.sort()\n",
    "arr"
   ]
  },
  {
   "cell_type": "code",
   "execution_count": 26,
   "id": "324edcf1-0d3c-49f4-875c-0777d4bf92e4",
   "metadata": {
    "tags": []
   },
   "outputs": [
    {
     "data": {
      "text/plain": [
       "array([10,  9,  8,  8,  7,  6,  5,  4,  3,  2,  1])"
      ]
     },
     "execution_count": 26,
     "metadata": {},
     "output_type": "execute_result"
    }
   ],
   "source": [
    "# 내림차순 정렬\n",
    "np.sort(arr)[::-1]"
   ]
  },
  {
   "cell_type": "code",
   "execution_count": 27,
   "id": "093c6422-a8a6-4823-830e-3a2dc9a61454",
   "metadata": {
    "tags": []
   },
   "outputs": [
    {
     "data": {
      "text/plain": [
       "array([1, 2, 3, 4, 5, 6, 7, 8, 8, 9])"
      ]
     },
     "execution_count": 27,
     "metadata": {},
     "output_type": "execute_result"
    }
   ],
   "source": [
    "np.sort(arr)[:-1]"
   ]
  },
  {
   "cell_type": "code",
   "execution_count": null,
   "id": "172110f7-e745-46b7-84d3-b8d9ee7893e2",
   "metadata": {},
   "outputs": [],
   "source": []
  },
  {
   "cell_type": "code",
   "execution_count": null,
   "id": "82265ad7-09a1-4821-8957-7f1384a1cf9a",
   "metadata": {},
   "outputs": [],
   "source": [
    "# 2차원 정렬"
   ]
  },
  {
   "cell_type": "code",
   "execution_count": 28,
   "id": "725c2307-95bf-4faf-929a-a30c47fbf110",
   "metadata": {
    "tags": []
   },
   "outputs": [
    {
     "data": {
      "text/plain": [
       "array([[ 5,  2,  7,  8],\n",
       "       [ 4,  3,  2,  1],\n",
       "       [10,  9,  3, 11]])"
      ]
     },
     "execution_count": 28,
     "metadata": {},
     "output_type": "execute_result"
    }
   ],
   "source": [
    "arr2d = np.array([[5, 2, 7, 8], \n",
    "                  [4, 3, 2, 1],\n",
    "                  [10, 9, 3, 11]])\n",
    "arr2d"
   ]
  },
  {
   "cell_type": "code",
   "execution_count": 32,
   "id": "aeb1b166-e098-403f-a94c-f4a0e0cd33ba",
   "metadata": {
    "tags": []
   },
   "outputs": [
    {
     "data": {
      "text/plain": [
       "array([[ 2,  5,  7,  8],\n",
       "       [ 1,  2,  3,  4],\n",
       "       [ 3,  9, 10, 11]])"
      ]
     },
     "execution_count": 32,
     "metadata": {},
     "output_type": "execute_result"
    }
   ],
   "source": [
    "# 2차원 배열 정렬 디폴트 axis=1 기준\n",
    "# 행 안에서 열 방향으로 sort\n",
    "# np.sort(arr2d)\n",
    "np.sort(arr2d)"
   ]
  },
  {
   "cell_type": "code",
   "execution_count": 34,
   "id": "35dadaa1-a867-4be8-9494-1d5206df8deb",
   "metadata": {
    "tags": []
   },
   "outputs": [
    {
     "data": {
      "text/plain": [
       "array([[ 2,  5,  7,  8],\n",
       "       [ 1,  2,  3,  4],\n",
       "       [ 3,  9, 10, 11]])"
      ]
     },
     "execution_count": 34,
     "metadata": {},
     "output_type": "execute_result"
    }
   ],
   "source": [
    "np.sort(arr2d, axis=1)"
   ]
  },
  {
   "cell_type": "code",
   "execution_count": 37,
   "id": "429bce64-6208-4cb5-91c8-58a01341dd29",
   "metadata": {
    "tags": []
   },
   "outputs": [
    {
     "data": {
      "text/plain": [
       "array([[ 4,  2,  2,  1],\n",
       "       [ 5,  3,  3,  8],\n",
       "       [10,  9,  7, 11]])"
      ]
     },
     "execution_count": 37,
     "metadata": {},
     "output_type": "execute_result"
    }
   ],
   "source": [
    "# 방향을 잘 확인\n",
    "np.sort(arr2d, axis=0)"
   ]
  },
  {
   "cell_type": "code",
   "execution_count": null,
   "id": "2ecc0132-629d-43e9-accd-ef0d5b4e0c44",
   "metadata": {},
   "outputs": [],
   "source": []
  },
  {
   "cell_type": "code",
   "execution_count": 39,
   "id": "44920a5f-010d-4796-a9f3-52d94bab6cfb",
   "metadata": {
    "tags": []
   },
   "outputs": [
    {
     "data": {
      "text/plain": [
       "array([ 1,  2,  3,  4,  5,  6,  7,  8,  9, 10, 11, 12])"
      ]
     },
     "execution_count": 39,
     "metadata": {},
     "output_type": "execute_result"
    }
   ],
   "source": [
    "# 3차원 sort\n",
    "arr = np.arange(1,13)\n",
    "arr"
   ]
  },
  {
   "cell_type": "code",
   "execution_count": 46,
   "id": "c7e7d106-9118-4e1f-bcd3-33e1dadc5a27",
   "metadata": {
    "tags": []
   },
   "outputs": [
    {
     "data": {
      "text/plain": [
       "array([[[ 1,  2],\n",
       "        [ 3,  4]],\n",
       "\n",
       "       [[ 5,  6],\n",
       "        [ 7,  8]],\n",
       "\n",
       "       [[ 9, 10],\n",
       "        [11, 12]]])"
      ]
     },
     "execution_count": 46,
     "metadata": {},
     "output_type": "execute_result"
    }
   ],
   "source": [
    "arr3d = arr.reshape(3,2,2)\n",
    "arr3d"
   ]
  },
  {
   "cell_type": "code",
   "execution_count": 48,
   "id": "1bb5765c-ea07-4c8d-b3e5-7fd75cb10876",
   "metadata": {
    "tags": []
   },
   "outputs": [
    {
     "data": {
      "text/plain": [
       "array([[[ 1,  2],\n",
       "        [ 3,  4]],\n",
       "\n",
       "       [[ 5,  6],\n",
       "        [ 7,  8]],\n",
       "\n",
       "       [[ 9, 10],\n",
       "        [11, 12]]])"
      ]
     },
     "execution_count": 48,
     "metadata": {},
     "output_type": "execute_result"
    }
   ],
   "source": [
    "np.sort(arr3d)"
   ]
  },
  {
   "cell_type": "code",
   "execution_count": 59,
   "id": "3cde7b27-1267-4569-984b-94bfcdb2fbad",
   "metadata": {
    "tags": []
   },
   "outputs": [
    {
     "data": {
      "text/plain": [
       "array([[20, 21, 22, 23],\n",
       "       [24, 25, 26, 27],\n",
       "       [28, 29, 30, 31]])"
      ]
     },
     "execution_count": 59,
     "metadata": {},
     "output_type": "execute_result"
    }
   ],
   "source": [
    "# 1씩 증가, 12개 => (3x4) 2차원 matrix를 생성\n",
    "# start = 20, stop = ?\n",
    "# 20~ 시작하는 12개 요소로 이뤄진 1차원 ndarray 생성\n",
    "# reshape(3,4) => 2차원 array 생성\n",
    "arr = np.arange(20,32)\n",
    "arr.shape\n",
    "\n",
    "arr2d = arr.reshape(3,4)\n",
    "arr2d\n",
    "\n",
    "np.sort(arr2d, axis=1)\n",
    "# np.sort(arr2d, axis=0)"
   ]
  },
  {
   "cell_type": "code",
   "execution_count": 84,
   "id": "078461c5-e0c6-4195-ab75-61431bd12c02",
   "metadata": {
    "tags": []
   },
   "outputs": [
    {
     "data": {
      "text/plain": [
       "array([[[20, 30, 22]],\n",
       "\n",
       "       [[27, 25, 21]],\n",
       "\n",
       "       [[24, 26, 28]],\n",
       "\n",
       "       [[23, 29, 31]]])"
      ]
     },
     "execution_count": 84,
     "metadata": {},
     "output_type": "execute_result"
    }
   ],
   "source": [
    "arr2d = np.array(\n",
    "    [[20, 30, 22, 27],\n",
    "     [25, 21, 24, 26],\n",
    "     [28, 23, 29, 31]]\n",
    ")\n",
    "arr2d\n",
    "\n",
    "arr2d = arr2d.reshape(4,3)\n",
    "arr2d\n",
    "\n",
    "arr3d = arr3d.reshape(4,1,3)\n",
    "arr3d\n",
    "\n",
    "# np.sort(arr2d, axis=1)\n",
    "# np.sort(arr2d, axis=0)\n",
    "# np.sort(arr3d, axis=1)\n",
    "# np.sort(arr3d, axis=0)"
   ]
  },
  {
   "cell_type": "code",
   "execution_count": null,
   "id": "021a7f3e-2f64-428a-a512-c809a9496dc5",
   "metadata": {},
   "outputs": [],
   "source": []
  },
  {
   "cell_type": "markdown",
   "id": "d2175b11-b810-4dba-92e8-7d8c3e240548",
   "metadata": {},
   "source": [
    "### index를 반환하는 argsort\n",
    "축을 기준으로 정렬한 후, 정렬된 값을 반환하는 것이 아닌 원래 위치의 index를 반환함"
   ]
  },
  {
   "cell_type": "code",
   "execution_count": 83,
   "id": "6b586880-3021-4154-8e58-b3d6bf7fa07b",
   "metadata": {
    "tags": []
   },
   "outputs": [
    {
     "data": {
      "text/plain": [
       "array([[ 5,  6,  7,  8],\n",
       "       [ 1,  2,  3,  4],\n",
       "       [ 9, 10, 11, 12]])"
      ]
     },
     "execution_count": 83,
     "metadata": {},
     "output_type": "execute_result"
    }
   ],
   "source": [
    "# 행 안에서 정렬을 하고, 정렬 결과에서 그 요소의 원래 위치 index를 반환\n",
    "arr2d = np.array([[5, 6, 7, 8], \n",
    "                  [4, 3, 2, 1],\n",
    "                  [10, 9, 12, 11]])\n",
    "np.sort(arr2d)"
   ]
  },
  {
   "cell_type": "code",
   "execution_count": 88,
   "id": "9a35231a-d6f8-439d-ba7b-0b23fc7d4cb3",
   "metadata": {
    "tags": []
   },
   "outputs": [
    {
     "data": {
      "text/plain": [
       "array([[20, 30, 22],\n",
       "       [27, 25, 21],\n",
       "       [24, 26, 28],\n",
       "       [23, 29, 31]])"
      ]
     },
     "execution_count": 88,
     "metadata": {},
     "output_type": "execute_result"
    }
   ],
   "source": [
    "arr2d = np.array(\n",
    "    [[20, 30, 22, 27],\n",
    "     [25, 21, 24, 26],\n",
    "     [28, 23, 29, 31]]\n",
    ")\n",
    "arr2d = arr2d.reshape(4,3)\n",
    "arr2d"
   ]
  },
  {
   "cell_type": "code",
   "execution_count": 90,
   "id": "4a09b505-48be-4c11-9658-15b7a62c1bc0",
   "metadata": {
    "tags": []
   },
   "outputs": [
    {
     "data": {
      "text/plain": [
       "array([[20, 22, 30],\n",
       "       [21, 25, 27],\n",
       "       [24, 26, 28],\n",
       "       [23, 29, 31]])"
      ]
     },
     "execution_count": 90,
     "metadata": {},
     "output_type": "execute_result"
    }
   ],
   "source": [
    "np.sort(arr2d)"
   ]
  },
  {
   "cell_type": "code",
   "execution_count": 89,
   "id": "d4dcec30-0984-428b-b670-55ecaa258931",
   "metadata": {
    "tags": []
   },
   "outputs": [
    {
     "data": {
      "text/plain": [
       "array([[0, 2, 1],\n",
       "       [2, 1, 0],\n",
       "       [0, 1, 2],\n",
       "       [0, 1, 2]], dtype=int64)"
      ]
     },
     "execution_count": 89,
     "metadata": {},
     "output_type": "execute_result"
    }
   ],
   "source": [
    "np.argsort(arr2d, axis=1)"
   ]
  },
  {
   "cell_type": "code",
   "execution_count": 97,
   "id": "bb8ef54e-ef2d-43f1-907d-86e89ae7f417",
   "metadata": {
    "tags": []
   },
   "outputs": [
    {
     "data": {
      "text/plain": [
       "array([[0, 1, 1],\n",
       "       [3, 2, 0],\n",
       "       [2, 3, 2],\n",
       "       [1, 0, 3]], dtype=int64)"
      ]
     },
     "execution_count": 97,
     "metadata": {},
     "output_type": "execute_result"
    }
   ],
   "source": [
    "# 행정렬 실습해보기\n",
    "np.sort(arr2d, axis=0)\n",
    "np.argsort(arr2d, axis=0)"
   ]
  },
  {
   "cell_type": "code",
   "execution_count": null,
   "id": "b9f56043-9818-4824-8a76-57ff8b796292",
   "metadata": {},
   "outputs": [],
   "source": []
  },
  {
   "cell_type": "code",
   "execution_count": 100,
   "id": "7b426039-6bcc-4844-b8f6-6a8755f59f00",
   "metadata": {
    "tags": []
   },
   "outputs": [],
   "source": [
    "# ndarray 객체 생성 함수\n",
    "# 설정한 차원으로 ndarray 객체를 만들고 지정한 숫자로 값을 초기화하는 함수"
   ]
  },
  {
   "cell_type": "code",
   "execution_count": 102,
   "id": "dd11bc48-a0d4-4c62-bd33-74d67f59c49e",
   "metadata": {
    "tags": []
   },
   "outputs": [
    {
     "data": {
      "text/plain": [
       "array([0., 0., 0., 0., 0., 0., 0., 0., 0., 0.])"
      ]
     },
     "execution_count": 102,
     "metadata": {},
     "output_type": "execute_result"
    }
   ],
   "source": [
    "np.zeros(10)"
   ]
  },
  {
   "cell_type": "code",
   "execution_count": 104,
   "id": "f242c6db-6209-430e-a49c-8d89dff01177",
   "metadata": {
    "tags": []
   },
   "outputs": [
    {
     "data": {
      "text/plain": [
       "array([[0., 0., 0., 0.],\n",
       "       [0., 0., 0., 0.],\n",
       "       [0., 0., 0., 0.]])"
      ]
     },
     "execution_count": 104,
     "metadata": {},
     "output_type": "execute_result"
    }
   ],
   "source": [
    "# (3,4)행렬로 0으로 모두 초기화\n",
    "np.zeros((3,4))"
   ]
  },
  {
   "cell_type": "code",
   "execution_count": 106,
   "id": "269e5949-f27e-4d37-84ba-059175bc94fd",
   "metadata": {
    "tags": []
   },
   "outputs": [
    {
     "data": {
      "text/plain": [
       "array([[1., 1., 1., 1., 1.],\n",
       "       [1., 1., 1., 1., 1.],\n",
       "       [1., 1., 1., 1., 1.]])"
      ]
     },
     "execution_count": 106,
     "metadata": {},
     "output_type": "execute_result"
    }
   ],
   "source": [
    "# 1로 모두 초기화\n",
    "np.ones((3,5))"
   ]
  },
  {
   "cell_type": "code",
   "execution_count": 108,
   "id": "622a5e7d-c2d7-4632-a8bd-659ab3ef962b",
   "metadata": {
    "tags": []
   },
   "outputs": [
    {
     "data": {
      "text/plain": [
       "array([[5, 5, 5],\n",
       "       [5, 5, 5]])"
      ]
     },
     "execution_count": 108,
     "metadata": {},
     "output_type": "execute_result"
    }
   ],
   "source": [
    "# 지정숫자로 초기화\n",
    "np.full((2,3),5)"
   ]
  },
  {
   "cell_type": "code",
   "execution_count": null,
   "id": "29dd4ed2-4bff-495f-9df1-b6e3f7f52dcb",
   "metadata": {},
   "outputs": [],
   "source": []
  },
  {
   "cell_type": "code",
   "execution_count": 117,
   "id": "b4c44cd1-22b3-4e0c-8a43-bf2fdd850dcc",
   "metadata": {
    "tags": []
   },
   "outputs": [
    {
     "data": {
      "text/plain": [
       "array([ 1,  2,  3,  4,  5,  6,  7,  8,  9, 10])"
      ]
     },
     "execution_count": 117,
     "metadata": {},
     "output_type": "execute_result"
    }
   ],
   "source": [
    "a = np.arange(1,11)\n",
    "a"
   ]
  },
  {
   "cell_type": "code",
   "execution_count": 123,
   "id": "77df1a4d-5f08-4773-b33a-74dd90fd36c5",
   "metadata": {
    "tags": []
   },
   "outputs": [
    {
     "data": {
      "text/plain": [
       "array([[ 1,  2],\n",
       "       [ 3,  4],\n",
       "       [ 5,  6],\n",
       "       [ 7,  8],\n",
       "       [ 9, 10]])"
      ]
     },
     "execution_count": 123,
     "metadata": {},
     "output_type": "execute_result"
    }
   ],
   "source": [
    "# 열을 기준으로 행 계산하기 귀찮을때 -1 해줌\n",
    "# a.reshape(-1, 3)\n",
    "# -1 : 알아서 생성 / 3 : 열의 개수 (3을 한다면 3의 배수가 되어야 함)\n",
    "a.reshape(-1, 2)"
   ]
  },
  {
   "cell_type": "code",
   "execution_count": 125,
   "id": "f18ae5c7-f0c6-4363-bd7a-3030f6e0de32",
   "metadata": {
    "tags": []
   },
   "outputs": [
    {
     "data": {
      "text/plain": [
       "array([[ 1,  2,  3,  4,  5],\n",
       "       [ 6,  7,  8,  9, 10]])"
      ]
     },
     "execution_count": 125,
     "metadata": {},
     "output_type": "execute_result"
    }
   ],
   "source": [
    "a.reshape(-1, 5)"
   ]
  },
  {
   "cell_type": "code",
   "execution_count": null,
   "id": "d74c22cc-8656-4cf5-88b4-4e68ce01a635",
   "metadata": {},
   "outputs": [],
   "source": []
  },
  {
   "cell_type": "code",
   "execution_count": 127,
   "id": "c92b0a27-4364-4ff2-896a-01aeefd69571",
   "metadata": {
    "tags": []
   },
   "outputs": [
    {
     "data": {
      "text/plain": [
       "array([ 0, 22, 45, 67, 90])"
      ]
     },
     "execution_count": 127,
     "metadata": {},
     "output_type": "execute_result"
    }
   ],
   "source": [
    "# 균등하게 값을 분할\n",
    "np.linspace(0, 90, 5, dtype=int)"
   ]
  },
  {
   "cell_type": "code",
   "execution_count": null,
   "id": "87256711-f937-41cd-b0d7-6ddd002c9b9b",
   "metadata": {},
   "outputs": [],
   "source": []
  },
  {
   "cell_type": "code",
   "execution_count": 129,
   "id": "03327d3c-ff24-4816-bb98-64710979da75",
   "metadata": {
    "tags": []
   },
   "outputs": [
    {
     "data": {
      "text/plain": [
       "array([[0.71894395, 0.67638366, 0.50682604],\n",
       "       [0.22879569, 0.62471559, 0.42620885],\n",
       "       [0.61650002, 0.64382287, 0.7063785 ]])"
      ]
     },
     "execution_count": 129,
     "metadata": {},
     "output_type": "execute_result"
    }
   ],
   "source": [
    "# random 값으로 채우기 (0~1 사이, 3x3)\n",
    "np.random.random((3,3))"
   ]
  },
  {
   "cell_type": "code",
   "execution_count": 152,
   "id": "fca0290e-86cc-4d18-b7e1-a8ec00c3e4f4",
   "metadata": {
    "tags": []
   },
   "outputs": [
    {
     "data": {
      "text/plain": [
       "array([[6, 8],\n",
       "       [5, 9],\n",
       "       [9, 9],\n",
       "       [3, 0],\n",
       "       [0, 2]])"
      ]
     },
     "execution_count": 152,
     "metadata": {},
     "output_type": "execute_result"
    }
   ],
   "source": [
    "# random 값으로 채우기 (정수 0~10-1까지, 행x열)\n",
    "np.random.randint(0, 10, (5,2))"
   ]
  },
  {
   "cell_type": "code",
   "execution_count": null,
   "id": "ea933a83-8386-42b2-ab77-8c1c53a0bccf",
   "metadata": {},
   "outputs": [],
   "source": []
  },
  {
   "cell_type": "code",
   "execution_count": 148,
   "id": "c31491c4-9a22-454c-acfb-a2ab4a845a91",
   "metadata": {
    "tags": []
   },
   "outputs": [
    {
     "data": {
      "text/plain": [
       "array([[-2.72702284,  1.65436213,  6.87662404],\n",
       "       [ 0.12461818, -3.35377634,  1.61717496],\n",
       "       [-1.7884791 , -0.05739149,  3.52500366]])"
      ]
     },
     "execution_count": 148,
     "metadata": {},
     "output_type": "execute_result"
    }
   ],
   "source": [
    "# 설정한 평균, 표준편차 정규분포 확률에 의한 난수 배열 생성\n",
    "np.random.normal(0,3,(3,3))"
   ]
  },
  {
   "cell_type": "code",
   "execution_count": 146,
   "id": "696c9222-4c33-4c3d-b333-408d6e149d89",
   "metadata": {
    "tags": []
   },
   "outputs": [
    {
     "data": {
      "text/plain": [
       "array([[-0.90900761,  0.55145404,  2.29220801,  0.04153939, -1.11792545],\n",
       "       [ 0.53905832, -0.5961597 , -0.0191305 ,  1.17500122, -0.74787095]])"
      ]
     },
     "execution_count": 146,
     "metadata": {},
     "output_type": "execute_result"
    }
   ],
   "source": [
    "np.random.normal(0,1,(2,5))"
   ]
  },
  {
   "cell_type": "code",
   "execution_count": 147,
   "id": "18aaaa68-e282-4544-aab9-736ebce86ac7",
   "metadata": {
    "tags": []
   },
   "outputs": [
    {
     "data": {
      "text/plain": [
       "array([[-1.25027354, -0.16880048, -6.40858829],\n",
       "       [ 4.92081243, -5.38030676, -2.5252421 ],\n",
       "       [ 1.50864425, -3.73586426, -3.17385666]])"
      ]
     },
     "execution_count": 147,
     "metadata": {},
     "output_type": "execute_result"
    }
   ],
   "source": [
    "# 난수를 발생할 때, 난수의 결과를 재현할 때 사용\n",
    "# seed 값이 동일하면 결과는 항상 같음\n",
    "# jupyter-lab에서 seed는 한 쉘 안에서만 적용\n",
    "\n",
    "np.random.seed(2)\n",
    "np.random.normal(0,3,(3,3))\n",
    "\n",
    "# np.random.seed(20)\n",
    "# np.random.normal(0,3,(3,3))"
   ]
  },
  {
   "cell_type": "code",
   "execution_count": null,
   "id": "1bd33611-c015-4548-8442-837fd970f34f",
   "metadata": {},
   "outputs": [],
   "source": []
  },
  {
   "cell_type": "code",
   "execution_count": 154,
   "id": "b9af6c22-b15e-472c-8645-3ebde2e647c1",
   "metadata": {
    "tags": []
   },
   "outputs": [
    {
     "data": {
      "text/plain": [
       "array([[86.57654536, 46.56475387, 12.44821293],\n",
       "       [32.24595151, 16.04299337, 99.44668103],\n",
       "       [97.3522282 , 82.0232516 , 64.16354093]])"
      ]
     },
     "execution_count": 154,
     "metadata": {},
     "output_type": "execute_result"
    }
   ],
   "source": [
    "# 균등 분포\n",
    "np.random.uniform(10, 100, (3,3))"
   ]
  },
  {
   "cell_type": "code",
   "execution_count": null,
   "id": "f0c79c33-4e9a-42ff-81e5-d81c010f55ea",
   "metadata": {},
   "outputs": [],
   "source": []
  },
  {
   "cell_type": "code",
   "execution_count": 183,
   "id": "52938bbb-0621-420b-864f-543a3351668d",
   "metadata": {
    "tags": []
   },
   "outputs": [
    {
     "data": {
      "text/plain": [
       "array([[97, 31, 90, 27],\n",
       "       [47, 80, 67, 39],\n",
       "       [57, 66, 44, 32]])"
      ]
     },
     "execution_count": 183,
     "metadata": {},
     "output_type": "execute_result"
    }
   ],
   "source": [
    "# 문제 : 중복되지 않게 3,4 구성\n",
    "# 다음 문장은 중복 허용\n",
    "np.random.randint(10,100, (3,4))\n",
    "# 중복 허용 안함\n",
    "# np.random.choice(range(10,100), size=(3,4), replace=True)\n",
    "np.random.choice(range(10,100), (3,4), replace=True)\n",
    "# 10과 100으로 이루어졌다는 의미\n",
    "# np.random.choice((10,100), (3,4), replace=True)"
   ]
  },
  {
   "cell_type": "code",
   "execution_count": 175,
   "id": "cf85de78-496f-43c3-a026-b85a5b06c134",
   "metadata": {
    "tags": []
   },
   "outputs": [
    {
     "name": "stdout",
     "output_type": "stream",
     "text": [
      "71\n",
      "25\n",
      "82\n",
      "72\n",
      "71\n",
      "84\n",
      "44\n",
      "82\n",
      "15\n",
      "73\n",
      "45\n",
      "44\n",
      "[71, 25, 82, 72, 71, 84, 44, 82, 15, 73, 45, 44]\n"
     ]
    }
   ],
   "source": [
    "# python으로 해보기\n",
    "import random\n",
    "\n",
    "arandom = []\n",
    "for i in range(12) :\n",
    "    a = random.randint(1,100)\n",
    "    print(a)\n",
    "    arandom.append(a)\n",
    "print(arandom)"
   ]
  },
  {
   "cell_type": "code",
   "execution_count": 188,
   "id": "de825e17-b1fa-46d8-b07b-943f29c7ffec",
   "metadata": {
    "tags": []
   },
   "outputs": [
    {
     "name": "stdout",
     "output_type": "stream",
     "text": [
      "[20, 87, 87, 54, 81, 96, 90, 13, 34, 55, 76, 43]\n"
     ]
    }
   ],
   "source": [
    "# python으로 해보기\n",
    "import random\n",
    "\n",
    "arandom = []\n",
    "for i in range(12) :\n",
    "    a = random.randint(1,100)\n",
    "    # print(a)\n",
    "    while i in arandom :\n",
    "        a = random.randint(1,100)\n",
    "    arandom.append(a)\n",
    "print(arandom)"
   ]
  },
  {
   "cell_type": "code",
   "execution_count": 197,
   "id": "61022253-3a6d-4434-8250-fb41feb28afb",
   "metadata": {
    "tags": []
   },
   "outputs": [
    {
     "ename": "AttributeError",
     "evalue": "'list' object has no attribute 'reshape'",
     "output_type": "error",
     "traceback": [
      "\u001b[1;31m---------------------------------------------------------------------------\u001b[0m",
      "\u001b[1;31mAttributeError\u001b[0m                            Traceback (most recent call last)",
      "Cell \u001b[1;32mIn[197], line 2\u001b[0m\n\u001b[0;32m      1\u001b[0m \u001b[38;5;66;03m# python으로 해보기\u001b[39;00m\n\u001b[1;32m----> 2\u001b[0m \u001b[43marandom\u001b[49m\u001b[38;5;241;43m.\u001b[39;49m\u001b[43mreshape\u001b[49m(\u001b[38;5;241m3\u001b[39m,\u001b[38;5;241m4\u001b[39m)\n",
      "\u001b[1;31mAttributeError\u001b[0m: 'list' object has no attribute 'reshape'"
     ]
    }
   ],
   "source": [
    "# python으로 해보기\n",
    "arandom.reshape(3,4)"
   ]
  },
  {
   "cell_type": "code",
   "execution_count": null,
   "id": "7581064e-40a2-449c-8f38-89d0de38f2f6",
   "metadata": {},
   "outputs": [],
   "source": []
  },
  {
   "cell_type": "code",
   "execution_count": 189,
   "id": "447ec2de-625b-429a-b3f1-ef93b4b062b7",
   "metadata": {
    "tags": []
   },
   "outputs": [],
   "source": [
    "# numpy 배열 객체의 연결 및 shape 바꾸기\n",
    "# 같은 차원의 list 및 ndarray를 연결함\n",
    "# 2차원 이상은 연결할 축의 방향 설정"
   ]
  },
  {
   "cell_type": "code",
   "execution_count": 205,
   "id": "eb20dcaf-0e4e-4c64-b0ee-c734d5b3d809",
   "metadata": {
    "tags": []
   },
   "outputs": [],
   "source": [
    "list1 = [1,2,3,4]\n",
    "list2 = [4,5,6,7]"
   ]
  },
  {
   "cell_type": "code",
   "execution_count": 206,
   "id": "84fe1590-13da-47c3-a2d9-48bc3f0f87e9",
   "metadata": {
    "tags": []
   },
   "outputs": [
    {
     "data": {
      "text/plain": [
       "array([[1, 2, 3, 4],\n",
       "       [4, 5, 6, 7]])"
      ]
     },
     "execution_count": 206,
     "metadata": {},
     "output_type": "execute_result"
    }
   ],
   "source": [
    "arr1d = np.concatenate([list1,list2])\n",
    "arr2d"
   ]
  },
  {
   "cell_type": "code",
   "execution_count": 207,
   "id": "eb2ecf72-7447-4d58-832d-e8d035c5ad8a",
   "metadata": {
    "tags": []
   },
   "outputs": [
    {
     "ename": "AxisError",
     "evalue": "axis 1 is out of bounds for array of dimension 1",
     "output_type": "error",
     "traceback": [
      "\u001b[1;31m---------------------------------------------------------------------------\u001b[0m",
      "\u001b[1;31mAxisError\u001b[0m                                 Traceback (most recent call last)",
      "Cell \u001b[1;32mIn[207], line 1\u001b[0m\n\u001b[1;32m----> 1\u001b[0m \u001b[43mnp\u001b[49m\u001b[38;5;241;43m.\u001b[39;49m\u001b[43mconcatenate\u001b[49m\u001b[43m(\u001b[49m\u001b[43m[\u001b[49m\u001b[43mlist1\u001b[49m\u001b[43m,\u001b[49m\u001b[43mlist2\u001b[49m\u001b[43m]\u001b[49m\u001b[43m,\u001b[49m\u001b[43m \u001b[49m\u001b[43maxis\u001b[49m\u001b[38;5;241;43m=\u001b[39;49m\u001b[38;5;241;43m1\u001b[39;49m\u001b[43m)\u001b[49m\n\u001b[0;32m      2\u001b[0m \u001b[38;5;66;03m# 기존 list1과 list2는 axis=0만 있기 때문에 오류 발생\u001b[39;00m\n",
      "File \u001b[1;32m<__array_function__ internals>:200\u001b[0m, in \u001b[0;36mconcatenate\u001b[1;34m(*args, **kwargs)\u001b[0m\n",
      "\u001b[1;31mAxisError\u001b[0m: axis 1 is out of bounds for array of dimension 1"
     ]
    }
   ],
   "source": [
    "np.concatenate([list1,list2], axis=1)\n",
    "# 기존 list1과 list2는 axis=0만 있기 때문에 오류 발생"
   ]
  },
  {
   "cell_type": "code",
   "execution_count": 218,
   "id": "e49748da-bf56-4b73-93a9-3f230689da5e",
   "metadata": {
    "tags": []
   },
   "outputs": [
    {
     "data": {
      "text/plain": [
       "array([[1, 2],\n",
       "       [3, 4],\n",
       "       [4, 5],\n",
       "       [6, 7]])"
      ]
     },
     "execution_count": 218,
     "metadata": {},
     "output_type": "execute_result"
    }
   ],
   "source": [
    "arr2d = arr1d.reshape(-1,2)\n",
    "arr2d"
   ]
  },
  {
   "cell_type": "code",
   "execution_count": 219,
   "id": "9e9200fd-ad7d-4a32-b1fb-12c68afe655c",
   "metadata": {
    "tags": []
   },
   "outputs": [
    {
     "data": {
      "text/plain": [
       "array([[1, 2, 1, 2],\n",
       "       [3, 4, 3, 4],\n",
       "       [4, 5, 4, 5],\n",
       "       [6, 7, 6, 7]])"
      ]
     },
     "execution_count": 219,
     "metadata": {},
     "output_type": "execute_result"
    }
   ],
   "source": [
    "np.concatenate([arr2d, arr2d], axis=1)"
   ]
  },
  {
   "cell_type": "code",
   "execution_count": 221,
   "id": "88f22a53-6e82-464e-86bc-05c97946e499",
   "metadata": {
    "tags": []
   },
   "outputs": [
    {
     "data": {
      "text/plain": [
       "array([[1, 2],\n",
       "       [3, 4],\n",
       "       [4, 5],\n",
       "       [6, 7],\n",
       "       [1, 2],\n",
       "       [3, 4],\n",
       "       [4, 5],\n",
       "       [6, 7]])"
      ]
     },
     "execution_count": 221,
     "metadata": {},
     "output_type": "execute_result"
    }
   ],
   "source": [
    "np.concatenate([arr2d, arr2d], axis=0)"
   ]
  },
  {
   "cell_type": "code",
   "execution_count": null,
   "id": "952b59f8-c241-4c83-91fd-ec683020b343",
   "metadata": {},
   "outputs": [],
   "source": []
  },
  {
   "cell_type": "code",
   "execution_count": 222,
   "id": "85d69a44-daf2-4cfd-a8cc-9d52a77762b0",
   "metadata": {
    "tags": []
   },
   "outputs": [
    {
     "data": {
      "text/plain": [
       "array([[1, 2, 3, 4],\n",
       "       [4, 5, 6, 7],\n",
       "       [1, 2, 3, 4],\n",
       "       [4, 5, 6, 7]])"
      ]
     },
     "execution_count": 222,
     "metadata": {},
     "output_type": "execute_result"
    }
   ],
   "source": [
    "# 2차원 리스트 연결\n",
    "arr2 = [[1, 2, 3, 4],\n",
    "       [4, 5, 6, 7]]\n",
    "np.concatenate([arr2,arr2], axis=0)"
   ]
  },
  {
   "cell_type": "code",
   "execution_count": 223,
   "id": "2b059fd4-6089-46c8-b611-ec332922ddf4",
   "metadata": {
    "tags": []
   },
   "outputs": [
    {
     "data": {
      "text/plain": [
       "array([[1, 2, 1, 2],\n",
       "       [3, 4, 3, 4],\n",
       "       [4, 5, 4, 5],\n",
       "       [6, 7, 6, 7]])"
      ]
     },
     "execution_count": 223,
     "metadata": {},
     "output_type": "execute_result"
    }
   ],
   "source": [
    "# np.vstack() : 수직(vertical)으로 쌓기\n",
    "# np.hstack() : 수평(horizon)으로 쌓기\n",
    "np.vstack([arr2, arr2])\n",
    "np.hstack([arr2d, arr2d])"
   ]
  },
  {
   "cell_type": "code",
   "execution_count": null,
   "id": "0783f864-d0f0-4826-9efb-925e57f56aac",
   "metadata": {},
   "outputs": [],
   "source": []
  },
  {
   "cell_type": "markdown",
   "id": "d3e48caa-f24a-4981-b1bf-19d92c1ff8f9",
   "metadata": {
    "tags": []
   },
   "source": [
    "### numpy 기술(describe) 통계함수"
   ]
  },
  {
   "cell_type": "markdown",
   "id": "120ff932-6805-440c-83c6-987f78b7a64c",
   "metadata": {},
   "source": [
    "x= np.array([18,5,3,4,7,12,17,8,23, -1,-2,-9,-20,0,3,4,9,20])\n",
    "\n",
    "- 배열의 갯수 : len(x)\n",
    "- 데이터 갯수(count) : np.count(x)\n",
    "- 평균(mean, average) : np.mean(x)\n",
    "- 표준편차(standard deviation) : np.std(x)\n",
    "- 분산(variance) : np.var(x)\n",
    "- 최소값(minimum) : np.min(x)\n",
    "- 최대값(maximum) : np.max(x)\n",
    "- 중앙값(median) : np.median(x)\n",
    "- 최빈값(most frequency) : mode(x)\n",
    "- scipy.stats 모듈의 mode(x) 함수 사용\n",
    "- from scipy.stats import mode\n",
    "- 사분위수(quartile) :\n",
    "- np.percentile(x,0)\n",
    "- np.percentile(x,25)\n",
    "- np.percentile(x,50) # median() = 중앙값\n",
    "- np.percentile(x,70)\n",
    "- 합계 : np.sum(x)\n",
    "- 누적곱 : np.cumprod(x)\n",
    "- 누적합 : np.cumsum(x)\n",
    "- 공분산 : 3행 3열의 난수를 생성\n",
    "\n",
    "-- y = np.random.randn(3,3) -- np.cov(y)"
   ]
  },
  {
   "cell_type": "code",
   "execution_count": 265,
   "id": "27a9a82b-4320-4e7a-867c-1960e8f4050c",
   "metadata": {
    "tags": []
   },
   "outputs": [
    {
     "data": {
      "text/plain": [
       "array([ 18,   5,   4,   8,   7,  12,  17,   8,  23,  -1,  -2,  -9, -20,\n",
       "         0,   3,   4,   9,  20])"
      ]
     },
     "execution_count": 265,
     "metadata": {},
     "output_type": "execute_result"
    }
   ],
   "source": [
    "# ndarray 전체 요소 개수\n",
    "x = np.array([18,5,4,8,7,12,17,8,23,-1,-2,-9,-20,0,3,4,9,20])\n",
    "x"
   ]
  },
  {
   "cell_type": "code",
   "execution_count": 266,
   "id": "159d05cc-eb41-4073-be00-f0448a1dfbe9",
   "metadata": {
    "tags": []
   },
   "outputs": [
    {
     "data": {
      "text/plain": [
       "18"
      ]
     },
     "execution_count": 266,
     "metadata": {},
     "output_type": "execute_result"
    }
   ],
   "source": [
    "len(x)"
   ]
  },
  {
   "cell_type": "code",
   "execution_count": 268,
   "id": "cb316883-ba0f-496b-b5cc-435ea267462a",
   "metadata": {
    "tags": []
   },
   "outputs": [
    {
     "data": {
      "text/plain": [
       "18"
      ]
     },
     "execution_count": 268,
     "metadata": {},
     "output_type": "execute_result"
    }
   ],
   "source": [
    "np.size(x)"
   ]
  },
  {
   "cell_type": "code",
   "execution_count": 270,
   "id": "26bb1d7f-b489-40be-a7b4-f9b98d8bb1e7",
   "metadata": {
    "tags": []
   },
   "outputs": [
    {
     "data": {
      "text/plain": [
       "5.888888888888889"
      ]
     },
     "execution_count": 270,
     "metadata": {},
     "output_type": "execute_result"
    }
   ],
   "source": [
    "np.mean(x)"
   ]
  },
  {
   "cell_type": "code",
   "execution_count": 272,
   "id": "7cbb20d6-efa1-4e97-821a-d8cc9dae499d",
   "metadata": {
    "tags": []
   },
   "outputs": [
    {
     "data": {
      "text/plain": [
       "10.197433712507655"
      ]
     },
     "execution_count": 272,
     "metadata": {},
     "output_type": "execute_result"
    }
   ],
   "source": [
    "np.std(x)"
   ]
  },
  {
   "cell_type": "code",
   "execution_count": 274,
   "id": "9d0dd904-a9d3-413a-9628-8d212f05ba4b",
   "metadata": {
    "tags": []
   },
   "outputs": [
    {
     "data": {
      "text/plain": [
       "103.98765432098766"
      ]
     },
     "execution_count": 274,
     "metadata": {},
     "output_type": "execute_result"
    }
   ],
   "source": [
    "np.var(x)"
   ]
  },
  {
   "cell_type": "code",
   "execution_count": null,
   "id": "17515bb0-0219-4b88-aad6-0000370086aa",
   "metadata": {},
   "outputs": [],
   "source": []
  },
  {
   "cell_type": "markdown",
   "id": "42176177-2936-42ac-bb16-c6a0400f8e47",
   "metadata": {
    "tags": []
   },
   "source": [
    "### ndarray 내 요소별 개수 카운트하는 방법\n",
    "- 값 배열 = np.unique(x)\n",
    "- 값 배열, 갯수 배열 = np.unique(x, return_counts=true)"
   ]
  },
  {
   "cell_type": "code",
   "execution_count": 233,
   "id": "a2bcb057-c5f9-4558-a901-d43b10af1ded",
   "metadata": {
    "tags": []
   },
   "outputs": [
    {
     "data": {
      "text/plain": [
       "(array([-20,  -9,  -2,  -1,   0,   3,   4,   5,   7,   8,   9,  12,  17,\n",
       "         18,  20,  23]),\n",
       " array([1, 1, 1, 1, 1, 1, 2, 1, 1, 2, 1, 1, 1, 1, 1, 1], dtype=int64))"
      ]
     },
     "execution_count": 233,
     "metadata": {},
     "output_type": "execute_result"
    }
   ],
   "source": [
    "unique, counts = np.unique(x, return_counts = True)\n",
    "unique, counts"
   ]
  },
  {
   "cell_type": "code",
   "execution_count": 235,
   "id": "283a0f72-935b-4013-b3bd-ca28407cf892",
   "metadata": {
    "tags": []
   },
   "outputs": [
    {
     "data": {
      "text/plain": [
       "{-20: 1,\n",
       " -9: 1,\n",
       " -2: 1,\n",
       " -1: 1,\n",
       " 0: 1,\n",
       " 3: 1,\n",
       " 4: 2,\n",
       " 5: 1,\n",
       " 7: 1,\n",
       " 8: 2,\n",
       " 9: 1,\n",
       " 12: 1,\n",
       " 17: 1,\n",
       " 18: 1,\n",
       " 20: 1,\n",
       " 23: 1}"
      ]
     },
     "execution_count": 235,
     "metadata": {},
     "output_type": "execute_result"
    }
   ],
   "source": [
    "nums_cnt = dict(zip(unique,counts))\n",
    "nums_cnt"
   ]
  },
  {
   "cell_type": "code",
   "execution_count": null,
   "id": "271431e8-a96b-46c6-adfe-0793c541ef35",
   "metadata": {},
   "outputs": [],
   "source": []
  },
  {
   "cell_type": "code",
   "execution_count": 237,
   "id": "d407af04-65e4-4450-86c2-da75352d2211",
   "metadata": {
    "tags": []
   },
   "outputs": [],
   "source": [
    "# 사분위수"
   ]
  },
  {
   "cell_type": "code",
   "execution_count": 10,
   "id": "72f85d14-ff0d-4b75-8d14-1c86ff95b6dd",
   "metadata": {
    "tags": []
   },
   "outputs": [
    {
     "data": {
      "text/plain": [
       "array([ 18,   5,   4,   8,   7,  12,  17,   8,  23,  -1,  -2,  -9, -20,\n",
       "         0,   3,   4,   9,  20])"
      ]
     },
     "execution_count": 10,
     "metadata": {},
     "output_type": "execute_result"
    }
   ],
   "source": [
    "x = np.array([18,5,4,8,7,12,17,8,23,-1,-2,-9,-20,0,3,4,9,20])\n",
    "x"
   ]
  },
  {
   "cell_type": "code",
   "execution_count": 283,
   "id": "140fc751-d0d7-40a5-80d4-e73729b93296",
   "metadata": {
    "tags": []
   },
   "outputs": [
    {
     "data": {
      "text/plain": [
       "-20.0"
      ]
     },
     "execution_count": 283,
     "metadata": {},
     "output_type": "execute_result"
    }
   ],
   "source": [
    "# 최소값\n",
    "# np.min(x)\n",
    "np.percentile(x,0)"
   ]
  },
  {
   "cell_type": "code",
   "execution_count": 243,
   "id": "74c85874-72f1-4bd3-b829-f7b0eb273988",
   "metadata": {
    "tags": []
   },
   "outputs": [
    {
     "data": {
      "text/plain": [
       "0.75"
      ]
     },
     "execution_count": 243,
     "metadata": {},
     "output_type": "execute_result"
    }
   ],
   "source": [
    "np.percentile(x,25)"
   ]
  },
  {
   "cell_type": "code",
   "execution_count": 284,
   "id": "30ddf40e-3543-4727-8ec9-fe8d97f75e70",
   "metadata": {
    "tags": []
   },
   "outputs": [
    {
     "data": {
      "text/plain": [
       "6.0"
      ]
     },
     "execution_count": 284,
     "metadata": {},
     "output_type": "execute_result"
    }
   ],
   "source": [
    "# np.median(x)\n",
    "np.percentile(x,50)"
   ]
  },
  {
   "cell_type": "code",
   "execution_count": 282,
   "id": "824ef724-bc4f-485c-824b-dd3219e00bee",
   "metadata": {
    "tags": []
   },
   "outputs": [
    {
     "data": {
      "text/plain": [
       "23.0"
      ]
     },
     "execution_count": 282,
     "metadata": {},
     "output_type": "execute_result"
    }
   ],
   "source": [
    "# 최대값\n",
    "# np.max(x)\n",
    "np.percentile(x,100)"
   ]
  },
  {
   "cell_type": "code",
   "execution_count": null,
   "id": "8be8054b-1a37-4af3-a32a-73609b23bad1",
   "metadata": {},
   "outputs": [],
   "source": []
  },
  {
   "cell_type": "code",
   "execution_count": 258,
   "id": "d9f6dabd-096e-4d20-ace5-4d5cc5345064",
   "metadata": {
    "tags": []
   },
   "outputs": [
    {
     "data": {
      "text/plain": [
       "array([8, 3, 6, 6, 9, 4, 3, 9, 3, 4])"
      ]
     },
     "execution_count": 258,
     "metadata": {},
     "output_type": "execute_result"
    }
   ],
   "source": [
    "x = np.array([8, 3, 6, 6, 9, 4, 3, 9, 3, 4])\n",
    "x"
   ]
  },
  {
   "cell_type": "code",
   "execution_count": 259,
   "id": "29a65861-0a01-4f90-83d8-11fdb198a3f9",
   "metadata": {
    "tags": []
   },
   "outputs": [
    {
     "data": {
      "text/plain": [
       "array([ 8, 11, 17, 23, 32, 36, 39, 48, 51, 55])"
      ]
     },
     "execution_count": 259,
     "metadata": {},
     "output_type": "execute_result"
    }
   ],
   "source": [
    "# 누적으로 더하기\n",
    "np.cumsum(x)"
   ]
  },
  {
   "cell_type": "code",
   "execution_count": 260,
   "id": "0522c526-dd20-4459-ba6a-4437adceaf72",
   "metadata": {
    "tags": []
   },
   "outputs": [
    {
     "data": {
      "text/plain": [
       "55"
      ]
     },
     "execution_count": 260,
     "metadata": {},
     "output_type": "execute_result"
    }
   ],
   "source": [
    "# 누적합 최종 결과\n",
    "np.sum(x)"
   ]
  },
  {
   "cell_type": "code",
   "execution_count": 262,
   "id": "813dce16-32a2-4c05-a406-6f10cd618220",
   "metadata": {
    "tags": []
   },
   "outputs": [
    {
     "data": {
      "text/plain": [
       "array([       8,       24,      144,      864,     7776,    31104,\n",
       "          93312,   839808,  2519424, 10077696])"
      ]
     },
     "execution_count": 262,
     "metadata": {},
     "output_type": "execute_result"
    }
   ],
   "source": [
    "# 누적으로 곱하기(product)\n",
    "np.cumprod(x)"
   ]
  },
  {
   "cell_type": "code",
   "execution_count": 263,
   "id": "2cbc5aa3-3354-4ff2-89d5-f17ce81f06d9",
   "metadata": {
    "tags": []
   },
   "outputs": [
    {
     "data": {
      "text/plain": [
       "10077696"
      ]
     },
     "execution_count": 263,
     "metadata": {},
     "output_type": "execute_result"
    }
   ],
   "source": [
    "# 누적곱 최종 결과\n",
    "np.prod(x)"
   ]
  },
  {
   "cell_type": "code",
   "execution_count": 297,
   "id": "b302ab1c-498b-4948-b798-672f788f771e",
   "metadata": {
    "tags": []
   },
   "outputs": [
    {
     "data": {
      "text/plain": [
       "3"
      ]
     },
     "execution_count": 297,
     "metadata": {},
     "output_type": "execute_result"
    }
   ],
   "source": [
    "# arr = np.array([1, 2, 1, 4, 3, 3, 5, 3, 5, 9, 10, 12])\n",
    "# arr2 = np.bincount(arr)\n",
    "# arr2\n",
    "# 결과 : array([0, 2, 1, 3, 1, 2, 0, 0, 0, 1, 1, 0, 1], dtype=int64)\n",
    "# 숫자의 의미는 ? 최빈값... mode()와 같음\n",
    "# 0부터 마지막 숫자까지 순서대로 나온 값을 개수로 리턴\n",
    "np.argmax(arr2)"
   ]
  },
  {
   "cell_type": "code",
   "execution_count": null,
   "id": "5200dd94-8cb7-4e0c-9cf9-899621b47175",
   "metadata": {},
   "outputs": [],
   "source": []
  },
  {
   "cell_type": "code",
   "execution_count": null,
   "id": "d1e8c30d-086e-4bc6-b1b7-9da99c39f16e",
   "metadata": {},
   "outputs": [],
   "source": []
  },
  {
   "cell_type": "code",
   "execution_count": null,
   "id": "7ea0c6aa-6380-446f-9f49-536282476aa9",
   "metadata": {},
   "outputs": [],
   "source": []
  },
  {
   "cell_type": "markdown",
   "id": "66c80b34-6b02-4a61-adb4-46879dd90085",
   "metadata": {},
   "source": [
    "051623"
   ]
  },
  {
   "cell_type": "code",
   "execution_count": 7,
   "id": "c0eda378-2ef6-4e90-a660-6ea70c17757b",
   "metadata": {
    "tags": []
   },
   "outputs": [],
   "source": [
    "import numpy as np"
   ]
  },
  {
   "cell_type": "code",
   "execution_count": null,
   "id": "3683fde2-aa61-40a6-8d29-29aa8cc544de",
   "metadata": {},
   "outputs": [],
   "source": []
  },
  {
   "cell_type": "code",
   "execution_count": 11,
   "id": "3faa1cc9-0a98-4d5c-83c0-d321443b605a",
   "metadata": {
    "tags": []
   },
   "outputs": [
    {
     "name": "stdout",
     "output_type": "stream",
     "text": [
      "Requirement already satisfied: scipy in c:\\playdata_lab\\data_analysis\\da_venv\\lib\\site-packages (1.10.1)\n",
      "Requirement already satisfied: numpy<1.27.0,>=1.19.5 in c:\\playdata_lab\\data_analysis\\da_venv\\lib\\site-packages (from scipy) (1.24.3)\n"
     ]
    }
   ],
   "source": [
    "!pip install scipy"
   ]
  },
  {
   "cell_type": "code",
   "execution_count": 12,
   "id": "1cce6119-3717-4a54-acc4-0096606566fb",
   "metadata": {
    "tags": []
   },
   "outputs": [
    {
     "name": "stderr",
     "output_type": "stream",
     "text": [
      "C:\\Users\\hi806\\AppData\\Local\\Temp\\ipykernel_16308\\2992914129.py:2: FutureWarning: Unlike other reduction functions (e.g. `skew`, `kurtosis`), the default behavior of `mode` typically preserves the axis it acts along. In SciPy 1.11.0, this behavior will change: the default value of `keepdims` will become False, the `axis` over which the statistic is taken will be eliminated, and the value None will no longer be accepted. Set `keepdims` to True or False to avoid this warning.\n",
      "  mode(x)\n"
     ]
    },
    {
     "data": {
      "text/plain": [
       "ModeResult(mode=array([4]), count=array([2]))"
      ]
     },
     "execution_count": 12,
     "metadata": {},
     "output_type": "execute_result"
    }
   ],
   "source": [
    "from scipy.stats import mode\n",
    "mode(x)"
   ]
  },
  {
   "cell_type": "code",
   "execution_count": null,
   "id": "380040d5-cd9d-466b-88fd-2b433cc38d7e",
   "metadata": {},
   "outputs": [],
   "source": []
  },
  {
   "cell_type": "markdown",
   "id": "0a4677d7-9679-4c3c-9a5e-5f9484804e28",
   "metadata": {},
   "source": [
    "### 공분산 (covariance = linear dependence... between the two random variables)\n",
    "- does not mean the same thing as in the context of linear algebra\n",
    "- Covariance Matrix is a measure of how much two random variables gets change together\n",
    "#### 용어 정의\n",
    "- 분산(variance) : 관측값에서 평균을 뺀 값을 제곱한 것\n",
    "- 표준 편차(standard deviation) : 분산을 제곱근한 것"
   ]
  },
  {
   "cell_type": "code",
   "execution_count": 15,
   "id": "b2546aaf-6d46-4103-978d-d3d925c7b1fe",
   "metadata": {
    "tags": []
   },
   "outputs": [],
   "source": [
    "x = np.array([8, 3, 6, 6, 9, 4, 3, 9, 3, 4])\n",
    "y = np.array([6, 2, 4, 6, 10, 5, 1, 8, 4, 5])"
   ]
  },
  {
   "cell_type": "code",
   "execution_count": 16,
   "id": "b55690b4-9481-47fa-8810-ee718ddf58eb",
   "metadata": {
    "tags": []
   },
   "outputs": [],
   "source": [
    "x2 = np.array([1, 3, 4, 6, 8, 9, 10, 8, 9, 10])\n",
    "y2 = np.array([4, 5, 6, 7, 8, 10, 10, 13, 12, 13])"
   ]
  },
  {
   "cell_type": "code",
   "execution_count": null,
   "id": "0d5773c9-bdf5-46a5-97da-e142454c475a",
   "metadata": {},
   "outputs": [],
   "source": []
  },
  {
   "cell_type": "code",
   "execution_count": 14,
   "id": "dd93370f-6094-4293-af2a-2b80ae99347d",
   "metadata": {
    "tags": []
   },
   "outputs": [
    {
     "name": "stdout",
     "output_type": "stream",
     "text": [
      "Collecting matplotlib\n",
      "  Downloading matplotlib-3.7.1-cp39-cp39-win_amd64.whl (7.6 MB)\n",
      "                                              0.0/7.6 MB ? eta -:--:--\n",
      "     -                                        0.2/7.6 MB 6.3 MB/s eta 0:00:02\n",
      "     ---                                      0.7/7.6 MB 9.2 MB/s eta 0:00:01\n",
      "     ------                                   1.2/7.6 MB 9.6 MB/s eta 0:00:01\n",
      "     ---------                                1.7/7.6 MB 10.1 MB/s eta 0:00:01\n",
      "     -----------                              2.3/7.6 MB 10.3 MB/s eta 0:00:01\n",
      "     --------------                           2.8/7.6 MB 10.4 MB/s eta 0:00:01\n",
      "     ----------------                         3.2/7.6 MB 10.7 MB/s eta 0:00:01\n",
      "     -------------------                      3.6/7.6 MB 10.6 MB/s eta 0:00:01\n",
      "     ---------------------                    4.2/7.6 MB 10.7 MB/s eta 0:00:01\n",
      "     ------------------------                 4.7/7.6 MB 10.6 MB/s eta 0:00:01\n",
      "     ---------------------------              5.2/7.6 MB 10.7 MB/s eta 0:00:01\n",
      "     -----------------------------            5.7/7.6 MB 10.7 MB/s eta 0:00:01\n",
      "     --------------------------------         6.2/7.6 MB 10.8 MB/s eta 0:00:01\n",
      "     -----------------------------------      6.8/7.6 MB 10.8 MB/s eta 0:00:01\n",
      "     ------------------------------------     7.0/7.6 MB 10.4 MB/s eta 0:00:01\n",
      "     ---------------------------------------  7.5/7.6 MB 10.6 MB/s eta 0:00:01\n",
      "     ---------------------------------------  7.6/7.6 MB 10.6 MB/s eta 0:00:01\n",
      "     ---------------------------------------  7.6/7.6 MB 10.6 MB/s eta 0:00:01\n",
      "     ---------------------------------------  7.6/7.6 MB 10.6 MB/s eta 0:00:01\n",
      "     ---------------------------------------- 7.6/7.6 MB 8.9 MB/s eta 0:00:00\n",
      "Collecting contourpy>=1.0.1 (from matplotlib)\n",
      "  Downloading contourpy-1.0.7-cp39-cp39-win_amd64.whl (160 kB)\n",
      "                                              0.0/160.2 kB ? eta -:--:--\n",
      "     ---------------------------------------- 160.2/160.2 kB 9.4 MB/s eta 0:00:00\n",
      "Collecting cycler>=0.10 (from matplotlib)\n",
      "  Using cached cycler-0.11.0-py3-none-any.whl (6.4 kB)\n",
      "Collecting fonttools>=4.22.0 (from matplotlib)\n",
      "  Downloading fonttools-4.39.4-py3-none-any.whl (1.0 MB)\n",
      "                                              0.0/1.0 MB ? eta -:--:--\n",
      "     --------------                           0.4/1.0 MB 11.6 MB/s eta 0:00:01\n",
      "     ----------------------------------       0.9/1.0 MB 11.2 MB/s eta 0:00:01\n",
      "     ---------------------------------------- 1.0/1.0 MB 10.6 MB/s eta 0:00:00\n",
      "Collecting kiwisolver>=1.0.1 (from matplotlib)\n",
      "  Downloading kiwisolver-1.4.4-cp39-cp39-win_amd64.whl (55 kB)\n",
      "                                              0.0/55.4 kB ? eta -:--:--\n",
      "     ---------------------------------------- 55.4/55.4 kB 3.0 MB/s eta 0:00:00\n",
      "Requirement already satisfied: numpy>=1.20 in c:\\playdata_lab\\data_analysis\\da_venv\\lib\\site-packages (from matplotlib) (1.24.3)\n",
      "Requirement already satisfied: packaging>=20.0 in c:\\playdata_lab\\data_analysis\\da_venv\\lib\\site-packages (from matplotlib) (23.1)\n",
      "Collecting pillow>=6.2.0 (from matplotlib)\n",
      "  Downloading Pillow-9.5.0-cp39-cp39-win_amd64.whl (2.5 MB)\n",
      "                                              0.0/2.5 MB ? eta -:--:--\n",
      "     -------                                  0.5/2.5 MB 10.5 MB/s eta 0:00:01\n",
      "     ---------------                          1.0/2.5 MB 10.2 MB/s eta 0:00:01\n",
      "     --------------------                     1.3/2.5 MB 9.2 MB/s eta 0:00:01\n",
      "     ----------------------------             1.8/2.5 MB 9.7 MB/s eta 0:00:01\n",
      "     -------------------------------------    2.4/2.5 MB 10.0 MB/s eta 0:00:01\n",
      "     ---------------------------------------- 2.5/2.5 MB 9.5 MB/s eta 0:00:00\n",
      "Collecting pyparsing>=2.3.1 (from matplotlib)\n",
      "  Using cached pyparsing-3.0.9-py3-none-any.whl (98 kB)\n",
      "Requirement already satisfied: python-dateutil>=2.7 in c:\\playdata_lab\\data_analysis\\da_venv\\lib\\site-packages (from matplotlib) (2.8.2)\n",
      "Collecting importlib-resources>=3.2.0 (from matplotlib)\n",
      "  Downloading importlib_resources-5.12.0-py3-none-any.whl (36 kB)\n",
      "Requirement already satisfied: zipp>=3.1.0 in c:\\playdata_lab\\data_analysis\\da_venv\\lib\\site-packages (from importlib-resources>=3.2.0->matplotlib) (3.15.0)\n",
      "Requirement already satisfied: six>=1.5 in c:\\playdata_lab\\data_analysis\\da_venv\\lib\\site-packages (from python-dateutil>=2.7->matplotlib) (1.16.0)\n",
      "Installing collected packages: pyparsing, pillow, kiwisolver, importlib-resources, fonttools, cycler, contourpy, matplotlib\n",
      "Successfully installed contourpy-1.0.7 cycler-0.11.0 fonttools-4.39.4 importlib-resources-5.12.0 kiwisolver-1.4.4 matplotlib-3.7.1 pillow-9.5.0 pyparsing-3.0.9\n",
      "Note: you may need to restart the kernel to use updated packages.\n"
     ]
    }
   ],
   "source": [
    "pip install matplotlib"
   ]
  },
  {
   "cell_type": "code",
   "execution_count": 18,
   "id": "505dbda2-8c59-4151-b72c-5bc0f30185d4",
   "metadata": {
    "tags": []
   },
   "outputs": [
    {
     "data": {
      "text/plain": [
       "<function matplotlib.pyplot.show(close=None, block=None)>"
      ]
     },
     "execution_count": 18,
     "metadata": {},
     "output_type": "execute_result"
    },
    {
     "data": {
      "image/png": "[encoded data removed]",
      "text/plain": [
       "<Figure size 640x480 with 1 Axes>"
      ]
     },
     "metadata": {},
     "output_type": "display_data"
    }
   ],
   "source": [
    "# x, y의 값의 변화\n",
    "import matplotlib.pyplot as plt\n",
    "\n",
    "plt.xlabel('x-label')\n",
    "plt.ylabel('y-label')\n",
    "plt.plot(x2, y2, 'o')\n",
    "plt.show"
   ]
  },
  {
   "cell_type": "code",
   "execution_count": 20,
   "id": "4278dd3f-1bb8-4042-bfca-f55e3ef9205e",
   "metadata": {
    "tags": []
   },
   "outputs": [
    {
     "data": {
      "text/plain": [
       "array([[ 9.95555556,  9.17777778],\n",
       "       [ 9.17777778, 10.84444444]])"
      ]
     },
     "execution_count": 20,
     "metadata": {},
     "output_type": "execute_result"
    }
   ],
   "source": [
    "np.cov(x2, y2)"
   ]
  },
  {
   "cell_type": "code",
   "execution_count": 22,
   "id": "6a6e8e16-2b0e-4b12-a304-903652f09dc0",
   "metadata": {
    "tags": []
   },
   "outputs": [
    {
     "data": {
      "text/plain": [
       "6.055555555555555"
      ]
     },
     "execution_count": 22,
     "metadata": {},
     "output_type": "execute_result"
    }
   ],
   "source": [
    "# x 내에서 공분산\n",
    "np.cov(x,y)[0][0]"
   ]
  },
  {
   "cell_type": "code",
   "execution_count": 24,
   "id": "aa2dc9f4-ed65-48cd-9241-f7559e1912b6",
   "metadata": {
    "tags": []
   },
   "outputs": [
    {
     "data": {
      "text/plain": [
       "5.61111111111111"
      ]
     },
     "execution_count": 24,
     "metadata": {},
     "output_type": "execute_result"
    }
   ],
   "source": [
    "# x에 대해 y의 공분산\n",
    "np.cov(x,y)[0][1]"
   ]
  },
  {
   "cell_type": "code",
   "execution_count": 26,
   "id": "403b9bb8-a911-469e-93ab-2ba9153f0d35",
   "metadata": {
    "tags": []
   },
   "outputs": [
    {
     "data": {
      "text/plain": [
       "5.61111111111111"
      ]
     },
     "execution_count": 26,
     "metadata": {},
     "output_type": "execute_result"
    }
   ],
   "source": [
    "# y에 대해 x의 공분산\n",
    "np.cov(x,y)[1][0]"
   ]
  },
  {
   "cell_type": "code",
   "execution_count": 27,
   "id": "c2d441ff-4d16-4944-bfce-abb737ef7cb3",
   "metadata": {
    "tags": []
   },
   "outputs": [
    {
     "data": {
      "text/plain": [
       "6.988888888888888"
      ]
     },
     "execution_count": 27,
     "metadata": {},
     "output_type": "execute_result"
    }
   ],
   "source": [
    "# y 내에서의 공분산\n",
    "np.cov(x,y)[1][1]"
   ]
  }
 ],
 "metadata": {
  "kernelspec": {
   "display_name": "da_venv",
   "language": "python",
   "name": "da_venv"
  },
  "language_info": {
   "codemirror_mode": {
    "name": "ipython",
    "version": 3
   },
   "file_extension": ".py",
   "mimetype": "text/x-python",
   "name": "python",
   "nbconvert_exporter": "python",
   "pygments_lexer": "ipython3",
   "version": "3.9.13"
  }
 },
 "nbformat": 4,
 "nbformat_minor": 5
}
