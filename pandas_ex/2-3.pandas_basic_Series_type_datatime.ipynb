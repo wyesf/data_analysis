{
 "cells": [
  {
   "cell_type": "markdown",
   "id": "c18c96e7-f196-4fd0-b1fc-da3d0d61c7a3",
   "metadata": {},
   "source": [
    "# 데이터 프레임의 타입\n",
    "- 각 컬럼(열)별로 데이터의 타입을 확인하는 방법\n",
    "- 데이터 타입 변경 방법"
   ]
  },
  {
   "cell_type": "code",
   "execution_count": 1,
   "id": "50476eb2-2117-4df8-92b8-912c9eda73b7",
   "metadata": {
    "tags": []
   },
   "outputs": [],
   "source": [
    "import pandas as pd"
   ]
  },
  {
   "cell_type": "code",
   "execution_count": null,
   "id": "e53e132e-69c8-4d2d-b019-b436c39159b0",
   "metadata": {},
   "outputs": [],
   "source": []
  },
  {
   "cell_type": "markdown",
   "id": "7d729448-031c-461e-8b58-5156fb694704",
   "metadata": {
    "tags": []
   },
   "source": [
    "## 데이터프레임 로드"
   ]
  },
  {
   "cell_type": "code",
   "execution_count": 4,
   "id": "2b593519-4d51-4c23-befa-88d87ad34316",
   "metadata": {
    "tags": []
   },
   "outputs": [
    {
     "data": {
      "text/html": [
       "<div>\n",
       "<style scoped>\n",
       "    .dataframe tbody tr th:only-of-type {\n",
       "        vertical-align: middle;\n",
       "    }\n",
       "\n",
       "    .dataframe tbody tr th {\n",
       "        vertical-align: top;\n",
       "    }\n",
       "\n",
       "    .dataframe thead th {\n",
       "        text-align: right;\n",
       "    }\n",
       "</style>\n",
       "<table border=\"1\" class=\"dataframe\">\n",
       "  <thead>\n",
       "    <tr style=\"text-align: right;\">\n",
       "      <th></th>\n",
       "      <th>이름</th>\n",
       "      <th>그룹</th>\n",
       "      <th>소속사</th>\n",
       "      <th>성별</th>\n",
       "      <th>생년월일</th>\n",
       "      <th>키</th>\n",
       "      <th>혈액형</th>\n",
       "      <th>인기지수</th>\n",
       "    </tr>\n",
       "  </thead>\n",
       "  <tbody>\n",
       "    <tr>\n",
       "      <th>0</th>\n",
       "      <td>아이린</td>\n",
       "      <td>레드벨벳</td>\n",
       "      <td>SM</td>\n",
       "      <td>여자</td>\n",
       "      <td>1991-03-29</td>\n",
       "      <td>160.0</td>\n",
       "      <td>A</td>\n",
       "      <td>8256324</td>\n",
       "    </tr>\n",
       "    <tr>\n",
       "      <th>1</th>\n",
       "      <td>차은우</td>\n",
       "      <td>아스트로</td>\n",
       "      <td>판타지오</td>\n",
       "      <td>남자</td>\n",
       "      <td>1997-03-30</td>\n",
       "      <td>183.0</td>\n",
       "      <td>B</td>\n",
       "      <td>3506027</td>\n",
       "    </tr>\n",
       "    <tr>\n",
       "      <th>2</th>\n",
       "      <td>뷔</td>\n",
       "      <td>방탄소년단</td>\n",
       "      <td>빅히트</td>\n",
       "      <td>남자</td>\n",
       "      <td>1995-12-30</td>\n",
       "      <td>178.0</td>\n",
       "      <td>AB</td>\n",
       "      <td>8073501</td>\n",
       "    </tr>\n",
       "    <tr>\n",
       "      <th>3</th>\n",
       "      <td>민현</td>\n",
       "      <td>NaN</td>\n",
       "      <td>플레디스</td>\n",
       "      <td>남자</td>\n",
       "      <td>1995-08-09</td>\n",
       "      <td>182.3</td>\n",
       "      <td>O</td>\n",
       "      <td>4989792</td>\n",
       "    </tr>\n",
       "    <tr>\n",
       "      <th>4</th>\n",
       "      <td>소연</td>\n",
       "      <td>아이들</td>\n",
       "      <td>큐브</td>\n",
       "      <td>여자</td>\n",
       "      <td>1998-08-26</td>\n",
       "      <td>NaN</td>\n",
       "      <td>B</td>\n",
       "      <td>4668615</td>\n",
       "    </tr>\n",
       "  </tbody>\n",
       "</table>\n",
       "</div>"
      ],
      "text/plain": [
       "    이름     그룹   소속사  성별        생년월일      키 혈액형     인기지수\n",
       "0  아이린   레드벨벳    SM  여자  1991-03-29  160.0   A  8256324\n",
       "1  차은우   아스트로  판타지오  남자  1997-03-30  183.0   B  3506027\n",
       "2    뷔  방탄소년단   빅히트  남자  1995-12-30  178.0  AB  8073501\n",
       "3   민현    NaN  플레디스  남자  1995-08-09  182.3   O  4989792\n",
       "4   소연    아이들    큐브  여자  1998-08-26    NaN   B  4668615"
      ]
     },
     "execution_count": 4,
     "metadata": {},
     "output_type": "execute_result"
    }
   ],
   "source": [
    "df = pd.read_csv('datas/korea-star.csv')\n",
    "df.head()"
   ]
  },
  {
   "cell_type": "code",
   "execution_count": null,
   "id": "82971842-8925-43ed-90f7-82048cffa594",
   "metadata": {},
   "outputs": [],
   "source": []
  },
  {
   "cell_type": "markdown",
   "id": "558bedd7-9f84-47dd-9399-8f49c9ddc3a8",
   "metadata": {},
   "source": [
    "## 1. series의 type"
   ]
  },
  {
   "cell_type": "code",
   "execution_count": 5,
   "id": "708a174b-7b6b-402d-83e5-a84b657999b7",
   "metadata": {
    "tags": []
   },
   "outputs": [
    {
     "name": "stdout",
     "output_type": "stream",
     "text": [
      "<class 'pandas.core.frame.DataFrame'>\n",
      "RangeIndex: 16 entries, 0 to 15\n",
      "Data columns (total 8 columns):\n",
      " #   Column  Non-Null Count  Dtype  \n",
      "---  ------  --------------  -----  \n",
      " 0   이름      16 non-null     object \n",
      " 1   그룹      14 non-null     object \n",
      " 2   소속사     16 non-null     object \n",
      " 3   성별      16 non-null     object \n",
      " 4   생년월일    16 non-null     object \n",
      " 5   키       14 non-null     float64\n",
      " 6   혈액형     16 non-null     object \n",
      " 7   인기지수    16 non-null     int64  \n",
      "dtypes: float64(1), int64(1), object(6)\n",
      "memory usage: 1.1+ KB\n"
     ]
    }
   ],
   "source": [
    "# type 확인\n",
    "df.info()"
   ]
  },
  {
   "cell_type": "code",
   "execution_count": 12,
   "id": "8a5a1f99-36f0-47a5-b424-a4a783cfb791",
   "metadata": {
    "tags": []
   },
   "outputs": [
    {
     "name": "stdout",
     "output_type": "stream",
     "text": [
      "float64\n"
     ]
    },
    {
     "ename": "IntCastingNaNError",
     "evalue": "Cannot convert non-finite values (NA or inf) to integer",
     "output_type": "error",
     "traceback": [
      "\u001b[1;31m---------------------------------------------------------------------------\u001b[0m",
      "\u001b[1;31mIntCastingNaNError\u001b[0m                        Traceback (most recent call last)",
      "Cell \u001b[1;32mIn[12], line 6\u001b[0m\n\u001b[0;32m      1\u001b[0m \u001b[38;5;66;03m# type 변환\u001b[39;00m\n\u001b[0;32m      2\u001b[0m \u001b[38;5;66;03m# type 변환을 위해서는 astype이라는 메소드를 사용\u001b[39;00m\n\u001b[0;32m      3\u001b[0m \n\u001b[0;32m      4\u001b[0m \u001b[38;5;66;03m# 키 column은 현재 float, 정수형인 int type으로 변경 함\u001b[39;00m\n\u001b[0;32m      5\u001b[0m \u001b[38;5;28mprint\u001b[39m(df[\u001b[38;5;124m'\u001b[39m\u001b[38;5;124m키\u001b[39m\u001b[38;5;124m'\u001b[39m]\u001b[38;5;241m.\u001b[39mdtypes)\n\u001b[1;32m----> 6\u001b[0m \u001b[38;5;28mprint\u001b[39m(\u001b[43mdf\u001b[49m\u001b[43m[\u001b[49m\u001b[38;5;124;43m'\u001b[39;49m\u001b[38;5;124;43m키\u001b[39;49m\u001b[38;5;124;43m'\u001b[39;49m\u001b[43m]\u001b[49m\u001b[38;5;241;43m.\u001b[39;49m\u001b[43mastype\u001b[49m\u001b[43m(\u001b[49m\u001b[38;5;28;43mint\u001b[39;49m\u001b[43m)\u001b[49m)\n\u001b[0;32m      7\u001b[0m \u001b[38;5;66;03m# df['키'].astype(int) : 에러발생. NaN 값이 들어있기 때문\u001b[39;00m\n",
      "File \u001b[1;32mC:\\playdata_lab\\data_analysis\\da_venv\\lib\\site-packages\\pandas\\core\\generic.py:6324\u001b[0m, in \u001b[0;36mNDFrame.astype\u001b[1;34m(self, dtype, copy, errors)\u001b[0m\n\u001b[0;32m   6317\u001b[0m     results \u001b[38;5;241m=\u001b[39m [\n\u001b[0;32m   6318\u001b[0m         \u001b[38;5;28mself\u001b[39m\u001b[38;5;241m.\u001b[39miloc[:, i]\u001b[38;5;241m.\u001b[39mastype(dtype, copy\u001b[38;5;241m=\u001b[39mcopy)\n\u001b[0;32m   6319\u001b[0m         \u001b[38;5;28;01mfor\u001b[39;00m i \u001b[38;5;129;01min\u001b[39;00m \u001b[38;5;28mrange\u001b[39m(\u001b[38;5;28mlen\u001b[39m(\u001b[38;5;28mself\u001b[39m\u001b[38;5;241m.\u001b[39mcolumns))\n\u001b[0;32m   6320\u001b[0m     ]\n\u001b[0;32m   6322\u001b[0m \u001b[38;5;28;01melse\u001b[39;00m:\n\u001b[0;32m   6323\u001b[0m     \u001b[38;5;66;03m# else, only a single dtype is given\u001b[39;00m\n\u001b[1;32m-> 6324\u001b[0m     new_data \u001b[38;5;241m=\u001b[39m \u001b[38;5;28;43mself\u001b[39;49m\u001b[38;5;241;43m.\u001b[39;49m\u001b[43m_mgr\u001b[49m\u001b[38;5;241;43m.\u001b[39;49m\u001b[43mastype\u001b[49m\u001b[43m(\u001b[49m\u001b[43mdtype\u001b[49m\u001b[38;5;241;43m=\u001b[39;49m\u001b[43mdtype\u001b[49m\u001b[43m,\u001b[49m\u001b[43m \u001b[49m\u001b[43mcopy\u001b[49m\u001b[38;5;241;43m=\u001b[39;49m\u001b[43mcopy\u001b[49m\u001b[43m,\u001b[49m\u001b[43m \u001b[49m\u001b[43merrors\u001b[49m\u001b[38;5;241;43m=\u001b[39;49m\u001b[43merrors\u001b[49m\u001b[43m)\u001b[49m\n\u001b[0;32m   6325\u001b[0m     \u001b[38;5;28;01mreturn\u001b[39;00m \u001b[38;5;28mself\u001b[39m\u001b[38;5;241m.\u001b[39m_constructor(new_data)\u001b[38;5;241m.\u001b[39m__finalize__(\u001b[38;5;28mself\u001b[39m, method\u001b[38;5;241m=\u001b[39m\u001b[38;5;124m\"\u001b[39m\u001b[38;5;124mastype\u001b[39m\u001b[38;5;124m\"\u001b[39m)\n\u001b[0;32m   6327\u001b[0m \u001b[38;5;66;03m# GH 33113: handle empty frame or series\u001b[39;00m\n",
      "File \u001b[1;32mC:\\playdata_lab\\data_analysis\\da_venv\\lib\\site-packages\\pandas\\core\\internals\\managers.py:451\u001b[0m, in \u001b[0;36mBaseBlockManager.astype\u001b[1;34m(self, dtype, copy, errors)\u001b[0m\n\u001b[0;32m    448\u001b[0m \u001b[38;5;28;01melif\u001b[39;00m using_copy_on_write():\n\u001b[0;32m    449\u001b[0m     copy \u001b[38;5;241m=\u001b[39m \u001b[38;5;28;01mFalse\u001b[39;00m\n\u001b[1;32m--> 451\u001b[0m \u001b[38;5;28;01mreturn\u001b[39;00m \u001b[38;5;28;43mself\u001b[39;49m\u001b[38;5;241;43m.\u001b[39;49m\u001b[43mapply\u001b[49m\u001b[43m(\u001b[49m\n\u001b[0;32m    452\u001b[0m \u001b[43m    \u001b[49m\u001b[38;5;124;43m\"\u001b[39;49m\u001b[38;5;124;43mastype\u001b[39;49m\u001b[38;5;124;43m\"\u001b[39;49m\u001b[43m,\u001b[49m\n\u001b[0;32m    453\u001b[0m \u001b[43m    \u001b[49m\u001b[43mdtype\u001b[49m\u001b[38;5;241;43m=\u001b[39;49m\u001b[43mdtype\u001b[49m\u001b[43m,\u001b[49m\n\u001b[0;32m    454\u001b[0m \u001b[43m    \u001b[49m\u001b[43mcopy\u001b[49m\u001b[38;5;241;43m=\u001b[39;49m\u001b[43mcopy\u001b[49m\u001b[43m,\u001b[49m\n\u001b[0;32m    455\u001b[0m \u001b[43m    \u001b[49m\u001b[43merrors\u001b[49m\u001b[38;5;241;43m=\u001b[39;49m\u001b[43merrors\u001b[49m\u001b[43m,\u001b[49m\n\u001b[0;32m    456\u001b[0m \u001b[43m    \u001b[49m\u001b[43musing_cow\u001b[49m\u001b[38;5;241;43m=\u001b[39;49m\u001b[43musing_copy_on_write\u001b[49m\u001b[43m(\u001b[49m\u001b[43m)\u001b[49m\u001b[43m,\u001b[49m\n\u001b[0;32m    457\u001b[0m \u001b[43m\u001b[49m\u001b[43m)\u001b[49m\n",
      "File \u001b[1;32mC:\\playdata_lab\\data_analysis\\da_venv\\lib\\site-packages\\pandas\\core\\internals\\managers.py:352\u001b[0m, in \u001b[0;36mBaseBlockManager.apply\u001b[1;34m(self, f, align_keys, **kwargs)\u001b[0m\n\u001b[0;32m    350\u001b[0m         applied \u001b[38;5;241m=\u001b[39m b\u001b[38;5;241m.\u001b[39mapply(f, \u001b[38;5;241m*\u001b[39m\u001b[38;5;241m*\u001b[39mkwargs)\n\u001b[0;32m    351\u001b[0m     \u001b[38;5;28;01melse\u001b[39;00m:\n\u001b[1;32m--> 352\u001b[0m         applied \u001b[38;5;241m=\u001b[39m \u001b[38;5;28mgetattr\u001b[39m(b, f)(\u001b[38;5;241m*\u001b[39m\u001b[38;5;241m*\u001b[39mkwargs)\n\u001b[0;32m    353\u001b[0m     result_blocks \u001b[38;5;241m=\u001b[39m extend_blocks(applied, result_blocks)\n\u001b[0;32m    355\u001b[0m out \u001b[38;5;241m=\u001b[39m \u001b[38;5;28mtype\u001b[39m(\u001b[38;5;28mself\u001b[39m)\u001b[38;5;241m.\u001b[39mfrom_blocks(result_blocks, \u001b[38;5;28mself\u001b[39m\u001b[38;5;241m.\u001b[39maxes)\n",
      "File \u001b[1;32mC:\\playdata_lab\\data_analysis\\da_venv\\lib\\site-packages\\pandas\\core\\internals\\blocks.py:511\u001b[0m, in \u001b[0;36mBlock.astype\u001b[1;34m(self, dtype, copy, errors, using_cow)\u001b[0m\n\u001b[0;32m    491\u001b[0m \u001b[38;5;250m\u001b[39m\u001b[38;5;124;03m\"\"\"\u001b[39;00m\n\u001b[0;32m    492\u001b[0m \u001b[38;5;124;03mCoerce to the new dtype.\u001b[39;00m\n\u001b[0;32m    493\u001b[0m \n\u001b[1;32m   (...)\u001b[0m\n\u001b[0;32m    507\u001b[0m \u001b[38;5;124;03mBlock\u001b[39;00m\n\u001b[0;32m    508\u001b[0m \u001b[38;5;124;03m\"\"\"\u001b[39;00m\n\u001b[0;32m    509\u001b[0m values \u001b[38;5;241m=\u001b[39m \u001b[38;5;28mself\u001b[39m\u001b[38;5;241m.\u001b[39mvalues\n\u001b[1;32m--> 511\u001b[0m new_values \u001b[38;5;241m=\u001b[39m \u001b[43mastype_array_safe\u001b[49m\u001b[43m(\u001b[49m\u001b[43mvalues\u001b[49m\u001b[43m,\u001b[49m\u001b[43m \u001b[49m\u001b[43mdtype\u001b[49m\u001b[43m,\u001b[49m\u001b[43m \u001b[49m\u001b[43mcopy\u001b[49m\u001b[38;5;241;43m=\u001b[39;49m\u001b[43mcopy\u001b[49m\u001b[43m,\u001b[49m\u001b[43m \u001b[49m\u001b[43merrors\u001b[49m\u001b[38;5;241;43m=\u001b[39;49m\u001b[43merrors\u001b[49m\u001b[43m)\u001b[49m\n\u001b[0;32m    513\u001b[0m new_values \u001b[38;5;241m=\u001b[39m maybe_coerce_values(new_values)\n\u001b[0;32m    515\u001b[0m refs \u001b[38;5;241m=\u001b[39m \u001b[38;5;28;01mNone\u001b[39;00m\n",
      "File \u001b[1;32mC:\\playdata_lab\\data_analysis\\da_venv\\lib\\site-packages\\pandas\\core\\dtypes\\astype.py:242\u001b[0m, in \u001b[0;36mastype_array_safe\u001b[1;34m(values, dtype, copy, errors)\u001b[0m\n\u001b[0;32m    239\u001b[0m     dtype \u001b[38;5;241m=\u001b[39m dtype\u001b[38;5;241m.\u001b[39mnumpy_dtype\n\u001b[0;32m    241\u001b[0m \u001b[38;5;28;01mtry\u001b[39;00m:\n\u001b[1;32m--> 242\u001b[0m     new_values \u001b[38;5;241m=\u001b[39m \u001b[43mastype_array\u001b[49m\u001b[43m(\u001b[49m\u001b[43mvalues\u001b[49m\u001b[43m,\u001b[49m\u001b[43m \u001b[49m\u001b[43mdtype\u001b[49m\u001b[43m,\u001b[49m\u001b[43m \u001b[49m\u001b[43mcopy\u001b[49m\u001b[38;5;241;43m=\u001b[39;49m\u001b[43mcopy\u001b[49m\u001b[43m)\u001b[49m\n\u001b[0;32m    243\u001b[0m \u001b[38;5;28;01mexcept\u001b[39;00m (\u001b[38;5;167;01mValueError\u001b[39;00m, \u001b[38;5;167;01mTypeError\u001b[39;00m):\n\u001b[0;32m    244\u001b[0m     \u001b[38;5;66;03m# e.g. _astype_nansafe can fail on object-dtype of strings\u001b[39;00m\n\u001b[0;32m    245\u001b[0m     \u001b[38;5;66;03m#  trying to convert to float\u001b[39;00m\n\u001b[0;32m    246\u001b[0m     \u001b[38;5;28;01mif\u001b[39;00m errors \u001b[38;5;241m==\u001b[39m \u001b[38;5;124m\"\u001b[39m\u001b[38;5;124mignore\u001b[39m\u001b[38;5;124m\"\u001b[39m:\n",
      "File \u001b[1;32mC:\\playdata_lab\\data_analysis\\da_venv\\lib\\site-packages\\pandas\\core\\dtypes\\astype.py:187\u001b[0m, in \u001b[0;36mastype_array\u001b[1;34m(values, dtype, copy)\u001b[0m\n\u001b[0;32m    184\u001b[0m     values \u001b[38;5;241m=\u001b[39m values\u001b[38;5;241m.\u001b[39mastype(dtype, copy\u001b[38;5;241m=\u001b[39mcopy)\n\u001b[0;32m    186\u001b[0m \u001b[38;5;28;01melse\u001b[39;00m:\n\u001b[1;32m--> 187\u001b[0m     values \u001b[38;5;241m=\u001b[39m \u001b[43m_astype_nansafe\u001b[49m\u001b[43m(\u001b[49m\u001b[43mvalues\u001b[49m\u001b[43m,\u001b[49m\u001b[43m \u001b[49m\u001b[43mdtype\u001b[49m\u001b[43m,\u001b[49m\u001b[43m \u001b[49m\u001b[43mcopy\u001b[49m\u001b[38;5;241;43m=\u001b[39;49m\u001b[43mcopy\u001b[49m\u001b[43m)\u001b[49m\n\u001b[0;32m    189\u001b[0m \u001b[38;5;66;03m# in pandas we don't store numpy str dtypes, so convert to object\u001b[39;00m\n\u001b[0;32m    190\u001b[0m \u001b[38;5;28;01mif\u001b[39;00m \u001b[38;5;28misinstance\u001b[39m(dtype, np\u001b[38;5;241m.\u001b[39mdtype) \u001b[38;5;129;01mand\u001b[39;00m \u001b[38;5;28missubclass\u001b[39m(values\u001b[38;5;241m.\u001b[39mdtype\u001b[38;5;241m.\u001b[39mtype, \u001b[38;5;28mstr\u001b[39m):\n",
      "File \u001b[1;32mC:\\playdata_lab\\data_analysis\\da_venv\\lib\\site-packages\\pandas\\core\\dtypes\\astype.py:105\u001b[0m, in \u001b[0;36m_astype_nansafe\u001b[1;34m(arr, dtype, copy, skipna)\u001b[0m\n\u001b[0;32m    100\u001b[0m     \u001b[38;5;28;01mreturn\u001b[39;00m lib\u001b[38;5;241m.\u001b[39mensure_string_array(\n\u001b[0;32m    101\u001b[0m         arr, skipna\u001b[38;5;241m=\u001b[39mskipna, convert_na_value\u001b[38;5;241m=\u001b[39m\u001b[38;5;28;01mFalse\u001b[39;00m\n\u001b[0;32m    102\u001b[0m     )\u001b[38;5;241m.\u001b[39mreshape(shape)\n\u001b[0;32m    104\u001b[0m \u001b[38;5;28;01melif\u001b[39;00m np\u001b[38;5;241m.\u001b[39missubdtype(arr\u001b[38;5;241m.\u001b[39mdtype, np\u001b[38;5;241m.\u001b[39mfloating) \u001b[38;5;129;01mand\u001b[39;00m is_integer_dtype(dtype):\n\u001b[1;32m--> 105\u001b[0m     \u001b[38;5;28;01mreturn\u001b[39;00m \u001b[43m_astype_float_to_int_nansafe\u001b[49m\u001b[43m(\u001b[49m\u001b[43marr\u001b[49m\u001b[43m,\u001b[49m\u001b[43m \u001b[49m\u001b[43mdtype\u001b[49m\u001b[43m,\u001b[49m\u001b[43m \u001b[49m\u001b[43mcopy\u001b[49m\u001b[43m)\u001b[49m\n\u001b[0;32m    107\u001b[0m \u001b[38;5;28;01melif\u001b[39;00m is_object_dtype(arr\u001b[38;5;241m.\u001b[39mdtype):\n\u001b[0;32m    108\u001b[0m     \u001b[38;5;66;03m# if we have a datetime/timedelta array of objects\u001b[39;00m\n\u001b[0;32m    109\u001b[0m     \u001b[38;5;66;03m# then coerce to datetime64[ns] and use DatetimeArray.astype\u001b[39;00m\n\u001b[0;32m    111\u001b[0m     \u001b[38;5;28;01mif\u001b[39;00m is_datetime64_dtype(dtype):\n",
      "File \u001b[1;32mC:\\playdata_lab\\data_analysis\\da_venv\\lib\\site-packages\\pandas\\core\\dtypes\\astype.py:150\u001b[0m, in \u001b[0;36m_astype_float_to_int_nansafe\u001b[1;34m(values, dtype, copy)\u001b[0m\n\u001b[0;32m    146\u001b[0m \u001b[38;5;250m\u001b[39m\u001b[38;5;124;03m\"\"\"\u001b[39;00m\n\u001b[0;32m    147\u001b[0m \u001b[38;5;124;03mastype with a check preventing converting NaN to an meaningless integer value.\u001b[39;00m\n\u001b[0;32m    148\u001b[0m \u001b[38;5;124;03m\"\"\"\u001b[39;00m\n\u001b[0;32m    149\u001b[0m \u001b[38;5;28;01mif\u001b[39;00m \u001b[38;5;129;01mnot\u001b[39;00m np\u001b[38;5;241m.\u001b[39misfinite(values)\u001b[38;5;241m.\u001b[39mall():\n\u001b[1;32m--> 150\u001b[0m     \u001b[38;5;28;01mraise\u001b[39;00m IntCastingNaNError(\n\u001b[0;32m    151\u001b[0m         \u001b[38;5;124m\"\u001b[39m\u001b[38;5;124mCannot convert non-finite values (NA or inf) to integer\u001b[39m\u001b[38;5;124m\"\u001b[39m\n\u001b[0;32m    152\u001b[0m     )\n\u001b[0;32m    153\u001b[0m \u001b[38;5;28;01mif\u001b[39;00m dtype\u001b[38;5;241m.\u001b[39mkind \u001b[38;5;241m==\u001b[39m \u001b[38;5;124m\"\u001b[39m\u001b[38;5;124mu\u001b[39m\u001b[38;5;124m\"\u001b[39m:\n\u001b[0;32m    154\u001b[0m     \u001b[38;5;66;03m# GH#45151\u001b[39;00m\n\u001b[0;32m    155\u001b[0m     \u001b[38;5;28;01mif\u001b[39;00m \u001b[38;5;129;01mnot\u001b[39;00m (values \u001b[38;5;241m>\u001b[39m\u001b[38;5;241m=\u001b[39m \u001b[38;5;241m0\u001b[39m)\u001b[38;5;241m.\u001b[39mall():\n",
      "\u001b[1;31mIntCastingNaNError\u001b[0m: Cannot convert non-finite values (NA or inf) to integer"
     ]
    }
   ],
   "source": [
    "# type 변환\n",
    "# type 변환을 위해서는 astype이라는 메소드를 사용\n",
    "\n",
    "# 키 column은 현재 float, 정수형인 int type으로 변경 함\n",
    "print(df['키'].dtypes)\n",
    "print(df['키'].astype(int))\n",
    "# df['키'].astype(int) : 에러발생. NaN 값이 들어있기 때문"
   ]
  },
  {
   "cell_type": "code",
   "execution_count": 14,
   "id": "bf70dccf-0efa-4fec-a0e8-db1376c522b7",
   "metadata": {
    "tags": []
   },
   "outputs": [],
   "source": [
    "# 때문에 fillna로 NaN 값을 임의로 채워줌\n",
    "df['키'] = df['키'].fillna(-1)"
   ]
  },
  {
   "cell_type": "code",
   "execution_count": 15,
   "id": "3bfe438d-9483-46b1-9585-d1dd00bba9b6",
   "metadata": {
    "tags": []
   },
   "outputs": [
    {
     "data": {
      "text/plain": [
       "0     160.0\n",
       "1     183.0\n",
       "2     178.0\n",
       "3     182.3\n",
       "4      -1.0\n",
       "5     179.2\n",
       "6      -1.0\n",
       "7     175.0\n",
       "8     176.0\n",
       "9     174.0\n",
       "10    180.0\n",
       "11    178.0\n",
       "12    162.1\n",
       "13    167.1\n",
       "14    161.0\n",
       "15    173.6\n",
       "Name: 키, dtype: float64"
      ]
     },
     "execution_count": 15,
     "metadata": {},
     "output_type": "execute_result"
    }
   ],
   "source": [
    "df['키']"
   ]
  },
  {
   "cell_type": "code",
   "execution_count": 18,
   "id": "a8d92fc5-2821-4a6c-96bd-41e8a3fe38b4",
   "metadata": {
    "tags": []
   },
   "outputs": [
    {
     "data": {
      "text/html": [
       "<div>\n",
       "<style scoped>\n",
       "    .dataframe tbody tr th:only-of-type {\n",
       "        vertical-align: middle;\n",
       "    }\n",
       "\n",
       "    .dataframe tbody tr th {\n",
       "        vertical-align: top;\n",
       "    }\n",
       "\n",
       "    .dataframe thead th {\n",
       "        text-align: right;\n",
       "    }\n",
       "</style>\n",
       "<table border=\"1\" class=\"dataframe\">\n",
       "  <thead>\n",
       "    <tr style=\"text-align: right;\">\n",
       "      <th></th>\n",
       "      <th>이름</th>\n",
       "      <th>그룹</th>\n",
       "      <th>소속사</th>\n",
       "      <th>성별</th>\n",
       "      <th>생년월일</th>\n",
       "      <th>키</th>\n",
       "      <th>혈액형</th>\n",
       "      <th>인기지수</th>\n",
       "    </tr>\n",
       "  </thead>\n",
       "  <tbody>\n",
       "    <tr>\n",
       "      <th>0</th>\n",
       "      <td>아이린</td>\n",
       "      <td>레드벨벳</td>\n",
       "      <td>SM</td>\n",
       "      <td>여자</td>\n",
       "      <td>1991-03-29</td>\n",
       "      <td>160</td>\n",
       "      <td>A</td>\n",
       "      <td>8256324</td>\n",
       "    </tr>\n",
       "    <tr>\n",
       "      <th>1</th>\n",
       "      <td>차은우</td>\n",
       "      <td>아스트로</td>\n",
       "      <td>판타지오</td>\n",
       "      <td>남자</td>\n",
       "      <td>1997-03-30</td>\n",
       "      <td>183</td>\n",
       "      <td>B</td>\n",
       "      <td>3506027</td>\n",
       "    </tr>\n",
       "    <tr>\n",
       "      <th>2</th>\n",
       "      <td>뷔</td>\n",
       "      <td>방탄소년단</td>\n",
       "      <td>빅히트</td>\n",
       "      <td>남자</td>\n",
       "      <td>1995-12-30</td>\n",
       "      <td>178</td>\n",
       "      <td>AB</td>\n",
       "      <td>8073501</td>\n",
       "    </tr>\n",
       "    <tr>\n",
       "      <th>3</th>\n",
       "      <td>민현</td>\n",
       "      <td>NaN</td>\n",
       "      <td>플레디스</td>\n",
       "      <td>남자</td>\n",
       "      <td>1995-08-09</td>\n",
       "      <td>182</td>\n",
       "      <td>O</td>\n",
       "      <td>4989792</td>\n",
       "    </tr>\n",
       "    <tr>\n",
       "      <th>4</th>\n",
       "      <td>소연</td>\n",
       "      <td>아이들</td>\n",
       "      <td>큐브</td>\n",
       "      <td>여자</td>\n",
       "      <td>1998-08-26</td>\n",
       "      <td>-1</td>\n",
       "      <td>B</td>\n",
       "      <td>4668615</td>\n",
       "    </tr>\n",
       "    <tr>\n",
       "      <th>5</th>\n",
       "      <td>진</td>\n",
       "      <td>방탄소년단</td>\n",
       "      <td>빅히트</td>\n",
       "      <td>남자</td>\n",
       "      <td>1992-12-04</td>\n",
       "      <td>179</td>\n",
       "      <td>O</td>\n",
       "      <td>4570308</td>\n",
       "    </tr>\n",
       "    <tr>\n",
       "      <th>6</th>\n",
       "      <td>윤아</td>\n",
       "      <td>소녀시대</td>\n",
       "      <td>SM</td>\n",
       "      <td>여자</td>\n",
       "      <td>1989-03-09</td>\n",
       "      <td>-1</td>\n",
       "      <td>A</td>\n",
       "      <td>3918661</td>\n",
       "    </tr>\n",
       "    <tr>\n",
       "      <th>7</th>\n",
       "      <td>백호</td>\n",
       "      <td>뉴이스트</td>\n",
       "      <td>플레디스</td>\n",
       "      <td>남자</td>\n",
       "      <td>1995-07-21</td>\n",
       "      <td>175</td>\n",
       "      <td>AB</td>\n",
       "      <td>3301654</td>\n",
       "    </tr>\n",
       "    <tr>\n",
       "      <th>8</th>\n",
       "      <td>JR</td>\n",
       "      <td>뉴이스트</td>\n",
       "      <td>플레디스</td>\n",
       "      <td>남자</td>\n",
       "      <td>1995-06-08</td>\n",
       "      <td>176</td>\n",
       "      <td>O</td>\n",
       "      <td>3274137</td>\n",
       "    </tr>\n",
       "    <tr>\n",
       "      <th>9</th>\n",
       "      <td>슈가</td>\n",
       "      <td>방탄소년단</td>\n",
       "      <td>빅히트</td>\n",
       "      <td>남자</td>\n",
       "      <td>1993-03-09</td>\n",
       "      <td>174</td>\n",
       "      <td>O</td>\n",
       "      <td>4925442</td>\n",
       "    </tr>\n",
       "    <tr>\n",
       "      <th>10</th>\n",
       "      <td>강다니엘</td>\n",
       "      <td>NaN</td>\n",
       "      <td>커넥트</td>\n",
       "      <td>남자</td>\n",
       "      <td>1996-12-10</td>\n",
       "      <td>180</td>\n",
       "      <td>A</td>\n",
       "      <td>8273745</td>\n",
       "    </tr>\n",
       "    <tr>\n",
       "      <th>11</th>\n",
       "      <td>정국</td>\n",
       "      <td>방탄소년단</td>\n",
       "      <td>빅히트</td>\n",
       "      <td>남자</td>\n",
       "      <td>1997-09-01</td>\n",
       "      <td>178</td>\n",
       "      <td>A</td>\n",
       "      <td>7208335</td>\n",
       "    </tr>\n",
       "    <tr>\n",
       "      <th>12</th>\n",
       "      <td>화사</td>\n",
       "      <td>마마무</td>\n",
       "      <td>RBW</td>\n",
       "      <td>여자</td>\n",
       "      <td>1995-07-23</td>\n",
       "      <td>162</td>\n",
       "      <td>A</td>\n",
       "      <td>7650928</td>\n",
       "    </tr>\n",
       "    <tr>\n",
       "      <th>13</th>\n",
       "      <td>하성운</td>\n",
       "      <td>핫샷</td>\n",
       "      <td>스타크루이엔티</td>\n",
       "      <td>남자</td>\n",
       "      <td>1994-03-22</td>\n",
       "      <td>167</td>\n",
       "      <td>A</td>\n",
       "      <td>4036489</td>\n",
       "    </tr>\n",
       "    <tr>\n",
       "      <th>14</th>\n",
       "      <td>슬기</td>\n",
       "      <td>레드벨벳</td>\n",
       "      <td>SM</td>\n",
       "      <td>여자</td>\n",
       "      <td>1994-02-10</td>\n",
       "      <td>161</td>\n",
       "      <td>A</td>\n",
       "      <td>5021452</td>\n",
       "    </tr>\n",
       "    <tr>\n",
       "      <th>15</th>\n",
       "      <td>지민</td>\n",
       "      <td>방탄소년단</td>\n",
       "      <td>빅히트</td>\n",
       "      <td>남자</td>\n",
       "      <td>1995-10-13</td>\n",
       "      <td>173</td>\n",
       "      <td>A</td>\n",
       "      <td>10523260</td>\n",
       "    </tr>\n",
       "  </tbody>\n",
       "</table>\n",
       "</div>"
      ],
      "text/plain": [
       "      이름     그룹      소속사  성별        생년월일    키 혈액형      인기지수\n",
       "0    아이린   레드벨벳       SM  여자  1991-03-29  160   A   8256324\n",
       "1    차은우   아스트로     판타지오  남자  1997-03-30  183   B   3506027\n",
       "2      뷔  방탄소년단      빅히트  남자  1995-12-30  178  AB   8073501\n",
       "3     민현    NaN     플레디스  남자  1995-08-09  182   O   4989792\n",
       "4     소연    아이들       큐브  여자  1998-08-26   -1   B   4668615\n",
       "5      진  방탄소년단      빅히트  남자  1992-12-04  179   O   4570308\n",
       "6     윤아   소녀시대       SM  여자  1989-03-09   -1   A   3918661\n",
       "7     백호   뉴이스트     플레디스  남자  1995-07-21  175  AB   3301654\n",
       "8     JR   뉴이스트     플레디스  남자  1995-06-08  176   O   3274137\n",
       "9     슈가  방탄소년단      빅히트  남자  1993-03-09  174   O   4925442\n",
       "10  강다니엘    NaN      커넥트  남자  1996-12-10  180   A   8273745\n",
       "11    정국  방탄소년단      빅히트  남자  1997-09-01  178   A   7208335\n",
       "12    화사    마마무      RBW  여자  1995-07-23  162   A   7650928\n",
       "13   하성운     핫샷  스타크루이엔티  남자  1994-03-22  167   A   4036489\n",
       "14    슬기   레드벨벳       SM  여자  1994-02-10  161   A   5021452\n",
       "15    지민  방탄소년단      빅히트  남자  1995-10-13  173   A  10523260"
      ]
     },
     "execution_count": 18,
     "metadata": {},
     "output_type": "execute_result"
    }
   ],
   "source": [
    "# 두 명령의 차이점을 확인 (dtypes: float64(1), dtypes: int32(1)의 차이)\n",
    "# 위는 시리즈에 값을 직접 int로 바꿨기 때문에 컬럼에 바로 대입\n",
    "# 아래는 식 전체가 데이터 프레임이므로 통째로 대입\n",
    "df['키'] = df['키'].astype(int)\n",
    "# df = df.astype({'키':'int'})\n",
    "df"
   ]
  },
  {
   "cell_type": "code",
   "execution_count": 19,
   "id": "234e645a-ff7d-4f27-9694-739326a3ceed",
   "metadata": {
    "tags": []
   },
   "outputs": [
    {
     "name": "stdout",
     "output_type": "stream",
     "text": [
      "<class 'pandas.core.frame.DataFrame'>\n",
      "RangeIndex: 16 entries, 0 to 15\n",
      "Data columns (total 8 columns):\n",
      " #   Column  Non-Null Count  Dtype \n",
      "---  ------  --------------  ----- \n",
      " 0   이름      16 non-null     object\n",
      " 1   그룹      14 non-null     object\n",
      " 2   소속사     16 non-null     object\n",
      " 3   성별      16 non-null     object\n",
      " 4   생년월일    16 non-null     object\n",
      " 5   키       16 non-null     int32 \n",
      " 6   혈액형     16 non-null     object\n",
      " 7   인기지수    16 non-null     int64 \n",
      "dtypes: int32(1), int64(1), object(6)\n",
      "memory usage: 1.1+ KB\n"
     ]
    }
   ],
   "source": [
    "df.info()"
   ]
  },
  {
   "cell_type": "code",
   "execution_count": null,
   "id": "49c3f3ad-4068-4b32-936a-3374fff47d4b",
   "metadata": {},
   "outputs": [],
   "source": []
  },
  {
   "cell_type": "code",
   "execution_count": 22,
   "id": "7f990b97-f4a4-43dc-9b08-c04ffe2b2440",
   "metadata": {
    "tags": []
   },
   "outputs": [
    {
     "data": {
      "text/plain": [
       "0     1991-03-29\n",
       "1     1997-03-30\n",
       "2     1995-12-30\n",
       "3     1995-08-09\n",
       "4     1998-08-26\n",
       "5     1992-12-04\n",
       "6     1989-03-09\n",
       "7     1995-07-21\n",
       "8     1995-06-08\n",
       "9     1993-03-09\n",
       "10    1996-12-10\n",
       "11    1997-09-01\n",
       "12    1995-07-23\n",
       "13    1994-03-22\n",
       "14    1994-02-10\n",
       "15    1995-10-13\n",
       "Name: 생년월일, dtype: object"
      ]
     },
     "execution_count": 22,
     "metadata": {},
     "output_type": "execute_result"
    }
   ],
   "source": [
    "# 날짜 변환하기 (datetime 타입)\n",
    "# 현재 문자열\n",
    "df['생년월일']"
   ]
  },
  {
   "cell_type": "code",
   "execution_count": 24,
   "id": "69e7cb1d-ded7-44e9-b29a-ad0b01ecd5f4",
   "metadata": {
    "tags": []
   },
   "outputs": [
    {
     "data": {
      "text/plain": [
       "0    1991-03-29\n",
       "1    1997-03-30\n",
       "2    1995-12-30\n",
       "3    1995-08-09\n",
       "4    1998-08-26\n",
       "5    1992-12-04\n",
       "6    1989-03-09\n",
       "7    1995-07-21\n",
       "8    1995-06-08\n",
       "9    1993-03-09\n",
       "10   1996-12-10\n",
       "11   1997-09-01\n",
       "12   1995-07-23\n",
       "13   1994-03-22\n",
       "14   1994-02-10\n",
       "15   1995-10-13\n",
       "Name: 생년월일, dtype: datetime64[ns]"
      ]
     },
     "execution_count": 24,
     "metadata": {},
     "output_type": "execute_result"
    }
   ],
   "source": [
    "# pandas 내부 메서드 to_datetime() 사용\n",
    "# datetime 타입으로 바꾸기\n",
    "pd.to_datetime(df['생년월일'])"
   ]
  },
  {
   "cell_type": "code",
   "execution_count": 25,
   "id": "7d86ce6c-3833-456b-9395-bf8da98bbeeb",
   "metadata": {
    "tags": []
   },
   "outputs": [
    {
     "data": {
      "text/plain": [
       "0    1991-03-29\n",
       "1    1997-03-30\n",
       "2    1995-12-30\n",
       "3    1995-08-09\n",
       "4    1998-08-26\n",
       "5    1992-12-04\n",
       "6    1989-03-09\n",
       "7    1995-07-21\n",
       "8    1995-06-08\n",
       "9    1993-03-09\n",
       "10   1996-12-10\n",
       "11   1997-09-01\n",
       "12   1995-07-23\n",
       "13   1994-03-22\n",
       "14   1994-02-10\n",
       "15   1995-10-13\n",
       "Name: 생년월일, dtype: datetime64[ns]"
      ]
     },
     "execution_count": 25,
     "metadata": {},
     "output_type": "execute_result"
    }
   ],
   "source": [
    "# 데이터 프레임에 적용하기 위해서는 변환된 것을 df['날짜'] column에 다시 대입을 해줘야함\n",
    "df['생년월일'] = pd.to_datetime(df['생년월일'])\n",
    "df['생년월일']"
   ]
  },
  {
   "cell_type": "code",
   "execution_count": 28,
   "id": "21dcc410-12a0-42fb-919b-0298c6110bc1",
   "metadata": {
    "tags": []
   },
   "outputs": [
    {
     "data": {
      "text/html": [
       "<div>\n",
       "<style scoped>\n",
       "    .dataframe tbody tr th:only-of-type {\n",
       "        vertical-align: middle;\n",
       "    }\n",
       "\n",
       "    .dataframe tbody tr th {\n",
       "        vertical-align: top;\n",
       "    }\n",
       "\n",
       "    .dataframe thead th {\n",
       "        text-align: right;\n",
       "    }\n",
       "</style>\n",
       "<table border=\"1\" class=\"dataframe\">\n",
       "  <thead>\n",
       "    <tr style=\"text-align: right;\">\n",
       "      <th></th>\n",
       "      <th>이름</th>\n",
       "      <th>그룹</th>\n",
       "      <th>소속사</th>\n",
       "      <th>성별</th>\n",
       "      <th>생년월일</th>\n",
       "      <th>키</th>\n",
       "      <th>혈액형</th>\n",
       "      <th>인기지수</th>\n",
       "    </tr>\n",
       "  </thead>\n",
       "  <tbody>\n",
       "    <tr>\n",
       "      <th>0</th>\n",
       "      <td>아이린</td>\n",
       "      <td>레드벨벳</td>\n",
       "      <td>SM</td>\n",
       "      <td>여자</td>\n",
       "      <td>1991-03-29</td>\n",
       "      <td>160</td>\n",
       "      <td>A</td>\n",
       "      <td>8256324</td>\n",
       "    </tr>\n",
       "    <tr>\n",
       "      <th>1</th>\n",
       "      <td>차은우</td>\n",
       "      <td>아스트로</td>\n",
       "      <td>판타지오</td>\n",
       "      <td>남자</td>\n",
       "      <td>1997-03-30</td>\n",
       "      <td>183</td>\n",
       "      <td>B</td>\n",
       "      <td>3506027</td>\n",
       "    </tr>\n",
       "    <tr>\n",
       "      <th>2</th>\n",
       "      <td>뷔</td>\n",
       "      <td>방탄소년단</td>\n",
       "      <td>빅히트</td>\n",
       "      <td>남자</td>\n",
       "      <td>1995-12-30</td>\n",
       "      <td>178</td>\n",
       "      <td>AB</td>\n",
       "      <td>8073501</td>\n",
       "    </tr>\n",
       "    <tr>\n",
       "      <th>3</th>\n",
       "      <td>민현</td>\n",
       "      <td>NaN</td>\n",
       "      <td>플레디스</td>\n",
       "      <td>남자</td>\n",
       "      <td>1995-08-09</td>\n",
       "      <td>182</td>\n",
       "      <td>O</td>\n",
       "      <td>4989792</td>\n",
       "    </tr>\n",
       "    <tr>\n",
       "      <th>4</th>\n",
       "      <td>소연</td>\n",
       "      <td>아이들</td>\n",
       "      <td>큐브</td>\n",
       "      <td>여자</td>\n",
       "      <td>1998-08-26</td>\n",
       "      <td>-1</td>\n",
       "      <td>B</td>\n",
       "      <td>4668615</td>\n",
       "    </tr>\n",
       "  </tbody>\n",
       "</table>\n",
       "</div>"
      ],
      "text/plain": [
       "    이름     그룹   소속사  성별       생년월일    키 혈액형     인기지수\n",
       "0  아이린   레드벨벳    SM  여자 1991-03-29  160   A  8256324\n",
       "1  차은우   아스트로  판타지오  남자 1997-03-30  183   B  3506027\n",
       "2    뷔  방탄소년단   빅히트  남자 1995-12-30  178  AB  8073501\n",
       "3   민현    NaN  플레디스  남자 1995-08-09  182   O  4989792\n",
       "4   소연    아이들    큐브  여자 1998-08-26   -1   B  4668615"
      ]
     },
     "execution_count": 28,
     "metadata": {},
     "output_type": "execute_result"
    }
   ],
   "source": [
    "# datetime 타입으로 변환해준 중요한 이유\n",
    "# 매우 손쉽게, 월, 일, 요일 등등의 날짜 정보를 세부적으로 추출해낼 수 있음.\n",
    "# Datetime Properties object인 'dt'에 다양한 date 정보들을 제공해 줌\n",
    "df.head()"
   ]
  },
  {
   "cell_type": "code",
   "execution_count": 29,
   "id": "6eeb645b-7b55-4b9c-9899-493e2a552e3a",
   "metadata": {
    "tags": []
   },
   "outputs": [
    {
     "data": {
      "text/plain": [
       "<pandas.core.indexes.accessors.DatetimeProperties object at 0x00000271E0BE3E80>"
      ]
     },
     "execution_count": 29,
     "metadata": {},
     "output_type": "execute_result"
    }
   ],
   "source": [
    "df['생년월일'].dt"
   ]
  },
  {
   "cell_type": "code",
   "execution_count": 30,
   "id": "d9b7a4b5-20b5-49fc-849e-6acf87acc324",
   "metadata": {
    "tags": []
   },
   "outputs": [
    {
     "data": {
      "text/plain": [
       "0     4\n",
       "1     6\n",
       "2     5\n",
       "3     2\n",
       "4     2\n",
       "5     4\n",
       "6     3\n",
       "7     4\n",
       "8     3\n",
       "9     1\n",
       "10    1\n",
       "11    0\n",
       "12    6\n",
       "13    1\n",
       "14    3\n",
       "15    4\n",
       "Name: 생년월일, dtype: int32"
      ]
     },
     "execution_count": 30,
     "metadata": {},
     "output_type": "execute_result"
    }
   ],
   "source": [
    "df['생년월일'].dt.dayofweek "
   ]
  },
  {
   "cell_type": "code",
   "execution_count": 34,
   "id": "65313ad4-6b8f-4252-874c-297d2fe22945",
   "metadata": {
    "tags": []
   },
   "outputs": [],
   "source": [
    "# df['생년월일'].dt.year\n",
    "# df['생년월일'].dt.month\n",
    "# df['생년월일'].dt.day\n",
    "# df['생년월일'].dt.hour\n",
    "# df['생년월일'].dt.minute\n",
    "# df['생년월일'].dt.second\n",
    "# df['생년월일'].dt.dayofweek  #월요일부터"
   ]
  },
  {
   "cell_type": "code",
   "execution_count": 37,
   "id": "1dfc47aa-3204-4c58-9bc5-8ab66d09c8c7",
   "metadata": {
    "tags": []
   },
   "outputs": [
    {
     "data": {
      "text/html": [
       "<div>\n",
       "<style scoped>\n",
       "    .dataframe tbody tr th:only-of-type {\n",
       "        vertical-align: middle;\n",
       "    }\n",
       "\n",
       "    .dataframe tbody tr th {\n",
       "        vertical-align: top;\n",
       "    }\n",
       "\n",
       "    .dataframe thead th {\n",
       "        text-align: right;\n",
       "    }\n",
       "</style>\n",
       "<table border=\"1\" class=\"dataframe\">\n",
       "  <thead>\n",
       "    <tr style=\"text-align: right;\">\n",
       "      <th></th>\n",
       "      <th>이름</th>\n",
       "      <th>그룹</th>\n",
       "      <th>소속사</th>\n",
       "      <th>성별</th>\n",
       "      <th>생년월일</th>\n",
       "      <th>키</th>\n",
       "      <th>혈액형</th>\n",
       "      <th>인기지수</th>\n",
       "      <th>생일_년</th>\n",
       "      <th>생일_월</th>\n",
       "      <th>생일_일</th>\n",
       "    </tr>\n",
       "  </thead>\n",
       "  <tbody>\n",
       "    <tr>\n",
       "      <th>0</th>\n",
       "      <td>아이린</td>\n",
       "      <td>레드벨벳</td>\n",
       "      <td>SM</td>\n",
       "      <td>여자</td>\n",
       "      <td>1991-03-29</td>\n",
       "      <td>160</td>\n",
       "      <td>A</td>\n",
       "      <td>8256324</td>\n",
       "      <td>1991</td>\n",
       "      <td>3</td>\n",
       "      <td>29</td>\n",
       "    </tr>\n",
       "    <tr>\n",
       "      <th>1</th>\n",
       "      <td>차은우</td>\n",
       "      <td>아스트로</td>\n",
       "      <td>판타지오</td>\n",
       "      <td>남자</td>\n",
       "      <td>1997-03-30</td>\n",
       "      <td>183</td>\n",
       "      <td>B</td>\n",
       "      <td>3506027</td>\n",
       "      <td>1997</td>\n",
       "      <td>3</td>\n",
       "      <td>30</td>\n",
       "    </tr>\n",
       "    <tr>\n",
       "      <th>2</th>\n",
       "      <td>뷔</td>\n",
       "      <td>방탄소년단</td>\n",
       "      <td>빅히트</td>\n",
       "      <td>남자</td>\n",
       "      <td>1995-12-30</td>\n",
       "      <td>178</td>\n",
       "      <td>AB</td>\n",
       "      <td>8073501</td>\n",
       "      <td>1995</td>\n",
       "      <td>12</td>\n",
       "      <td>30</td>\n",
       "    </tr>\n",
       "    <tr>\n",
       "      <th>3</th>\n",
       "      <td>민현</td>\n",
       "      <td>NaN</td>\n",
       "      <td>플레디스</td>\n",
       "      <td>남자</td>\n",
       "      <td>1995-08-09</td>\n",
       "      <td>182</td>\n",
       "      <td>O</td>\n",
       "      <td>4989792</td>\n",
       "      <td>1995</td>\n",
       "      <td>8</td>\n",
       "      <td>9</td>\n",
       "    </tr>\n",
       "    <tr>\n",
       "      <th>4</th>\n",
       "      <td>소연</td>\n",
       "      <td>아이들</td>\n",
       "      <td>큐브</td>\n",
       "      <td>여자</td>\n",
       "      <td>1998-08-26</td>\n",
       "      <td>-1</td>\n",
       "      <td>B</td>\n",
       "      <td>4668615</td>\n",
       "      <td>1998</td>\n",
       "      <td>8</td>\n",
       "      <td>26</td>\n",
       "    </tr>\n",
       "  </tbody>\n",
       "</table>\n",
       "</div>"
      ],
      "text/plain": [
       "    이름     그룹   소속사  성별       생년월일    키 혈액형     인기지수  생일_년  생일_월  생일_일\n",
       "0  아이린   레드벨벳    SM  여자 1991-03-29  160   A  8256324  1991     3    29\n",
       "1  차은우   아스트로  판타지오  남자 1997-03-30  183   B  3506027  1997     3    30\n",
       "2    뷔  방탄소년단   빅히트  남자 1995-12-30  178  AB  8073501  1995    12    30\n",
       "3   민현    NaN  플레디스  남자 1995-08-09  182   O  4989792  1995     8     9\n",
       "4   소연    아이들    큐브  여자 1998-08-26   -1   B  4668615  1998     8    26"
      ]
     },
     "execution_count": 37,
     "metadata": {},
     "output_type": "execute_result"
    }
   ],
   "source": [
    "# 문제 : 년, 월, 일 각각의 컬럼으로 분리하기\n",
    "df['생일_년'] = df['생년월일'].dt.year\n",
    "df['생일_월'] = df['생년월일'].dt.month\n",
    "df['생일_일'] = df['생년월일'].dt.day\n",
    "df.head()"
   ]
  },
  {
   "cell_type": "code",
   "execution_count": null,
   "id": "5fea5683-234c-45a1-be8f-2a192fd30473",
   "metadata": {},
   "outputs": [],
   "source": []
  },
  {
   "cell_type": "code",
   "execution_count": null,
   "id": "bd69f804-9cf5-40e9-8d72-10bf642498fc",
   "metadata": {},
   "outputs": [],
   "source": []
  }
 ],
 "metadata": {
  "kernelspec": {
   "display_name": "da_venv",
   "language": "python",
   "name": "da_venv"
  },
  "language_info": {
   "codemirror_mode": {
    "name": "ipython",
    "version": 3
   },
   "file_extension": ".py",
   "mimetype": "text/x-python",
   "name": "python",
   "nbconvert_exporter": "python",
   "pygments_lexer": "ipython3",
   "version": "3.9.13"
  }
 },
 "nbformat": 4,
 "nbformat_minor": 5
}
