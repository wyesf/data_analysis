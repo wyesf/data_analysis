{
 "cells": [
  {
   "cell_type": "markdown",
   "id": "e59ca662-bd02-4b6f-8356-47ae288b5233",
   "metadata": {
    "tags": []
   },
   "source": [
    "# DataFrame 복사, 인덱싱, 정렬, groupby"
   ]
  },
  {
   "cell_type": "code",
   "execution_count": 2,
   "id": "ac1d8249-178d-4833-980f-24c20ba5bae4",
   "metadata": {
    "tags": []
   },
   "outputs": [],
   "source": [
    "import pandas as pd"
   ]
  },
  {
   "cell_type": "code",
   "execution_count": null,
   "id": "dd4c837c-3f91-4ed4-a529-e3df1cbeb9fa",
   "metadata": {},
   "outputs": [],
   "source": []
  },
  {
   "cell_type": "code",
   "execution_count": 4,
   "id": "57d760fa-e001-4c52-b6fe-3330f4791614",
   "metadata": {
    "tags": []
   },
   "outputs": [],
   "source": [
    "# dataframe 로딩"
   ]
  },
  {
   "cell_type": "code",
   "execution_count": 6,
   "id": "8960d614-1cae-47d3-8352-045f5c2b0de9",
   "metadata": {
    "tags": []
   },
   "outputs": [
    {
     "data": {
      "text/html": [
       "<div>\n",
       "<style scoped>\n",
       "    .dataframe tbody tr th:only-of-type {\n",
       "        vertical-align: middle;\n",
       "    }\n",
       "\n",
       "    .dataframe tbody tr th {\n",
       "        vertical-align: top;\n",
       "    }\n",
       "\n",
       "    .dataframe thead th {\n",
       "        text-align: right;\n",
       "    }\n",
       "</style>\n",
       "<table border=\"1\" class=\"dataframe\">\n",
       "  <thead>\n",
       "    <tr style=\"text-align: right;\">\n",
       "      <th></th>\n",
       "      <th>이름</th>\n",
       "      <th>그룹</th>\n",
       "      <th>소속사</th>\n",
       "      <th>성별</th>\n",
       "      <th>생년월일</th>\n",
       "      <th>키</th>\n",
       "      <th>혈액형</th>\n",
       "      <th>인기지수</th>\n",
       "    </tr>\n",
       "  </thead>\n",
       "  <tbody>\n",
       "    <tr>\n",
       "      <th>0</th>\n",
       "      <td>아이린</td>\n",
       "      <td>레드벨벳</td>\n",
       "      <td>SM</td>\n",
       "      <td>여자</td>\n",
       "      <td>1991-03-29</td>\n",
       "      <td>160.0</td>\n",
       "      <td>A</td>\n",
       "      <td>8256324</td>\n",
       "    </tr>\n",
       "    <tr>\n",
       "      <th>1</th>\n",
       "      <td>차은우</td>\n",
       "      <td>아스트로</td>\n",
       "      <td>판타지오</td>\n",
       "      <td>남자</td>\n",
       "      <td>1997-03-30</td>\n",
       "      <td>183.0</td>\n",
       "      <td>B</td>\n",
       "      <td>3506027</td>\n",
       "    </tr>\n",
       "    <tr>\n",
       "      <th>2</th>\n",
       "      <td>뷔</td>\n",
       "      <td>방탄소년단</td>\n",
       "      <td>빅히트</td>\n",
       "      <td>남자</td>\n",
       "      <td>1995-12-30</td>\n",
       "      <td>178.0</td>\n",
       "      <td>AB</td>\n",
       "      <td>8073501</td>\n",
       "    </tr>\n",
       "  </tbody>\n",
       "</table>\n",
       "</div>"
      ],
      "text/plain": [
       "    이름     그룹   소속사  성별        생년월일      키 혈액형     인기지수\n",
       "0  아이린   레드벨벳    SM  여자  1991-03-29  160.0   A  8256324\n",
       "1  차은우   아스트로  판타지오  남자  1997-03-30  183.0   B  3506027\n",
       "2    뷔  방탄소년단   빅히트  남자  1995-12-30  178.0  AB  8073501"
      ]
     },
     "execution_count": 6,
     "metadata": {},
     "output_type": "execute_result"
    }
   ],
   "source": [
    "df = pd.read_csv(\"datas/korea-star.csv\")\n",
    "df.head(3)"
   ]
  },
  {
   "cell_type": "code",
   "execution_count": null,
   "id": "d1143d6b-8600-4788-abeb-d26e79ef704d",
   "metadata": {},
   "outputs": [],
   "source": []
  },
  {
   "cell_type": "markdown",
   "id": "89c913db-49e0-4986-94c4-09786d50e7bf",
   "metadata": {
    "tags": []
   },
   "source": [
    "## 1. 대입과 복사"
   ]
  },
  {
   "cell_type": "code",
   "execution_count": 10,
   "id": "753a11d8-b7c3-4f5c-90ae-d8f264e036f2",
   "metadata": {
    "tags": []
   },
   "outputs": [],
   "source": [
    "new_df = df"
   ]
  },
  {
   "cell_type": "code",
   "execution_count": 13,
   "id": "db9c11bc-1154-4640-aeae-768946ed6004",
   "metadata": {
    "tags": []
   },
   "outputs": [
    {
     "data": {
      "text/html": [
       "<div>\n",
       "<style scoped>\n",
       "    .dataframe tbody tr th:only-of-type {\n",
       "        vertical-align: middle;\n",
       "    }\n",
       "\n",
       "    .dataframe tbody tr th {\n",
       "        vertical-align: top;\n",
       "    }\n",
       "\n",
       "    .dataframe thead th {\n",
       "        text-align: right;\n",
       "    }\n",
       "</style>\n",
       "<table border=\"1\" class=\"dataframe\">\n",
       "  <thead>\n",
       "    <tr style=\"text-align: right;\">\n",
       "      <th></th>\n",
       "      <th>이름</th>\n",
       "      <th>그룹</th>\n",
       "      <th>소속사</th>\n",
       "      <th>성별</th>\n",
       "      <th>생년월일</th>\n",
       "      <th>키</th>\n",
       "      <th>혈액형</th>\n",
       "      <th>인기지수</th>\n",
       "    </tr>\n",
       "  </thead>\n",
       "  <tbody>\n",
       "    <tr>\n",
       "      <th>0</th>\n",
       "      <td>아이린</td>\n",
       "      <td>레드벨벳</td>\n",
       "      <td>SM</td>\n",
       "      <td>여자</td>\n",
       "      <td>1991-03-29</td>\n",
       "      <td>160.0</td>\n",
       "      <td>A</td>\n",
       "      <td>8256324</td>\n",
       "    </tr>\n",
       "    <tr>\n",
       "      <th>1</th>\n",
       "      <td>차은우</td>\n",
       "      <td>아스트로</td>\n",
       "      <td>판타지오</td>\n",
       "      <td>남자</td>\n",
       "      <td>1997-03-30</td>\n",
       "      <td>183.0</td>\n",
       "      <td>B</td>\n",
       "      <td>3506027</td>\n",
       "    </tr>\n",
       "    <tr>\n",
       "      <th>2</th>\n",
       "      <td>뷔</td>\n",
       "      <td>방탄소년단</td>\n",
       "      <td>빅히트</td>\n",
       "      <td>남자</td>\n",
       "      <td>1995-12-30</td>\n",
       "      <td>178.0</td>\n",
       "      <td>AB</td>\n",
       "      <td>8073501</td>\n",
       "    </tr>\n",
       "    <tr>\n",
       "      <th>3</th>\n",
       "      <td>민현</td>\n",
       "      <td>NaN</td>\n",
       "      <td>플레디스</td>\n",
       "      <td>남자</td>\n",
       "      <td>1995-08-09</td>\n",
       "      <td>182.3</td>\n",
       "      <td>O</td>\n",
       "      <td>4989792</td>\n",
       "    </tr>\n",
       "    <tr>\n",
       "      <th>4</th>\n",
       "      <td>소연</td>\n",
       "      <td>아이들</td>\n",
       "      <td>큐브</td>\n",
       "      <td>여자</td>\n",
       "      <td>1998-08-26</td>\n",
       "      <td>NaN</td>\n",
       "      <td>B</td>\n",
       "      <td>4668615</td>\n",
       "    </tr>\n",
       "  </tbody>\n",
       "</table>\n",
       "</div>"
      ],
      "text/plain": [
       "    이름     그룹   소속사  성별        생년월일      키 혈액형     인기지수\n",
       "0  아이린   레드벨벳    SM  여자  1991-03-29  160.0   A  8256324\n",
       "1  차은우   아스트로  판타지오  남자  1997-03-30  183.0   B  3506027\n",
       "2    뷔  방탄소년단   빅히트  남자  1995-12-30  178.0  AB  8073501\n",
       "3   민현    NaN  플레디스  남자  1995-08-09  182.3   O  4989792\n",
       "4   소연    아이들    큐브  여자  1998-08-26    NaN   B  4668615"
      ]
     },
     "execution_count": 13,
     "metadata": {},
     "output_type": "execute_result"
    }
   ],
   "source": [
    "new_df.head()"
   ]
  },
  {
   "cell_type": "code",
   "execution_count": 15,
   "id": "291433e9-edc8-4769-a1d2-8a197793dd94",
   "metadata": {
    "tags": []
   },
   "outputs": [
    {
     "data": {
      "text/html": [
       "<div>\n",
       "<style scoped>\n",
       "    .dataframe tbody tr th:only-of-type {\n",
       "        vertical-align: middle;\n",
       "    }\n",
       "\n",
       "    .dataframe tbody tr th {\n",
       "        vertical-align: top;\n",
       "    }\n",
       "\n",
       "    .dataframe thead th {\n",
       "        text-align: right;\n",
       "    }\n",
       "</style>\n",
       "<table border=\"1\" class=\"dataframe\">\n",
       "  <thead>\n",
       "    <tr style=\"text-align: right;\">\n",
       "      <th></th>\n",
       "      <th>이름</th>\n",
       "      <th>그룹</th>\n",
       "      <th>소속사</th>\n",
       "      <th>성별</th>\n",
       "      <th>생년월일</th>\n",
       "      <th>키</th>\n",
       "      <th>혈액형</th>\n",
       "      <th>인기지수</th>\n",
       "    </tr>\n",
       "  </thead>\n",
       "  <tbody>\n",
       "    <tr>\n",
       "      <th>0</th>\n",
       "      <td>0</td>\n",
       "      <td>레드벨벳</td>\n",
       "      <td>SM</td>\n",
       "      <td>여자</td>\n",
       "      <td>1991-03-29</td>\n",
       "      <td>160.0</td>\n",
       "      <td>A</td>\n",
       "      <td>8256324</td>\n",
       "    </tr>\n",
       "    <tr>\n",
       "      <th>1</th>\n",
       "      <td>0</td>\n",
       "      <td>아스트로</td>\n",
       "      <td>판타지오</td>\n",
       "      <td>남자</td>\n",
       "      <td>1997-03-30</td>\n",
       "      <td>183.0</td>\n",
       "      <td>B</td>\n",
       "      <td>3506027</td>\n",
       "    </tr>\n",
       "    <tr>\n",
       "      <th>2</th>\n",
       "      <td>0</td>\n",
       "      <td>방탄소년단</td>\n",
       "      <td>빅히트</td>\n",
       "      <td>남자</td>\n",
       "      <td>1995-12-30</td>\n",
       "      <td>178.0</td>\n",
       "      <td>AB</td>\n",
       "      <td>8073501</td>\n",
       "    </tr>\n",
       "  </tbody>\n",
       "</table>\n",
       "</div>"
      ],
      "text/plain": [
       "   이름     그룹   소속사  성별        생년월일      키 혈액형     인기지수\n",
       "0   0   레드벨벳    SM  여자  1991-03-29  160.0   A  8256324\n",
       "1   0   아스트로  판타지오  남자  1997-03-30  183.0   B  3506027\n",
       "2   0  방탄소년단   빅히트  남자  1995-12-30  178.0  AB  8073501"
      ]
     },
     "execution_count": 15,
     "metadata": {},
     "output_type": "execute_result"
    }
   ],
   "source": [
    "new_df['이름'] = 0\n",
    "new_df.head(3)"
   ]
  },
  {
   "cell_type": "code",
   "execution_count": 17,
   "id": "127ae973-6f28-48ab-befa-0615339a5018",
   "metadata": {
    "tags": []
   },
   "outputs": [
    {
     "data": {
      "text/html": [
       "<div>\n",
       "<style scoped>\n",
       "    .dataframe tbody tr th:only-of-type {\n",
       "        vertical-align: middle;\n",
       "    }\n",
       "\n",
       "    .dataframe tbody tr th {\n",
       "        vertical-align: top;\n",
       "    }\n",
       "\n",
       "    .dataframe thead th {\n",
       "        text-align: right;\n",
       "    }\n",
       "</style>\n",
       "<table border=\"1\" class=\"dataframe\">\n",
       "  <thead>\n",
       "    <tr style=\"text-align: right;\">\n",
       "      <th></th>\n",
       "      <th>이름</th>\n",
       "      <th>그룹</th>\n",
       "      <th>소속사</th>\n",
       "      <th>성별</th>\n",
       "      <th>생년월일</th>\n",
       "      <th>키</th>\n",
       "      <th>혈액형</th>\n",
       "      <th>인기지수</th>\n",
       "    </tr>\n",
       "  </thead>\n",
       "  <tbody>\n",
       "    <tr>\n",
       "      <th>0</th>\n",
       "      <td>0</td>\n",
       "      <td>레드벨벳</td>\n",
       "      <td>SM</td>\n",
       "      <td>여자</td>\n",
       "      <td>1991-03-29</td>\n",
       "      <td>160.0</td>\n",
       "      <td>A</td>\n",
       "      <td>8256324</td>\n",
       "    </tr>\n",
       "    <tr>\n",
       "      <th>1</th>\n",
       "      <td>0</td>\n",
       "      <td>아스트로</td>\n",
       "      <td>판타지오</td>\n",
       "      <td>남자</td>\n",
       "      <td>1997-03-30</td>\n",
       "      <td>183.0</td>\n",
       "      <td>B</td>\n",
       "      <td>3506027</td>\n",
       "    </tr>\n",
       "    <tr>\n",
       "      <th>2</th>\n",
       "      <td>0</td>\n",
       "      <td>방탄소년단</td>\n",
       "      <td>빅히트</td>\n",
       "      <td>남자</td>\n",
       "      <td>1995-12-30</td>\n",
       "      <td>178.0</td>\n",
       "      <td>AB</td>\n",
       "      <td>8073501</td>\n",
       "    </tr>\n",
       "  </tbody>\n",
       "</table>\n",
       "</div>"
      ],
      "text/plain": [
       "   이름     그룹   소속사  성별        생년월일      키 혈액형     인기지수\n",
       "0   0   레드벨벳    SM  여자  1991-03-29  160.0   A  8256324\n",
       "1   0   아스트로  판타지오  남자  1997-03-30  183.0   B  3506027\n",
       "2   0  방탄소년단   빅히트  남자  1995-12-30  178.0  AB  8073501"
      ]
     },
     "execution_count": 17,
     "metadata": {},
     "output_type": "execute_result"
    }
   ],
   "source": [
    "df.head(3)"
   ]
  },
  {
   "cell_type": "code",
   "execution_count": 20,
   "id": "b0d562f3-7c05-4d3c-b7d5-47e4de40bade",
   "metadata": {
    "tags": []
   },
   "outputs": [
    {
     "name": "stdout",
     "output_type": "stream",
     "text": [
      "0x2a0f18ded00\n",
      "0x2a0f18ded00\n"
     ]
    }
   ],
   "source": [
    "# 같은 메모리 주소를 참조하기 때문에 new_df의 수정값이 df에도 적용됨\n",
    "# 컨테이너 자료형은 파괴형 자료형\n",
    "print(hex(id(new_df)))\n",
    "print(hex(id(df)))"
   ]
  },
  {
   "cell_type": "code",
   "execution_count": null,
   "id": "a85d70e5-5426-4a46-b780-b4137f2fff95",
   "metadata": {},
   "outputs": [],
   "source": []
  },
  {
   "cell_type": "code",
   "execution_count": 28,
   "id": "dbd93271-d651-47f6-85f6-422bb268d2c5",
   "metadata": {
    "tags": []
   },
   "outputs": [
    {
     "data": {
      "text/html": [
       "<div>\n",
       "<style scoped>\n",
       "    .dataframe tbody tr th:only-of-type {\n",
       "        vertical-align: middle;\n",
       "    }\n",
       "\n",
       "    .dataframe tbody tr th {\n",
       "        vertical-align: top;\n",
       "    }\n",
       "\n",
       "    .dataframe thead th {\n",
       "        text-align: right;\n",
       "    }\n",
       "</style>\n",
       "<table border=\"1\" class=\"dataframe\">\n",
       "  <thead>\n",
       "    <tr style=\"text-align: right;\">\n",
       "      <th></th>\n",
       "      <th>이름</th>\n",
       "      <th>그룹</th>\n",
       "      <th>소속사</th>\n",
       "      <th>성별</th>\n",
       "      <th>생년월일</th>\n",
       "      <th>키</th>\n",
       "      <th>혈액형</th>\n",
       "      <th>인기지수</th>\n",
       "    </tr>\n",
       "  </thead>\n",
       "  <tbody>\n",
       "    <tr>\n",
       "      <th>0</th>\n",
       "      <td>아이린</td>\n",
       "      <td>레드벨벳</td>\n",
       "      <td>SM</td>\n",
       "      <td>여자</td>\n",
       "      <td>1991-03-29</td>\n",
       "      <td>160.0</td>\n",
       "      <td>A</td>\n",
       "      <td>8256324</td>\n",
       "    </tr>\n",
       "    <tr>\n",
       "      <th>1</th>\n",
       "      <td>차은우</td>\n",
       "      <td>아스트로</td>\n",
       "      <td>판타지오</td>\n",
       "      <td>남자</td>\n",
       "      <td>1997-03-30</td>\n",
       "      <td>183.0</td>\n",
       "      <td>B</td>\n",
       "      <td>3506027</td>\n",
       "    </tr>\n",
       "    <tr>\n",
       "      <th>2</th>\n",
       "      <td>뷔</td>\n",
       "      <td>방탄소년단</td>\n",
       "      <td>빅히트</td>\n",
       "      <td>남자</td>\n",
       "      <td>1995-12-30</td>\n",
       "      <td>178.0</td>\n",
       "      <td>AB</td>\n",
       "      <td>8073501</td>\n",
       "    </tr>\n",
       "  </tbody>\n",
       "</table>\n",
       "</div>"
      ],
      "text/plain": [
       "    이름     그룹   소속사  성별        생년월일      키 혈액형     인기지수\n",
       "0  아이린   레드벨벳    SM  여자  1991-03-29  160.0   A  8256324\n",
       "1  차은우   아스트로  판타지오  남자  1997-03-30  183.0   B  3506027\n",
       "2    뷔  방탄소년단   빅히트  남자  1995-12-30  178.0  AB  8073501"
      ]
     },
     "execution_count": 28,
     "metadata": {},
     "output_type": "execute_result"
    }
   ],
   "source": [
    "# 원본 데이터는 그대로 두고, 새로운 변수에 복제하려면\n",
    "# .copy()\n",
    "# 데이터 프레임 복사 .=. 깊은 복사\n",
    "df = pd.read_csv(\"datas/korea-star.csv\")\n",
    "df.head(3)"
   ]
  },
  {
   "cell_type": "code",
   "execution_count": 35,
   "id": "6e11f7ce-98a2-4b19-a51c-b776cdf1c093",
   "metadata": {
    "tags": []
   },
   "outputs": [],
   "source": [
    "# !!!!!!!!!!!!!!!!!!!!\n",
    "df_copy = df.copy()"
   ]
  },
  {
   "cell_type": "code",
   "execution_count": 29,
   "id": "adbd003f-0a5c-4287-8362-16151b0818da",
   "metadata": {
    "tags": []
   },
   "outputs": [
    {
     "name": "stdout",
     "output_type": "stream",
     "text": [
      "0x2a0fa0e8790\n",
      "0x2a0fa0af700\n"
     ]
    }
   ],
   "source": [
    "print(hex(id(df)))\n",
    "print(hex(id(df_copy)))"
   ]
  },
  {
   "cell_type": "code",
   "execution_count": 32,
   "id": "58c74e9a-8676-4e7a-8b57-467e48a57d23",
   "metadata": {
    "tags": []
   },
   "outputs": [
    {
     "data": {
      "text/html": [
       "<div>\n",
       "<style scoped>\n",
       "    .dataframe tbody tr th:only-of-type {\n",
       "        vertical-align: middle;\n",
       "    }\n",
       "\n",
       "    .dataframe tbody tr th {\n",
       "        vertical-align: top;\n",
       "    }\n",
       "\n",
       "    .dataframe thead th {\n",
       "        text-align: right;\n",
       "    }\n",
       "</style>\n",
       "<table border=\"1\" class=\"dataframe\">\n",
       "  <thead>\n",
       "    <tr style=\"text-align: right;\">\n",
       "      <th></th>\n",
       "      <th>이름</th>\n",
       "      <th>그룹</th>\n",
       "      <th>소속사</th>\n",
       "      <th>성별</th>\n",
       "      <th>생년월일</th>\n",
       "      <th>키</th>\n",
       "      <th>혈액형</th>\n",
       "      <th>인기지수</th>\n",
       "    </tr>\n",
       "  </thead>\n",
       "  <tbody>\n",
       "    <tr>\n",
       "      <th>0</th>\n",
       "      <td>아이린</td>\n",
       "      <td>레드벨벳</td>\n",
       "      <td>SM</td>\n",
       "      <td>여자</td>\n",
       "      <td>1991-03-29</td>\n",
       "      <td>160.0</td>\n",
       "      <td>A</td>\n",
       "      <td>0</td>\n",
       "    </tr>\n",
       "    <tr>\n",
       "      <th>1</th>\n",
       "      <td>차은우</td>\n",
       "      <td>아스트로</td>\n",
       "      <td>판타지오</td>\n",
       "      <td>남자</td>\n",
       "      <td>1997-03-30</td>\n",
       "      <td>183.0</td>\n",
       "      <td>B</td>\n",
       "      <td>0</td>\n",
       "    </tr>\n",
       "    <tr>\n",
       "      <th>2</th>\n",
       "      <td>뷔</td>\n",
       "      <td>방탄소년단</td>\n",
       "      <td>빅히트</td>\n",
       "      <td>남자</td>\n",
       "      <td>1995-12-30</td>\n",
       "      <td>178.0</td>\n",
       "      <td>AB</td>\n",
       "      <td>0</td>\n",
       "    </tr>\n",
       "  </tbody>\n",
       "</table>\n",
       "</div>"
      ],
      "text/plain": [
       "    이름     그룹   소속사  성별        생년월일      키 혈액형  인기지수\n",
       "0  아이린   레드벨벳    SM  여자  1991-03-29  160.0   A     0\n",
       "1  차은우   아스트로  판타지오  남자  1997-03-30  183.0   B     0\n",
       "2    뷔  방탄소년단   빅히트  남자  1995-12-30  178.0  AB     0"
      ]
     },
     "execution_count": 32,
     "metadata": {},
     "output_type": "execute_result"
    }
   ],
   "source": [
    "df_copy['인기지수'] = 0\n",
    "df_copy.head(3)"
   ]
  },
  {
   "cell_type": "code",
   "execution_count": 36,
   "id": "8aa081cb-63f0-48c1-9f39-a70e00ffc57c",
   "metadata": {
    "tags": []
   },
   "outputs": [
    {
     "data": {
      "text/html": [
       "<div>\n",
       "<style scoped>\n",
       "    .dataframe tbody tr th:only-of-type {\n",
       "        vertical-align: middle;\n",
       "    }\n",
       "\n",
       "    .dataframe tbody tr th {\n",
       "        vertical-align: top;\n",
       "    }\n",
       "\n",
       "    .dataframe thead th {\n",
       "        text-align: right;\n",
       "    }\n",
       "</style>\n",
       "<table border=\"1\" class=\"dataframe\">\n",
       "  <thead>\n",
       "    <tr style=\"text-align: right;\">\n",
       "      <th></th>\n",
       "      <th>이름</th>\n",
       "      <th>그룹</th>\n",
       "      <th>소속사</th>\n",
       "      <th>성별</th>\n",
       "      <th>생년월일</th>\n",
       "      <th>키</th>\n",
       "      <th>혈액형</th>\n",
       "      <th>인기지수</th>\n",
       "    </tr>\n",
       "  </thead>\n",
       "  <tbody>\n",
       "    <tr>\n",
       "      <th>0</th>\n",
       "      <td>아이린</td>\n",
       "      <td>레드벨벳</td>\n",
       "      <td>SM</td>\n",
       "      <td>여자</td>\n",
       "      <td>1991-03-29</td>\n",
       "      <td>160.0</td>\n",
       "      <td>A</td>\n",
       "      <td>8256324</td>\n",
       "    </tr>\n",
       "    <tr>\n",
       "      <th>1</th>\n",
       "      <td>차은우</td>\n",
       "      <td>아스트로</td>\n",
       "      <td>판타지오</td>\n",
       "      <td>남자</td>\n",
       "      <td>1997-03-30</td>\n",
       "      <td>183.0</td>\n",
       "      <td>B</td>\n",
       "      <td>3506027</td>\n",
       "    </tr>\n",
       "    <tr>\n",
       "      <th>2</th>\n",
       "      <td>뷔</td>\n",
       "      <td>방탄소년단</td>\n",
       "      <td>빅히트</td>\n",
       "      <td>남자</td>\n",
       "      <td>1995-12-30</td>\n",
       "      <td>178.0</td>\n",
       "      <td>AB</td>\n",
       "      <td>8073501</td>\n",
       "    </tr>\n",
       "  </tbody>\n",
       "</table>\n",
       "</div>"
      ],
      "text/plain": [
       "    이름     그룹   소속사  성별        생년월일      키 혈액형     인기지수\n",
       "0  아이린   레드벨벳    SM  여자  1991-03-29  160.0   A  8256324\n",
       "1  차은우   아스트로  판타지오  남자  1997-03-30  183.0   B  3506027\n",
       "2    뷔  방탄소년단   빅히트  남자  1995-12-30  178.0  AB  8073501"
      ]
     },
     "execution_count": 36,
     "metadata": {},
     "output_type": "execute_result"
    }
   ],
   "source": [
    "df.head(3)"
   ]
  },
  {
   "cell_type": "code",
   "execution_count": null,
   "id": "95646e8f-d6b0-4757-927e-18413d99423a",
   "metadata": {},
   "outputs": [],
   "source": []
  },
  {
   "cell_type": "code",
   "execution_count": null,
   "id": "0f3b5113-81df-40b9-9752-1a12c0ea6ab5",
   "metadata": {},
   "outputs": [],
   "source": [
    "# df_copy 삭제하려면\n",
    "del df_copy"
   ]
  },
  {
   "cell_type": "code",
   "execution_count": 40,
   "id": "8410579e-fab0-44c8-9800-a7c205b60be0",
   "metadata": {
    "tags": []
   },
   "outputs": [
    {
     "ename": "NameError",
     "evalue": "name 'df_copy' is not defined",
     "output_type": "error",
     "traceback": [
      "\u001b[1;31m---------------------------------------------------------------------------\u001b[0m",
      "\u001b[1;31mNameError\u001b[0m                                 Traceback (most recent call last)",
      "Cell \u001b[1;32mIn[40], line 2\u001b[0m\n\u001b[0;32m      1\u001b[0m \u001b[38;5;66;03m# 메모리에서 객체를 지워버리므로 식별 불가능\u001b[39;00m\n\u001b[1;32m----> 2\u001b[0m \u001b[43mdf_copy\u001b[49m\n",
      "\u001b[1;31mNameError\u001b[0m: name 'df_copy' is not defined"
     ]
    }
   ],
   "source": [
    "# 메모리에서 객체를 지워버리므로 식별 불가능\n",
    "df_copy"
   ]
  },
  {
   "cell_type": "code",
   "execution_count": null,
   "id": "e9291601-a1bb-4da2-b169-1413eb1fd6b5",
   "metadata": {},
   "outputs": [],
   "source": []
  },
  {
   "cell_type": "code",
   "execution_count": null,
   "id": "431c5dac-6243-4e88-be1f-254c1b7d320f",
   "metadata": {},
   "outputs": [],
   "source": []
  },
  {
   "cell_type": "markdown",
   "id": "12a30b82-9ca2-419a-9272-bc7c1deac8f6",
   "metadata": {
    "tags": []
   },
   "source": [
    "## 2. row, column 추가 및 삭제"
   ]
  },
  {
   "cell_type": "markdown",
   "id": "6b2eb04b-6a91-4b8a-9a75-711cfa5b75f3",
   "metadata": {
    "tags": []
   },
   "source": [
    "### 2-1. row의 추가"
   ]
  },
  {
   "cell_type": "code",
   "execution_count": 48,
   "id": "24571143-6cbb-4730-9015-213ffb2d75ca",
   "metadata": {
    "tags": []
   },
   "outputs": [
    {
     "data": {
      "text/html": [
       "<div>\n",
       "<style scoped>\n",
       "    .dataframe tbody tr th:only-of-type {\n",
       "        vertical-align: middle;\n",
       "    }\n",
       "\n",
       "    .dataframe tbody tr th {\n",
       "        vertical-align: top;\n",
       "    }\n",
       "\n",
       "    .dataframe thead th {\n",
       "        text-align: right;\n",
       "    }\n",
       "</style>\n",
       "<table border=\"1\" class=\"dataframe\">\n",
       "  <thead>\n",
       "    <tr style=\"text-align: right;\">\n",
       "      <th></th>\n",
       "      <th>이름</th>\n",
       "      <th>그룹</th>\n",
       "      <th>소속사</th>\n",
       "      <th>성별</th>\n",
       "      <th>생년월일</th>\n",
       "      <th>키</th>\n",
       "      <th>혈액형</th>\n",
       "      <th>인기지수</th>\n",
       "    </tr>\n",
       "  </thead>\n",
       "  <tbody>\n",
       "    <tr>\n",
       "      <th>0</th>\n",
       "      <td>아이린</td>\n",
       "      <td>레드벨벳</td>\n",
       "      <td>SM</td>\n",
       "      <td>여자</td>\n",
       "      <td>1991-03-29</td>\n",
       "      <td>160.0</td>\n",
       "      <td>A</td>\n",
       "      <td>8256324</td>\n",
       "    </tr>\n",
       "    <tr>\n",
       "      <th>1</th>\n",
       "      <td>차은우</td>\n",
       "      <td>아스트로</td>\n",
       "      <td>판타지오</td>\n",
       "      <td>남자</td>\n",
       "      <td>1997-03-30</td>\n",
       "      <td>183.0</td>\n",
       "      <td>B</td>\n",
       "      <td>3506027</td>\n",
       "    </tr>\n",
       "    <tr>\n",
       "      <th>2</th>\n",
       "      <td>뷔</td>\n",
       "      <td>방탄소년단</td>\n",
       "      <td>빅히트</td>\n",
       "      <td>남자</td>\n",
       "      <td>1995-12-30</td>\n",
       "      <td>178.0</td>\n",
       "      <td>AB</td>\n",
       "      <td>8073501</td>\n",
       "    </tr>\n",
       "    <tr>\n",
       "      <th>3</th>\n",
       "      <td>민현</td>\n",
       "      <td>NaN</td>\n",
       "      <td>플레디스</td>\n",
       "      <td>남자</td>\n",
       "      <td>1995-08-09</td>\n",
       "      <td>182.3</td>\n",
       "      <td>O</td>\n",
       "      <td>4989792</td>\n",
       "    </tr>\n",
       "    <tr>\n",
       "      <th>4</th>\n",
       "      <td>소연</td>\n",
       "      <td>아이들</td>\n",
       "      <td>큐브</td>\n",
       "      <td>여자</td>\n",
       "      <td>1998-08-26</td>\n",
       "      <td>NaN</td>\n",
       "      <td>B</td>\n",
       "      <td>4668615</td>\n",
       "    </tr>\n",
       "    <tr>\n",
       "      <th>5</th>\n",
       "      <td>진</td>\n",
       "      <td>방탄소년단</td>\n",
       "      <td>빅히트</td>\n",
       "      <td>남자</td>\n",
       "      <td>1992-12-04</td>\n",
       "      <td>179.2</td>\n",
       "      <td>O</td>\n",
       "      <td>4570308</td>\n",
       "    </tr>\n",
       "    <tr>\n",
       "      <th>6</th>\n",
       "      <td>윤아</td>\n",
       "      <td>소녀시대</td>\n",
       "      <td>SM</td>\n",
       "      <td>여자</td>\n",
       "      <td>1989-03-09</td>\n",
       "      <td>NaN</td>\n",
       "      <td>A</td>\n",
       "      <td>3918661</td>\n",
       "    </tr>\n",
       "    <tr>\n",
       "      <th>7</th>\n",
       "      <td>백호</td>\n",
       "      <td>뉴이스트</td>\n",
       "      <td>플레디스</td>\n",
       "      <td>남자</td>\n",
       "      <td>1995-07-21</td>\n",
       "      <td>175.0</td>\n",
       "      <td>AB</td>\n",
       "      <td>3301654</td>\n",
       "    </tr>\n",
       "    <tr>\n",
       "      <th>8</th>\n",
       "      <td>JR</td>\n",
       "      <td>뉴이스트</td>\n",
       "      <td>플레디스</td>\n",
       "      <td>남자</td>\n",
       "      <td>1995-06-08</td>\n",
       "      <td>176.0</td>\n",
       "      <td>O</td>\n",
       "      <td>3274137</td>\n",
       "    </tr>\n",
       "    <tr>\n",
       "      <th>9</th>\n",
       "      <td>슈가</td>\n",
       "      <td>방탄소년단</td>\n",
       "      <td>빅히트</td>\n",
       "      <td>남자</td>\n",
       "      <td>1993-03-09</td>\n",
       "      <td>174.0</td>\n",
       "      <td>O</td>\n",
       "      <td>4925442</td>\n",
       "    </tr>\n",
       "    <tr>\n",
       "      <th>10</th>\n",
       "      <td>강다니엘</td>\n",
       "      <td>NaN</td>\n",
       "      <td>커넥트</td>\n",
       "      <td>남자</td>\n",
       "      <td>1996-12-10</td>\n",
       "      <td>180.0</td>\n",
       "      <td>A</td>\n",
       "      <td>8273745</td>\n",
       "    </tr>\n",
       "    <tr>\n",
       "      <th>11</th>\n",
       "      <td>정국</td>\n",
       "      <td>방탄소년단</td>\n",
       "      <td>빅히트</td>\n",
       "      <td>남자</td>\n",
       "      <td>1997-09-01</td>\n",
       "      <td>178.0</td>\n",
       "      <td>A</td>\n",
       "      <td>7208335</td>\n",
       "    </tr>\n",
       "    <tr>\n",
       "      <th>12</th>\n",
       "      <td>화사</td>\n",
       "      <td>마마무</td>\n",
       "      <td>RBW</td>\n",
       "      <td>여자</td>\n",
       "      <td>1995-07-23</td>\n",
       "      <td>162.1</td>\n",
       "      <td>A</td>\n",
       "      <td>7650928</td>\n",
       "    </tr>\n",
       "    <tr>\n",
       "      <th>13</th>\n",
       "      <td>하성운</td>\n",
       "      <td>핫샷</td>\n",
       "      <td>스타크루이엔티</td>\n",
       "      <td>남자</td>\n",
       "      <td>1994-03-22</td>\n",
       "      <td>167.1</td>\n",
       "      <td>A</td>\n",
       "      <td>4036489</td>\n",
       "    </tr>\n",
       "    <tr>\n",
       "      <th>14</th>\n",
       "      <td>슬기</td>\n",
       "      <td>레드벨벳</td>\n",
       "      <td>SM</td>\n",
       "      <td>여자</td>\n",
       "      <td>1994-02-10</td>\n",
       "      <td>161.0</td>\n",
       "      <td>A</td>\n",
       "      <td>5021452</td>\n",
       "    </tr>\n",
       "    <tr>\n",
       "      <th>15</th>\n",
       "      <td>지민</td>\n",
       "      <td>방탄소년단</td>\n",
       "      <td>빅히트</td>\n",
       "      <td>남자</td>\n",
       "      <td>1995-10-13</td>\n",
       "      <td>173.6</td>\n",
       "      <td>A</td>\n",
       "      <td>10523260</td>\n",
       "    </tr>\n",
       "  </tbody>\n",
       "</table>\n",
       "</div>"
      ],
      "text/plain": [
       "      이름     그룹      소속사  성별        생년월일      키 혈액형      인기지수\n",
       "0    아이린   레드벨벳       SM  여자  1991-03-29  160.0   A   8256324\n",
       "1    차은우   아스트로     판타지오  남자  1997-03-30  183.0   B   3506027\n",
       "2      뷔  방탄소년단      빅히트  남자  1995-12-30  178.0  AB   8073501\n",
       "3     민현    NaN     플레디스  남자  1995-08-09  182.3   O   4989792\n",
       "4     소연    아이들       큐브  여자  1998-08-26    NaN   B   4668615\n",
       "5      진  방탄소년단      빅히트  남자  1992-12-04  179.2   O   4570308\n",
       "6     윤아   소녀시대       SM  여자  1989-03-09    NaN   A   3918661\n",
       "7     백호   뉴이스트     플레디스  남자  1995-07-21  175.0  AB   3301654\n",
       "8     JR   뉴이스트     플레디스  남자  1995-06-08  176.0   O   3274137\n",
       "9     슈가  방탄소년단      빅히트  남자  1993-03-09  174.0   O   4925442\n",
       "10  강다니엘    NaN      커넥트  남자  1996-12-10  180.0   A   8273745\n",
       "11    정국  방탄소년단      빅히트  남자  1997-09-01  178.0   A   7208335\n",
       "12    화사    마마무      RBW  여자  1995-07-23  162.1   A   7650928\n",
       "13   하성운     핫샷  스타크루이엔티  남자  1994-03-22  167.1   A   4036489\n",
       "14    슬기   레드벨벳       SM  여자  1994-02-10  161.0   A   5021452\n",
       "15    지민  방탄소년단      빅히트  남자  1995-10-13  173.6   A  10523260"
      ]
     },
     "execution_count": 48,
     "metadata": {},
     "output_type": "execute_result"
    }
   ],
   "source": [
    "# 데이터 확인\n",
    "df"
   ]
  },
  {
   "cell_type": "code",
   "execution_count": 49,
   "id": "d90585d3-378d-4ba0-ae84-124642d5007e",
   "metadata": {
    "tags": []
   },
   "outputs": [
    {
     "data": {
      "text/plain": [
       "16"
      ]
     },
     "execution_count": 49,
     "metadata": {},
     "output_type": "execute_result"
    }
   ],
   "source": [
    "# 데이터프레임의 행 데이터의 개수\n",
    "len(df)"
   ]
  },
  {
   "cell_type": "code",
   "execution_count": null,
   "id": "3bc70e44-2f68-41c1-8335-8bb118e15f13",
   "metadata": {},
   "outputs": [],
   "source": []
  },
  {
   "cell_type": "code",
   "execution_count": 50,
   "id": "24a97e80-91bd-48fd-8c47-2acd50612b1c",
   "metadata": {
    "tags": []
   },
   "outputs": [
    {
     "data": {
      "text/plain": [
       "{'이름': '바니',\n",
       " '그룹': '바니그룹',\n",
       " '소속사': '안테나',\n",
       " '성별': '여자',\n",
       " '생년월일': '1990-01-01',\n",
       " '키': 195.0,\n",
       " '혈액형': 'O',\n",
       " '인기지수': 7235678}"
      ]
     },
     "execution_count": 50,
     "metadata": {},
     "output_type": "execute_result"
    }
   ],
   "source": [
    "# 추가할 데이터\n",
    "add_data = {'이름':'바니', '그룹':'바니그룹', '소속사':'안테나', \n",
    "           '성별':'여자', '생년월일':'1990-01-01', '키':195.0, \n",
    "           '혈액형':'O', '인기지수':7235678}\n",
    "add_data"
   ]
  },
  {
   "cell_type": "code",
   "execution_count": 51,
   "id": "ea4d5a4c-563d-474f-a6df-1c995b4b9e22",
   "metadata": {
    "tags": []
   },
   "outputs": [],
   "source": [
    "df.loc[len(df)] = add_data  # []는 인덱싱 기법"
   ]
  },
  {
   "cell_type": "code",
   "execution_count": 52,
   "id": "6f1c1f30-66c2-42eb-9c57-4b01a0a541e7",
   "metadata": {
    "tags": []
   },
   "outputs": [
    {
     "data": {
      "text/html": [
       "<div>\n",
       "<style scoped>\n",
       "    .dataframe tbody tr th:only-of-type {\n",
       "        vertical-align: middle;\n",
       "    }\n",
       "\n",
       "    .dataframe tbody tr th {\n",
       "        vertical-align: top;\n",
       "    }\n",
       "\n",
       "    .dataframe thead th {\n",
       "        text-align: right;\n",
       "    }\n",
       "</style>\n",
       "<table border=\"1\" class=\"dataframe\">\n",
       "  <thead>\n",
       "    <tr style=\"text-align: right;\">\n",
       "      <th></th>\n",
       "      <th>이름</th>\n",
       "      <th>그룹</th>\n",
       "      <th>소속사</th>\n",
       "      <th>성별</th>\n",
       "      <th>생년월일</th>\n",
       "      <th>키</th>\n",
       "      <th>혈액형</th>\n",
       "      <th>인기지수</th>\n",
       "    </tr>\n",
       "  </thead>\n",
       "  <tbody>\n",
       "    <tr>\n",
       "      <th>14</th>\n",
       "      <td>슬기</td>\n",
       "      <td>레드벨벳</td>\n",
       "      <td>SM</td>\n",
       "      <td>여자</td>\n",
       "      <td>1994-02-10</td>\n",
       "      <td>161.0</td>\n",
       "      <td>A</td>\n",
       "      <td>5021452</td>\n",
       "    </tr>\n",
       "    <tr>\n",
       "      <th>15</th>\n",
       "      <td>지민</td>\n",
       "      <td>방탄소년단</td>\n",
       "      <td>빅히트</td>\n",
       "      <td>남자</td>\n",
       "      <td>1995-10-13</td>\n",
       "      <td>173.6</td>\n",
       "      <td>A</td>\n",
       "      <td>10523260</td>\n",
       "    </tr>\n",
       "    <tr>\n",
       "      <th>16</th>\n",
       "      <td>바니</td>\n",
       "      <td>바니그룹</td>\n",
       "      <td>안테나</td>\n",
       "      <td>여자</td>\n",
       "      <td>1990-01-01</td>\n",
       "      <td>195.0</td>\n",
       "      <td>O</td>\n",
       "      <td>7235678</td>\n",
       "    </tr>\n",
       "  </tbody>\n",
       "</table>\n",
       "</div>"
      ],
      "text/plain": [
       "    이름     그룹  소속사  성별        생년월일      키 혈액형      인기지수\n",
       "14  슬기   레드벨벳   SM  여자  1994-02-10  161.0   A   5021452\n",
       "15  지민  방탄소년단  빅히트  남자  1995-10-13  173.6   A  10523260\n",
       "16  바니   바니그룹  안테나  여자  1990-01-01  195.0   O   7235678"
      ]
     },
     "execution_count": 52,
     "metadata": {},
     "output_type": "execute_result"
    }
   ],
   "source": [
    "df.tail(3)"
   ]
  },
  {
   "cell_type": "code",
   "execution_count": 53,
   "id": "d243e1a4-0a55-42a0-8301-f9a43b7a45fa",
   "metadata": {
    "tags": []
   },
   "outputs": [],
   "source": [
    "df.loc[len(df)] = add_data"
   ]
  },
  {
   "cell_type": "code",
   "execution_count": 55,
   "id": "9e183a64-5cbb-4792-94f1-e4335d679b0b",
   "metadata": {
    "tags": []
   },
   "outputs": [
    {
     "data": {
      "text/html": [
       "<div>\n",
       "<style scoped>\n",
       "    .dataframe tbody tr th:only-of-type {\n",
       "        vertical-align: middle;\n",
       "    }\n",
       "\n",
       "    .dataframe tbody tr th {\n",
       "        vertical-align: top;\n",
       "    }\n",
       "\n",
       "    .dataframe thead th {\n",
       "        text-align: right;\n",
       "    }\n",
       "</style>\n",
       "<table border=\"1\" class=\"dataframe\">\n",
       "  <thead>\n",
       "    <tr style=\"text-align: right;\">\n",
       "      <th></th>\n",
       "      <th>이름</th>\n",
       "      <th>그룹</th>\n",
       "      <th>소속사</th>\n",
       "      <th>성별</th>\n",
       "      <th>생년월일</th>\n",
       "      <th>키</th>\n",
       "      <th>혈액형</th>\n",
       "      <th>인기지수</th>\n",
       "    </tr>\n",
       "  </thead>\n",
       "  <tbody>\n",
       "    <tr>\n",
       "      <th>15</th>\n",
       "      <td>지민</td>\n",
       "      <td>방탄소년단</td>\n",
       "      <td>빅히트</td>\n",
       "      <td>남자</td>\n",
       "      <td>1995-10-13</td>\n",
       "      <td>173.6</td>\n",
       "      <td>A</td>\n",
       "      <td>10523260</td>\n",
       "    </tr>\n",
       "    <tr>\n",
       "      <th>16</th>\n",
       "      <td>바니</td>\n",
       "      <td>바니그룹</td>\n",
       "      <td>안테나</td>\n",
       "      <td>여자</td>\n",
       "      <td>1990-01-01</td>\n",
       "      <td>195.0</td>\n",
       "      <td>O</td>\n",
       "      <td>7235678</td>\n",
       "    </tr>\n",
       "    <tr>\n",
       "      <th>17</th>\n",
       "      <td>바니</td>\n",
       "      <td>바니그룹</td>\n",
       "      <td>안테나</td>\n",
       "      <td>여자</td>\n",
       "      <td>1990-01-01</td>\n",
       "      <td>195.0</td>\n",
       "      <td>O</td>\n",
       "      <td>7235678</td>\n",
       "    </tr>\n",
       "  </tbody>\n",
       "</table>\n",
       "</div>"
      ],
      "text/plain": [
       "    이름     그룹  소속사  성별        생년월일      키 혈액형      인기지수\n",
       "15  지민  방탄소년단  빅히트  남자  1995-10-13  173.6   A  10523260\n",
       "16  바니   바니그룹  안테나  여자  1990-01-01  195.0   O   7235678\n",
       "17  바니   바니그룹  안테나  여자  1990-01-01  195.0   O   7235678"
      ]
     },
     "execution_count": 55,
     "metadata": {},
     "output_type": "execute_result"
    }
   ],
   "source": [
    "df.tail(3)"
   ]
  },
  {
   "cell_type": "code",
   "execution_count": 57,
   "id": "59606627-198c-41c7-be21-4e75d71a125e",
   "metadata": {
    "tags": []
   },
   "outputs": [
    {
     "data": {
      "text/plain": [
       "{'이름': '아이유',\n",
       " '소속사': '이담엔터테인먼트',\n",
       " '성별': '여자',\n",
       " '생년월일': '1990-01-01',\n",
       " '키': 160.0,\n",
       " '혈액형': 'A',\n",
       " '인기지수': 10235678}"
      ]
     },
     "execution_count": 57,
     "metadata": {},
     "output_type": "execute_result"
    }
   ],
   "source": [
    "# 추가할 데이터 2\n",
    "add_data2 = {'이름':'아이유', '소속사':'이담엔터테인먼트', \n",
    "           '성별':'여자', '생년월일':'1990-01-01', '키':160.0, \n",
    "           '혈액형':'A', '인기지수':10235678}\n",
    "add_data2"
   ]
  },
  {
   "cell_type": "code",
   "execution_count": 60,
   "id": "a02a4239-dc2a-4cbc-8867-678e220659c4",
   "metadata": {
    "tags": []
   },
   "outputs": [
    {
     "data": {
      "text/html": [
       "<div>\n",
       "<style scoped>\n",
       "    .dataframe tbody tr th:only-of-type {\n",
       "        vertical-align: middle;\n",
       "    }\n",
       "\n",
       "    .dataframe tbody tr th {\n",
       "        vertical-align: top;\n",
       "    }\n",
       "\n",
       "    .dataframe thead th {\n",
       "        text-align: right;\n",
       "    }\n",
       "</style>\n",
       "<table border=\"1\" class=\"dataframe\">\n",
       "  <thead>\n",
       "    <tr style=\"text-align: right;\">\n",
       "      <th></th>\n",
       "      <th>이름</th>\n",
       "      <th>그룹</th>\n",
       "      <th>소속사</th>\n",
       "      <th>성별</th>\n",
       "      <th>생년월일</th>\n",
       "      <th>키</th>\n",
       "      <th>혈액형</th>\n",
       "      <th>인기지수</th>\n",
       "    </tr>\n",
       "  </thead>\n",
       "  <tbody>\n",
       "    <tr>\n",
       "      <th>18</th>\n",
       "      <td>아이유</td>\n",
       "      <td>NaN</td>\n",
       "      <td>이담엔터테인먼트</td>\n",
       "      <td>여자</td>\n",
       "      <td>1990-01-01</td>\n",
       "      <td>160.0</td>\n",
       "      <td>A</td>\n",
       "      <td>10235678</td>\n",
       "    </tr>\n",
       "    <tr>\n",
       "      <th>19</th>\n",
       "      <td>아이유</td>\n",
       "      <td>NaN</td>\n",
       "      <td>이담엔터테인먼트</td>\n",
       "      <td>여자</td>\n",
       "      <td>1990-01-01</td>\n",
       "      <td>160.0</td>\n",
       "      <td>A</td>\n",
       "      <td>10235678</td>\n",
       "    </tr>\n",
       "    <tr>\n",
       "      <th>20</th>\n",
       "      <td>아이유</td>\n",
       "      <td>NaN</td>\n",
       "      <td>이담엔터테인먼트</td>\n",
       "      <td>여자</td>\n",
       "      <td>1990-01-01</td>\n",
       "      <td>160.0</td>\n",
       "      <td>A</td>\n",
       "      <td>10235678</td>\n",
       "    </tr>\n",
       "  </tbody>\n",
       "</table>\n",
       "</div>"
      ],
      "text/plain": [
       "     이름   그룹       소속사  성별        생년월일      키 혈액형      인기지수\n",
       "18  아이유  NaN  이담엔터테인먼트  여자  1990-01-01  160.0   A  10235678\n",
       "19  아이유  NaN  이담엔터테인먼트  여자  1990-01-01  160.0   A  10235678\n",
       "20  아이유  NaN  이담엔터테인먼트  여자  1990-01-01  160.0   A  10235678"
      ]
     },
     "execution_count": 60,
     "metadata": {},
     "output_type": "execute_result"
    }
   ],
   "source": [
    "df.loc[len(df)] = add_data2\n",
    "df.tail(3)"
   ]
  },
  {
   "cell_type": "code",
   "execution_count": null,
   "id": "5672b46a-fa83-418c-a8ee-a7a1a66c6653",
   "metadata": {},
   "outputs": [],
   "source": []
  },
  {
   "cell_type": "code",
   "execution_count": 62,
   "id": "bd7e0d6e-559c-4617-9dd9-8dba6ff1a142",
   "metadata": {
    "tags": []
   },
   "outputs": [
    {
     "data": {
      "text/html": [
       "<div>\n",
       "<style scoped>\n",
       "    .dataframe tbody tr th:only-of-type {\n",
       "        vertical-align: middle;\n",
       "    }\n",
       "\n",
       "    .dataframe tbody tr th {\n",
       "        vertical-align: top;\n",
       "    }\n",
       "\n",
       "    .dataframe thead th {\n",
       "        text-align: right;\n",
       "    }\n",
       "</style>\n",
       "<table border=\"1\" class=\"dataframe\">\n",
       "  <thead>\n",
       "    <tr style=\"text-align: right;\">\n",
       "      <th></th>\n",
       "      <th>이름</th>\n",
       "      <th>그룹</th>\n",
       "      <th>소속사</th>\n",
       "      <th>성별</th>\n",
       "      <th>생년월일</th>\n",
       "      <th>키</th>\n",
       "      <th>혈액형</th>\n",
       "      <th>인기지수</th>\n",
       "    </tr>\n",
       "  </thead>\n",
       "  <tbody>\n",
       "    <tr>\n",
       "      <th>16</th>\n",
       "      <td>바니</td>\n",
       "      <td>바니그룹</td>\n",
       "      <td>안테나</td>\n",
       "      <td>여자</td>\n",
       "      <td>1990-01-01</td>\n",
       "      <td>195.0</td>\n",
       "      <td>O</td>\n",
       "      <td>7235678</td>\n",
       "    </tr>\n",
       "    <tr>\n",
       "      <th>17</th>\n",
       "      <td>바니</td>\n",
       "      <td>바니그룹</td>\n",
       "      <td>안테나</td>\n",
       "      <td>여자</td>\n",
       "      <td>1990-01-01</td>\n",
       "      <td>195.0</td>\n",
       "      <td>O</td>\n",
       "      <td>7235678</td>\n",
       "    </tr>\n",
       "    <tr>\n",
       "      <th>18</th>\n",
       "      <td>아이유</td>\n",
       "      <td>NaN</td>\n",
       "      <td>이담엔터테인먼트</td>\n",
       "      <td>여자</td>\n",
       "      <td>1990-01-01</td>\n",
       "      <td>160.0</td>\n",
       "      <td>A</td>\n",
       "      <td>10235678</td>\n",
       "    </tr>\n",
       "    <tr>\n",
       "      <th>19</th>\n",
       "      <td>아이유</td>\n",
       "      <td>NaN</td>\n",
       "      <td>이담엔터테인먼트</td>\n",
       "      <td>여자</td>\n",
       "      <td>1990-01-01</td>\n",
       "      <td>160.0</td>\n",
       "      <td>A</td>\n",
       "      <td>10235678</td>\n",
       "    </tr>\n",
       "    <tr>\n",
       "      <th>20</th>\n",
       "      <td>아이유</td>\n",
       "      <td>NaN</td>\n",
       "      <td>이담엔터테인먼트</td>\n",
       "      <td>여자</td>\n",
       "      <td>1990-01-01</td>\n",
       "      <td>160.0</td>\n",
       "      <td>A</td>\n",
       "      <td>10235678</td>\n",
       "    </tr>\n",
       "  </tbody>\n",
       "</table>\n",
       "</div>"
      ],
      "text/plain": [
       "     이름    그룹       소속사  성별        생년월일      키 혈액형      인기지수\n",
       "16   바니  바니그룹       안테나  여자  1990-01-01  195.0   O   7235678\n",
       "17   바니  바니그룹       안테나  여자  1990-01-01  195.0   O   7235678\n",
       "18  아이유   NaN  이담엔터테인먼트  여자  1990-01-01  160.0   A  10235678\n",
       "19  아이유   NaN  이담엔터테인먼트  여자  1990-01-01  160.0   A  10235678\n",
       "20  아이유   NaN  이담엔터테인먼트  여자  1990-01-01  160.0   A  10235678"
      ]
     },
     "execution_count": 62,
     "metadata": {},
     "output_type": "execute_result"
    }
   ],
   "source": [
    "# 원하는 행 삭제\n",
    "df.drop([17, 19, 20])\n",
    "df.tail(5)"
   ]
  },
  {
   "cell_type": "code",
   "execution_count": null,
   "id": "229c8cdb-43ba-490d-b797-688a34701d77",
   "metadata": {
    "tags": []
   },
   "outputs": [],
   "source": [
    "# 삭제하고 df 다시 대입해야 적용됨\n",
    "df = df.drop([17, 19, 20])"
   ]
  },
  {
   "cell_type": "code",
   "execution_count": 67,
   "id": "4631dc60-d78a-4da9-99eb-1dcbd78ee157",
   "metadata": {
    "tags": []
   },
   "outputs": [
    {
     "data": {
      "text/html": [
       "<div>\n",
       "<style scoped>\n",
       "    .dataframe tbody tr th:only-of-type {\n",
       "        vertical-align: middle;\n",
       "    }\n",
       "\n",
       "    .dataframe tbody tr th {\n",
       "        vertical-align: top;\n",
       "    }\n",
       "\n",
       "    .dataframe thead th {\n",
       "        text-align: right;\n",
       "    }\n",
       "</style>\n",
       "<table border=\"1\" class=\"dataframe\">\n",
       "  <thead>\n",
       "    <tr style=\"text-align: right;\">\n",
       "      <th></th>\n",
       "      <th>이름</th>\n",
       "      <th>그룹</th>\n",
       "      <th>소속사</th>\n",
       "      <th>성별</th>\n",
       "      <th>생년월일</th>\n",
       "      <th>키</th>\n",
       "      <th>혈액형</th>\n",
       "      <th>인기지수</th>\n",
       "    </tr>\n",
       "  </thead>\n",
       "  <tbody>\n",
       "    <tr>\n",
       "      <th>13</th>\n",
       "      <td>하성운</td>\n",
       "      <td>핫샷</td>\n",
       "      <td>스타크루이엔티</td>\n",
       "      <td>남자</td>\n",
       "      <td>1994-03-22</td>\n",
       "      <td>167.1</td>\n",
       "      <td>A</td>\n",
       "      <td>4036489</td>\n",
       "    </tr>\n",
       "    <tr>\n",
       "      <th>14</th>\n",
       "      <td>슬기</td>\n",
       "      <td>레드벨벳</td>\n",
       "      <td>SM</td>\n",
       "      <td>여자</td>\n",
       "      <td>1994-02-10</td>\n",
       "      <td>161.0</td>\n",
       "      <td>A</td>\n",
       "      <td>5021452</td>\n",
       "    </tr>\n",
       "    <tr>\n",
       "      <th>15</th>\n",
       "      <td>지민</td>\n",
       "      <td>방탄소년단</td>\n",
       "      <td>빅히트</td>\n",
       "      <td>남자</td>\n",
       "      <td>1995-10-13</td>\n",
       "      <td>173.6</td>\n",
       "      <td>A</td>\n",
       "      <td>10523260</td>\n",
       "    </tr>\n",
       "    <tr>\n",
       "      <th>16</th>\n",
       "      <td>바니</td>\n",
       "      <td>바니그룹</td>\n",
       "      <td>안테나</td>\n",
       "      <td>여자</td>\n",
       "      <td>1990-01-01</td>\n",
       "      <td>195.0</td>\n",
       "      <td>O</td>\n",
       "      <td>7235678</td>\n",
       "    </tr>\n",
       "    <tr>\n",
       "      <th>18</th>\n",
       "      <td>아이유</td>\n",
       "      <td>NaN</td>\n",
       "      <td>이담엔터테인먼트</td>\n",
       "      <td>여자</td>\n",
       "      <td>1990-01-01</td>\n",
       "      <td>160.0</td>\n",
       "      <td>A</td>\n",
       "      <td>10235678</td>\n",
       "    </tr>\n",
       "  </tbody>\n",
       "</table>\n",
       "</div>"
      ],
      "text/plain": [
       "     이름     그룹       소속사  성별        생년월일      키 혈액형      인기지수\n",
       "13  하성운     핫샷   스타크루이엔티  남자  1994-03-22  167.1   A   4036489\n",
       "14   슬기   레드벨벳        SM  여자  1994-02-10  161.0   A   5021452\n",
       "15   지민  방탄소년단       빅히트  남자  1995-10-13  173.6   A  10523260\n",
       "16   바니   바니그룹       안테나  여자  1990-01-01  195.0   O   7235678\n",
       "18  아이유    NaN  이담엔터테인먼트  여자  1990-01-01  160.0   A  10235678"
      ]
     },
     "execution_count": 67,
     "metadata": {},
     "output_type": "execute_result"
    }
   ],
   "source": [
    "# index는 변화 없음\n",
    "df.tail(5)"
   ]
  },
  {
   "cell_type": "code",
   "execution_count": 68,
   "id": "ea8422b1-91ba-482e-8c31-b4b12dddd9fd",
   "metadata": {
    "tags": []
   },
   "outputs": [
    {
     "data": {
      "text/html": [
       "<div>\n",
       "<style scoped>\n",
       "    .dataframe tbody tr th:only-of-type {\n",
       "        vertical-align: middle;\n",
       "    }\n",
       "\n",
       "    .dataframe tbody tr th {\n",
       "        vertical-align: top;\n",
       "    }\n",
       "\n",
       "    .dataframe thead th {\n",
       "        text-align: right;\n",
       "    }\n",
       "</style>\n",
       "<table border=\"1\" class=\"dataframe\">\n",
       "  <thead>\n",
       "    <tr style=\"text-align: right;\">\n",
       "      <th></th>\n",
       "      <th>이름</th>\n",
       "      <th>그룹</th>\n",
       "      <th>소속사</th>\n",
       "      <th>성별</th>\n",
       "      <th>생년월일</th>\n",
       "      <th>키</th>\n",
       "      <th>혈액형</th>\n",
       "      <th>인기지수</th>\n",
       "    </tr>\n",
       "  </thead>\n",
       "  <tbody>\n",
       "    <tr>\n",
       "      <th>12</th>\n",
       "      <td>화사</td>\n",
       "      <td>마마무</td>\n",
       "      <td>RBW</td>\n",
       "      <td>여자</td>\n",
       "      <td>1995-07-23</td>\n",
       "      <td>162.1</td>\n",
       "      <td>A</td>\n",
       "      <td>7650928</td>\n",
       "    </tr>\n",
       "    <tr>\n",
       "      <th>13</th>\n",
       "      <td>하성운</td>\n",
       "      <td>핫샷</td>\n",
       "      <td>스타크루이엔티</td>\n",
       "      <td>남자</td>\n",
       "      <td>1994-03-22</td>\n",
       "      <td>167.1</td>\n",
       "      <td>A</td>\n",
       "      <td>4036489</td>\n",
       "    </tr>\n",
       "    <tr>\n",
       "      <th>14</th>\n",
       "      <td>슬기</td>\n",
       "      <td>레드벨벳</td>\n",
       "      <td>SM</td>\n",
       "      <td>여자</td>\n",
       "      <td>1994-02-10</td>\n",
       "      <td>161.0</td>\n",
       "      <td>A</td>\n",
       "      <td>5021452</td>\n",
       "    </tr>\n",
       "    <tr>\n",
       "      <th>15</th>\n",
       "      <td>지민</td>\n",
       "      <td>방탄소년단</td>\n",
       "      <td>빅히트</td>\n",
       "      <td>남자</td>\n",
       "      <td>1995-10-13</td>\n",
       "      <td>173.6</td>\n",
       "      <td>A</td>\n",
       "      <td>10523260</td>\n",
       "    </tr>\n",
       "    <tr>\n",
       "      <th>16</th>\n",
       "      <td>바니</td>\n",
       "      <td>바니그룹</td>\n",
       "      <td>안테나</td>\n",
       "      <td>여자</td>\n",
       "      <td>1990-01-01</td>\n",
       "      <td>195.0</td>\n",
       "      <td>O</td>\n",
       "      <td>7235678</td>\n",
       "    </tr>\n",
       "  </tbody>\n",
       "</table>\n",
       "</div>"
      ],
      "text/plain": [
       "     이름     그룹      소속사  성별        생년월일      키 혈액형      인기지수\n",
       "12   화사    마마무      RBW  여자  1995-07-23  162.1   A   7650928\n",
       "13  하성운     핫샷  스타크루이엔티  남자  1994-03-22  167.1   A   4036489\n",
       "14   슬기   레드벨벳       SM  여자  1994-02-10  161.0   A   5021452\n",
       "15   지민  방탄소년단      빅히트  남자  1995-10-13  173.6   A  10523260\n",
       "16   바니   바니그룹      안테나  여자  1990-01-01  195.0   O   7235678"
      ]
     },
     "execution_count": 68,
     "metadata": {},
     "output_type": "execute_result"
    }
   ],
   "source": [
    "# 위와 같은 식\n",
    "df.drop([18], inplace=True)\n",
    "df.tail(5)"
   ]
  },
  {
   "cell_type": "code",
   "execution_count": null,
   "id": "81a8a7e3-6f7e-4db8-b3e9-f8dea9b0a2c3",
   "metadata": {},
   "outputs": [],
   "source": []
  },
  {
   "cell_type": "code",
   "execution_count": null,
   "id": "81ba8847-5e22-46f6-b709-a16d9b7857dc",
   "metadata": {},
   "outputs": [],
   "source": []
  },
  {
   "cell_type": "markdown",
   "id": "e4a4cdc5-36ea-4220-831f-ce4f88f31493",
   "metadata": {
    "tags": []
   },
   "source": [
    "### 2-2. column 추가"
   ]
  },
  {
   "cell_type": "code",
   "execution_count": 71,
   "id": "e509cc67-8c59-4070-b20a-19bcba5aeefc",
   "metadata": {
    "tags": []
   },
   "outputs": [
    {
     "data": {
      "text/html": [
       "<div>\n",
       "<style scoped>\n",
       "    .dataframe tbody tr th:only-of-type {\n",
       "        vertical-align: middle;\n",
       "    }\n",
       "\n",
       "    .dataframe tbody tr th {\n",
       "        vertical-align: top;\n",
       "    }\n",
       "\n",
       "    .dataframe thead th {\n",
       "        text-align: right;\n",
       "    }\n",
       "</style>\n",
       "<table border=\"1\" class=\"dataframe\">\n",
       "  <thead>\n",
       "    <tr style=\"text-align: right;\">\n",
       "      <th></th>\n",
       "      <th>이름</th>\n",
       "      <th>그룹</th>\n",
       "      <th>소속사</th>\n",
       "      <th>성별</th>\n",
       "      <th>생년월일</th>\n",
       "      <th>키</th>\n",
       "      <th>혈액형</th>\n",
       "      <th>인기지수</th>\n",
       "    </tr>\n",
       "  </thead>\n",
       "  <tbody>\n",
       "    <tr>\n",
       "      <th>0</th>\n",
       "      <td>아이린</td>\n",
       "      <td>레드벨벳</td>\n",
       "      <td>SM</td>\n",
       "      <td>여자</td>\n",
       "      <td>1991-03-29</td>\n",
       "      <td>160.0</td>\n",
       "      <td>A</td>\n",
       "      <td>8256324</td>\n",
       "    </tr>\n",
       "    <tr>\n",
       "      <th>1</th>\n",
       "      <td>차은우</td>\n",
       "      <td>아스트로</td>\n",
       "      <td>판타지오</td>\n",
       "      <td>남자</td>\n",
       "      <td>1997-03-30</td>\n",
       "      <td>183.0</td>\n",
       "      <td>B</td>\n",
       "      <td>3506027</td>\n",
       "    </tr>\n",
       "    <tr>\n",
       "      <th>2</th>\n",
       "      <td>뷔</td>\n",
       "      <td>방탄소년단</td>\n",
       "      <td>빅히트</td>\n",
       "      <td>남자</td>\n",
       "      <td>1995-12-30</td>\n",
       "      <td>178.0</td>\n",
       "      <td>AB</td>\n",
       "      <td>8073501</td>\n",
       "    </tr>\n",
       "    <tr>\n",
       "      <th>3</th>\n",
       "      <td>민현</td>\n",
       "      <td>NaN</td>\n",
       "      <td>플레디스</td>\n",
       "      <td>남자</td>\n",
       "      <td>1995-08-09</td>\n",
       "      <td>182.3</td>\n",
       "      <td>O</td>\n",
       "      <td>4989792</td>\n",
       "    </tr>\n",
       "    <tr>\n",
       "      <th>4</th>\n",
       "      <td>소연</td>\n",
       "      <td>아이들</td>\n",
       "      <td>큐브</td>\n",
       "      <td>여자</td>\n",
       "      <td>1998-08-26</td>\n",
       "      <td>NaN</td>\n",
       "      <td>B</td>\n",
       "      <td>4668615</td>\n",
       "    </tr>\n",
       "  </tbody>\n",
       "</table>\n",
       "</div>"
      ],
      "text/plain": [
       "    이름     그룹   소속사  성별        생년월일      키 혈액형     인기지수\n",
       "0  아이린   레드벨벳    SM  여자  1991-03-29  160.0   A  8256324\n",
       "1  차은우   아스트로  판타지오  남자  1997-03-30  183.0   B  3506027\n",
       "2    뷔  방탄소년단   빅히트  남자  1995-12-30  178.0  AB  8073501\n",
       "3   민현    NaN  플레디스  남자  1995-08-09  182.3   O  4989792\n",
       "4   소연    아이들    큐브  여자  1998-08-26    NaN   B  4668615"
      ]
     },
     "execution_count": 71,
     "metadata": {},
     "output_type": "execute_result"
    }
   ],
   "source": [
    "df.head()"
   ]
  },
  {
   "cell_type": "code",
   "execution_count": 73,
   "id": "84c6d43c-857c-4df9-8d5b-2e994b0e7e7d",
   "metadata": {
    "tags": []
   },
   "outputs": [],
   "source": [
    "df['국적'] = '대한민국'"
   ]
  },
  {
   "cell_type": "code",
   "execution_count": 75,
   "id": "9c3e9cf4-554b-4e22-921e-395433a28f2f",
   "metadata": {
    "tags": []
   },
   "outputs": [
    {
     "data": {
      "text/html": [
       "<div>\n",
       "<style scoped>\n",
       "    .dataframe tbody tr th:only-of-type {\n",
       "        vertical-align: middle;\n",
       "    }\n",
       "\n",
       "    .dataframe tbody tr th {\n",
       "        vertical-align: top;\n",
       "    }\n",
       "\n",
       "    .dataframe thead th {\n",
       "        text-align: right;\n",
       "    }\n",
       "</style>\n",
       "<table border=\"1\" class=\"dataframe\">\n",
       "  <thead>\n",
       "    <tr style=\"text-align: right;\">\n",
       "      <th></th>\n",
       "      <th>이름</th>\n",
       "      <th>그룹</th>\n",
       "      <th>소속사</th>\n",
       "      <th>성별</th>\n",
       "      <th>생년월일</th>\n",
       "      <th>키</th>\n",
       "      <th>혈액형</th>\n",
       "      <th>인기지수</th>\n",
       "      <th>국적</th>\n",
       "    </tr>\n",
       "  </thead>\n",
       "  <tbody>\n",
       "    <tr>\n",
       "      <th>0</th>\n",
       "      <td>아이린</td>\n",
       "      <td>레드벨벳</td>\n",
       "      <td>SM</td>\n",
       "      <td>여자</td>\n",
       "      <td>1991-03-29</td>\n",
       "      <td>160.0</td>\n",
       "      <td>A</td>\n",
       "      <td>8256324</td>\n",
       "      <td>대한민국</td>\n",
       "    </tr>\n",
       "    <tr>\n",
       "      <th>1</th>\n",
       "      <td>차은우</td>\n",
       "      <td>아스트로</td>\n",
       "      <td>판타지오</td>\n",
       "      <td>남자</td>\n",
       "      <td>1997-03-30</td>\n",
       "      <td>183.0</td>\n",
       "      <td>B</td>\n",
       "      <td>3506027</td>\n",
       "      <td>대한민국</td>\n",
       "    </tr>\n",
       "    <tr>\n",
       "      <th>2</th>\n",
       "      <td>뷔</td>\n",
       "      <td>방탄소년단</td>\n",
       "      <td>빅히트</td>\n",
       "      <td>남자</td>\n",
       "      <td>1995-12-30</td>\n",
       "      <td>178.0</td>\n",
       "      <td>AB</td>\n",
       "      <td>8073501</td>\n",
       "      <td>대한민국</td>\n",
       "    </tr>\n",
       "    <tr>\n",
       "      <th>3</th>\n",
       "      <td>민현</td>\n",
       "      <td>NaN</td>\n",
       "      <td>플레디스</td>\n",
       "      <td>남자</td>\n",
       "      <td>1995-08-09</td>\n",
       "      <td>182.3</td>\n",
       "      <td>O</td>\n",
       "      <td>4989792</td>\n",
       "      <td>대한민국</td>\n",
       "    </tr>\n",
       "    <tr>\n",
       "      <th>4</th>\n",
       "      <td>소연</td>\n",
       "      <td>아이들</td>\n",
       "      <td>큐브</td>\n",
       "      <td>여자</td>\n",
       "      <td>1998-08-26</td>\n",
       "      <td>NaN</td>\n",
       "      <td>B</td>\n",
       "      <td>4668615</td>\n",
       "      <td>대한민국</td>\n",
       "    </tr>\n",
       "  </tbody>\n",
       "</table>\n",
       "</div>"
      ],
      "text/plain": [
       "    이름     그룹   소속사  성별        생년월일      키 혈액형     인기지수    국적\n",
       "0  아이린   레드벨벳    SM  여자  1991-03-29  160.0   A  8256324  대한민국\n",
       "1  차은우   아스트로  판타지오  남자  1997-03-30  183.0   B  3506027  대한민국\n",
       "2    뷔  방탄소년단   빅히트  남자  1995-12-30  178.0  AB  8073501  대한민국\n",
       "3   민현    NaN  플레디스  남자  1995-08-09  182.3   O  4989792  대한민국\n",
       "4   소연    아이들    큐브  여자  1998-08-26    NaN   B  4668615  대한민국"
      ]
     },
     "execution_count": 75,
     "metadata": {},
     "output_type": "execute_result"
    }
   ],
   "source": [
    "df.head()"
   ]
  },
  {
   "cell_type": "code",
   "execution_count": 77,
   "id": "d57c10fe-a940-46ad-9eaa-46734584b749",
   "metadata": {
    "tags": []
   },
   "outputs": [],
   "source": [
    "# 컬럼 전체에 동일한 값이 적용됨\n",
    "# 만약, 값을 변경하고 싶다면, loc 함수를 활용해서 변경할 수 있음"
   ]
  },
  {
   "cell_type": "code",
   "execution_count": 78,
   "id": "21e85255-e6cb-465e-9422-556cdcb4bc10",
   "metadata": {
    "tags": []
   },
   "outputs": [],
   "source": [
    "df.loc[ df['이름'] == '차은우', '국적' ] = 'korea'"
   ]
  },
  {
   "cell_type": "code",
   "execution_count": 80,
   "id": "a4712f04-b38c-4f41-b075-fb9fb8f0d7a5",
   "metadata": {
    "tags": []
   },
   "outputs": [
    {
     "data": {
      "text/html": [
       "<div>\n",
       "<style scoped>\n",
       "    .dataframe tbody tr th:only-of-type {\n",
       "        vertical-align: middle;\n",
       "    }\n",
       "\n",
       "    .dataframe tbody tr th {\n",
       "        vertical-align: top;\n",
       "    }\n",
       "\n",
       "    .dataframe thead th {\n",
       "        text-align: right;\n",
       "    }\n",
       "</style>\n",
       "<table border=\"1\" class=\"dataframe\">\n",
       "  <thead>\n",
       "    <tr style=\"text-align: right;\">\n",
       "      <th></th>\n",
       "      <th>이름</th>\n",
       "      <th>그룹</th>\n",
       "      <th>소속사</th>\n",
       "      <th>성별</th>\n",
       "      <th>생년월일</th>\n",
       "      <th>키</th>\n",
       "      <th>혈액형</th>\n",
       "      <th>인기지수</th>\n",
       "      <th>국적</th>\n",
       "    </tr>\n",
       "  </thead>\n",
       "  <tbody>\n",
       "    <tr>\n",
       "      <th>0</th>\n",
       "      <td>아이린</td>\n",
       "      <td>레드벨벳</td>\n",
       "      <td>SM</td>\n",
       "      <td>여자</td>\n",
       "      <td>1991-03-29</td>\n",
       "      <td>160.0</td>\n",
       "      <td>A</td>\n",
       "      <td>8256324</td>\n",
       "      <td>대한민국</td>\n",
       "    </tr>\n",
       "    <tr>\n",
       "      <th>1</th>\n",
       "      <td>차은우</td>\n",
       "      <td>아스트로</td>\n",
       "      <td>판타지오</td>\n",
       "      <td>남자</td>\n",
       "      <td>1997-03-30</td>\n",
       "      <td>183.0</td>\n",
       "      <td>B</td>\n",
       "      <td>3506027</td>\n",
       "      <td>korea</td>\n",
       "    </tr>\n",
       "    <tr>\n",
       "      <th>2</th>\n",
       "      <td>뷔</td>\n",
       "      <td>방탄소년단</td>\n",
       "      <td>빅히트</td>\n",
       "      <td>남자</td>\n",
       "      <td>1995-12-30</td>\n",
       "      <td>178.0</td>\n",
       "      <td>AB</td>\n",
       "      <td>8073501</td>\n",
       "      <td>대한민국</td>\n",
       "    </tr>\n",
       "    <tr>\n",
       "      <th>3</th>\n",
       "      <td>민현</td>\n",
       "      <td>NaN</td>\n",
       "      <td>플레디스</td>\n",
       "      <td>남자</td>\n",
       "      <td>1995-08-09</td>\n",
       "      <td>182.3</td>\n",
       "      <td>O</td>\n",
       "      <td>4989792</td>\n",
       "      <td>대한민국</td>\n",
       "    </tr>\n",
       "    <tr>\n",
       "      <th>4</th>\n",
       "      <td>소연</td>\n",
       "      <td>아이들</td>\n",
       "      <td>큐브</td>\n",
       "      <td>여자</td>\n",
       "      <td>1998-08-26</td>\n",
       "      <td>NaN</td>\n",
       "      <td>B</td>\n",
       "      <td>4668615</td>\n",
       "      <td>대한민국</td>\n",
       "    </tr>\n",
       "  </tbody>\n",
       "</table>\n",
       "</div>"
      ],
      "text/plain": [
       "    이름     그룹   소속사  성별        생년월일      키 혈액형     인기지수     국적\n",
       "0  아이린   레드벨벳    SM  여자  1991-03-29  160.0   A  8256324   대한민국\n",
       "1  차은우   아스트로  판타지오  남자  1997-03-30  183.0   B  3506027  korea\n",
       "2    뷔  방탄소년단   빅히트  남자  1995-12-30  178.0  AB  8073501   대한민국\n",
       "3   민현    NaN  플레디스  남자  1995-08-09  182.3   O  4989792   대한민국\n",
       "4   소연    아이들    큐브  여자  1998-08-26    NaN   B  4668615   대한민국"
      ]
     },
     "execution_count": 80,
     "metadata": {},
     "output_type": "execute_result"
    }
   ],
   "source": [
    "df.head()"
   ]
  },
  {
   "cell_type": "code",
   "execution_count": null,
   "id": "9034fffd-bb2f-4127-ab61-895b6742fe83",
   "metadata": {},
   "outputs": [],
   "source": []
  },
  {
   "cell_type": "code",
   "execution_count": null,
   "id": "94b2193f-cb40-42ae-a42f-db4decc7a784",
   "metadata": {},
   "outputs": [],
   "source": []
  },
  {
   "cell_type": "markdown",
   "id": "9b69686f-f1dc-42bf-897b-78176e9aab9e",
   "metadata": {
    "tags": []
   },
   "source": [
    "## 3. 통계값 다루기"
   ]
  },
  {
   "cell_type": "code",
   "execution_count": 88,
   "id": "da35c8bb-d8a5-4926-bf16-4d4d96af6e2c",
   "metadata": {
    "tags": []
   },
   "outputs": [
    {
     "data": {
      "text/plain": [
       "160.0"
      ]
     },
     "execution_count": 88,
     "metadata": {},
     "output_type": "execute_result"
    }
   ],
   "source": [
    "# 최소값\n",
    "df['키'].min()"
   ]
  },
  {
   "cell_type": "code",
   "execution_count": 89,
   "id": "3ac60aed-33a9-4870-a8e4-323190882095",
   "metadata": {
    "tags": []
   },
   "outputs": [
    {
     "data": {
      "text/plain": [
       "195.0"
      ]
     },
     "execution_count": 89,
     "metadata": {},
     "output_type": "execute_result"
    }
   ],
   "source": [
    "# 최대값\n",
    "df['키'].max()"
   ]
  },
  {
   "cell_type": "code",
   "execution_count": 90,
   "id": "2a589b69-875a-4739-8a94-5cb50512a65e",
   "metadata": {
    "tags": []
   },
   "outputs": [
    {
     "data": {
      "text/plain": [
       "2624.3"
      ]
     },
     "execution_count": 90,
     "metadata": {},
     "output_type": "execute_result"
    }
   ],
   "source": [
    "# 함계\n",
    "df['키'].sum()"
   ]
  },
  {
   "cell_type": "code",
   "execution_count": 92,
   "id": "32c1a01b-a59d-4ebb-aaf2-98ab40bb4010",
   "metadata": {
    "tags": []
   },
   "outputs": [
    {
     "data": {
      "text/plain": [
       "174.95333333333335"
      ]
     },
     "execution_count": 92,
     "metadata": {},
     "output_type": "execute_result"
    }
   ],
   "source": [
    "# 평균\n",
    "df['키'].mean()"
   ]
  },
  {
   "cell_type": "code",
   "execution_count": null,
   "id": "1f59c6d0-9b29-4219-934a-6665af71f8a0",
   "metadata": {},
   "outputs": [],
   "source": []
  },
  {
   "cell_type": "markdown",
   "id": "7ef356cf-ecb4-4a10-bbaa-c08d8af0c11a",
   "metadata": {},
   "source": [
    "### 분산, 표준편차\n",
    "- 분산과 표준편차는 데이터가 평균으로부터 얼마나 떨어져 있는지 정도를 나타냄\n",
    "- 분산은 (데이터 - 평균) 2 을 모두 합한 값** / n\n",
    "- 표준편차는 분산의 루트"
   ]
  },
  {
   "cell_type": "code",
   "execution_count": 96,
   "id": "2d332ba2-b4b6-4d7e-b3fd-1c186ae8386e",
   "metadata": {
    "tags": []
   },
   "outputs": [
    {
     "data": {
      "text/plain": [
       "87.9769523809524"
      ]
     },
     "execution_count": 96,
     "metadata": {},
     "output_type": "execute_result"
    }
   ],
   "source": [
    "# 분산\n",
    "df['키'].var()"
   ]
  },
  {
   "cell_type": "code",
   "execution_count": 97,
   "id": "e6ebca68-d548-4f45-93a3-7759119c7e12",
   "metadata": {
    "tags": []
   },
   "outputs": [
    {
     "data": {
      "text/plain": [
       "9.379602996979797"
      ]
     },
     "execution_count": 97,
     "metadata": {},
     "output_type": "execute_result"
    }
   ],
   "source": [
    "# 표준편차\n",
    "df['키'].std()"
   ]
  },
  {
   "cell_type": "code",
   "execution_count": 98,
   "id": "0de2ba27-1bf8-46d5-95a3-df99595270ec",
   "metadata": {
    "tags": []
   },
   "outputs": [],
   "source": [
    "# 위의 과정\n"
   ]
  },
  {
   "cell_type": "code",
   "execution_count": null,
   "id": "2fa780d8-fa73-4930-b7d5-61f5dbb4fe1e",
   "metadata": {},
   "outputs": [],
   "source": []
  },
  {
   "cell_type": "code",
   "execution_count": 100,
   "id": "851800d7-3b72-4bbf-9a97-51683c15ac7a",
   "metadata": {
    "tags": []
   },
   "outputs": [
    {
     "data": {
      "text/plain": [
       "15"
      ]
     },
     "execution_count": 100,
     "metadata": {},
     "output_type": "execute_result"
    }
   ],
   "source": [
    "# 개수\n",
    "df['키'].count()"
   ]
  },
  {
   "cell_type": "code",
   "execution_count": 103,
   "id": "fe72f70c-6c9c-42b9-9489-a741c26acd24",
   "metadata": {
    "tags": []
   },
   "outputs": [
    {
     "data": {
      "text/plain": [
       "176.0"
      ]
     },
     "execution_count": 103,
     "metadata": {},
     "output_type": "execute_result"
    }
   ],
   "source": [
    "# 중앙값\n",
    "df['키'].median()"
   ]
  },
  {
   "cell_type": "code",
   "execution_count": 105,
   "id": "dbbb4a79-79e2-4438-b179-885d10ceca2a",
   "metadata": {
    "tags": []
   },
   "outputs": [
    {
     "data": {
      "text/plain": [
       "0    178.0\n",
       "Name: 키, dtype: float64"
      ]
     },
     "execution_count": 105,
     "metadata": {},
     "output_type": "execute_result"
    }
   ],
   "source": [
    "# 최빈값\n",
    "df['키'].mode()"
   ]
  },
  {
   "cell_type": "code",
   "execution_count": 108,
   "id": "cfdd5a0f-7673-4aed-bd08-7ec580dd99ed",
   "metadata": {
    "tags": []
   },
   "outputs": [
    {
     "data": {
      "text/plain": [
       "178.0"
      ]
     },
     "execution_count": 108,
     "metadata": {},
     "output_type": "execute_result"
    }
   ],
   "source": [
    "# 만약 서로 다른 값 여러개가 최빈값으로 나왔을 경우 타입 확인(시리즈면 1차원 벡터) 후 인덱싱으로 구분\n",
    "type(df['키'].mode())\n",
    "df['키'].mode()[0]\n",
    "# 하나의 컬럼 series => 1차원 리스트 => 벡터 (1차원 결과의 인덱싱은 위와 같이 함)"
   ]
  },
  {
   "cell_type": "code",
   "execution_count": 110,
   "id": "69c1f9d4-e853-4689-a211-98c2824e9bb5",
   "metadata": {
    "tags": []
   },
   "outputs": [
    {
     "data": {
      "text/html": [
       "<div>\n",
       "<style scoped>\n",
       "    .dataframe tbody tr th:only-of-type {\n",
       "        vertical-align: middle;\n",
       "    }\n",
       "\n",
       "    .dataframe tbody tr th {\n",
       "        vertical-align: top;\n",
       "    }\n",
       "\n",
       "    .dataframe thead th {\n",
       "        text-align: right;\n",
       "    }\n",
       "</style>\n",
       "<table border=\"1\" class=\"dataframe\">\n",
       "  <thead>\n",
       "    <tr style=\"text-align: right;\">\n",
       "      <th></th>\n",
       "      <th>이름</th>\n",
       "      <th>그룹</th>\n",
       "      <th>소속사</th>\n",
       "      <th>성별</th>\n",
       "      <th>생년월일</th>\n",
       "      <th>키</th>\n",
       "      <th>혈액형</th>\n",
       "      <th>인기지수</th>\n",
       "      <th>국적</th>\n",
       "    </tr>\n",
       "  </thead>\n",
       "  <tbody>\n",
       "    <tr>\n",
       "      <th>2</th>\n",
       "      <td>뷔</td>\n",
       "      <td>방탄소년단</td>\n",
       "      <td>빅히트</td>\n",
       "      <td>남자</td>\n",
       "      <td>1995-12-30</td>\n",
       "      <td>178.0</td>\n",
       "      <td>AB</td>\n",
       "      <td>8073501</td>\n",
       "      <td>대한민국</td>\n",
       "    </tr>\n",
       "    <tr>\n",
       "      <th>11</th>\n",
       "      <td>정국</td>\n",
       "      <td>방탄소년단</td>\n",
       "      <td>빅히트</td>\n",
       "      <td>남자</td>\n",
       "      <td>1997-09-01</td>\n",
       "      <td>178.0</td>\n",
       "      <td>A</td>\n",
       "      <td>7208335</td>\n",
       "      <td>대한민국</td>\n",
       "    </tr>\n",
       "  </tbody>\n",
       "</table>\n",
       "</div>"
      ],
      "text/plain": [
       "    이름     그룹  소속사  성별        생년월일      키 혈액형     인기지수    국적\n",
       "2    뷔  방탄소년단  빅히트  남자  1995-12-30  178.0  AB  8073501  대한민국\n",
       "11  정국  방탄소년단  빅히트  남자  1997-09-01  178.0   A  7208335  대한민국"
      ]
     },
     "execution_count": 110,
     "metadata": {},
     "output_type": "execute_result"
    }
   ],
   "source": [
    "# 최빈값의 data set(row) 확인\n",
    "df.loc[df['키']==178, :]"
   ]
  },
  {
   "cell_type": "code",
   "execution_count": null,
   "id": "2a3f57a7-412c-4719-a531-1c6d1b62fe25",
   "metadata": {},
   "outputs": [],
   "source": [
    "# 민현의 키를 176으로 변경\n",
    "df.loc[ df['이름'] == '민현', '키'] = 176"
   ]
  },
  {
   "cell_type": "code",
   "execution_count": null,
   "id": "6f43452b-d790-498e-b306-2fce667215c6",
   "metadata": {},
   "outputs": [],
   "source": []
  },
  {
   "cell_type": "code",
   "execution_count": null,
   "id": "353f7c2f-d326-4ec6-bf70-8c25e6353ae4",
   "metadata": {},
   "outputs": [],
   "source": []
  },
  {
   "cell_type": "markdown",
   "id": "21c85ed1-3429-4995-82c3-76fe765e413b",
   "metadata": {
    "tags": []
   },
   "source": [
    "## 4. GroupBy 그룹으로 묶어보기"
   ]
  },
  {
   "cell_type": "code",
   "execution_count": 113,
   "id": "097ffe03-7830-4110-a213-68e228f89690",
   "metadata": {
    "tags": []
   },
   "outputs": [
    {
     "data": {
      "text/html": [
       "<div>\n",
       "<style scoped>\n",
       "    .dataframe tbody tr th:only-of-type {\n",
       "        vertical-align: middle;\n",
       "    }\n",
       "\n",
       "    .dataframe tbody tr th {\n",
       "        vertical-align: top;\n",
       "    }\n",
       "\n",
       "    .dataframe thead th {\n",
       "        text-align: right;\n",
       "    }\n",
       "</style>\n",
       "<table border=\"1\" class=\"dataframe\">\n",
       "  <thead>\n",
       "    <tr style=\"text-align: right;\">\n",
       "      <th></th>\n",
       "      <th>이름</th>\n",
       "      <th>그룹</th>\n",
       "      <th>소속사</th>\n",
       "      <th>성별</th>\n",
       "      <th>생년월일</th>\n",
       "      <th>키</th>\n",
       "      <th>혈액형</th>\n",
       "      <th>인기지수</th>\n",
       "      <th>국적</th>\n",
       "    </tr>\n",
       "  </thead>\n",
       "  <tbody>\n",
       "    <tr>\n",
       "      <th>0</th>\n",
       "      <td>아이린</td>\n",
       "      <td>레드벨벳</td>\n",
       "      <td>SM</td>\n",
       "      <td>여자</td>\n",
       "      <td>1991-03-29</td>\n",
       "      <td>160.0</td>\n",
       "      <td>A</td>\n",
       "      <td>8256324</td>\n",
       "      <td>대한민국</td>\n",
       "    </tr>\n",
       "    <tr>\n",
       "      <th>1</th>\n",
       "      <td>차은우</td>\n",
       "      <td>아스트로</td>\n",
       "      <td>판타지오</td>\n",
       "      <td>남자</td>\n",
       "      <td>1997-03-30</td>\n",
       "      <td>183.0</td>\n",
       "      <td>B</td>\n",
       "      <td>3506027</td>\n",
       "      <td>korea</td>\n",
       "    </tr>\n",
       "    <tr>\n",
       "      <th>2</th>\n",
       "      <td>뷔</td>\n",
       "      <td>방탄소년단</td>\n",
       "      <td>빅히트</td>\n",
       "      <td>남자</td>\n",
       "      <td>1995-12-30</td>\n",
       "      <td>178.0</td>\n",
       "      <td>AB</td>\n",
       "      <td>8073501</td>\n",
       "      <td>대한민국</td>\n",
       "    </tr>\n",
       "    <tr>\n",
       "      <th>3</th>\n",
       "      <td>민현</td>\n",
       "      <td>NaN</td>\n",
       "      <td>플레디스</td>\n",
       "      <td>남자</td>\n",
       "      <td>1995-08-09</td>\n",
       "      <td>182.3</td>\n",
       "      <td>O</td>\n",
       "      <td>4989792</td>\n",
       "      <td>대한민국</td>\n",
       "    </tr>\n",
       "    <tr>\n",
       "      <th>4</th>\n",
       "      <td>소연</td>\n",
       "      <td>아이들</td>\n",
       "      <td>큐브</td>\n",
       "      <td>여자</td>\n",
       "      <td>1998-08-26</td>\n",
       "      <td>NaN</td>\n",
       "      <td>B</td>\n",
       "      <td>4668615</td>\n",
       "      <td>대한민국</td>\n",
       "    </tr>\n",
       "  </tbody>\n",
       "</table>\n",
       "</div>"
      ],
      "text/plain": [
       "    이름     그룹   소속사  성별        생년월일      키 혈액형     인기지수     국적\n",
       "0  아이린   레드벨벳    SM  여자  1991-03-29  160.0   A  8256324   대한민국\n",
       "1  차은우   아스트로  판타지오  남자  1997-03-30  183.0   B  3506027  korea\n",
       "2    뷔  방탄소년단   빅히트  남자  1995-12-30  178.0  AB  8073501   대한민국\n",
       "3   민현    NaN  플레디스  남자  1995-08-09  182.3   O  4989792   대한민국\n",
       "4   소연    아이들    큐브  여자  1998-08-26    NaN   B  4668615   대한민국"
      ]
     },
     "execution_count": 113,
     "metadata": {},
     "output_type": "execute_result"
    }
   ],
   "source": [
    "df.head()"
   ]
  },
  {
   "cell_type": "code",
   "execution_count": 114,
   "id": "96c6d38f-ebdf-4299-ae91-3e476b719dca",
   "metadata": {
    "tags": []
   },
   "outputs": [
    {
     "data": {
      "text/plain": [
       "소속사\n",
       "빅히트        5\n",
       "SM         3\n",
       "플레디스       3\n",
       "RBW        1\n",
       "스타크루이엔티    1\n",
       "안테나        1\n",
       "커넥트        1\n",
       "큐브         1\n",
       "판타지오       1\n",
       "Name: count, dtype: int64"
      ]
     },
     "execution_count": 114,
     "metadata": {},
     "output_type": "execute_result"
    }
   ],
   "source": [
    "df.value_counts('소속사')"
   ]
  },
  {
   "cell_type": "code",
   "execution_count": 118,
   "id": "73d61fb3-9fc1-4dfe-9c41-b41dc574a0f5",
   "metadata": {
    "tags": []
   },
   "outputs": [
    {
     "data": {
      "text/plain": [
       "<pandas.core.groupby.generic.DataFrameGroupBy object at 0x000002A0FE00D940>"
      ]
     },
     "execution_count": 118,
     "metadata": {},
     "output_type": "execute_result"
    }
   ],
   "source": [
    "# 데이터를 보려면 원하는 집계함수에 해당하는 메서드를 뒤에 붙여줘야 함\n",
    "# count() - 갯수\n",
    "# sum() - 합계\n",
    "# mean() - 평균\n",
    "# var() - 분산\n",
    "# std() - 표준편차\n",
    "# min()/max() - 최소값, 최대값\n",
    "df.groupby('소속사')"
   ]
  },
  {
   "cell_type": "code",
   "execution_count": 120,
   "id": "00f9d8b3-bece-4fc0-b0ef-e792546e337f",
   "metadata": {
    "tags": []
   },
   "outputs": [
    {
     "data": {
      "text/html": [
       "<div>\n",
       "<style scoped>\n",
       "    .dataframe tbody tr th:only-of-type {\n",
       "        vertical-align: middle;\n",
       "    }\n",
       "\n",
       "    .dataframe tbody tr th {\n",
       "        vertical-align: top;\n",
       "    }\n",
       "\n",
       "    .dataframe thead th {\n",
       "        text-align: right;\n",
       "    }\n",
       "</style>\n",
       "<table border=\"1\" class=\"dataframe\">\n",
       "  <thead>\n",
       "    <tr style=\"text-align: right;\">\n",
       "      <th></th>\n",
       "      <th>이름</th>\n",
       "      <th>그룹</th>\n",
       "      <th>성별</th>\n",
       "      <th>생년월일</th>\n",
       "      <th>키</th>\n",
       "      <th>혈액형</th>\n",
       "      <th>인기지수</th>\n",
       "      <th>국적</th>\n",
       "    </tr>\n",
       "    <tr>\n",
       "      <th>소속사</th>\n",
       "      <th></th>\n",
       "      <th></th>\n",
       "      <th></th>\n",
       "      <th></th>\n",
       "      <th></th>\n",
       "      <th></th>\n",
       "      <th></th>\n",
       "      <th></th>\n",
       "    </tr>\n",
       "  </thead>\n",
       "  <tbody>\n",
       "    <tr>\n",
       "      <th>RBW</th>\n",
       "      <td>1</td>\n",
       "      <td>1</td>\n",
       "      <td>1</td>\n",
       "      <td>1</td>\n",
       "      <td>1</td>\n",
       "      <td>1</td>\n",
       "      <td>1</td>\n",
       "      <td>1</td>\n",
       "    </tr>\n",
       "    <tr>\n",
       "      <th>SM</th>\n",
       "      <td>3</td>\n",
       "      <td>3</td>\n",
       "      <td>3</td>\n",
       "      <td>3</td>\n",
       "      <td>2</td>\n",
       "      <td>3</td>\n",
       "      <td>3</td>\n",
       "      <td>3</td>\n",
       "    </tr>\n",
       "    <tr>\n",
       "      <th>빅히트</th>\n",
       "      <td>5</td>\n",
       "      <td>5</td>\n",
       "      <td>5</td>\n",
       "      <td>5</td>\n",
       "      <td>5</td>\n",
       "      <td>5</td>\n",
       "      <td>5</td>\n",
       "      <td>5</td>\n",
       "    </tr>\n",
       "    <tr>\n",
       "      <th>스타크루이엔티</th>\n",
       "      <td>1</td>\n",
       "      <td>1</td>\n",
       "      <td>1</td>\n",
       "      <td>1</td>\n",
       "      <td>1</td>\n",
       "      <td>1</td>\n",
       "      <td>1</td>\n",
       "      <td>1</td>\n",
       "    </tr>\n",
       "    <tr>\n",
       "      <th>안테나</th>\n",
       "      <td>1</td>\n",
       "      <td>1</td>\n",
       "      <td>1</td>\n",
       "      <td>1</td>\n",
       "      <td>1</td>\n",
       "      <td>1</td>\n",
       "      <td>1</td>\n",
       "      <td>1</td>\n",
       "    </tr>\n",
       "    <tr>\n",
       "      <th>커넥트</th>\n",
       "      <td>1</td>\n",
       "      <td>0</td>\n",
       "      <td>1</td>\n",
       "      <td>1</td>\n",
       "      <td>1</td>\n",
       "      <td>1</td>\n",
       "      <td>1</td>\n",
       "      <td>1</td>\n",
       "    </tr>\n",
       "    <tr>\n",
       "      <th>큐브</th>\n",
       "      <td>1</td>\n",
       "      <td>1</td>\n",
       "      <td>1</td>\n",
       "      <td>1</td>\n",
       "      <td>0</td>\n",
       "      <td>1</td>\n",
       "      <td>1</td>\n",
       "      <td>1</td>\n",
       "    </tr>\n",
       "    <tr>\n",
       "      <th>판타지오</th>\n",
       "      <td>1</td>\n",
       "      <td>1</td>\n",
       "      <td>1</td>\n",
       "      <td>1</td>\n",
       "      <td>1</td>\n",
       "      <td>1</td>\n",
       "      <td>1</td>\n",
       "      <td>1</td>\n",
       "    </tr>\n",
       "    <tr>\n",
       "      <th>플레디스</th>\n",
       "      <td>3</td>\n",
       "      <td>2</td>\n",
       "      <td>3</td>\n",
       "      <td>3</td>\n",
       "      <td>3</td>\n",
       "      <td>3</td>\n",
       "      <td>3</td>\n",
       "      <td>3</td>\n",
       "    </tr>\n",
       "  </tbody>\n",
       "</table>\n",
       "</div>"
      ],
      "text/plain": [
       "         이름  그룹  성별  생년월일  키  혈액형  인기지수  국적\n",
       "소속사                                        \n",
       "RBW       1   1   1     1  1    1     1   1\n",
       "SM        3   3   3     3  2    3     3   3\n",
       "빅히트       5   5   5     5  5    5     5   5\n",
       "스타크루이엔티   1   1   1     1  1    1     1   1\n",
       "안테나       1   1   1     1  1    1     1   1\n",
       "커넥트       1   0   1     1  1    1     1   1\n",
       "큐브        1   1   1     1  0    1     1   1\n",
       "판타지오      1   1   1     1  1    1     1   1\n",
       "플레디스      3   2   3     3  3    3     3   3"
      ]
     },
     "execution_count": 120,
     "metadata": {},
     "output_type": "execute_result"
    }
   ],
   "source": [
    "df.groupby('소속사').count()"
   ]
  },
  {
   "cell_type": "code",
   "execution_count": 122,
   "id": "25c67ec6-96aa-4ddc-8887-d129fe0d32aa",
   "metadata": {
    "tags": []
   },
   "outputs": [
    {
     "data": {
      "text/html": [
       "<div>\n",
       "<style scoped>\n",
       "    .dataframe tbody tr th:only-of-type {\n",
       "        vertical-align: middle;\n",
       "    }\n",
       "\n",
       "    .dataframe tbody tr th {\n",
       "        vertical-align: top;\n",
       "    }\n",
       "\n",
       "    .dataframe thead th {\n",
       "        text-align: right;\n",
       "    }\n",
       "</style>\n",
       "<table border=\"1\" class=\"dataframe\">\n",
       "  <thead>\n",
       "    <tr style=\"text-align: right;\">\n",
       "      <th></th>\n",
       "      <th>이름</th>\n",
       "      <th>그룹</th>\n",
       "      <th>성별</th>\n",
       "      <th>생년월일</th>\n",
       "      <th>키</th>\n",
       "      <th>혈액형</th>\n",
       "      <th>인기지수</th>\n",
       "      <th>국적</th>\n",
       "    </tr>\n",
       "    <tr>\n",
       "      <th>소속사</th>\n",
       "      <th></th>\n",
       "      <th></th>\n",
       "      <th></th>\n",
       "      <th></th>\n",
       "      <th></th>\n",
       "      <th></th>\n",
       "      <th></th>\n",
       "      <th></th>\n",
       "    </tr>\n",
       "  </thead>\n",
       "  <tbody>\n",
       "    <tr>\n",
       "      <th>RBW</th>\n",
       "      <td>화사</td>\n",
       "      <td>마마무</td>\n",
       "      <td>여자</td>\n",
       "      <td>1995-07-23</td>\n",
       "      <td>162.1</td>\n",
       "      <td>A</td>\n",
       "      <td>7650928</td>\n",
       "      <td>대한민국</td>\n",
       "    </tr>\n",
       "    <tr>\n",
       "      <th>SM</th>\n",
       "      <td>아이린윤아슬기</td>\n",
       "      <td>레드벨벳소녀시대레드벨벳</td>\n",
       "      <td>여자여자여자</td>\n",
       "      <td>1991-03-291989-03-091994-02-10</td>\n",
       "      <td>321.0</td>\n",
       "      <td>AAA</td>\n",
       "      <td>17196437</td>\n",
       "      <td>대한민국대한민국대한민국</td>\n",
       "    </tr>\n",
       "    <tr>\n",
       "      <th>빅히트</th>\n",
       "      <td>뷔진슈가정국지민</td>\n",
       "      <td>방탄소년단방탄소년단방탄소년단방탄소년단방탄소년단</td>\n",
       "      <td>남자남자남자남자남자</td>\n",
       "      <td>1995-12-301992-12-041993-03-091997-09-011995-1...</td>\n",
       "      <td>882.8</td>\n",
       "      <td>ABOOAA</td>\n",
       "      <td>35300846</td>\n",
       "      <td>대한민국대한민국대한민국대한민국대한민국</td>\n",
       "    </tr>\n",
       "    <tr>\n",
       "      <th>스타크루이엔티</th>\n",
       "      <td>하성운</td>\n",
       "      <td>핫샷</td>\n",
       "      <td>남자</td>\n",
       "      <td>1994-03-22</td>\n",
       "      <td>167.1</td>\n",
       "      <td>A</td>\n",
       "      <td>4036489</td>\n",
       "      <td>대한민국</td>\n",
       "    </tr>\n",
       "    <tr>\n",
       "      <th>안테나</th>\n",
       "      <td>바니</td>\n",
       "      <td>바니그룹</td>\n",
       "      <td>여자</td>\n",
       "      <td>1990-01-01</td>\n",
       "      <td>195.0</td>\n",
       "      <td>O</td>\n",
       "      <td>7235678</td>\n",
       "      <td>대한민국</td>\n",
       "    </tr>\n",
       "    <tr>\n",
       "      <th>커넥트</th>\n",
       "      <td>강다니엘</td>\n",
       "      <td>0</td>\n",
       "      <td>남자</td>\n",
       "      <td>1996-12-10</td>\n",
       "      <td>180.0</td>\n",
       "      <td>A</td>\n",
       "      <td>8273745</td>\n",
       "      <td>대한민국</td>\n",
       "    </tr>\n",
       "    <tr>\n",
       "      <th>큐브</th>\n",
       "      <td>소연</td>\n",
       "      <td>아이들</td>\n",
       "      <td>여자</td>\n",
       "      <td>1998-08-26</td>\n",
       "      <td>0.0</td>\n",
       "      <td>B</td>\n",
       "      <td>4668615</td>\n",
       "      <td>대한민국</td>\n",
       "    </tr>\n",
       "    <tr>\n",
       "      <th>판타지오</th>\n",
       "      <td>차은우</td>\n",
       "      <td>아스트로</td>\n",
       "      <td>남자</td>\n",
       "      <td>1997-03-30</td>\n",
       "      <td>183.0</td>\n",
       "      <td>B</td>\n",
       "      <td>3506027</td>\n",
       "      <td>korea</td>\n",
       "    </tr>\n",
       "    <tr>\n",
       "      <th>플레디스</th>\n",
       "      <td>민현백호JR</td>\n",
       "      <td>뉴이스트뉴이스트</td>\n",
       "      <td>남자남자남자</td>\n",
       "      <td>1995-08-091995-07-211995-06-08</td>\n",
       "      <td>533.3</td>\n",
       "      <td>OABO</td>\n",
       "      <td>11565583</td>\n",
       "      <td>대한민국대한민국대한민국</td>\n",
       "    </tr>\n",
       "  </tbody>\n",
       "</table>\n",
       "</div>"
      ],
      "text/plain": [
       "               이름                         그룹          성별   \n",
       "소속사                                                        \n",
       "RBW            화사                        마마무          여자  \\\n",
       "SM        아이린윤아슬기               레드벨벳소녀시대레드벨벳      여자여자여자   \n",
       "빅히트      뷔진슈가정국지민  방탄소년단방탄소년단방탄소년단방탄소년단방탄소년단  남자남자남자남자남자   \n",
       "스타크루이엔티       하성운                         핫샷          남자   \n",
       "안테나            바니                       바니그룹          여자   \n",
       "커넥트          강다니엘                          0          남자   \n",
       "큐브             소연                        아이들          여자   \n",
       "판타지오          차은우                       아스트로          남자   \n",
       "플레디스       민현백호JR                   뉴이스트뉴이스트      남자남자남자   \n",
       "\n",
       "                                                      생년월일      키     혈액형   \n",
       "소속사                                                                         \n",
       "RBW                                             1995-07-23  162.1       A  \\\n",
       "SM                          1991-03-291989-03-091994-02-10  321.0     AAA   \n",
       "빅히트      1995-12-301992-12-041993-03-091997-09-011995-1...  882.8  ABOOAA   \n",
       "스타크루이엔티                                         1994-03-22  167.1       A   \n",
       "안테나                                             1990-01-01  195.0       O   \n",
       "커넥트                                             1996-12-10  180.0       A   \n",
       "큐브                                              1998-08-26    0.0       B   \n",
       "판타지오                                            1997-03-30  183.0       B   \n",
       "플레디스                        1995-08-091995-07-211995-06-08  533.3    OABO   \n",
       "\n",
       "             인기지수                    국적  \n",
       "소속사                                      \n",
       "RBW       7650928                  대한민국  \n",
       "SM       17196437          대한민국대한민국대한민국  \n",
       "빅히트      35300846  대한민국대한민국대한민국대한민국대한민국  \n",
       "스타크루이엔티   4036489                  대한민국  \n",
       "안테나       7235678                  대한민국  \n",
       "커넥트       8273745                  대한민국  \n",
       "큐브        4668615                  대한민국  \n",
       "판타지오      3506027                 korea  \n",
       "플레디스     11565583          대한민국대한민국대한민국  "
      ]
     },
     "execution_count": 122,
     "metadata": {},
     "output_type": "execute_result"
    }
   ],
   "source": [
    "df.groupby('소속사').sum()"
   ]
  },
  {
   "cell_type": "code",
   "execution_count": 124,
   "id": "b2b14801-aa68-4bd9-82f9-8c2e0426885b",
   "metadata": {
    "tags": []
   },
   "outputs": [
    {
     "data": {
      "text/html": [
       "<div>\n",
       "<style scoped>\n",
       "    .dataframe tbody tr th:only-of-type {\n",
       "        vertical-align: middle;\n",
       "    }\n",
       "\n",
       "    .dataframe tbody tr th {\n",
       "        vertical-align: top;\n",
       "    }\n",
       "\n",
       "    .dataframe thead th {\n",
       "        text-align: right;\n",
       "    }\n",
       "</style>\n",
       "<table border=\"1\" class=\"dataframe\">\n",
       "  <thead>\n",
       "    <tr style=\"text-align: right;\">\n",
       "      <th></th>\n",
       "      <th>이름</th>\n",
       "      <th>그룹</th>\n",
       "      <th>소속사</th>\n",
       "      <th>생년월일</th>\n",
       "      <th>키</th>\n",
       "      <th>혈액형</th>\n",
       "      <th>인기지수</th>\n",
       "      <th>국적</th>\n",
       "    </tr>\n",
       "    <tr>\n",
       "      <th>성별</th>\n",
       "      <th></th>\n",
       "      <th></th>\n",
       "      <th></th>\n",
       "      <th></th>\n",
       "      <th></th>\n",
       "      <th></th>\n",
       "      <th></th>\n",
       "      <th></th>\n",
       "    </tr>\n",
       "  </thead>\n",
       "  <tbody>\n",
       "    <tr>\n",
       "      <th>남자</th>\n",
       "      <td>차은우뷔민현진백호JR슈가강다니엘정국하성운지민</td>\n",
       "      <td>아스트로방탄소년단방탄소년단뉴이스트뉴이스트방탄소년단방탄소년단핫샷방탄소년단</td>\n",
       "      <td>판타지오빅히트플레디스빅히트플레디스플레디스빅히트커넥트빅히트스타크루이엔티빅히트</td>\n",
       "      <td>1997-03-301995-12-301995-08-091992-12-041995-0...</td>\n",
       "      <td>1946.2</td>\n",
       "      <td>BABOOABOOAAAA</td>\n",
       "      <td>62682690</td>\n",
       "      <td>korea대한민국대한민국대한민국대한민국대한민국대한민국대한민국대한민국대한민국대한민국</td>\n",
       "    </tr>\n",
       "    <tr>\n",
       "      <th>여자</th>\n",
       "      <td>아이린소연윤아화사슬기바니</td>\n",
       "      <td>레드벨벳아이들소녀시대마마무레드벨벳바니그룹</td>\n",
       "      <td>SM큐브SMRBWSM안테나</td>\n",
       "      <td>1991-03-291998-08-261989-03-091995-07-231994-0...</td>\n",
       "      <td>678.1</td>\n",
       "      <td>ABAAAO</td>\n",
       "      <td>36751658</td>\n",
       "      <td>대한민국대한민국대한민국대한민국대한민국대한민국</td>\n",
       "    </tr>\n",
       "  </tbody>\n",
       "</table>\n",
       "</div>"
      ],
      "text/plain": [
       "                          이름                                       그룹   \n",
       "성별                                                                      \n",
       "남자  차은우뷔민현진백호JR슈가강다니엘정국하성운지민  아스트로방탄소년단방탄소년단뉴이스트뉴이스트방탄소년단방탄소년단핫샷방탄소년단  \\\n",
       "여자             아이린소연윤아화사슬기바니                   레드벨벳아이들소녀시대마마무레드벨벳바니그룹   \n",
       "\n",
       "                                          소속사   \n",
       "성별                                              \n",
       "남자  판타지오빅히트플레디스빅히트플레디스플레디스빅히트커넥트빅히트스타크루이엔티빅히트  \\\n",
       "여자                             SM큐브SMRBWSM안테나   \n",
       "\n",
       "                                                 생년월일       키            혈액형   \n",
       "성별                                                                             \n",
       "남자  1997-03-301995-12-301995-08-091992-12-041995-0...  1946.2  BABOOABOOAAAA  \\\n",
       "여자  1991-03-291998-08-261989-03-091995-07-231994-0...   678.1         ABAAAO   \n",
       "\n",
       "        인기지수                                             국적  \n",
       "성별                                                           \n",
       "남자  62682690  korea대한민국대한민국대한민국대한민국대한민국대한민국대한민국대한민국대한민국대한민국  \n",
       "여자  36751658                       대한민국대한민국대한민국대한민국대한민국대한민국  "
      ]
     },
     "execution_count": 124,
     "metadata": {},
     "output_type": "execute_result"
    }
   ],
   "source": [
    "df.groupby('성별').sum()"
   ]
  },
  {
   "cell_type": "code",
   "execution_count": 130,
   "id": "242ceb2d-43f8-4bde-83d8-c724d5843269",
   "metadata": {
    "tags": []
   },
   "outputs": [
    {
     "data": {
      "text/html": [
       "<div>\n",
       "<style scoped>\n",
       "    .dataframe tbody tr th:only-of-type {\n",
       "        vertical-align: middle;\n",
       "    }\n",
       "\n",
       "    .dataframe tbody tr th {\n",
       "        vertical-align: top;\n",
       "    }\n",
       "\n",
       "    .dataframe thead th {\n",
       "        text-align: right;\n",
       "    }\n",
       "</style>\n",
       "<table border=\"1\" class=\"dataframe\">\n",
       "  <thead>\n",
       "    <tr style=\"text-align: right;\">\n",
       "      <th></th>\n",
       "      <th>키</th>\n",
       "      <th>인기지수</th>\n",
       "    </tr>\n",
       "    <tr>\n",
       "      <th>혈액형</th>\n",
       "      <th></th>\n",
       "      <th></th>\n",
       "    </tr>\n",
       "  </thead>\n",
       "  <tbody>\n",
       "    <tr>\n",
       "      <th>A</th>\n",
       "      <td>168.828571</td>\n",
       "      <td>6861149.25</td>\n",
       "    </tr>\n",
       "    <tr>\n",
       "      <th>AB</th>\n",
       "      <td>176.500000</td>\n",
       "      <td>5687577.50</td>\n",
       "    </tr>\n",
       "    <tr>\n",
       "      <th>B</th>\n",
       "      <td>183.000000</td>\n",
       "      <td>4087321.00</td>\n",
       "    </tr>\n",
       "    <tr>\n",
       "      <th>O</th>\n",
       "      <td>181.300000</td>\n",
       "      <td>4999071.40</td>\n",
       "    </tr>\n",
       "  </tbody>\n",
       "</table>\n",
       "</div>"
      ],
      "text/plain": [
       "              키        인기지수\n",
       "혈액형                        \n",
       "A    168.828571  6861149.25\n",
       "AB   176.500000  5687577.50\n",
       "B    183.000000  4087321.00\n",
       "O    181.300000  4999071.40"
      ]
     },
     "execution_count": 130,
     "metadata": {},
     "output_type": "execute_result"
    }
   ],
   "source": [
    "# 특정 열만 출력?\n",
    "# 혈액형으로 그룹바이 해서 키와 인기지수만 평균내서 보기\n",
    "df.groupby('혈액형')[['키','인기지수']].mean()"
   ]
  },
  {
   "cell_type": "code",
   "execution_count": 131,
   "id": "00c5b76d-a925-4133-a74c-7a6ad9f561d2",
   "metadata": {
    "tags": []
   },
   "outputs": [
    {
     "data": {
      "text/plain": [
       "혈액형\n",
       "A     168.828571\n",
       "AB    176.500000\n",
       "B     183.000000\n",
       "O     181.300000\n",
       "Name: 키, dtype: float64"
      ]
     },
     "execution_count": 131,
     "metadata": {},
     "output_type": "execute_result"
    }
   ],
   "source": [
    "# 하나의 컬럼일 경우 []하나만\n",
    "# 시리즈로 자료구조 바뀜\n",
    "df.groupby('혈액형')['키'].mean()"
   ]
  },
  {
   "cell_type": "code",
   "execution_count": 132,
   "id": "8b239196-8ce5-463c-82bd-7dd7eed31f29",
   "metadata": {
    "tags": []
   },
   "outputs": [
    {
     "data": {
      "text/html": [
       "<div>\n",
       "<style scoped>\n",
       "    .dataframe tbody tr th:only-of-type {\n",
       "        vertical-align: middle;\n",
       "    }\n",
       "\n",
       "    .dataframe tbody tr th {\n",
       "        vertical-align: top;\n",
       "    }\n",
       "\n",
       "    .dataframe thead th {\n",
       "        text-align: right;\n",
       "    }\n",
       "</style>\n",
       "<table border=\"1\" class=\"dataframe\">\n",
       "  <thead>\n",
       "    <tr style=\"text-align: right;\">\n",
       "      <th></th>\n",
       "      <th>키</th>\n",
       "    </tr>\n",
       "    <tr>\n",
       "      <th>혈액형</th>\n",
       "      <th></th>\n",
       "    </tr>\n",
       "  </thead>\n",
       "  <tbody>\n",
       "    <tr>\n",
       "      <th>A</th>\n",
       "      <td>168.828571</td>\n",
       "    </tr>\n",
       "    <tr>\n",
       "      <th>AB</th>\n",
       "      <td>176.500000</td>\n",
       "    </tr>\n",
       "    <tr>\n",
       "      <th>B</th>\n",
       "      <td>183.000000</td>\n",
       "    </tr>\n",
       "    <tr>\n",
       "      <th>O</th>\n",
       "      <td>181.300000</td>\n",
       "    </tr>\n",
       "  </tbody>\n",
       "</table>\n",
       "</div>"
      ],
      "text/plain": [
       "              키\n",
       "혈액형            \n",
       "A    168.828571\n",
       "AB   176.500000\n",
       "B    183.000000\n",
       "O    181.300000"
      ]
     },
     "execution_count": 132,
     "metadata": {},
     "output_type": "execute_result"
    }
   ],
   "source": [
    "# 리스트업 해주면 데이터 프레임 씌워줌\n",
    "df.groupby('혈액형')[['키']].mean()"
   ]
  },
  {
   "cell_type": "code",
   "execution_count": null,
   "id": "193337ba-8494-4fdd-91b7-6d9ca818678f",
   "metadata": {},
   "outputs": [],
   "source": []
  },
  {
   "cell_type": "code",
   "execution_count": null,
   "id": "b5e095e3-ad07-429c-8260-b4fe20cc513f",
   "metadata": {},
   "outputs": [],
   "source": []
  },
  {
   "cell_type": "markdown",
   "id": "14f0a79a-f34f-4c87-b2d5-ae3a25aa7c47",
   "metadata": {
    "tags": []
   },
   "source": [
    "## 5. Multi-Index(복합 인덱스)"
   ]
  },
  {
   "cell_type": "code",
   "execution_count": 137,
   "id": "a164cf14-4180-4ec0-abda-73612609cc6d",
   "metadata": {
    "tags": []
   },
   "outputs": [
    {
     "data": {
      "text/html": [
       "<div>\n",
       "<style scoped>\n",
       "    .dataframe tbody tr th:only-of-type {\n",
       "        vertical-align: middle;\n",
       "    }\n",
       "\n",
       "    .dataframe tbody tr th {\n",
       "        vertical-align: top;\n",
       "    }\n",
       "\n",
       "    .dataframe thead th {\n",
       "        text-align: right;\n",
       "    }\n",
       "</style>\n",
       "<table border=\"1\" class=\"dataframe\">\n",
       "  <thead>\n",
       "    <tr style=\"text-align: right;\">\n",
       "      <th></th>\n",
       "      <th></th>\n",
       "      <th>키</th>\n",
       "      <th>인기지수</th>\n",
       "    </tr>\n",
       "    <tr>\n",
       "      <th>혈액형</th>\n",
       "      <th>성별</th>\n",
       "      <th></th>\n",
       "      <th></th>\n",
       "    </tr>\n",
       "  </thead>\n",
       "  <tbody>\n",
       "    <tr>\n",
       "      <th rowspan=\"2\" valign=\"top\">A</th>\n",
       "      <th>남자</th>\n",
       "      <td>174.675000</td>\n",
       "      <td>7510457.25</td>\n",
       "    </tr>\n",
       "    <tr>\n",
       "      <th>여자</th>\n",
       "      <td>161.033333</td>\n",
       "      <td>6211841.25</td>\n",
       "    </tr>\n",
       "    <tr>\n",
       "      <th>AB</th>\n",
       "      <th>남자</th>\n",
       "      <td>176.500000</td>\n",
       "      <td>5687577.50</td>\n",
       "    </tr>\n",
       "    <tr>\n",
       "      <th rowspan=\"2\" valign=\"top\">B</th>\n",
       "      <th>남자</th>\n",
       "      <td>183.000000</td>\n",
       "      <td>3506027.00</td>\n",
       "    </tr>\n",
       "    <tr>\n",
       "      <th>여자</th>\n",
       "      <td>NaN</td>\n",
       "      <td>4668615.00</td>\n",
       "    </tr>\n",
       "    <tr>\n",
       "      <th rowspan=\"2\" valign=\"top\">O</th>\n",
       "      <th>남자</th>\n",
       "      <td>177.875000</td>\n",
       "      <td>4439919.75</td>\n",
       "    </tr>\n",
       "    <tr>\n",
       "      <th>여자</th>\n",
       "      <td>195.000000</td>\n",
       "      <td>7235678.00</td>\n",
       "    </tr>\n",
       "  </tbody>\n",
       "</table>\n",
       "</div>"
      ],
      "text/plain": [
       "                 키        인기지수\n",
       "혈액형 성별                        \n",
       "A   남자  174.675000  7510457.25\n",
       "    여자  161.033333  6211841.25\n",
       "AB  남자  176.500000  5687577.50\n",
       "B   남자  183.000000  3506027.00\n",
       "    여자         NaN  4668615.00\n",
       "O   남자  177.875000  4439919.75\n",
       "    여자  195.000000  7235678.00"
      ]
     },
     "execution_count": 137,
     "metadata": {},
     "output_type": "execute_result"
    }
   ],
   "source": [
    "# 행 인덱스를 복합적으로 구성하고 싶은 경우는 인덱스를 리스트로 만들어줌\n",
    "# 이중 groupby\n",
    "df.groupby(['혈액형', '성별'])[[\"키\", \"인기지수\"]].mean()"
   ]
  },
  {
   "cell_type": "code",
   "execution_count": null,
   "id": "4d8a4815-3d19-4039-ae42-ab68d7ff6737",
   "metadata": {},
   "outputs": [],
   "source": []
  },
  {
   "cell_type": "code",
   "execution_count": 139,
   "id": "099f2ab1-73d7-471d-be0d-e9e090c3bd8e",
   "metadata": {
    "tags": []
   },
   "outputs": [
    {
     "data": {
      "text/html": [
       "<div>\n",
       "<style scoped>\n",
       "    .dataframe tbody tr th:only-of-type {\n",
       "        vertical-align: middle;\n",
       "    }\n",
       "\n",
       "    .dataframe tbody tr th {\n",
       "        vertical-align: top;\n",
       "    }\n",
       "\n",
       "    .dataframe thead th {\n",
       "        text-align: right;\n",
       "    }\n",
       "</style>\n",
       "<table border=\"1\" class=\"dataframe\">\n",
       "  <thead>\n",
       "    <tr style=\"text-align: right;\">\n",
       "      <th></th>\n",
       "      <th></th>\n",
       "      <th>키</th>\n",
       "      <th>인기지수</th>\n",
       "    </tr>\n",
       "    <tr>\n",
       "      <th>혈액형</th>\n",
       "      <th>성별</th>\n",
       "      <th></th>\n",
       "      <th></th>\n",
       "    </tr>\n",
       "  </thead>\n",
       "  <tbody>\n",
       "    <tr>\n",
       "      <th rowspan=\"2\" valign=\"top\">A</th>\n",
       "      <th>남자</th>\n",
       "      <td>174.675000</td>\n",
       "      <td>7510457.25</td>\n",
       "    </tr>\n",
       "    <tr>\n",
       "      <th>여자</th>\n",
       "      <td>161.033333</td>\n",
       "      <td>6211841.25</td>\n",
       "    </tr>\n",
       "    <tr>\n",
       "      <th>AB</th>\n",
       "      <th>남자</th>\n",
       "      <td>176.500000</td>\n",
       "      <td>5687577.50</td>\n",
       "    </tr>\n",
       "    <tr>\n",
       "      <th rowspan=\"2\" valign=\"top\">B</th>\n",
       "      <th>남자</th>\n",
       "      <td>183.000000</td>\n",
       "      <td>3506027.00</td>\n",
       "    </tr>\n",
       "    <tr>\n",
       "      <th>여자</th>\n",
       "      <td>NaN</td>\n",
       "      <td>4668615.00</td>\n",
       "    </tr>\n",
       "    <tr>\n",
       "      <th rowspan=\"2\" valign=\"top\">O</th>\n",
       "      <th>남자</th>\n",
       "      <td>177.875000</td>\n",
       "      <td>4439919.75</td>\n",
       "    </tr>\n",
       "    <tr>\n",
       "      <th>여자</th>\n",
       "      <td>195.000000</td>\n",
       "      <td>7235678.00</td>\n",
       "    </tr>\n",
       "  </tbody>\n",
       "</table>\n",
       "</div>"
      ],
      "text/plain": [
       "                 키        인기지수\n",
       "혈액형 성별                        \n",
       "A   남자  174.675000  7510457.25\n",
       "    여자  161.033333  6211841.25\n",
       "AB  남자  176.500000  5687577.50\n",
       "B   남자  183.000000  3506027.00\n",
       "    여자         NaN  4668615.00\n",
       "O   남자  177.875000  4439919.75\n",
       "    여자  195.000000  7235678.00"
      ]
     },
     "execution_count": 139,
     "metadata": {},
     "output_type": "execute_result"
    }
   ],
   "source": [
    "# Multi-Index 데이터 프레임을 피벗 테이블로 변환\n",
    "# Multi-Index로 된 데이터프레임을 피벗테이블 형태로 다시 변환해 줄 수 있음\n",
    "\n",
    "# 그룹 by 수행수 multi index 데이터 프레임 만들고,\n",
    "df2 = df.groupby(['혈액형', '성별'])[[\"키\", \"인기지수\"]].mean()\n",
    "df2"
   ]
  },
  {
   "cell_type": "code",
   "execution_count": 141,
   "id": "316448aa-7d54-4d3c-82f8-f8cfd4720a63",
   "metadata": {
    "tags": []
   },
   "outputs": [
    {
     "data": {
      "text/html": [
       "<div>\n",
       "<style scoped>\n",
       "    .dataframe tbody tr th:only-of-type {\n",
       "        vertical-align: middle;\n",
       "    }\n",
       "\n",
       "    .dataframe tbody tr th {\n",
       "        vertical-align: top;\n",
       "    }\n",
       "\n",
       "    .dataframe thead tr th {\n",
       "        text-align: left;\n",
       "    }\n",
       "\n",
       "    .dataframe thead tr:last-of-type th {\n",
       "        text-align: right;\n",
       "    }\n",
       "</style>\n",
       "<table border=\"1\" class=\"dataframe\">\n",
       "  <thead>\n",
       "    <tr>\n",
       "      <th></th>\n",
       "      <th colspan=\"4\" halign=\"left\">키</th>\n",
       "      <th colspan=\"4\" halign=\"left\">인기지수</th>\n",
       "    </tr>\n",
       "    <tr>\n",
       "      <th>혈액형</th>\n",
       "      <th>A</th>\n",
       "      <th>AB</th>\n",
       "      <th>B</th>\n",
       "      <th>O</th>\n",
       "      <th>A</th>\n",
       "      <th>AB</th>\n",
       "      <th>B</th>\n",
       "      <th>O</th>\n",
       "    </tr>\n",
       "    <tr>\n",
       "      <th>성별</th>\n",
       "      <th></th>\n",
       "      <th></th>\n",
       "      <th></th>\n",
       "      <th></th>\n",
       "      <th></th>\n",
       "      <th></th>\n",
       "      <th></th>\n",
       "      <th></th>\n",
       "    </tr>\n",
       "  </thead>\n",
       "  <tbody>\n",
       "    <tr>\n",
       "      <th>남자</th>\n",
       "      <td>174.675000</td>\n",
       "      <td>176.5</td>\n",
       "      <td>183.0</td>\n",
       "      <td>177.875</td>\n",
       "      <td>7510457.25</td>\n",
       "      <td>5687577.5</td>\n",
       "      <td>3506027.0</td>\n",
       "      <td>4439919.75</td>\n",
       "    </tr>\n",
       "    <tr>\n",
       "      <th>여자</th>\n",
       "      <td>161.033333</td>\n",
       "      <td>NaN</td>\n",
       "      <td>NaN</td>\n",
       "      <td>195.000</td>\n",
       "      <td>6211841.25</td>\n",
       "      <td>NaN</td>\n",
       "      <td>4668615.0</td>\n",
       "      <td>7235678.00</td>\n",
       "    </tr>\n",
       "  </tbody>\n",
       "</table>\n",
       "</div>"
      ],
      "text/plain": [
       "              키                               인기지수                         \n",
       "혈액형           A     AB      B        O           A         AB          B   \n",
       "성별                                                                         \n",
       "남자   174.675000  176.5  183.0  177.875  7510457.25  5687577.5  3506027.0  \\\n",
       "여자   161.033333    NaN    NaN  195.000  6211841.25        NaN  4668615.0   \n",
       "\n",
       "                 \n",
       "혈액형           O  \n",
       "성별               \n",
       "남자   4439919.75  \n",
       "여자   7235678.00  "
      ]
     },
     "execution_count": 141,
     "metadata": {},
     "output_type": "execute_result"
    }
   ],
   "source": [
    "# 혈액형 컬럼을 기준으로 피벗테이블 변형\n",
    "df2.unstack('혈액형')"
   ]
  },
  {
   "cell_type": "code",
   "execution_count": 144,
   "id": "7172938d-cc31-411d-b00a-950eb9ef4891",
   "metadata": {
    "tags": []
   },
   "outputs": [
    {
     "data": {
      "text/html": [
       "<div>\n",
       "<style scoped>\n",
       "    .dataframe tbody tr th:only-of-type {\n",
       "        vertical-align: middle;\n",
       "    }\n",
       "\n",
       "    .dataframe tbody tr th {\n",
       "        vertical-align: top;\n",
       "    }\n",
       "\n",
       "    .dataframe thead tr th {\n",
       "        text-align: left;\n",
       "    }\n",
       "\n",
       "    .dataframe thead tr:last-of-type th {\n",
       "        text-align: right;\n",
       "    }\n",
       "</style>\n",
       "<table border=\"1\" class=\"dataframe\">\n",
       "  <thead>\n",
       "    <tr>\n",
       "      <th></th>\n",
       "      <th colspan=\"2\" halign=\"left\">키</th>\n",
       "      <th colspan=\"2\" halign=\"left\">인기지수</th>\n",
       "    </tr>\n",
       "    <tr>\n",
       "      <th>성별</th>\n",
       "      <th>남자</th>\n",
       "      <th>여자</th>\n",
       "      <th>남자</th>\n",
       "      <th>여자</th>\n",
       "    </tr>\n",
       "    <tr>\n",
       "      <th>혈액형</th>\n",
       "      <th></th>\n",
       "      <th></th>\n",
       "      <th></th>\n",
       "      <th></th>\n",
       "    </tr>\n",
       "  </thead>\n",
       "  <tbody>\n",
       "    <tr>\n",
       "      <th>A</th>\n",
       "      <td>174.675</td>\n",
       "      <td>161.033333</td>\n",
       "      <td>7510457.25</td>\n",
       "      <td>6211841.25</td>\n",
       "    </tr>\n",
       "    <tr>\n",
       "      <th>AB</th>\n",
       "      <td>176.500</td>\n",
       "      <td>NaN</td>\n",
       "      <td>5687577.50</td>\n",
       "      <td>NaN</td>\n",
       "    </tr>\n",
       "    <tr>\n",
       "      <th>B</th>\n",
       "      <td>183.000</td>\n",
       "      <td>NaN</td>\n",
       "      <td>3506027.00</td>\n",
       "      <td>4668615.00</td>\n",
       "    </tr>\n",
       "    <tr>\n",
       "      <th>O</th>\n",
       "      <td>177.875</td>\n",
       "      <td>195.000000</td>\n",
       "      <td>4439919.75</td>\n",
       "      <td>7235678.00</td>\n",
       "    </tr>\n",
       "  </tbody>\n",
       "</table>\n",
       "</div>"
      ],
      "text/plain": [
       "           키                    인기지수            \n",
       "성별        남자          여자          남자          여자\n",
       "혈액형                                             \n",
       "A    174.675  161.033333  7510457.25  6211841.25\n",
       "AB   176.500         NaN  5687577.50         NaN\n",
       "B    183.000         NaN  3506027.00  4668615.00\n",
       "O    177.875  195.000000  4439919.75  7235678.00"
      ]
     },
     "execution_count": 144,
     "metadata": {},
     "output_type": "execute_result"
    }
   ],
   "source": [
    "# 성별 기준으로 피벗테이블 변형\n",
    "df2.unstack('성별')"
   ]
  },
  {
   "cell_type": "code",
   "execution_count": 148,
   "id": "01af49c0-9b69-4d5e-a5e6-cbf98bd4aa1b",
   "metadata": {
    "tags": []
   },
   "outputs": [
    {
     "data": {
      "text/plain": [
       "혈액형  성별      \n",
       "A    남자  키       1.746750e+02\n",
       "         인기지수    7.510457e+06\n",
       "     여자  키       1.610333e+02\n",
       "         인기지수    6.211841e+06\n",
       "AB   남자  키       1.765000e+02\n",
       "         인기지수    5.687578e+06\n",
       "B    남자  키       1.830000e+02\n",
       "         인기지수    3.506027e+06\n",
       "     여자  인기지수    4.668615e+06\n",
       "O    남자  키       1.778750e+02\n",
       "         인기지수    4.439920e+06\n",
       "     여자  키       1.950000e+02\n",
       "         인기지수    7.235678e+06\n",
       "dtype: float64"
      ]
     },
     "execution_count": 148,
     "metadata": {},
     "output_type": "execute_result"
    }
   ],
   "source": [
    "# stack\n",
    "df2.stack()"
   ]
  },
  {
   "cell_type": "code",
   "execution_count": null,
   "id": "14742e71-6d3b-4c00-9e66-6869c7b44dbb",
   "metadata": {},
   "outputs": [],
   "source": []
  },
  {
   "cell_type": "code",
   "execution_count": 150,
   "id": "1ab44fe1-ac4c-471a-8f08-5a02a0ba0b0f",
   "metadata": {
    "tags": []
   },
   "outputs": [],
   "source": [
    "# 인덱스 초기화 (reset_index)\n",
    "# reset_index() 는 Multi-Index로 구성된 데이터 프레임의 인덱스를 초기화해줌"
   ]
  },
  {
   "cell_type": "code",
   "execution_count": 152,
   "id": "e50737a9-771f-4bc0-97d5-cdc72fca7974",
   "metadata": {
    "tags": []
   },
   "outputs": [
    {
     "data": {
      "text/html": [
       "<div>\n",
       "<style scoped>\n",
       "    .dataframe tbody tr th:only-of-type {\n",
       "        vertical-align: middle;\n",
       "    }\n",
       "\n",
       "    .dataframe tbody tr th {\n",
       "        vertical-align: top;\n",
       "    }\n",
       "\n",
       "    .dataframe thead th {\n",
       "        text-align: right;\n",
       "    }\n",
       "</style>\n",
       "<table border=\"1\" class=\"dataframe\">\n",
       "  <thead>\n",
       "    <tr style=\"text-align: right;\">\n",
       "      <th></th>\n",
       "      <th></th>\n",
       "      <th>키</th>\n",
       "      <th>인기지수</th>\n",
       "    </tr>\n",
       "    <tr>\n",
       "      <th>혈액형</th>\n",
       "      <th>성별</th>\n",
       "      <th></th>\n",
       "      <th></th>\n",
       "    </tr>\n",
       "  </thead>\n",
       "  <tbody>\n",
       "    <tr>\n",
       "      <th rowspan=\"2\" valign=\"top\">A</th>\n",
       "      <th>남자</th>\n",
       "      <td>174.675000</td>\n",
       "      <td>7510457.25</td>\n",
       "    </tr>\n",
       "    <tr>\n",
       "      <th>여자</th>\n",
       "      <td>161.033333</td>\n",
       "      <td>6211841.25</td>\n",
       "    </tr>\n",
       "    <tr>\n",
       "      <th>AB</th>\n",
       "      <th>남자</th>\n",
       "      <td>176.500000</td>\n",
       "      <td>5687577.50</td>\n",
       "    </tr>\n",
       "    <tr>\n",
       "      <th rowspan=\"2\" valign=\"top\">B</th>\n",
       "      <th>남자</th>\n",
       "      <td>183.000000</td>\n",
       "      <td>3506027.00</td>\n",
       "    </tr>\n",
       "    <tr>\n",
       "      <th>여자</th>\n",
       "      <td>NaN</td>\n",
       "      <td>4668615.00</td>\n",
       "    </tr>\n",
       "    <tr>\n",
       "      <th rowspan=\"2\" valign=\"top\">O</th>\n",
       "      <th>남자</th>\n",
       "      <td>177.875000</td>\n",
       "      <td>4439919.75</td>\n",
       "    </tr>\n",
       "    <tr>\n",
       "      <th>여자</th>\n",
       "      <td>195.000000</td>\n",
       "      <td>7235678.00</td>\n",
       "    </tr>\n",
       "  </tbody>\n",
       "</table>\n",
       "</div>"
      ],
      "text/plain": [
       "                 키        인기지수\n",
       "혈액형 성별                        \n",
       "A   남자  174.675000  7510457.25\n",
       "    여자  161.033333  6211841.25\n",
       "AB  남자  176.500000  5687577.50\n",
       "B   남자  183.000000  3506027.00\n",
       "    여자         NaN  4668615.00\n",
       "O   남자  177.875000  4439919.75\n",
       "    여자  195.000000  7235678.00"
      ]
     },
     "execution_count": 152,
     "metadata": {},
     "output_type": "execute_result"
    }
   ],
   "source": [
    "# groupby 하면 그 키값이 인덱스가 되어버림\n",
    "df2"
   ]
  },
  {
   "cell_type": "code",
   "execution_count": 153,
   "id": "0d1e63f9-1731-4825-8d44-8dc84c243b3a",
   "metadata": {
    "tags": []
   },
   "outputs": [],
   "source": [
    "# axis = 0, 행 index\n",
    "df2 = df2.reset_index()"
   ]
  },
  {
   "cell_type": "code",
   "execution_count": 155,
   "id": "068f629b-5e60-4761-b58c-c472147b85e3",
   "metadata": {
    "tags": []
   },
   "outputs": [
    {
     "data": {
      "text/html": [
       "<div>\n",
       "<style scoped>\n",
       "    .dataframe tbody tr th:only-of-type {\n",
       "        vertical-align: middle;\n",
       "    }\n",
       "\n",
       "    .dataframe tbody tr th {\n",
       "        vertical-align: top;\n",
       "    }\n",
       "\n",
       "    .dataframe thead th {\n",
       "        text-align: right;\n",
       "    }\n",
       "</style>\n",
       "<table border=\"1\" class=\"dataframe\">\n",
       "  <thead>\n",
       "    <tr style=\"text-align: right;\">\n",
       "      <th></th>\n",
       "      <th>혈액형</th>\n",
       "      <th>성별</th>\n",
       "      <th>키</th>\n",
       "      <th>인기지수</th>\n",
       "    </tr>\n",
       "  </thead>\n",
       "  <tbody>\n",
       "    <tr>\n",
       "      <th>0</th>\n",
       "      <td>A</td>\n",
       "      <td>남자</td>\n",
       "      <td>174.675000</td>\n",
       "      <td>7510457.25</td>\n",
       "    </tr>\n",
       "    <tr>\n",
       "      <th>1</th>\n",
       "      <td>A</td>\n",
       "      <td>여자</td>\n",
       "      <td>161.033333</td>\n",
       "      <td>6211841.25</td>\n",
       "    </tr>\n",
       "    <tr>\n",
       "      <th>2</th>\n",
       "      <td>AB</td>\n",
       "      <td>남자</td>\n",
       "      <td>176.500000</td>\n",
       "      <td>5687577.50</td>\n",
       "    </tr>\n",
       "    <tr>\n",
       "      <th>3</th>\n",
       "      <td>B</td>\n",
       "      <td>남자</td>\n",
       "      <td>183.000000</td>\n",
       "      <td>3506027.00</td>\n",
       "    </tr>\n",
       "    <tr>\n",
       "      <th>4</th>\n",
       "      <td>B</td>\n",
       "      <td>여자</td>\n",
       "      <td>NaN</td>\n",
       "      <td>4668615.00</td>\n",
       "    </tr>\n",
       "    <tr>\n",
       "      <th>5</th>\n",
       "      <td>O</td>\n",
       "      <td>남자</td>\n",
       "      <td>177.875000</td>\n",
       "      <td>4439919.75</td>\n",
       "    </tr>\n",
       "    <tr>\n",
       "      <th>6</th>\n",
       "      <td>O</td>\n",
       "      <td>여자</td>\n",
       "      <td>195.000000</td>\n",
       "      <td>7235678.00</td>\n",
       "    </tr>\n",
       "  </tbody>\n",
       "</table>\n",
       "</div>"
      ],
      "text/plain": [
       "  혈액형  성별           키        인기지수\n",
       "0   A  남자  174.675000  7510457.25\n",
       "1   A  여자  161.033333  6211841.25\n",
       "2  AB  남자  176.500000  5687577.50\n",
       "3   B  남자  183.000000  3506027.00\n",
       "4   B  여자         NaN  4668615.00\n",
       "5   O  남자  177.875000  4439919.75\n",
       "6   O  여자  195.000000  7235678.00"
      ]
     },
     "execution_count": 155,
     "metadata": {},
     "output_type": "execute_result"
    }
   ],
   "source": [
    "df2"
   ]
  },
  {
   "cell_type": "code",
   "execution_count": 156,
   "id": "729ae92f-a841-446e-a343-603852243871",
   "metadata": {
    "tags": []
   },
   "outputs": [
    {
     "data": {
      "text/html": [
       "<div>\n",
       "<style scoped>\n",
       "    .dataframe tbody tr th:only-of-type {\n",
       "        vertical-align: middle;\n",
       "    }\n",
       "\n",
       "    .dataframe tbody tr th {\n",
       "        vertical-align: top;\n",
       "    }\n",
       "\n",
       "    .dataframe thead th {\n",
       "        text-align: right;\n",
       "    }\n",
       "</style>\n",
       "<table border=\"1\" class=\"dataframe\">\n",
       "  <thead>\n",
       "    <tr style=\"text-align: right;\">\n",
       "      <th></th>\n",
       "      <th>혈액형</th>\n",
       "      <th>성별</th>\n",
       "      <th>키</th>\n",
       "      <th>인기지수</th>\n",
       "    </tr>\n",
       "  </thead>\n",
       "  <tbody>\n",
       "    <tr>\n",
       "      <th>0</th>\n",
       "      <td>A</td>\n",
       "      <td>남자</td>\n",
       "      <td>174.675000</td>\n",
       "      <td>7510457.25</td>\n",
       "    </tr>\n",
       "    <tr>\n",
       "      <th>1</th>\n",
       "      <td>A</td>\n",
       "      <td>여자</td>\n",
       "      <td>161.033333</td>\n",
       "      <td>6211841.25</td>\n",
       "    </tr>\n",
       "    <tr>\n",
       "      <th>2</th>\n",
       "      <td>AB</td>\n",
       "      <td>남자</td>\n",
       "      <td>176.500000</td>\n",
       "      <td>5687577.50</td>\n",
       "    </tr>\n",
       "    <tr>\n",
       "      <th>3</th>\n",
       "      <td>B</td>\n",
       "      <td>남자</td>\n",
       "      <td>183.000000</td>\n",
       "      <td>3506027.00</td>\n",
       "    </tr>\n",
       "    <tr>\n",
       "      <th>4</th>\n",
       "      <td>B</td>\n",
       "      <td>여자</td>\n",
       "      <td>NaN</td>\n",
       "      <td>4668615.00</td>\n",
       "    </tr>\n",
       "  </tbody>\n",
       "</table>\n",
       "</div>"
      ],
      "text/plain": [
       "  혈액형  성별           키        인기지수\n",
       "0   A  남자  174.675000  7510457.25\n",
       "1   A  여자  161.033333  6211841.25\n",
       "2  AB  남자  176.500000  5687577.50\n",
       "3   B  남자  183.000000  3506027.00\n",
       "4   B  여자         NaN  4668615.00"
      ]
     },
     "execution_count": 156,
     "metadata": {},
     "output_type": "execute_result"
    }
   ],
   "source": [
    "df2.head()"
   ]
  },
  {
   "cell_type": "code",
   "execution_count": null,
   "id": "e64f34f1-67cf-4047-bb8a-5f1830d96ac9",
   "metadata": {
    "tags": []
   },
   "outputs": [],
   "source": [
    "# index가 생겨서 삭제해야 할 경우\n",
    "# column 삭제시 axis=1, default는 axis=0\n",
    "# df2.drop(['index']) 는 오류 남\n",
    "# df2.drop(['index'], axis=1)\n",
    "df1 = df2.drop(['index'], axis=1)\n",
    "df1"
   ]
  },
  {
   "cell_type": "code",
   "execution_count": null,
   "id": "ccece9f7-e80f-4083-bc9f-87d314f6be10",
   "metadata": {},
   "outputs": [],
   "source": []
  },
  {
   "cell_type": "code",
   "execution_count": null,
   "id": "4ac10f1b-1672-4dc1-8b1a-5e9b7c627fac",
   "metadata": {},
   "outputs": [],
   "source": []
  },
  {
   "cell_type": "markdown",
   "id": "629c42d8-afe8-4259-9495-19d58ca9effa",
   "metadata": {},
   "source": [
    "## 6. 피벗테이블(pivot_table)\n",
    "- 피벗테이블은 엑셀의 피벗테이블과 동일함\n",
    "- 데이터 열 중에서 두 개의 열을 각각 행 인덱스, 열 인덱스로 사용하여 데이터를 조회하여 펼쳐놓은 것을 의미함\n",
    "- 왼쪽에 나타나는 인덱스를 행 인덱스, 상단에 나타나는 인덱스를 열 인덱스라고 부름"
   ]
  },
  {
   "cell_type": "code",
   "execution_count": 158,
   "id": "a3ada94e-aa1c-4551-900d-df0992b88421",
   "metadata": {
    "tags": []
   },
   "outputs": [
    {
     "data": {
      "text/html": [
       "<div>\n",
       "<style scoped>\n",
       "    .dataframe tbody tr th:only-of-type {\n",
       "        vertical-align: middle;\n",
       "    }\n",
       "\n",
       "    .dataframe tbody tr th {\n",
       "        vertical-align: top;\n",
       "    }\n",
       "\n",
       "    .dataframe thead th {\n",
       "        text-align: right;\n",
       "    }\n",
       "</style>\n",
       "<table border=\"1\" class=\"dataframe\">\n",
       "  <thead>\n",
       "    <tr style=\"text-align: right;\">\n",
       "      <th></th>\n",
       "      <th>이름</th>\n",
       "      <th>그룹</th>\n",
       "      <th>소속사</th>\n",
       "      <th>성별</th>\n",
       "      <th>생년월일</th>\n",
       "      <th>키</th>\n",
       "      <th>혈액형</th>\n",
       "      <th>인기지수</th>\n",
       "      <th>국적</th>\n",
       "    </tr>\n",
       "  </thead>\n",
       "  <tbody>\n",
       "    <tr>\n",
       "      <th>0</th>\n",
       "      <td>아이린</td>\n",
       "      <td>레드벨벳</td>\n",
       "      <td>SM</td>\n",
       "      <td>여자</td>\n",
       "      <td>1991-03-29</td>\n",
       "      <td>160.0</td>\n",
       "      <td>A</td>\n",
       "      <td>8256324</td>\n",
       "      <td>대한민국</td>\n",
       "    </tr>\n",
       "    <tr>\n",
       "      <th>1</th>\n",
       "      <td>차은우</td>\n",
       "      <td>아스트로</td>\n",
       "      <td>판타지오</td>\n",
       "      <td>남자</td>\n",
       "      <td>1997-03-30</td>\n",
       "      <td>183.0</td>\n",
       "      <td>B</td>\n",
       "      <td>3506027</td>\n",
       "      <td>korea</td>\n",
       "    </tr>\n",
       "    <tr>\n",
       "      <th>2</th>\n",
       "      <td>뷔</td>\n",
       "      <td>방탄소년단</td>\n",
       "      <td>빅히트</td>\n",
       "      <td>남자</td>\n",
       "      <td>1995-12-30</td>\n",
       "      <td>178.0</td>\n",
       "      <td>AB</td>\n",
       "      <td>8073501</td>\n",
       "      <td>대한민국</td>\n",
       "    </tr>\n",
       "    <tr>\n",
       "      <th>3</th>\n",
       "      <td>민현</td>\n",
       "      <td>NaN</td>\n",
       "      <td>플레디스</td>\n",
       "      <td>남자</td>\n",
       "      <td>1995-08-09</td>\n",
       "      <td>182.3</td>\n",
       "      <td>O</td>\n",
       "      <td>4989792</td>\n",
       "      <td>대한민국</td>\n",
       "    </tr>\n",
       "    <tr>\n",
       "      <th>4</th>\n",
       "      <td>소연</td>\n",
       "      <td>아이들</td>\n",
       "      <td>큐브</td>\n",
       "      <td>여자</td>\n",
       "      <td>1998-08-26</td>\n",
       "      <td>NaN</td>\n",
       "      <td>B</td>\n",
       "      <td>4668615</td>\n",
       "      <td>대한민국</td>\n",
       "    </tr>\n",
       "  </tbody>\n",
       "</table>\n",
       "</div>"
      ],
      "text/plain": [
       "    이름     그룹   소속사  성별        생년월일      키 혈액형     인기지수     국적\n",
       "0  아이린   레드벨벳    SM  여자  1991-03-29  160.0   A  8256324   대한민국\n",
       "1  차은우   아스트로  판타지오  남자  1997-03-30  183.0   B  3506027  korea\n",
       "2    뷔  방탄소년단   빅히트  남자  1995-12-30  178.0  AB  8073501   대한민국\n",
       "3   민현    NaN  플레디스  남자  1995-08-09  182.3   O  4989792   대한민국\n",
       "4   소연    아이들    큐브  여자  1998-08-26    NaN   B  4668615   대한민국"
      ]
     },
     "execution_count": 158,
     "metadata": {},
     "output_type": "execute_result"
    }
   ],
   "source": [
    "df.head()"
   ]
  },
  {
   "cell_type": "code",
   "execution_count": 159,
   "id": "6d0d77b0-3fe0-4b78-a714-2233cfc526a6",
   "metadata": {
    "tags": []
   },
   "outputs": [
    {
     "data": {
      "text/html": [
       "<div>\n",
       "<style scoped>\n",
       "    .dataframe tbody tr th:only-of-type {\n",
       "        vertical-align: middle;\n",
       "    }\n",
       "\n",
       "    .dataframe tbody tr th {\n",
       "        vertical-align: top;\n",
       "    }\n",
       "\n",
       "    .dataframe thead th {\n",
       "        text-align: right;\n",
       "    }\n",
       "</style>\n",
       "<table border=\"1\" class=\"dataframe\">\n",
       "  <thead>\n",
       "    <tr style=\"text-align: right;\">\n",
       "      <th>혈액형</th>\n",
       "      <th>A</th>\n",
       "      <th>AB</th>\n",
       "      <th>B</th>\n",
       "      <th>O</th>\n",
       "    </tr>\n",
       "    <tr>\n",
       "      <th>소속사</th>\n",
       "      <th></th>\n",
       "      <th></th>\n",
       "      <th></th>\n",
       "      <th></th>\n",
       "    </tr>\n",
       "  </thead>\n",
       "  <tbody>\n",
       "    <tr>\n",
       "      <th>RBW</th>\n",
       "      <td>162.1</td>\n",
       "      <td>NaN</td>\n",
       "      <td>NaN</td>\n",
       "      <td>NaN</td>\n",
       "    </tr>\n",
       "    <tr>\n",
       "      <th>SM</th>\n",
       "      <td>160.5</td>\n",
       "      <td>NaN</td>\n",
       "      <td>NaN</td>\n",
       "      <td>NaN</td>\n",
       "    </tr>\n",
       "    <tr>\n",
       "      <th>빅히트</th>\n",
       "      <td>175.8</td>\n",
       "      <td>178.0</td>\n",
       "      <td>NaN</td>\n",
       "      <td>176.60</td>\n",
       "    </tr>\n",
       "    <tr>\n",
       "      <th>스타크루이엔티</th>\n",
       "      <td>167.1</td>\n",
       "      <td>NaN</td>\n",
       "      <td>NaN</td>\n",
       "      <td>NaN</td>\n",
       "    </tr>\n",
       "    <tr>\n",
       "      <th>안테나</th>\n",
       "      <td>NaN</td>\n",
       "      <td>NaN</td>\n",
       "      <td>NaN</td>\n",
       "      <td>195.00</td>\n",
       "    </tr>\n",
       "    <tr>\n",
       "      <th>커넥트</th>\n",
       "      <td>180.0</td>\n",
       "      <td>NaN</td>\n",
       "      <td>NaN</td>\n",
       "      <td>NaN</td>\n",
       "    </tr>\n",
       "    <tr>\n",
       "      <th>판타지오</th>\n",
       "      <td>NaN</td>\n",
       "      <td>NaN</td>\n",
       "      <td>183.0</td>\n",
       "      <td>NaN</td>\n",
       "    </tr>\n",
       "    <tr>\n",
       "      <th>플레디스</th>\n",
       "      <td>NaN</td>\n",
       "      <td>175.0</td>\n",
       "      <td>NaN</td>\n",
       "      <td>179.15</td>\n",
       "    </tr>\n",
       "  </tbody>\n",
       "</table>\n",
       "</div>"
      ],
      "text/plain": [
       "혈액형          A     AB      B       O\n",
       "소속사                                 \n",
       "RBW      162.1    NaN    NaN     NaN\n",
       "SM       160.5    NaN    NaN     NaN\n",
       "빅히트      175.8  178.0    NaN  176.60\n",
       "스타크루이엔티  167.1    NaN    NaN     NaN\n",
       "안테나        NaN    NaN    NaN  195.00\n",
       "커넥트      180.0    NaN    NaN     NaN\n",
       "판타지오       NaN    NaN  183.0     NaN\n",
       "플레디스       NaN  175.0    NaN  179.15"
      ]
     },
     "execution_count": 159,
     "metadata": {},
     "output_type": "execute_result"
    }
   ],
   "source": [
    "# index는 행 인덱스\n",
    "# columns는 열 인덱스\n",
    "# values는 조회하고 싶은 값\n",
    "pd.pivot_table(df, index='소속사', columns='혈액형', values='키')"
   ]
  },
  {
   "cell_type": "code",
   "execution_count": null,
   "id": "4067c954-7387-4db0-9203-4eda32231b41",
   "metadata": {},
   "outputs": [],
   "source": []
  },
  {
   "cell_type": "code",
   "execution_count": 162,
   "id": "869090a2-7763-473b-a651-09923ed01bf7",
   "metadata": {
    "tags": []
   },
   "outputs": [
    {
     "data": {
      "text/html": [
       "<div>\n",
       "<style scoped>\n",
       "    .dataframe tbody tr th:only-of-type {\n",
       "        vertical-align: middle;\n",
       "    }\n",
       "\n",
       "    .dataframe tbody tr th {\n",
       "        vertical-align: top;\n",
       "    }\n",
       "\n",
       "    .dataframe thead th {\n",
       "        text-align: right;\n",
       "    }\n",
       "</style>\n",
       "<table border=\"1\" class=\"dataframe\">\n",
       "  <thead>\n",
       "    <tr style=\"text-align: right;\">\n",
       "      <th>혈액형</th>\n",
       "      <th>A</th>\n",
       "      <th>AB</th>\n",
       "      <th>B</th>\n",
       "      <th>O</th>\n",
       "    </tr>\n",
       "    <tr>\n",
       "      <th>그룹</th>\n",
       "      <th></th>\n",
       "      <th></th>\n",
       "      <th></th>\n",
       "      <th></th>\n",
       "    </tr>\n",
       "  </thead>\n",
       "  <tbody>\n",
       "    <tr>\n",
       "      <th>뉴이스트</th>\n",
       "      <td>NaN</td>\n",
       "      <td>3301654.0</td>\n",
       "      <td>NaN</td>\n",
       "      <td>3274137.0</td>\n",
       "    </tr>\n",
       "    <tr>\n",
       "      <th>레드벨벳</th>\n",
       "      <td>6638888.0</td>\n",
       "      <td>NaN</td>\n",
       "      <td>NaN</td>\n",
       "      <td>NaN</td>\n",
       "    </tr>\n",
       "    <tr>\n",
       "      <th>마마무</th>\n",
       "      <td>7650928.0</td>\n",
       "      <td>NaN</td>\n",
       "      <td>NaN</td>\n",
       "      <td>NaN</td>\n",
       "    </tr>\n",
       "    <tr>\n",
       "      <th>바니그룹</th>\n",
       "      <td>NaN</td>\n",
       "      <td>NaN</td>\n",
       "      <td>NaN</td>\n",
       "      <td>7235678.0</td>\n",
       "    </tr>\n",
       "    <tr>\n",
       "      <th>방탄소년단</th>\n",
       "      <td>8865797.5</td>\n",
       "      <td>8073501.0</td>\n",
       "      <td>NaN</td>\n",
       "      <td>4747875.0</td>\n",
       "    </tr>\n",
       "    <tr>\n",
       "      <th>소녀시대</th>\n",
       "      <td>3918661.0</td>\n",
       "      <td>NaN</td>\n",
       "      <td>NaN</td>\n",
       "      <td>NaN</td>\n",
       "    </tr>\n",
       "    <tr>\n",
       "      <th>아스트로</th>\n",
       "      <td>NaN</td>\n",
       "      <td>NaN</td>\n",
       "      <td>3506027.0</td>\n",
       "      <td>NaN</td>\n",
       "    </tr>\n",
       "    <tr>\n",
       "      <th>아이들</th>\n",
       "      <td>NaN</td>\n",
       "      <td>NaN</td>\n",
       "      <td>4668615.0</td>\n",
       "      <td>NaN</td>\n",
       "    </tr>\n",
       "    <tr>\n",
       "      <th>핫샷</th>\n",
       "      <td>4036489.0</td>\n",
       "      <td>NaN</td>\n",
       "      <td>NaN</td>\n",
       "      <td>NaN</td>\n",
       "    </tr>\n",
       "  </tbody>\n",
       "</table>\n",
       "</div>"
      ],
      "text/plain": [
       "혈액형            A         AB          B          O\n",
       "그룹                                               \n",
       "뉴이스트         NaN  3301654.0        NaN  3274137.0\n",
       "레드벨벳   6638888.0        NaN        NaN        NaN\n",
       "마마무    7650928.0        NaN        NaN        NaN\n",
       "바니그룹         NaN        NaN        NaN  7235678.0\n",
       "방탄소년단  8865797.5  8073501.0        NaN  4747875.0\n",
       "소녀시대   3918661.0        NaN        NaN        NaN\n",
       "아스트로         NaN        NaN  3506027.0        NaN\n",
       "아이들          NaN        NaN  4668615.0        NaN\n",
       "핫샷     4036489.0        NaN        NaN        NaN"
      ]
     },
     "execution_count": 162,
     "metadata": {},
     "output_type": "execute_result"
    }
   ],
   "source": [
    "# aggfunc에는 추가 계산 옵션 (np.sum, np.mean) - 기본값은 평균\n",
    "import numpy as np\n",
    "pd.pivot_table(df, index='그룹', columns='혈액형', values='인기지수', aggfunc=np.mean)"
   ]
  },
  {
   "cell_type": "code",
   "execution_count": 164,
   "id": "64e77e49-ea0c-4fff-b5f6-3a58791a31d7",
   "metadata": {
    "tags": []
   },
   "outputs": [
    {
     "data": {
      "text/html": [
       "<div>\n",
       "<style scoped>\n",
       "    .dataframe tbody tr th:only-of-type {\n",
       "        vertical-align: middle;\n",
       "    }\n",
       "\n",
       "    .dataframe tbody tr th {\n",
       "        vertical-align: top;\n",
       "    }\n",
       "\n",
       "    .dataframe thead th {\n",
       "        text-align: right;\n",
       "    }\n",
       "</style>\n",
       "<table border=\"1\" class=\"dataframe\">\n",
       "  <thead>\n",
       "    <tr style=\"text-align: right;\">\n",
       "      <th>혈액형</th>\n",
       "      <th>A</th>\n",
       "      <th>AB</th>\n",
       "      <th>B</th>\n",
       "      <th>O</th>\n",
       "    </tr>\n",
       "    <tr>\n",
       "      <th>그룹</th>\n",
       "      <th></th>\n",
       "      <th></th>\n",
       "      <th></th>\n",
       "      <th></th>\n",
       "    </tr>\n",
       "  </thead>\n",
       "  <tbody>\n",
       "    <tr>\n",
       "      <th>뉴이스트</th>\n",
       "      <td>NaN</td>\n",
       "      <td>175.0</td>\n",
       "      <td>NaN</td>\n",
       "      <td>176.0</td>\n",
       "    </tr>\n",
       "    <tr>\n",
       "      <th>레드벨벳</th>\n",
       "      <td>160.5</td>\n",
       "      <td>NaN</td>\n",
       "      <td>NaN</td>\n",
       "      <td>NaN</td>\n",
       "    </tr>\n",
       "    <tr>\n",
       "      <th>마마무</th>\n",
       "      <td>162.1</td>\n",
       "      <td>NaN</td>\n",
       "      <td>NaN</td>\n",
       "      <td>NaN</td>\n",
       "    </tr>\n",
       "    <tr>\n",
       "      <th>바니그룹</th>\n",
       "      <td>NaN</td>\n",
       "      <td>NaN</td>\n",
       "      <td>NaN</td>\n",
       "      <td>195.0</td>\n",
       "    </tr>\n",
       "    <tr>\n",
       "      <th>방탄소년단</th>\n",
       "      <td>175.8</td>\n",
       "      <td>178.0</td>\n",
       "      <td>NaN</td>\n",
       "      <td>176.6</td>\n",
       "    </tr>\n",
       "    <tr>\n",
       "      <th>아스트로</th>\n",
       "      <td>NaN</td>\n",
       "      <td>NaN</td>\n",
       "      <td>183.0</td>\n",
       "      <td>NaN</td>\n",
       "    </tr>\n",
       "    <tr>\n",
       "      <th>핫샷</th>\n",
       "      <td>167.1</td>\n",
       "      <td>NaN</td>\n",
       "      <td>NaN</td>\n",
       "      <td>NaN</td>\n",
       "    </tr>\n",
       "  </tbody>\n",
       "</table>\n",
       "</div>"
      ],
      "text/plain": [
       "혈액형        A     AB      B      O\n",
       "그룹                               \n",
       "뉴이스트     NaN  175.0    NaN  176.0\n",
       "레드벨벳   160.5    NaN    NaN    NaN\n",
       "마마무    162.1    NaN    NaN    NaN\n",
       "바니그룹     NaN    NaN    NaN  195.0\n",
       "방탄소년단  175.8  178.0    NaN  176.6\n",
       "아스트로     NaN    NaN  183.0    NaN\n",
       "핫샷     167.1    NaN    NaN    NaN"
      ]
     },
     "execution_count": 164,
     "metadata": {},
     "output_type": "execute_result"
    }
   ],
   "source": [
    "pd.pivot_table(df, index='그룹', columns='혈액형', values='키', aggfunc=np.mean)"
   ]
  },
  {
   "cell_type": "code",
   "execution_count": null,
   "id": "b31a9449-54cd-4d50-bf01-693ecd731574",
   "metadata": {},
   "outputs": [],
   "source": []
  },
  {
   "cell_type": "code",
   "execution_count": null,
   "id": "6109d102-9205-4f86-9e4e-02a272927a97",
   "metadata": {},
   "outputs": [],
   "source": []
  },
  {
   "cell_type": "code",
   "execution_count": null,
   "id": "292c132a-7026-47e3-95df-a5eb66c55a3c",
   "metadata": {},
   "outputs": [],
   "source": []
  }
 ],
 "metadata": {
  "kernelspec": {
   "display_name": "da_venv",
   "language": "python",
   "name": "da_venv"
  },
  "language_info": {
   "codemirror_mode": {
    "name": "ipython",
    "version": 3
   },
   "file_extension": ".py",
   "mimetype": "text/x-python",
   "name": "python",
   "nbconvert_exporter": "python",
   "pygments_lexer": "ipython3",
   "version": "3.9.13"
  }
 },
 "nbformat": 4,
 "nbformat_minor": 5
}
